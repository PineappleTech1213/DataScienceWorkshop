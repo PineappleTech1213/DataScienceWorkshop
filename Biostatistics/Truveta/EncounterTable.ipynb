{
 "cells": [
  {
   "cell_type": "code",
   "execution_count": 1,
   "id": "be1bf82d-a8e4-4451-844b-75dc8c41728e",
   "metadata": {
    "execution": {
     "iopub.execute_input": "2023-08-07T15:42:25.669632Z",
     "iopub.status.busy": "2023-08-07T15:42:25.667591Z",
     "iopub.status.idle": "2023-08-07T15:42:26.268566Z",
     "shell.execute_reply": "2023-08-07T15:42:26.267495Z"
    },
    "tags": []
   },
   "outputs": [
    {
     "name": "stderr",
     "output_type": "stream",
     "text": [
      "here() starts at /home/jovyan/studyrepositories/hypertensioncohorts-is5fyzbqztbebenalfbuo4boem_backup\n",
      "\n",
      "Loading required package: DBI\n",
      "\n",
      "\n",
      "Attaching package: ‘dbplyr’\n",
      "\n",
      "\n",
      "The following objects are masked from ‘package:dplyr’:\n",
      "\n",
      "    ident, sql\n",
      "\n",
      "\n"
     ]
    }
   ],
   "source": [
    "library(here)\n",
    "library(here)\n",
    "library(readr, warn.conflicts = FALSE)\n",
    "library(arrow, warn.conflicts = FALSE)\n",
    "library(magrittr, warn.conflicts = FALSE)\n",
    "library(stringr, warn.conflicts = FALSE)\n",
    "library(dplyr, warn.conflicts = FALSE)\n",
    "library(rlang, warn.conflicts = FALSE)\n",
    "library(data.table, warn.conflicts = FALSE)\n",
    "library(lubridate, warn.conflicts = FALSE)\n",
    "library(tidyr, warn.conflicts = FALSE)\n",
    "library(truveta.study)\n",
    "library(dbplyr)\n",
    "library(lubridate)"
   ]
  },
  {
   "cell_type": "code",
   "execution_count": 2,
   "id": "6f7cecf4-2d6a-47ba-b665-8a51a6a388d9",
   "metadata": {
    "execution": {
     "iopub.execute_input": "2023-08-07T15:42:26.289787Z",
     "iopub.status.busy": "2023-08-07T15:42:26.272554Z",
     "iopub.status.idle": "2023-08-07T15:42:33.948739Z",
     "shell.execute_reply": "2023-08-07T15:42:33.947607Z"
    },
    "tags": []
   },
   "outputs": [
    {
     "name": "stdout",
     "output_type": "stream",
     "text": [
      "[1] \"Deprecation warning: the Vital and SocialHistory tables will be removed from the Truveta Data Model on September 12th, 2023. New snapshots generated after this date will exclude these tables. Existing snapshots which include these tables will be unaffected. Visit Learn for more information.\"\n"
     ]
    },
    {
     "name": "stderr",
     "output_type": "stream",
     "text": [
      "To sign in to Truveta, use a web browser to open the page https://login.truveta.com/activate?user_code=WKHH-WKWP.\n",
      "\n",
      "Signed in successfully.\n",
      "\n"
     ]
    }
   ],
   "source": [
    "# build connections \n",
    "con <- create_connection()\n",
    "study <- get_study(con, title = \"Hypertension Cohort\")\n",
    "population <- get_population(con, study, title = \"Study Cohort\")\n",
    "snapshot <- get_latest_snapshot(con, population, finished = TRUE)"
   ]
  },
  {
   "cell_type": "code",
   "execution_count": 6,
   "id": "0b4b5a77-2727-48ae-8254-eb151c67873d",
   "metadata": {
    "execution": {
     "iopub.execute_input": "2023-08-01T20:03:13.383244Z",
     "iopub.status.busy": "2023-08-01T20:03:13.382309Z",
     "iopub.status.idle": "2023-08-01T20:05:33.520101Z",
     "shell.execute_reply": "2023-08-01T20:05:33.519098Z"
    },
    "tags": []
   },
   "outputs": [
    {
     "data": {
      "text/html": [
       "<table class=\"dataframe\">\n",
       "<caption>A tibble: 1 × 2</caption>\n",
       "<thead>\n",
       "\t<tr><th scope=col>totalrow</th><th scope=col>patient</th></tr>\n",
       "\t<tr><th scope=col>&lt;int&gt;</th><th scope=col>&lt;int&gt;</th></tr>\n",
       "</thead>\n",
       "<tbody>\n",
       "\t<tr><td>255000306</td><td>1220874</td></tr>\n",
       "</tbody>\n",
       "</table>\n"
      ],
      "text/latex": [
       "A tibble: 1 × 2\n",
       "\\begin{tabular}{ll}\n",
       " totalrow & patient\\\\\n",
       " <int> & <int>\\\\\n",
       "\\hline\n",
       "\t 255000306 & 1220874\\\\\n",
       "\\end{tabular}\n"
      ],
      "text/markdown": [
       "\n",
       "A tibble: 1 × 2\n",
       "\n",
       "| totalrow &lt;int&gt; | patient &lt;int&gt; |\n",
       "|---|---|\n",
       "| 255000306 | 1220874 |\n",
       "\n"
      ],
      "text/plain": [
       "  totalrow  patient\n",
       "1 255000306 1220874"
      ]
     },
     "metadata": {},
     "output_type": "display_data"
    },
    {
     "data": {
      "text/html": [
       "<table class=\"dataframe\">\n",
       "<caption>A tibble: 1 × 2</caption>\n",
       "<thead>\n",
       "\t<tr><th scope=col>totalrow</th><th scope=col>patient</th></tr>\n",
       "\t<tr><th scope=col>&lt;int&gt;</th><th scope=col>&lt;int&gt;</th></tr>\n",
       "</thead>\n",
       "<tbody>\n",
       "\t<tr><td>254438088</td><td>1220769</td></tr>\n",
       "</tbody>\n",
       "</table>\n"
      ],
      "text/latex": [
       "A tibble: 1 × 2\n",
       "\\begin{tabular}{ll}\n",
       " totalrow & patient\\\\\n",
       " <int> & <int>\\\\\n",
       "\\hline\n",
       "\t 254438088 & 1220769\\\\\n",
       "\\end{tabular}\n"
      ],
      "text/markdown": [
       "\n",
       "A tibble: 1 × 2\n",
       "\n",
       "| totalrow &lt;int&gt; | patient &lt;int&gt; |\n",
       "|---|---|\n",
       "| 254438088 | 1220769 |\n",
       "\n"
      ],
      "text/plain": [
       "  totalrow  patient\n",
       "1 254438088 1220769"
      ]
     },
     "metadata": {},
     "output_type": "display_data"
    },
    {
     "data": {
      "text/html": [
       "<table class=\"dataframe\">\n",
       "<caption>A tibble: 1 × 2</caption>\n",
       "<thead>\n",
       "\t<tr><th scope=col>totalrow</th><th scope=col>patient</th></tr>\n",
       "\t<tr><th scope=col>&lt;int&gt;</th><th scope=col>&lt;int&gt;</th></tr>\n",
       "</thead>\n",
       "<tbody>\n",
       "\t<tr><td>237822156</td><td>1220673</td></tr>\n",
       "</tbody>\n",
       "</table>\n"
      ],
      "text/latex": [
       "A tibble: 1 × 2\n",
       "\\begin{tabular}{ll}\n",
       " totalrow & patient\\\\\n",
       " <int> & <int>\\\\\n",
       "\\hline\n",
       "\t 237822156 & 1220673\\\\\n",
       "\\end{tabular}\n"
      ],
      "text/markdown": [
       "\n",
       "A tibble: 1 × 2\n",
       "\n",
       "| totalrow &lt;int&gt; | patient &lt;int&gt; |\n",
       "|---|---|\n",
       "| 237822156 | 1220673 |\n",
       "\n"
      ],
      "text/plain": [
       "  totalrow  patient\n",
       "1 237822156 1220673"
      ]
     },
     "metadata": {},
     "output_type": "display_data"
    },
    {
     "data": {
      "text/html": [
       "<table class=\"dataframe\">\n",
       "<caption>A tibble: 1 × 2</caption>\n",
       "<thead>\n",
       "\t<tr><th scope=col>total</th><th scope=col>patient</th></tr>\n",
       "\t<tr><th scope=col>&lt;int&gt;</th><th scope=col>&lt;int&gt;</th></tr>\n",
       "</thead>\n",
       "<tbody>\n",
       "\t<tr><td>110026313</td><td>1219568</td></tr>\n",
       "</tbody>\n",
       "</table>\n"
      ],
      "text/latex": [
       "A tibble: 1 × 2\n",
       "\\begin{tabular}{ll}\n",
       " total & patient\\\\\n",
       " <int> & <int>\\\\\n",
       "\\hline\n",
       "\t 110026313 & 1219568\\\\\n",
       "\\end{tabular}\n"
      ],
      "text/markdown": [
       "\n",
       "A tibble: 1 × 2\n",
       "\n",
       "| total &lt;int&gt; | patient &lt;int&gt; |\n",
       "|---|---|\n",
       "| 110026313 | 1219568 |\n",
       "\n"
      ],
      "text/plain": [
       "  total     patient\n",
       "1 110026313 1219568"
      ]
     },
     "metadata": {},
     "output_type": "display_data"
    },
    {
     "data": {
      "text/html": [
       "<table class=\"dataframe\">\n",
       "<caption>A tibble: 1 × 2</caption>\n",
       "<thead>\n",
       "\t<tr><th scope=col>total</th><th scope=col>patient</th></tr>\n",
       "\t<tr><th scope=col>&lt;int&gt;</th><th scope=col>&lt;int&gt;</th></tr>\n",
       "</thead>\n",
       "<tbody>\n",
       "\t<tr><td>0</td><td>0</td></tr>\n",
       "</tbody>\n",
       "</table>\n"
      ],
      "text/latex": [
       "A tibble: 1 × 2\n",
       "\\begin{tabular}{ll}\n",
       " total & patient\\\\\n",
       " <int> & <int>\\\\\n",
       "\\hline\n",
       "\t 0 & 0\\\\\n",
       "\\end{tabular}\n"
      ],
      "text/markdown": [
       "\n",
       "A tibble: 1 × 2\n",
       "\n",
       "| total &lt;int&gt; | patient &lt;int&gt; |\n",
       "|---|---|\n",
       "| 0 | 0 |\n",
       "\n"
      ],
      "text/plain": [
       "  total patient\n",
       "1 0     0      "
      ]
     },
     "metadata": {},
     "output_type": "display_data"
    }
   ],
   "source": [
    "#basic encounter table counts\n",
    "\n",
    "select <- \"select count(Id) as totalrow, count(distinct PersonId) as patient\n",
    "from Encounter;\"\n",
    "\n",
    "load_sql_table(con,snapshot,query = select)%>% collect()\n",
    "\n",
    "\n",
    "sql <-  \"select count(Id) as totalrow,count(distinct PersonId) as patient\n",
    "from Encounter\n",
    "where StartDateTime is not NULL;\"\n",
    "\n",
    "\n",
    "load_sql_table(con,snapshot,query = sql)%>% collect()\n",
    "\n",
    "sql_filter <- \" select count(Id) as totalrow,count(distinct PersonId) as patient\n",
    "from Encounter\n",
    "where ClassConceptId !=1067555\n",
    " and StatusConceptId not in (1067555,2983200,2506595, 2983199,2506590)\n",
    "\"\n",
    "load_sql_table(con,snapshot,query = sql_filter)%>% collect()\n",
    "\n",
    "sql2 <- \"select count(Id) as total,count(distinct PersonId) as patient\n",
    "from Encounter \n",
    "where Id in\n",
    "(select distinct EncounterId\n",
    "from Condition);\"\n",
    "\n",
    "load_sql_table(con,snapshot,query = sql2)%>% collect()\n",
    "\n",
    "sql3 <- \"select count(Id) as total,count(distinct PersonId) as patient\n",
    "from Encounter \n",
    "where Id not in\n",
    "(select distinct EncounterId\n",
    "from Condition);\"\n",
    "\n",
    "\n",
    "load_sql_table(con,snapshot,query = sql3)%>% collect()\n",
    "\n"
   ]
  },
  {
   "cell_type": "code",
   "execution_count": 14,
   "id": "bc2805a1-f429-459f-99ae-a71a10e6990c",
   "metadata": {
    "execution": {
     "iopub.execute_input": "2023-08-01T20:54:47.117146Z",
     "iopub.status.busy": "2023-08-01T20:54:47.115805Z",
     "iopub.status.idle": "2023-08-01T20:54:47.190430Z",
     "shell.execute_reply": "2023-08-01T20:54:47.189296Z"
    },
    "tags": []
   },
   "outputs": [
    {
     "data": {
      "text/html": [
       "<table class=\"dataframe\">\n",
       "<caption>A tibble: 10 × 3</caption>\n",
       "<thead>\n",
       "\t<tr><th scope=col>table</th><th scope=col>column</th><th scope=col>column_type</th></tr>\n",
       "\t<tr><th scope=col>&lt;chr&gt;</th><th scope=col>&lt;chr&gt;</th><th scope=col>&lt;chr&gt;</th></tr>\n",
       "</thead>\n",
       "<tbody>\n",
       "\t<tr><td>Procedure</td><td>RecordedDateTime         </td><td>datetime2</td></tr>\n",
       "\t<tr><td>Procedure</td><td>StartDateTime            </td><td>datetime2</td></tr>\n",
       "\t<tr><td>Procedure</td><td>StatusConceptId          </td><td>int      </td></tr>\n",
       "\t<tr><td>Procedure</td><td>PersonId                 </td><td>varchar  </td></tr>\n",
       "\t<tr><td>Procedure</td><td>SourceProvenanceConceptId</td><td>int      </td></tr>\n",
       "\t<tr><td>Procedure</td><td>CategoryConceptId        </td><td>int      </td></tr>\n",
       "\t<tr><td>Procedure</td><td>EncounterId              </td><td>varchar  </td></tr>\n",
       "\t<tr><td>Procedure</td><td>EndDateTime              </td><td>datetime2</td></tr>\n",
       "\t<tr><td>Procedure</td><td>Id                       </td><td>varchar  </td></tr>\n",
       "\t<tr><td>Procedure</td><td>PatientId                </td><td>varchar  </td></tr>\n",
       "</tbody>\n",
       "</table>\n"
      ],
      "text/latex": [
       "A tibble: 10 × 3\n",
       "\\begin{tabular}{lll}\n",
       " table & column & column\\_type\\\\\n",
       " <chr> & <chr> & <chr>\\\\\n",
       "\\hline\n",
       "\t Procedure & RecordedDateTime          & datetime2\\\\\n",
       "\t Procedure & StartDateTime             & datetime2\\\\\n",
       "\t Procedure & StatusConceptId           & int      \\\\\n",
       "\t Procedure & PersonId                  & varchar  \\\\\n",
       "\t Procedure & SourceProvenanceConceptId & int      \\\\\n",
       "\t Procedure & CategoryConceptId         & int      \\\\\n",
       "\t Procedure & EncounterId               & varchar  \\\\\n",
       "\t Procedure & EndDateTime               & datetime2\\\\\n",
       "\t Procedure & Id                        & varchar  \\\\\n",
       "\t Procedure & PatientId                 & varchar  \\\\\n",
       "\\end{tabular}\n"
      ],
      "text/markdown": [
       "\n",
       "A tibble: 10 × 3\n",
       "\n",
       "| table &lt;chr&gt; | column &lt;chr&gt; | column_type &lt;chr&gt; |\n",
       "|---|---|---|\n",
       "| Procedure | RecordedDateTime          | datetime2 |\n",
       "| Procedure | StartDateTime             | datetime2 |\n",
       "| Procedure | StatusConceptId           | int       |\n",
       "| Procedure | PersonId                  | varchar   |\n",
       "| Procedure | SourceProvenanceConceptId | int       |\n",
       "| Procedure | CategoryConceptId         | int       |\n",
       "| Procedure | EncounterId               | varchar   |\n",
       "| Procedure | EndDateTime               | datetime2 |\n",
       "| Procedure | Id                        | varchar   |\n",
       "| Procedure | PatientId                 | varchar   |\n",
       "\n"
      ],
      "text/plain": [
       "   table     column                    column_type\n",
       "1  Procedure RecordedDateTime          datetime2  \n",
       "2  Procedure StartDateTime             datetime2  \n",
       "3  Procedure StatusConceptId           int        \n",
       "4  Procedure PersonId                  varchar    \n",
       "5  Procedure SourceProvenanceConceptId int        \n",
       "6  Procedure CategoryConceptId         int        \n",
       "7  Procedure EncounterId               varchar    \n",
       "8  Procedure EndDateTime               datetime2  \n",
       "9  Procedure Id                        varchar    \n",
       "10 Procedure PatientId                 varchar    "
      ]
     },
     "metadata": {},
     "output_type": "display_data"
    }
   ],
   "source": [
    "get_data_dictionary(con,snapshot)%>% arrange(table) %>% filter(table ==\"Procedure\")"
   ]
  },
  {
   "cell_type": "code",
   "execution_count": 3,
   "id": "40a36cf2-c200-4450-96bb-57a9470247ab",
   "metadata": {
    "execution": {
     "iopub.execute_input": "2023-08-02T14:04:17.864796Z",
     "iopub.status.busy": "2023-08-02T14:04:17.863773Z",
     "iopub.status.idle": "2023-08-02T14:08:16.173110Z",
     "shell.execute_reply": "2023-08-02T14:08:16.172022Z"
    },
    "tags": []
   },
   "outputs": [
    {
     "data": {
      "text/html": [
       "<table class=\"dataframe\">\n",
       "<caption>A tibble: 1 × 2</caption>\n",
       "<thead>\n",
       "\t<tr><th scope=col>nrow</th><th scope=col>patient</th></tr>\n",
       "\t<tr><th scope=col>&lt;int&gt;</th><th scope=col>&lt;int&gt;</th></tr>\n",
       "</thead>\n",
       "<tbody>\n",
       "\t<tr><td>27176397</td><td>837208</td></tr>\n",
       "</tbody>\n",
       "</table>\n"
      ],
      "text/latex": [
       "A tibble: 1 × 2\n",
       "\\begin{tabular}{ll}\n",
       " nrow & patient\\\\\n",
       " <int> & <int>\\\\\n",
       "\\hline\n",
       "\t 27176397 & 837208\\\\\n",
       "\\end{tabular}\n"
      ],
      "text/markdown": [
       "\n",
       "A tibble: 1 × 2\n",
       "\n",
       "| nrow &lt;int&gt; | patient &lt;int&gt; |\n",
       "|---|---|\n",
       "| 27176397 | 837208 |\n",
       "\n"
      ],
      "text/plain": [
       "  nrow     patient\n",
       "1 27176397 837208 "
      ]
     },
     "metadata": {},
     "output_type": "display_data"
    },
    {
     "data": {
      "text/html": [
       "<table class=\"dataframe\">\n",
       "<caption>A tibble: 1 × 2</caption>\n",
       "<thead>\n",
       "\t<tr><th scope=col>nrow</th><th scope=col>patient</th></tr>\n",
       "\t<tr><th scope=col>&lt;int&gt;</th><th scope=col>&lt;int&gt;</th></tr>\n",
       "</thead>\n",
       "<tbody>\n",
       "\t<tr><td>0</td><td>0</td></tr>\n",
       "</tbody>\n",
       "</table>\n"
      ],
      "text/latex": [
       "A tibble: 1 × 2\n",
       "\\begin{tabular}{ll}\n",
       " nrow & patient\\\\\n",
       " <int> & <int>\\\\\n",
       "\\hline\n",
       "\t 0 & 0\\\\\n",
       "\\end{tabular}\n"
      ],
      "text/markdown": [
       "\n",
       "A tibble: 1 × 2\n",
       "\n",
       "| nrow &lt;int&gt; | patient &lt;int&gt; |\n",
       "|---|---|\n",
       "| 0 | 0 |\n",
       "\n"
      ],
      "text/plain": [
       "  nrow patient\n",
       "1 0    0      "
      ]
     },
     "metadata": {},
     "output_type": "display_data"
    }
   ],
   "source": [
    "# encounter in procedure\n",
    "\n",
    "procedure <- \"select count(Id) as nrow, count(distinct PersonId) as patient\n",
    "from Encounter \n",
    "where Id in\n",
    "(select distinct EncounterId \n",
    "from [Procedure])\n",
    "\"\n",
    "\n",
    "load_sql_table(con,snapshot,query = procedure)%>% collect()\n",
    "\n",
    "\n",
    "notprocedure <- \"select count(Id) as nrow, count(distinct PersonId) as patient\n",
    "from Encounter \n",
    "where Id not in\n",
    "(select distinct EncounterId\n",
    "from [Procedure])\"\n",
    "\n",
    "load_sql_table(con,snapshot,query = notprocedure)%>% collect()"
   ]
  },
  {
   "cell_type": "code",
   "execution_count": 23,
   "id": "73058f71-595b-4941-a99d-d2917130ec7b",
   "metadata": {
    "execution": {
     "iopub.execute_input": "2023-08-02T19:48:31.913084Z",
     "iopub.status.busy": "2023-08-02T19:48:31.912122Z",
     "iopub.status.idle": "2023-08-02T19:51:23.294005Z",
     "shell.execute_reply": "2023-08-02T19:51:23.293030Z"
    },
    "tags": []
   },
   "outputs": [
    {
     "data": {
      "text/html": [
       "<table class=\"dataframe\">\n",
       "<caption>A tibble: 1 × 4</caption>\n",
       "<thead>\n",
       "\t<tr><th scope=col>crecords</th><th scope=col>precords</th><th scope=col>conpatient</th><th scope=col>ppatient</th></tr>\n",
       "\t<tr><th scope=col>&lt;int&gt;</th><th scope=col>&lt;int&gt;</th><th scope=col>&lt;int&gt;</th><th scope=col>&lt;int&gt;</th></tr>\n",
       "</thead>\n",
       "<tbody>\n",
       "\t<tr><td>110030147</td><td>27177100</td><td>1221009</td><td>837236</td></tr>\n",
       "</tbody>\n",
       "</table>\n"
      ],
      "text/latex": [
       "A tibble: 1 × 4\n",
       "\\begin{tabular}{llll}\n",
       " crecords & precords & conpatient & ppatient\\\\\n",
       " <int> & <int> & <int> & <int>\\\\\n",
       "\\hline\n",
       "\t 110030147 & 27177100 & 1221009 & 837236\\\\\n",
       "\\end{tabular}\n"
      ],
      "text/markdown": [
       "\n",
       "A tibble: 1 × 4\n",
       "\n",
       "| crecords &lt;int&gt; | precords &lt;int&gt; | conpatient &lt;int&gt; | ppatient &lt;int&gt; |\n",
       "|---|---|---|---|\n",
       "| 110030147 | 27177100 | 1221009 | 837236 |\n",
       "\n"
      ],
      "text/plain": [
       "  crecords  precords conpatient ppatient\n",
       "1 110030147 27177100 1221009    837236  "
      ]
     },
     "metadata": {},
     "output_type": "display_data"
    },
    {
     "data": {
      "text/html": [
       "<table class=\"dataframe\">\n",
       "<caption>A tibble: 1 × 2</caption>\n",
       "<thead>\n",
       "\t<tr><th scope=col>records</th><th scope=col>patient</th></tr>\n",
       "\t<tr><th scope=col>&lt;int&gt;</th><th scope=col>&lt;int&gt;</th></tr>\n",
       "</thead>\n",
       "<tbody>\n",
       "\t<tr><td>21243369</td><td>822869</td></tr>\n",
       "</tbody>\n",
       "</table>\n"
      ],
      "text/latex": [
       "A tibble: 1 × 2\n",
       "\\begin{tabular}{ll}\n",
       " records & patient\\\\\n",
       " <int> & <int>\\\\\n",
       "\\hline\n",
       "\t 21243369 & 822869\\\\\n",
       "\\end{tabular}\n"
      ],
      "text/markdown": [
       "\n",
       "A tibble: 1 × 2\n",
       "\n",
       "| records &lt;int&gt; | patient &lt;int&gt; |\n",
       "|---|---|\n",
       "| 21243369 | 822869 |\n",
       "\n"
      ],
      "text/plain": [
       "  records  patient\n",
       "1 21243369 822869 "
      ]
     },
     "metadata": {},
     "output_type": "display_data"
    }
   ],
   "source": [
    "either <- \"select count(distinct c.EncounterId) as crecords, \n",
    "count(distinct p.EncounterId) as precords,\n",
    "count(distinct c.PersonId) as conpatient,\n",
    "count(distinct p.PersonId) as ppatient\n",
    "from \n",
    "Condition c full outer join [Procedure] p on (c.EncounterId = p.EncounterId);\"\n",
    "\n",
    "either_tb <- load_sql_table(con,snapshot,query = either)%>% collect() \n",
    "\n",
    "\n",
    "\n",
    "both <- \"select count(distinct c.EncounterId) as records,count(distinct c.PersonId) as patient \n",
    "from Condition c inner join [Procedure] p on (c.EncounterId = p.EncounterId);\"\n",
    "\n",
    "both_tb <- load_sql_table(con,snapshot,query =both)%>% collect()\n",
    "\n",
    "total <- either_tb$crecords + either_tb$precords - both_tb$records\n",
    "total"
   ]
  },
  {
   "cell_type": "code",
   "execution_count": 14,
   "id": "2f521760-e10b-40bb-962c-4f49bfb51c10",
   "metadata": {
    "execution": {
     "iopub.execute_input": "2023-08-04T14:27:23.555312Z",
     "iopub.status.busy": "2023-08-04T14:27:23.554294Z",
     "iopub.status.idle": "2023-08-04T14:29:30.119440Z",
     "shell.execute_reply": "2023-08-04T14:29:30.118323Z"
    },
    "tags": []
   },
   "outputs": [
    {
     "data": {
      "text/html": [
       "<table class=\"dataframe\">\n",
       "<caption>A tibble: 1 × 1</caption>\n",
       "<thead>\n",
       "\t<tr><th scope=col>total</th></tr>\n",
       "\t<tr><th scope=col>&lt;int&gt;</th></tr>\n",
       "</thead>\n",
       "<tbody>\n",
       "\t<tr><td>195215705</td></tr>\n",
       "</tbody>\n",
       "</table>\n"
      ],
      "text/latex": [
       "A tibble: 1 × 1\n",
       "\\begin{tabular}{l}\n",
       " total\\\\\n",
       " <int>\\\\\n",
       "\\hline\n",
       "\t 195215705\\\\\n",
       "\\end{tabular}\n"
      ],
      "text/markdown": [
       "\n",
       "A tibble: 1 × 1\n",
       "\n",
       "| total &lt;int&gt; |\n",
       "|---|\n",
       "| 195215705 |\n",
       "\n"
      ],
      "text/plain": [
       "  total    \n",
       "1 195215705"
      ]
     },
     "metadata": {},
     "output_type": "display_data"
    },
    {
     "data": {
      "text/html": [
       "<table class=\"dataframe\">\n",
       "<caption>A tibble: 1 × 1</caption>\n",
       "<thead>\n",
       "\t<tr><th scope=col>total</th></tr>\n",
       "\t<tr><th scope=col>&lt;int&gt;</th></tr>\n",
       "</thead>\n",
       "<tbody>\n",
       "\t<tr><td>97722533</td></tr>\n",
       "</tbody>\n",
       "</table>\n"
      ],
      "text/latex": [
       "A tibble: 1 × 1\n",
       "\\begin{tabular}{l}\n",
       " total\\\\\n",
       " <int>\\\\\n",
       "\\hline\n",
       "\t 97722533\\\\\n",
       "\\end{tabular}\n"
      ],
      "text/markdown": [
       "\n",
       "A tibble: 1 × 1\n",
       "\n",
       "| total &lt;int&gt; |\n",
       "|---|\n",
       "| 97722533 |\n",
       "\n"
      ],
      "text/plain": [
       "  total   \n",
       "1 97722533"
      ]
     },
     "metadata": {},
     "output_type": "display_data"
    },
    {
     "data": {
      "text/html": [
       "<table class=\"dataframe\">\n",
       "<caption>A tibble: 1 × 1</caption>\n",
       "<thead>\n",
       "\t<tr><th scope=col>total</th></tr>\n",
       "\t<tr><th scope=col>&lt;int&gt;</th></tr>\n",
       "</thead>\n",
       "<tbody>\n",
       "\t<tr><td>26564431</td></tr>\n",
       "</tbody>\n",
       "</table>\n"
      ],
      "text/latex": [
       "A tibble: 1 × 1\n",
       "\\begin{tabular}{l}\n",
       " total\\\\\n",
       " <int>\\\\\n",
       "\\hline\n",
       "\t 26564431\\\\\n",
       "\\end{tabular}\n"
      ],
      "text/markdown": [
       "\n",
       "A tibble: 1 × 1\n",
       "\n",
       "| total &lt;int&gt; |\n",
       "|---|\n",
       "| 26564431 |\n",
       "\n"
      ],
      "text/plain": [
       "  total   \n",
       "1 26564431"
      ]
     },
     "metadata": {},
     "output_type": "display_data"
    }
   ],
   "source": [
    "# get encounter as patient * start time\n",
    "\n",
    "sql <-\"select count(*) as total\n",
    "from\n",
    "(select e.PersonId, e.StartDateTime, count(distinct e.Id) as rowtotal\n",
    "from Encounter e \n",
    "group by PersonId, StartDateTime ) as t\n",
    "\"\n",
    "\n",
    "new_enct <- load_sql_table(con,snapshot,query=sql)%>% collect()\n",
    "new_enct\n",
    "\n",
    "# get condition encounter as patient * start time\n",
    "\n",
    "sql <- \"select count(*) as total\n",
    "from\n",
    "(select c.PersonId, e.StartDateTime, count(distinct c.EncounterId) as rowtotal\n",
    "from Encounter e inner join Condition c on (e.Id = c.EncounterId)\n",
    "group by c.PersonId, e.StartDateTime ) as t\n",
    "\"\n",
    "\n",
    "new_con_enct <- load_sql_table(con,snapshot,query=sql)%>% collect()\n",
    "new_con_enct\n",
    "\n",
    "#get procedure encounter as patient * start time\n",
    "\n",
    "sql <- \"select count(*) as total\n",
    "from\n",
    "(select c.PersonId, e.StartDateTime, count(distinct c.EncounterId) as rowtotal\n",
    "from Encounter e inner join [Procedure] c on (e.Id = c.EncounterId)\n",
    "group by c.PersonId, e.StartDateTime ) as t\n",
    "\"\n",
    "\n",
    "new_pro_enct <- load_sql_table(con,snapshot,query=sql)%>% collect()\n",
    "new_pro_enct"
   ]
  },
  {
   "cell_type": "code",
   "execution_count": 5,
   "id": "ea6ac5f4-4e25-49de-996d-f904691cdf2e",
   "metadata": {
    "execution": {
     "iopub.execute_input": "2023-08-02T15:12:02.811312Z",
     "iopub.status.busy": "2023-08-02T15:12:02.810189Z",
     "iopub.status.idle": "2023-08-02T15:16:06.453777Z",
     "shell.execute_reply": "2023-08-02T15:16:06.452794Z"
    },
    "tags": []
   },
   "outputs": [
    {
     "data": {
      "text/html": [
       "<table class=\"dataframe\">\n",
       "<caption>A tibble: 1 × 1</caption>\n",
       "<thead>\n",
       "\t<tr><th scope=col>totalrow</th></tr>\n",
       "\t<tr><th scope=col>&lt;int&gt;</th></tr>\n",
       "</thead>\n",
       "<tbody>\n",
       "\t<tr><td>255000306</td></tr>\n",
       "</tbody>\n",
       "</table>\n"
      ],
      "text/latex": [
       "A tibble: 1 × 1\n",
       "\\begin{tabular}{l}\n",
       " totalrow\\\\\n",
       " <int>\\\\\n",
       "\\hline\n",
       "\t 255000306\\\\\n",
       "\\end{tabular}\n"
      ],
      "text/markdown": [
       "\n",
       "A tibble: 1 × 1\n",
       "\n",
       "| totalrow &lt;int&gt; |\n",
       "|---|\n",
       "| 255000306 |\n",
       "\n"
      ],
      "text/plain": [
       "  totalrow \n",
       "1 255000306"
      ]
     },
     "metadata": {},
     "output_type": "display_data"
    },
    {
     "data": {
      "text/html": [
       "<table class=\"dataframe\">\n",
       "<caption>A tibble: 1 × 1</caption>\n",
       "<thead>\n",
       "\t<tr><th scope=col>totalrow</th></tr>\n",
       "\t<tr><th scope=col>&lt;int&gt;</th></tr>\n",
       "</thead>\n",
       "<tbody>\n",
       "\t<tr><td>254438088</td></tr>\n",
       "</tbody>\n",
       "</table>\n"
      ],
      "text/latex": [
       "A tibble: 1 × 1\n",
       "\\begin{tabular}{l}\n",
       " totalrow\\\\\n",
       " <int>\\\\\n",
       "\\hline\n",
       "\t 254438088\\\\\n",
       "\\end{tabular}\n"
      ],
      "text/markdown": [
       "\n",
       "A tibble: 1 × 1\n",
       "\n",
       "| totalrow &lt;int&gt; |\n",
       "|---|\n",
       "| 254438088 |\n",
       "\n"
      ],
      "text/plain": [
       "  totalrow \n",
       "1 254438088"
      ]
     },
     "metadata": {},
     "output_type": "display_data"
    },
    {
     "data": {
      "text/html": [
       "<table class=\"dataframe\">\n",
       "<caption>A tibble: 1 × 1</caption>\n",
       "<thead>\n",
       "\t<tr><th scope=col>total</th></tr>\n",
       "\t<tr><th scope=col>&lt;int&gt;</th></tr>\n",
       "</thead>\n",
       "<tbody>\n",
       "\t<tr><td>110026313</td></tr>\n",
       "</tbody>\n",
       "</table>\n"
      ],
      "text/latex": [
       "A tibble: 1 × 1\n",
       "\\begin{tabular}{l}\n",
       " total\\\\\n",
       " <int>\\\\\n",
       "\\hline\n",
       "\t 110026313\\\\\n",
       "\\end{tabular}\n"
      ],
      "text/markdown": [
       "\n",
       "A tibble: 1 × 1\n",
       "\n",
       "| total &lt;int&gt; |\n",
       "|---|\n",
       "| 110026313 |\n",
       "\n"
      ],
      "text/plain": [
       "  total    \n",
       "1 110026313"
      ]
     },
     "metadata": {},
     "output_type": "display_data"
    },
    {
     "data": {
      "text/html": [
       "<table class=\"dataframe\">\n",
       "<caption>A tibble: 1 × 1</caption>\n",
       "<thead>\n",
       "\t<tr><th scope=col>total</th></tr>\n",
       "\t<tr><th scope=col>&lt;int&gt;</th></tr>\n",
       "</thead>\n",
       "<tbody>\n",
       "\t<tr><td>0</td></tr>\n",
       "</tbody>\n",
       "</table>\n"
      ],
      "text/latex": [
       "A tibble: 1 × 1\n",
       "\\begin{tabular}{l}\n",
       " total\\\\\n",
       " <int>\\\\\n",
       "\\hline\n",
       "\t 0\\\\\n",
       "\\end{tabular}\n"
      ],
      "text/markdown": [
       "\n",
       "A tibble: 1 × 1\n",
       "\n",
       "| total &lt;int&gt; |\n",
       "|---|\n",
       "| 0 |\n",
       "\n"
      ],
      "text/plain": [
       "  total\n",
       "1 0    "
      ]
     },
     "metadata": {},
     "output_type": "display_data"
    }
   ],
   "source": [
    "#basic encounter table counts\n",
    "\n",
    "select <- \"select count(Id) as totalrow\n",
    "from Encounter;\"\n",
    "\n",
    "load_sql_table(con,snapshot,query = select)%>% collect()\n",
    "\n",
    "\n",
    "sql <-  \"select count(Id) as totalrow\n",
    "from Encounter\n",
    "where StartDateTime is not NULL;\"\n",
    "\n",
    "load_sql_table(con,snapshot,query = sql)%>% collect()\n",
    "\n",
    "sql2 <- \"select count(Id) as total\n",
    "from Encounter \n",
    "where Id in\n",
    "(select distinct EncounterId\n",
    "from Condition);\"\n",
    "\n",
    "load_sql_table(con,snapshot,query = sql2)%>% collect()\n",
    "\n",
    "sql3 <- \"select count(Id) as total\n",
    "from Encounter \n",
    "where Id not in\n",
    "(select distinct EncounterId\n",
    "from Condition);\"\n",
    "\n",
    "\n",
    "load_sql_table(con,snapshot,query = sql3)%>% collect()\n",
    "\n"
   ]
  },
  {
   "cell_type": "code",
   "execution_count": 5,
   "id": "bbdffc41-0991-44a7-91a3-7f1d8a81af85",
   "metadata": {
    "execution": {
     "iopub.execute_input": "2023-07-31T21:21:27.922707Z",
     "iopub.status.busy": "2023-07-31T21:21:27.921142Z",
     "iopub.status.idle": "2023-07-31T21:23:04.315227Z",
     "shell.execute_reply": "2023-07-31T21:23:04.314057Z"
    },
    "tags": []
   },
   "outputs": [
    {
     "data": {
      "text/html": [
       "<table class=\"dataframe\">\n",
       "<caption>A tibble: 15 × 3</caption>\n",
       "<thead>\n",
       "\t<tr><th scope=col>ClassConceptId</th><th scope=col>ConceptName</th><th scope=col>total</th></tr>\n",
       "\t<tr><th scope=col>&lt;int&gt;</th><th scope=col>&lt;chr&gt;</th><th scope=col>&lt;int&gt;</th></tr>\n",
       "</thead>\n",
       "<tbody>\n",
       "\t<tr><td>1065218</td><td>field                    </td><td>      297</td></tr>\n",
       "\t<tr><td>1065215</td><td>inpatient acute          </td><td>     5234</td></tr>\n",
       "\t<tr><td>1067555</td><td>Invalid                  </td><td>     6975</td></tr>\n",
       "\t<tr><td>1065226</td><td>pre-admission            </td><td>    42375</td></tr>\n",
       "\t<tr><td>1067558</td><td>Unknown                  </td><td>   217324</td></tr>\n",
       "\t<tr><td>1065225</td><td>observation encounter    </td><td>   617645</td></tr>\n",
       "\t<tr><td>1065227</td><td>short stay               </td><td>  1001276</td></tr>\n",
       "\t<tr><td>      0</td><td>Field has not been mapped</td><td>  2336671</td></tr>\n",
       "\t<tr><td>1065219</td><td>home health              </td><td>  4571188</td></tr>\n",
       "\t<tr><td>1065220</td><td>inpatient encounter      </td><td>  4837067</td></tr>\n",
       "\t<tr><td>1067561</td><td>No Information           </td><td>  5921540</td></tr>\n",
       "\t<tr><td>1065217</td><td>emergency                </td><td>  5986827</td></tr>\n",
       "\t<tr><td>1065230</td><td>virtual                  </td><td> 30040794</td></tr>\n",
       "\t<tr><td>2649591</td><td>Insufficient Information </td><td> 77148240</td></tr>\n",
       "\t<tr><td>1065216</td><td>ambulatory               </td><td>122266853</td></tr>\n",
       "</tbody>\n",
       "</table>\n"
      ],
      "text/latex": [
       "A tibble: 15 × 3\n",
       "\\begin{tabular}{lll}\n",
       " ClassConceptId & ConceptName & total\\\\\n",
       " <int> & <chr> & <int>\\\\\n",
       "\\hline\n",
       "\t 1065218 & field                     &       297\\\\\n",
       "\t 1065215 & inpatient acute           &      5234\\\\\n",
       "\t 1067555 & Invalid                   &      6975\\\\\n",
       "\t 1065226 & pre-admission             &     42375\\\\\n",
       "\t 1067558 & Unknown                   &    217324\\\\\n",
       "\t 1065225 & observation encounter     &    617645\\\\\n",
       "\t 1065227 & short stay                &   1001276\\\\\n",
       "\t       0 & Field has not been mapped &   2336671\\\\\n",
       "\t 1065219 & home health               &   4571188\\\\\n",
       "\t 1065220 & inpatient encounter       &   4837067\\\\\n",
       "\t 1067561 & No Information            &   5921540\\\\\n",
       "\t 1065217 & emergency                 &   5986827\\\\\n",
       "\t 1065230 & virtual                   &  30040794\\\\\n",
       "\t 2649591 & Insufficient Information  &  77148240\\\\\n",
       "\t 1065216 & ambulatory                & 122266853\\\\\n",
       "\\end{tabular}\n"
      ],
      "text/markdown": [
       "\n",
       "A tibble: 15 × 3\n",
       "\n",
       "| ClassConceptId &lt;int&gt; | ConceptName &lt;chr&gt; | total &lt;int&gt; |\n",
       "|---|---|---|\n",
       "| 1065218 | field                     |       297 |\n",
       "| 1065215 | inpatient acute           |      5234 |\n",
       "| 1067555 | Invalid                   |      6975 |\n",
       "| 1065226 | pre-admission             |     42375 |\n",
       "| 1067558 | Unknown                   |    217324 |\n",
       "| 1065225 | observation encounter     |    617645 |\n",
       "| 1065227 | short stay                |   1001276 |\n",
       "|       0 | Field has not been mapped |   2336671 |\n",
       "| 1065219 | home health               |   4571188 |\n",
       "| 1065220 | inpatient encounter       |   4837067 |\n",
       "| 1067561 | No Information            |   5921540 |\n",
       "| 1065217 | emergency                 |   5986827 |\n",
       "| 1065230 | virtual                   |  30040794 |\n",
       "| 2649591 | Insufficient Information  |  77148240 |\n",
       "| 1065216 | ambulatory                | 122266853 |\n",
       "\n"
      ],
      "text/plain": [
       "   ClassConceptId ConceptName               total    \n",
       "1  1065218        field                           297\n",
       "2  1065215        inpatient acute                5234\n",
       "3  1067555        Invalid                        6975\n",
       "4  1065226        pre-admission                 42375\n",
       "5  1067558        Unknown                      217324\n",
       "6  1065225        observation encounter        617645\n",
       "7  1065227        short stay                  1001276\n",
       "8        0        Field has not been mapped   2336671\n",
       "9  1065219        home health                 4571188\n",
       "10 1065220        inpatient encounter         4837067\n",
       "11 1067561        No Information              5921540\n",
       "12 1065217        emergency                   5986827\n",
       "13 1065230        virtual                    30040794\n",
       "14 2649591        Insufficient Information   77148240\n",
       "15 1065216        ambulatory                122266853"
      ]
     },
     "metadata": {},
     "output_type": "display_data"
    },
    {
     "data": {
      "text/html": [
       "<table class=\"dataframe\">\n",
       "<caption>A tibble: 24 × 3</caption>\n",
       "<thead>\n",
       "\t<tr><th scope=col>DischargeDispositionConceptId</th><th scope=col>ConceptName</th><th scope=col>total</th></tr>\n",
       "\t<tr><th scope=col>&lt;int&gt;</th><th scope=col>&lt;chr&gt;</th><th scope=col>&lt;int&gt;</th></tr>\n",
       "</thead>\n",
       "<tbody>\n",
       "\t<tr><td>1065238</td><td>Federal hospital                  </td><td>      532</td></tr>\n",
       "\t<tr><td>1067555</td><td>Invalid                           </td><td>      721</td></tr>\n",
       "\t<tr><td>1065234</td><td>Cancer research/childrens hospital</td><td>     1575</td></tr>\n",
       "\t<tr><td>2649591</td><td>Insufficient Information          </td><td>     1719</td></tr>\n",
       "\t<tr><td>1065232</td><td>Re-admitted                       </td><td>     2712</td></tr>\n",
       "\t<tr><td>1065241</td><td>Court/law enforcement             </td><td>     4196</td></tr>\n",
       "\t<tr><td>1065236</td><td>Custodial/Suportive faciilty      </td><td>     5246</td></tr>\n",
       "\t<tr><td>1065242</td><td>Long-term care                    </td><td>     6622</td></tr>\n",
       "\t<tr><td>1065235</td><td>Critical accesss hospital         </td><td>     8609</td></tr>\n",
       "\t<tr><td>1065246</td><td>Psychiatric hospital              </td><td>    16350</td></tr>\n",
       "\t<tr><td>1065240</td><td>Hospice                           </td><td>    19613</td></tr>\n",
       "\t<tr><td>      0</td><td>Field has not been mapped         </td><td>    27314</td></tr>\n",
       "\t<tr><td>1065237</td><td>Expired                           </td><td>    29324</td></tr>\n",
       "\t<tr><td>1065247</td><td>Rehabilitation                    </td><td>    31513</td></tr>\n",
       "\t<tr><td>1065245</td><td>Other healthcare facility         </td><td>    47285</td></tr>\n",
       "\t<tr><td>1065248</td><td>Short term general hospital       </td><td>    51400</td></tr>\n",
       "\t<tr><td>1065244</td><td>Other                             </td><td>    62437</td></tr>\n",
       "\t<tr><td>1065231</td><td>Left against advice               </td><td>    90126</td></tr>\n",
       "\t<tr><td>1065249</td><td>Skilled nursing facility          </td><td>   180928</td></tr>\n",
       "\t<tr><td>1065250</td><td>Still patient                     </td><td>   863587</td></tr>\n",
       "\t<tr><td>1067558</td><td>Unknown                           </td><td>  1071334</td></tr>\n",
       "\t<tr><td>1065239</td><td>Home                              </td><td> 15123390</td></tr>\n",
       "\t<tr><td>1067557</td><td>Field is not present in source    </td><td> 27889895</td></tr>\n",
       "\t<tr><td>1067561</td><td>No Information                    </td><td>209463878</td></tr>\n",
       "</tbody>\n",
       "</table>\n"
      ],
      "text/latex": [
       "A tibble: 24 × 3\n",
       "\\begin{tabular}{lll}\n",
       " DischargeDispositionConceptId & ConceptName & total\\\\\n",
       " <int> & <chr> & <int>\\\\\n",
       "\\hline\n",
       "\t 1065238 & Federal hospital                   &       532\\\\\n",
       "\t 1067555 & Invalid                            &       721\\\\\n",
       "\t 1065234 & Cancer research/childrens hospital &      1575\\\\\n",
       "\t 2649591 & Insufficient Information           &      1719\\\\\n",
       "\t 1065232 & Re-admitted                        &      2712\\\\\n",
       "\t 1065241 & Court/law enforcement              &      4196\\\\\n",
       "\t 1065236 & Custodial/Suportive faciilty       &      5246\\\\\n",
       "\t 1065242 & Long-term care                     &      6622\\\\\n",
       "\t 1065235 & Critical accesss hospital          &      8609\\\\\n",
       "\t 1065246 & Psychiatric hospital               &     16350\\\\\n",
       "\t 1065240 & Hospice                            &     19613\\\\\n",
       "\t       0 & Field has not been mapped          &     27314\\\\\n",
       "\t 1065237 & Expired                            &     29324\\\\\n",
       "\t 1065247 & Rehabilitation                     &     31513\\\\\n",
       "\t 1065245 & Other healthcare facility          &     47285\\\\\n",
       "\t 1065248 & Short term general hospital        &     51400\\\\\n",
       "\t 1065244 & Other                              &     62437\\\\\n",
       "\t 1065231 & Left against advice                &     90126\\\\\n",
       "\t 1065249 & Skilled nursing facility           &    180928\\\\\n",
       "\t 1065250 & Still patient                      &    863587\\\\\n",
       "\t 1067558 & Unknown                            &   1071334\\\\\n",
       "\t 1065239 & Home                               &  15123390\\\\\n",
       "\t 1067557 & Field is not present in source     &  27889895\\\\\n",
       "\t 1067561 & No Information                     & 209463878\\\\\n",
       "\\end{tabular}\n"
      ],
      "text/markdown": [
       "\n",
       "A tibble: 24 × 3\n",
       "\n",
       "| DischargeDispositionConceptId &lt;int&gt; | ConceptName &lt;chr&gt; | total &lt;int&gt; |\n",
       "|---|---|---|\n",
       "| 1065238 | Federal hospital                   |       532 |\n",
       "| 1067555 | Invalid                            |       721 |\n",
       "| 1065234 | Cancer research/childrens hospital |      1575 |\n",
       "| 2649591 | Insufficient Information           |      1719 |\n",
       "| 1065232 | Re-admitted                        |      2712 |\n",
       "| 1065241 | Court/law enforcement              |      4196 |\n",
       "| 1065236 | Custodial/Suportive faciilty       |      5246 |\n",
       "| 1065242 | Long-term care                     |      6622 |\n",
       "| 1065235 | Critical accesss hospital          |      8609 |\n",
       "| 1065246 | Psychiatric hospital               |     16350 |\n",
       "| 1065240 | Hospice                            |     19613 |\n",
       "|       0 | Field has not been mapped          |     27314 |\n",
       "| 1065237 | Expired                            |     29324 |\n",
       "| 1065247 | Rehabilitation                     |     31513 |\n",
       "| 1065245 | Other healthcare facility          |     47285 |\n",
       "| 1065248 | Short term general hospital        |     51400 |\n",
       "| 1065244 | Other                              |     62437 |\n",
       "| 1065231 | Left against advice                |     90126 |\n",
       "| 1065249 | Skilled nursing facility           |    180928 |\n",
       "| 1065250 | Still patient                      |    863587 |\n",
       "| 1067558 | Unknown                            |   1071334 |\n",
       "| 1065239 | Home                               |  15123390 |\n",
       "| 1067557 | Field is not present in source     |  27889895 |\n",
       "| 1067561 | No Information                     | 209463878 |\n",
       "\n"
      ],
      "text/plain": [
       "   DischargeDispositionConceptId ConceptName                        total    \n",
       "1  1065238                       Federal hospital                         532\n",
       "2  1067555                       Invalid                                  721\n",
       "3  1065234                       Cancer research/childrens hospital      1575\n",
       "4  2649591                       Insufficient Information                1719\n",
       "5  1065232                       Re-admitted                             2712\n",
       "6  1065241                       Court/law enforcement                   4196\n",
       "7  1065236                       Custodial/Suportive faciilty            5246\n",
       "8  1065242                       Long-term care                          6622\n",
       "9  1065235                       Critical accesss hospital               8609\n",
       "10 1065246                       Psychiatric hospital                   16350\n",
       "11 1065240                       Hospice                                19613\n",
       "12       0                       Field has not been mapped              27314\n",
       "13 1065237                       Expired                                29324\n",
       "14 1065247                       Rehabilitation                         31513\n",
       "15 1065245                       Other healthcare facility              47285\n",
       "16 1065248                       Short term general hospital            51400\n",
       "17 1065244                       Other                                  62437\n",
       "18 1065231                       Left against advice                    90126\n",
       "19 1065249                       Skilled nursing facility              180928\n",
       "20 1065250                       Still patient                         863587\n",
       "21 1067558                       Unknown                              1071334\n",
       "22 1065239                       Home                                15123390\n",
       "23 1067557                       Field is not present in source      27889895\n",
       "24 1067561                       No Information                     209463878"
      ]
     },
     "metadata": {},
     "output_type": "display_data"
    },
    {
     "data": {
      "text/html": [
       "<table class=\"dataframe\">\n",
       "<caption>A tibble: 10 × 3</caption>\n",
       "<thead>\n",
       "\t<tr><th scope=col>PriorityConceptId</th><th scope=col>ConceptName</th><th scope=col>total</th></tr>\n",
       "\t<tr><th scope=col>&lt;int&gt;</th><th scope=col>&lt;chr&gt;</th><th scope=col>&lt;int&gt;</th></tr>\n",
       "</thead>\n",
       "<tbody>\n",
       "\t<tr><td>1065253</td><td>Emergency Index Severity Level 1</td><td>    10225</td></tr>\n",
       "\t<tr><td>2506580</td><td>emergency                       </td><td>    17752</td></tr>\n",
       "\t<tr><td>2506588</td><td>urgent                          </td><td>   206899</td></tr>\n",
       "\t<tr><td>1065256</td><td>Emergency Index Severity Level 4</td><td>   236451</td></tr>\n",
       "\t<tr><td>1065255</td><td>Emergency Index Severity Level 3</td><td>   447518</td></tr>\n",
       "\t<tr><td>      0</td><td>Field has not been mapped       </td><td>   474405</td></tr>\n",
       "\t<tr><td>1065254</td><td>Emergency Index Severity Level 2</td><td>   509767</td></tr>\n",
       "\t<tr><td>1065257</td><td>Emergency Index Severity Level 5</td><td>  1353752</td></tr>\n",
       "\t<tr><td>1067557</td><td>Field is not present in source  </td><td> 76114466</td></tr>\n",
       "\t<tr><td>1067561</td><td>No Information                  </td><td>175629071</td></tr>\n",
       "</tbody>\n",
       "</table>\n"
      ],
      "text/latex": [
       "A tibble: 10 × 3\n",
       "\\begin{tabular}{lll}\n",
       " PriorityConceptId & ConceptName & total\\\\\n",
       " <int> & <chr> & <int>\\\\\n",
       "\\hline\n",
       "\t 1065253 & Emergency Index Severity Level 1 &     10225\\\\\n",
       "\t 2506580 & emergency                        &     17752\\\\\n",
       "\t 2506588 & urgent                           &    206899\\\\\n",
       "\t 1065256 & Emergency Index Severity Level 4 &    236451\\\\\n",
       "\t 1065255 & Emergency Index Severity Level 3 &    447518\\\\\n",
       "\t       0 & Field has not been mapped        &    474405\\\\\n",
       "\t 1065254 & Emergency Index Severity Level 2 &    509767\\\\\n",
       "\t 1065257 & Emergency Index Severity Level 5 &   1353752\\\\\n",
       "\t 1067557 & Field is not present in source   &  76114466\\\\\n",
       "\t 1067561 & No Information                   & 175629071\\\\\n",
       "\\end{tabular}\n"
      ],
      "text/markdown": [
       "\n",
       "A tibble: 10 × 3\n",
       "\n",
       "| PriorityConceptId &lt;int&gt; | ConceptName &lt;chr&gt; | total &lt;int&gt; |\n",
       "|---|---|---|\n",
       "| 1065253 | Emergency Index Severity Level 1 |     10225 |\n",
       "| 2506580 | emergency                        |     17752 |\n",
       "| 2506588 | urgent                           |    206899 |\n",
       "| 1065256 | Emergency Index Severity Level 4 |    236451 |\n",
       "| 1065255 | Emergency Index Severity Level 3 |    447518 |\n",
       "|       0 | Field has not been mapped        |    474405 |\n",
       "| 1065254 | Emergency Index Severity Level 2 |    509767 |\n",
       "| 1065257 | Emergency Index Severity Level 5 |   1353752 |\n",
       "| 1067557 | Field is not present in source   |  76114466 |\n",
       "| 1067561 | No Information                   | 175629071 |\n",
       "\n"
      ],
      "text/plain": [
       "   PriorityConceptId ConceptName                      total    \n",
       "1  1065253           Emergency Index Severity Level 1     10225\n",
       "2  2506580           emergency                            17752\n",
       "3  2506588           urgent                              206899\n",
       "4  1065256           Emergency Index Severity Level 4    236451\n",
       "5  1065255           Emergency Index Severity Level 3    447518\n",
       "6        0           Field has not been mapped           474405\n",
       "7  1065254           Emergency Index Severity Level 2    509767\n",
       "8  1065257           Emergency Index Severity Level 5   1353752\n",
       "9  1067557           Field is not present in source    76114466\n",
       "10 1067561           No Information                   175629071"
      ]
     },
     "metadata": {},
     "output_type": "display_data"
    },
    {
     "data": {
      "text/html": [
       "<table class=\"dataframe\">\n",
       "<caption>A tibble: 18 × 3</caption>\n",
       "<thead>\n",
       "\t<tr><th scope=col>StatusConceptId</th><th scope=col>ConceptName</th><th scope=col>total</th></tr>\n",
       "\t<tr><th scope=col>&lt;int&gt;</th><th scope=col>&lt;chr&gt;</th><th scope=col>&lt;int&gt;</th></tr>\n",
       "</thead>\n",
       "<tbody>\n",
       "\t<tr><td>1067555</td><td>Invalid                       </td><td>        2</td></tr>\n",
       "\t<tr><td>1065264</td><td>Patient Transfer              </td><td>       32</td></tr>\n",
       "\t<tr><td>2506593</td><td>In Progress                   </td><td>     5869</td></tr>\n",
       "\t<tr><td>      0</td><td>Field has not been mapped     </td><td>    18758</td></tr>\n",
       "\t<tr><td>2983200</td><td>Left without being seen       </td><td>    30021</td></tr>\n",
       "\t<tr><td>1065266</td><td>Pre Admission                 </td><td>    59885</td></tr>\n",
       "\t<tr><td>1065261</td><td>Patient Admission             </td><td>    76772</td></tr>\n",
       "\t<tr><td>2506597</td><td>Unknown                       </td><td>   164501</td></tr>\n",
       "\t<tr><td>2506589</td><td>Arrived                       </td><td>   441108</td></tr>\n",
       "\t<tr><td>2649591</td><td>Insufficient Information      </td><td>  1012676</td></tr>\n",
       "\t<tr><td>2506595</td><td>Planned                       </td><td>  1737932</td></tr>\n",
       "\t<tr><td>2983199</td><td>No show                       </td><td>  1903173</td></tr>\n",
       "\t<tr><td>1065262</td><td>Patient Discharge             </td><td>  2505931</td></tr>\n",
       "\t<tr><td>1065265</td><td>Outpatient visit              </td><td>  4200047</td></tr>\n",
       "\t<tr><td>2506590</td><td>Cancelled                     </td><td> 13500390</td></tr>\n",
       "\t<tr><td>1067557</td><td>Field is not present in source</td><td> 28499804</td></tr>\n",
       "\t<tr><td>2506592</td><td>Finished                      </td><td> 51983288</td></tr>\n",
       "\t<tr><td>1067561</td><td>No Information                </td><td>148860117</td></tr>\n",
       "</tbody>\n",
       "</table>\n"
      ],
      "text/latex": [
       "A tibble: 18 × 3\n",
       "\\begin{tabular}{lll}\n",
       " StatusConceptId & ConceptName & total\\\\\n",
       " <int> & <chr> & <int>\\\\\n",
       "\\hline\n",
       "\t 1067555 & Invalid                        &         2\\\\\n",
       "\t 1065264 & Patient Transfer               &        32\\\\\n",
       "\t 2506593 & In Progress                    &      5869\\\\\n",
       "\t       0 & Field has not been mapped      &     18758\\\\\n",
       "\t 2983200 & Left without being seen        &     30021\\\\\n",
       "\t 1065266 & Pre Admission                  &     59885\\\\\n",
       "\t 1065261 & Patient Admission              &     76772\\\\\n",
       "\t 2506597 & Unknown                        &    164501\\\\\n",
       "\t 2506589 & Arrived                        &    441108\\\\\n",
       "\t 2649591 & Insufficient Information       &   1012676\\\\\n",
       "\t 2506595 & Planned                        &   1737932\\\\\n",
       "\t 2983199 & No show                        &   1903173\\\\\n",
       "\t 1065262 & Patient Discharge              &   2505931\\\\\n",
       "\t 1065265 & Outpatient visit               &   4200047\\\\\n",
       "\t 2506590 & Cancelled                      &  13500390\\\\\n",
       "\t 1067557 & Field is not present in source &  28499804\\\\\n",
       "\t 2506592 & Finished                       &  51983288\\\\\n",
       "\t 1067561 & No Information                 & 148860117\\\\\n",
       "\\end{tabular}\n"
      ],
      "text/markdown": [
       "\n",
       "A tibble: 18 × 3\n",
       "\n",
       "| StatusConceptId &lt;int&gt; | ConceptName &lt;chr&gt; | total &lt;int&gt; |\n",
       "|---|---|---|\n",
       "| 1067555 | Invalid                        |         2 |\n",
       "| 1065264 | Patient Transfer               |        32 |\n",
       "| 2506593 | In Progress                    |      5869 |\n",
       "|       0 | Field has not been mapped      |     18758 |\n",
       "| 2983200 | Left without being seen        |     30021 |\n",
       "| 1065266 | Pre Admission                  |     59885 |\n",
       "| 1065261 | Patient Admission              |     76772 |\n",
       "| 2506597 | Unknown                        |    164501 |\n",
       "| 2506589 | Arrived                        |    441108 |\n",
       "| 2649591 | Insufficient Information       |   1012676 |\n",
       "| 2506595 | Planned                        |   1737932 |\n",
       "| 2983199 | No show                        |   1903173 |\n",
       "| 1065262 | Patient Discharge              |   2505931 |\n",
       "| 1065265 | Outpatient visit               |   4200047 |\n",
       "| 2506590 | Cancelled                      |  13500390 |\n",
       "| 1067557 | Field is not present in source |  28499804 |\n",
       "| 2506592 | Finished                       |  51983288 |\n",
       "| 1067561 | No Information                 | 148860117 |\n",
       "\n"
      ],
      "text/plain": [
       "   StatusConceptId ConceptName                    total    \n",
       "1  1067555         Invalid                                2\n",
       "2  1065264         Patient Transfer                      32\n",
       "3  2506593         In Progress                         5869\n",
       "4        0         Field has not been mapped          18758\n",
       "5  2983200         Left without being seen            30021\n",
       "6  1065266         Pre Admission                      59885\n",
       "7  1065261         Patient Admission                  76772\n",
       "8  2506597         Unknown                           164501\n",
       "9  2506589         Arrived                           441108\n",
       "10 2649591         Insufficient Information         1012676\n",
       "11 2506595         Planned                          1737932\n",
       "12 2983199         No show                          1903173\n",
       "13 1065262         Patient Discharge                2505931\n",
       "14 1065265         Outpatient visit                 4200047\n",
       "15 2506590         Cancelled                       13500390\n",
       "16 1067557         Field is not present in source  28499804\n",
       "17 2506592         Finished                        51983288\n",
       "18 1067561         No Information                 148860117"
      ]
     },
     "metadata": {},
     "output_type": "display_data"
    },
    {
     "data": {
      "text/html": [
       "<table class=\"dataframe\">\n",
       "<caption>A tibble: 121 × 3</caption>\n",
       "<thead>\n",
       "\t<tr><th scope=col>TypeConceptId</th><th scope=col>ConceptName</th><th scope=col>total</th></tr>\n",
       "\t<tr><th scope=col>&lt;int&gt;</th><th scope=col>&lt;chr&gt;</th><th scope=col>&lt;int&gt;</th></tr>\n",
       "</thead>\n",
       "<tbody>\n",
       "\t<tr><td>1065315</td><td>Nuclear medicine            </td><td>   1</td></tr>\n",
       "\t<tr><td>1065314</td><td>Newborn                     </td><td>   1</td></tr>\n",
       "\t<tr><td>1065322</td><td>Organ Procurement           </td><td>   8</td></tr>\n",
       "\t<tr><td>1065302</td><td>Inpatient Preadmit          </td><td>   8</td></tr>\n",
       "\t<tr><td>1066382</td><td>Palliative medicine         </td><td>   9</td></tr>\n",
       "\t<tr><td>3059275</td><td>Swing                       </td><td>   9</td></tr>\n",
       "\t<tr><td>1065285</td><td>Diagnostic Extended         </td><td>   9</td></tr>\n",
       "\t<tr><td>3059268</td><td>Baby                        </td><td>  11</td></tr>\n",
       "\t<tr><td>1065300</td><td>Inpatient Hospice           </td><td>  13</td></tr>\n",
       "\t<tr><td>1065335</td><td>Outpatient Rehab            </td><td>  14</td></tr>\n",
       "\t<tr><td>1065327</td><td>Outpatient Hospice          </td><td>  18</td></tr>\n",
       "\t<tr><td>1065346</td><td>Renal Infusion              </td><td>  23</td></tr>\n",
       "\t<tr><td>1065295</td><td>Hyperbaric Oxygen Therapy   </td><td>  36</td></tr>\n",
       "\t<tr><td>1065340</td><td>Pediatrics                  </td><td>  46</td></tr>\n",
       "\t<tr><td>1065278</td><td>Cardio/Pulmonary            </td><td> 154</td></tr>\n",
       "\t<tr><td>1065345</td><td>Recovery Extended           </td><td> 168</td></tr>\n",
       "\t<tr><td>1065306</td><td>Inpatient SNF               </td><td> 172</td></tr>\n",
       "\t<tr><td>1065350</td><td>Speech therapy              </td><td> 190</td></tr>\n",
       "\t<tr><td>1065281</td><td>Cyberknife                  </td><td> 233</td></tr>\n",
       "\t<tr><td>1065303</td><td>Inpatient Psych             </td><td> 233</td></tr>\n",
       "\t<tr><td>1065308</td><td>Inpatient Swing             </td><td> 392</td></tr>\n",
       "\t<tr><td>1065298</td><td>Inpatient Behavioural Health</td><td> 456</td></tr>\n",
       "\t<tr><td>1065330</td><td>Outpatient Observation      </td><td> 551</td></tr>\n",
       "\t<tr><td>1065307</td><td>Inpatient Surgery           </td><td> 815</td></tr>\n",
       "\t<tr><td>1065328</td><td>Outpatient Hospitalization  </td><td> 894</td></tr>\n",
       "\t<tr><td>1065343</td><td>Pulmonary Rehab             </td><td>1060</td></tr>\n",
       "\t<tr><td>1065277</td><td>Cardiac Rehab               </td><td>1356</td></tr>\n",
       "\t<tr><td>1065283</td><td>Dental Services             </td><td>1464</td></tr>\n",
       "\t<tr><td>1065351</td><td>Surgery Extended            </td><td>1627</td></tr>\n",
       "\t<tr><td>1065320</td><td>Occupational Therapy        </td><td>1709</td></tr>\n",
       "\t<tr><td>⋮</td><td>⋮</td><td>⋮</td></tr>\n",
       "\t<tr><td>3059302</td><td>Care coordination             </td><td>  863085</td></tr>\n",
       "\t<tr><td>3059281</td><td>Nurse                         </td><td>  918883</td></tr>\n",
       "\t<tr><td>3059287</td><td>Billing                       </td><td> 1041840</td></tr>\n",
       "\t<tr><td>1067557</td><td>Field is not present in source</td><td> 1260773</td></tr>\n",
       "\t<tr><td>3056586</td><td>Surgery                       </td><td> 1351012</td></tr>\n",
       "\t<tr><td>1065290</td><td>Emergency                     </td><td> 1472438</td></tr>\n",
       "\t<tr><td>1065272</td><td>Anticoagulation               </td><td> 1567515</td></tr>\n",
       "\t<tr><td>      0</td><td>Field has not been mapped     </td><td> 1576035</td></tr>\n",
       "\t<tr><td>3059285</td><td>Abstract                      </td><td> 1901395</td></tr>\n",
       "\t<tr><td>3059263</td><td>Virtual visit                 </td><td> 2041252</td></tr>\n",
       "\t<tr><td>3059289</td><td>Anesthesia                    </td><td> 2106178</td></tr>\n",
       "\t<tr><td>3059277</td><td>Imaging                       </td><td> 2341868</td></tr>\n",
       "\t<tr><td>3059303</td><td>Historical encounter          </td><td> 2655366</td></tr>\n",
       "\t<tr><td>3059279</td><td>Travel                        </td><td> 3495828</td></tr>\n",
       "\t<tr><td>3059273</td><td>Pharmacy                      </td><td> 3659543</td></tr>\n",
       "\t<tr><td>1065293</td><td>Home Health                   </td><td> 4680458</td></tr>\n",
       "\t<tr><td>3059301</td><td>Patient message               </td><td> 4690190</td></tr>\n",
       "\t<tr><td>3059262</td><td>Letter                        </td><td> 4871734</td></tr>\n",
       "\t<tr><td>1065342</td><td>Procedure                     </td><td> 5241518</td></tr>\n",
       "\t<tr><td>1065310</td><td>Laboratory                    </td><td> 5599598</td></tr>\n",
       "\t<tr><td>3059261</td><td>Documentation                 </td><td> 6421986</td></tr>\n",
       "\t<tr><td>3059274</td><td>Orders only                   </td><td> 9906078</td></tr>\n",
       "\t<tr><td>3059271</td><td>Office visit                  </td><td>15275898</td></tr>\n",
       "\t<tr><td>1065323</td><td>Outpatient                    </td><td>16457832</td></tr>\n",
       "\t<tr><td>2649591</td><td>Insufficient Information      </td><td>17136489</td></tr>\n",
       "\t<tr><td>3059272</td><td>Hospital encounter            </td><td>22379954</td></tr>\n",
       "\t<tr><td>3059270</td><td>Appointment                   </td><td>26074809</td></tr>\n",
       "\t<tr><td>3059266</td><td>Refill                        </td><td>26171240</td></tr>\n",
       "\t<tr><td>3059264</td><td>Telephone                     </td><td>26866708</td></tr>\n",
       "\t<tr><td>3059269</td><td>History                       </td><td>27290230</td></tr>\n",
       "</tbody>\n",
       "</table>\n"
      ],
      "text/latex": [
       "A tibble: 121 × 3\n",
       "\\begin{tabular}{lll}\n",
       " TypeConceptId & ConceptName & total\\\\\n",
       " <int> & <chr> & <int>\\\\\n",
       "\\hline\n",
       "\t 1065315 & Nuclear medicine             &    1\\\\\n",
       "\t 1065314 & Newborn                      &    1\\\\\n",
       "\t 1065322 & Organ Procurement            &    8\\\\\n",
       "\t 1065302 & Inpatient Preadmit           &    8\\\\\n",
       "\t 1066382 & Palliative medicine          &    9\\\\\n",
       "\t 3059275 & Swing                        &    9\\\\\n",
       "\t 1065285 & Diagnostic Extended          &    9\\\\\n",
       "\t 3059268 & Baby                         &   11\\\\\n",
       "\t 1065300 & Inpatient Hospice            &   13\\\\\n",
       "\t 1065335 & Outpatient Rehab             &   14\\\\\n",
       "\t 1065327 & Outpatient Hospice           &   18\\\\\n",
       "\t 1065346 & Renal Infusion               &   23\\\\\n",
       "\t 1065295 & Hyperbaric Oxygen Therapy    &   36\\\\\n",
       "\t 1065340 & Pediatrics                   &   46\\\\\n",
       "\t 1065278 & Cardio/Pulmonary             &  154\\\\\n",
       "\t 1065345 & Recovery Extended            &  168\\\\\n",
       "\t 1065306 & Inpatient SNF                &  172\\\\\n",
       "\t 1065350 & Speech therapy               &  190\\\\\n",
       "\t 1065281 & Cyberknife                   &  233\\\\\n",
       "\t 1065303 & Inpatient Psych              &  233\\\\\n",
       "\t 1065308 & Inpatient Swing              &  392\\\\\n",
       "\t 1065298 & Inpatient Behavioural Health &  456\\\\\n",
       "\t 1065330 & Outpatient Observation       &  551\\\\\n",
       "\t 1065307 & Inpatient Surgery            &  815\\\\\n",
       "\t 1065328 & Outpatient Hospitalization   &  894\\\\\n",
       "\t 1065343 & Pulmonary Rehab              & 1060\\\\\n",
       "\t 1065277 & Cardiac Rehab                & 1356\\\\\n",
       "\t 1065283 & Dental Services              & 1464\\\\\n",
       "\t 1065351 & Surgery Extended             & 1627\\\\\n",
       "\t 1065320 & Occupational Therapy         & 1709\\\\\n",
       "\t ⋮ & ⋮ & ⋮\\\\\n",
       "\t 3059302 & Care coordination              &   863085\\\\\n",
       "\t 3059281 & Nurse                          &   918883\\\\\n",
       "\t 3059287 & Billing                        &  1041840\\\\\n",
       "\t 1067557 & Field is not present in source &  1260773\\\\\n",
       "\t 3056586 & Surgery                        &  1351012\\\\\n",
       "\t 1065290 & Emergency                      &  1472438\\\\\n",
       "\t 1065272 & Anticoagulation                &  1567515\\\\\n",
       "\t       0 & Field has not been mapped      &  1576035\\\\\n",
       "\t 3059285 & Abstract                       &  1901395\\\\\n",
       "\t 3059263 & Virtual visit                  &  2041252\\\\\n",
       "\t 3059289 & Anesthesia                     &  2106178\\\\\n",
       "\t 3059277 & Imaging                        &  2341868\\\\\n",
       "\t 3059303 & Historical encounter           &  2655366\\\\\n",
       "\t 3059279 & Travel                         &  3495828\\\\\n",
       "\t 3059273 & Pharmacy                       &  3659543\\\\\n",
       "\t 1065293 & Home Health                    &  4680458\\\\\n",
       "\t 3059301 & Patient message                &  4690190\\\\\n",
       "\t 3059262 & Letter                         &  4871734\\\\\n",
       "\t 1065342 & Procedure                      &  5241518\\\\\n",
       "\t 1065310 & Laboratory                     &  5599598\\\\\n",
       "\t 3059261 & Documentation                  &  6421986\\\\\n",
       "\t 3059274 & Orders only                    &  9906078\\\\\n",
       "\t 3059271 & Office visit                   & 15275898\\\\\n",
       "\t 1065323 & Outpatient                     & 16457832\\\\\n",
       "\t 2649591 & Insufficient Information       & 17136489\\\\\n",
       "\t 3059272 & Hospital encounter             & 22379954\\\\\n",
       "\t 3059270 & Appointment                    & 26074809\\\\\n",
       "\t 3059266 & Refill                         & 26171240\\\\\n",
       "\t 3059264 & Telephone                      & 26866708\\\\\n",
       "\t 3059269 & History                        & 27290230\\\\\n",
       "\\end{tabular}\n"
      ],
      "text/markdown": [
       "\n",
       "A tibble: 121 × 3\n",
       "\n",
       "| TypeConceptId &lt;int&gt; | ConceptName &lt;chr&gt; | total &lt;int&gt; |\n",
       "|---|---|---|\n",
       "| 1065315 | Nuclear medicine             |    1 |\n",
       "| 1065314 | Newborn                      |    1 |\n",
       "| 1065322 | Organ Procurement            |    8 |\n",
       "| 1065302 | Inpatient Preadmit           |    8 |\n",
       "| 1066382 | Palliative medicine          |    9 |\n",
       "| 3059275 | Swing                        |    9 |\n",
       "| 1065285 | Diagnostic Extended          |    9 |\n",
       "| 3059268 | Baby                         |   11 |\n",
       "| 1065300 | Inpatient Hospice            |   13 |\n",
       "| 1065335 | Outpatient Rehab             |   14 |\n",
       "| 1065327 | Outpatient Hospice           |   18 |\n",
       "| 1065346 | Renal Infusion               |   23 |\n",
       "| 1065295 | Hyperbaric Oxygen Therapy    |   36 |\n",
       "| 1065340 | Pediatrics                   |   46 |\n",
       "| 1065278 | Cardio/Pulmonary             |  154 |\n",
       "| 1065345 | Recovery Extended            |  168 |\n",
       "| 1065306 | Inpatient SNF                |  172 |\n",
       "| 1065350 | Speech therapy               |  190 |\n",
       "| 1065281 | Cyberknife                   |  233 |\n",
       "| 1065303 | Inpatient Psych              |  233 |\n",
       "| 1065308 | Inpatient Swing              |  392 |\n",
       "| 1065298 | Inpatient Behavioural Health |  456 |\n",
       "| 1065330 | Outpatient Observation       |  551 |\n",
       "| 1065307 | Inpatient Surgery            |  815 |\n",
       "| 1065328 | Outpatient Hospitalization   |  894 |\n",
       "| 1065343 | Pulmonary Rehab              | 1060 |\n",
       "| 1065277 | Cardiac Rehab                | 1356 |\n",
       "| 1065283 | Dental Services              | 1464 |\n",
       "| 1065351 | Surgery Extended             | 1627 |\n",
       "| 1065320 | Occupational Therapy         | 1709 |\n",
       "| ⋮ | ⋮ | ⋮ |\n",
       "| 3059302 | Care coordination              |   863085 |\n",
       "| 3059281 | Nurse                          |   918883 |\n",
       "| 3059287 | Billing                        |  1041840 |\n",
       "| 1067557 | Field is not present in source |  1260773 |\n",
       "| 3056586 | Surgery                        |  1351012 |\n",
       "| 1065290 | Emergency                      |  1472438 |\n",
       "| 1065272 | Anticoagulation                |  1567515 |\n",
       "|       0 | Field has not been mapped      |  1576035 |\n",
       "| 3059285 | Abstract                       |  1901395 |\n",
       "| 3059263 | Virtual visit                  |  2041252 |\n",
       "| 3059289 | Anesthesia                     |  2106178 |\n",
       "| 3059277 | Imaging                        |  2341868 |\n",
       "| 3059303 | Historical encounter           |  2655366 |\n",
       "| 3059279 | Travel                         |  3495828 |\n",
       "| 3059273 | Pharmacy                       |  3659543 |\n",
       "| 1065293 | Home Health                    |  4680458 |\n",
       "| 3059301 | Patient message                |  4690190 |\n",
       "| 3059262 | Letter                         |  4871734 |\n",
       "| 1065342 | Procedure                      |  5241518 |\n",
       "| 1065310 | Laboratory                     |  5599598 |\n",
       "| 3059261 | Documentation                  |  6421986 |\n",
       "| 3059274 | Orders only                    |  9906078 |\n",
       "| 3059271 | Office visit                   | 15275898 |\n",
       "| 1065323 | Outpatient                     | 16457832 |\n",
       "| 2649591 | Insufficient Information       | 17136489 |\n",
       "| 3059272 | Hospital encounter             | 22379954 |\n",
       "| 3059270 | Appointment                    | 26074809 |\n",
       "| 3059266 | Refill                         | 26171240 |\n",
       "| 3059264 | Telephone                      | 26866708 |\n",
       "| 3059269 | History                        | 27290230 |\n",
       "\n"
      ],
      "text/plain": [
       "    TypeConceptId ConceptName                    total   \n",
       "1   1065315       Nuclear medicine                  1    \n",
       "2   1065314       Newborn                           1    \n",
       "3   1065322       Organ Procurement                 8    \n",
       "4   1065302       Inpatient Preadmit                8    \n",
       "5   1066382       Palliative medicine               9    \n",
       "6   3059275       Swing                             9    \n",
       "7   1065285       Diagnostic Extended               9    \n",
       "8   3059268       Baby                             11    \n",
       "9   1065300       Inpatient Hospice                13    \n",
       "10  1065335       Outpatient Rehab                 14    \n",
       "11  1065327       Outpatient Hospice               18    \n",
       "12  1065346       Renal Infusion                   23    \n",
       "13  1065295       Hyperbaric Oxygen Therapy        36    \n",
       "14  1065340       Pediatrics                       46    \n",
       "15  1065278       Cardio/Pulmonary                154    \n",
       "16  1065345       Recovery Extended               168    \n",
       "17  1065306       Inpatient SNF                   172    \n",
       "18  1065350       Speech therapy                  190    \n",
       "19  1065281       Cyberknife                      233    \n",
       "20  1065303       Inpatient Psych                 233    \n",
       "21  1065308       Inpatient Swing                 392    \n",
       "22  1065298       Inpatient Behavioural Health    456    \n",
       "23  1065330       Outpatient Observation          551    \n",
       "24  1065307       Inpatient Surgery               815    \n",
       "25  1065328       Outpatient Hospitalization      894    \n",
       "26  1065343       Pulmonary Rehab                1060    \n",
       "27  1065277       Cardiac Rehab                  1356    \n",
       "28  1065283       Dental Services                1464    \n",
       "29  1065351       Surgery Extended               1627    \n",
       "30  1065320       Occupational Therapy           1709    \n",
       "⋮   ⋮             ⋮                              ⋮       \n",
       "92  3059302       Care coordination                863085\n",
       "93  3059281       Nurse                            918883\n",
       "94  3059287       Billing                         1041840\n",
       "95  1067557       Field is not present in source  1260773\n",
       "96  3056586       Surgery                         1351012\n",
       "97  1065290       Emergency                       1472438\n",
       "98  1065272       Anticoagulation                 1567515\n",
       "99        0       Field has not been mapped       1576035\n",
       "100 3059285       Abstract                        1901395\n",
       "101 3059263       Virtual visit                   2041252\n",
       "102 3059289       Anesthesia                      2106178\n",
       "103 3059277       Imaging                         2341868\n",
       "104 3059303       Historical encounter            2655366\n",
       "105 3059279       Travel                          3495828\n",
       "106 3059273       Pharmacy                        3659543\n",
       "107 1065293       Home Health                     4680458\n",
       "108 3059301       Patient message                 4690190\n",
       "109 3059262       Letter                          4871734\n",
       "110 1065342       Procedure                       5241518\n",
       "111 1065310       Laboratory                      5599598\n",
       "112 3059261       Documentation                   6421986\n",
       "113 3059274       Orders only                     9906078\n",
       "114 3059271       Office visit                   15275898\n",
       "115 1065323       Outpatient                     16457832\n",
       "116 2649591       Insufficient Information       17136489\n",
       "117 3059272       Hospital encounter             22379954\n",
       "118 3059270       Appointment                    26074809\n",
       "119 3059266       Refill                         26171240\n",
       "120 3059264       Telephone                      26866708\n",
       "121 3059269       History                        27290230"
      ]
     },
     "metadata": {},
     "output_type": "display_data"
    }
   ],
   "source": [
    "# basic summary for variables in encounter table\n",
    "\n",
    "sql <- \"select e.ClassConceptId, c.ConceptName, count(*) as total\n",
    "from Encounter e join Concept c on (e.ClassConceptId = c.ConceptId)\n",
    "group by ClassConceptId, c.ConceptName\n",
    "order by total;\"\n",
    "\n",
    "load_sql_table(con,snapshot,query = sql) %>% collect()\n",
    "\n",
    "sql <- \"select e.DischargeDispositionConceptId, c.ConceptName, count(*) as total\n",
    "from Encounter e join Concept c on (e.DischargeDispositionConceptId = c.ConceptId)\n",
    "group by DischargeDispositionConceptId, c.ConceptName\n",
    "order by total;\"\n",
    "\n",
    "load_sql_table(con,snapshot,query = sql) %>% collect()\n",
    "\n",
    "sql <- \"select e.PriorityConceptId, c.ConceptName, count(*) as total\n",
    "from Encounter e join Concept c on (e.PriorityConceptId = c.ConceptId)\n",
    "group by e.PriorityConceptId, c.ConceptName\n",
    "order by total;\"\n",
    "\n",
    "load_sql_table(con,snapshot,query = sql) %>% collect()\n",
    "\n",
    "\n",
    "sql <- \"select e.StatusConceptId, c.ConceptName, count(*) as total\n",
    "from Encounter e join Concept c on (e.StatusConceptId = c.ConceptId)\n",
    "group by e.StatusConceptId, c.ConceptName\n",
    "order by total\"\n",
    "\n",
    "load_sql_table(con,snapshot,query = sql) %>% collect()\n",
    "\n",
    "\n",
    "\n",
    "sql <- \"select e.TypeConceptId, c.ConceptName, count(*) as total\n",
    "from Encounter e join Concept c on (e.TypeConceptId = c.ConceptId)\n",
    "group by e.TypeConceptId, c.ConceptName\n",
    "order by total\"\n",
    "\n",
    "load_sql_table(con,snapshot,query = sql) %>% collect()"
   ]
  },
  {
   "cell_type": "code",
   "execution_count": 3,
   "id": "bb17a735-06cf-470a-9638-2c2f39cbe23b",
   "metadata": {
    "execution": {
     "iopub.execute_input": "2023-08-01T14:15:29.964523Z",
     "iopub.status.busy": "2023-08-01T14:15:29.963445Z",
     "iopub.status.idle": "2023-08-01T14:21:05.396025Z",
     "shell.execute_reply": "2023-08-01T14:21:05.394542Z"
    },
    "tags": []
   },
   "outputs": [
    {
     "data": {
      "text/html": [
       "<table class=\"dataframe\">\n",
       "<caption>A data.frame: 8 × 9</caption>\n",
       "<thead>\n",
       "\t<tr><th scope=col>CategoryConceptId</th><th scope=col>total</th><th scope=col>ConceptName</th><th scope=col>ConceptDefinition</th><th scope=col>CodeSystem</th><th scope=col>ConceptCode</th><th scope=col>ConceptClass</th><th scope=col>Domain</th><th scope=col>__index_level_0__</th></tr>\n",
       "\t<tr><th scope=col>&lt;dbl&gt;</th><th scope=col>&lt;int&gt;</th><th scope=col>&lt;chr&gt;</th><th scope=col>&lt;chr&gt;</th><th scope=col>&lt;chr&gt;</th><th scope=col>&lt;chr&gt;</th><th scope=col>&lt;chr&gt;</th><th scope=col>&lt;chr&gt;</th><th scope=col>&lt;int&gt;</th></tr>\n",
       "</thead>\n",
       "<tbody>\n",
       "\t<tr><td>      0</td><td>    55285</td><td>Field has not been mapped</td><td>The field has not been mapped.                                                                                                                                                                                                      </td><td>NullFlavor</td><td>NM     </td><td>NullFlavor       </td><td>Categories</td><td> 22724</td></tr>\n",
       "\t<tr><td>1065168</td><td> 33045861</td><td>AdmissionDiagnosis       </td><td>AdmissionDiagnosis                                                                                                                                                                                                                  </td><td>Truveta   </td><td>1065168</td><td>ConditionCategory</td><td>Categories</td><td>264675</td></tr>\n",
       "\t<tr><td>1065169</td><td>140627640</td><td>BillingDiagnosis         </td><td>BillingDiagnosis                                                                                                                                                                                                                    </td><td>Truveta   </td><td>1065169</td><td>ConditionCategory</td><td>Categories</td><td>264676</td></tr>\n",
       "\t<tr><td>1065170</td><td>209327512</td><td>EncounterDiagnosis       </td><td>EncounterDiagnosis                                                                                                                                                                                                                  </td><td>Truveta   </td><td>1065170</td><td>ConditionCategory</td><td>Categories</td><td>264677</td></tr>\n",
       "\t<tr><td>1065172</td><td>251512834</td><td>MedicalHistory           </td><td>MedicalHistory                                                                                                                                                                                                                      </td><td>Truveta   </td><td>1065172</td><td>ConditionCategory</td><td>Categories</td><td>264679</td></tr>\n",
       "\t<tr><td>1065174</td><td>  4247590</td><td>ProblemList              </td><td>ProblemList                                                                                                                                                                                                                         </td><td>Truveta   </td><td>1065174</td><td>ConditionCategory</td><td>Categories</td><td>264680</td></tr>\n",
       "\t<tr><td>1067561</td><td>   427457</td><td>No Information           </td><td>The value is exceptional (missing, omitted, incomplete, improper). No information as to the reason for being an exceptional value is provided. This is the most general exceptional value. It is also the default exceptional value.</td><td>NullFlavor</td><td>NI     </td><td>NullFlavor       </td><td>Categories</td><td>266949</td></tr>\n",
       "\t<tr><td>2649591</td><td>   296522</td><td>Insufficient Information </td><td>Insufficient Information                                                                                                                                                                                                            </td><td>NullFlavor</td><td>II     </td><td>NullFlavor       </td><td>Categories</td><td> 81742</td></tr>\n",
       "</tbody>\n",
       "</table>\n"
      ],
      "text/latex": [
       "A data.frame: 8 × 9\n",
       "\\begin{tabular}{lllllllll}\n",
       " CategoryConceptId & total & ConceptName & ConceptDefinition & CodeSystem & ConceptCode & ConceptClass & Domain & \\_\\_index\\_level\\_0\\_\\_\\\\\n",
       " <dbl> & <int> & <chr> & <chr> & <chr> & <chr> & <chr> & <chr> & <int>\\\\\n",
       "\\hline\n",
       "\t       0 &     55285 & Field has not been mapped & The field has not been mapped.                                                                                                                                                                                                       & NullFlavor & NM      & NullFlavor        & Categories &  22724\\\\\n",
       "\t 1065168 &  33045861 & AdmissionDiagnosis        & AdmissionDiagnosis                                                                                                                                                                                                                   & Truveta    & 1065168 & ConditionCategory & Categories & 264675\\\\\n",
       "\t 1065169 & 140627640 & BillingDiagnosis          & BillingDiagnosis                                                                                                                                                                                                                     & Truveta    & 1065169 & ConditionCategory & Categories & 264676\\\\\n",
       "\t 1065170 & 209327512 & EncounterDiagnosis        & EncounterDiagnosis                                                                                                                                                                                                                   & Truveta    & 1065170 & ConditionCategory & Categories & 264677\\\\\n",
       "\t 1065172 & 251512834 & MedicalHistory            & MedicalHistory                                                                                                                                                                                                                       & Truveta    & 1065172 & ConditionCategory & Categories & 264679\\\\\n",
       "\t 1065174 &   4247590 & ProblemList               & ProblemList                                                                                                                                                                                                                          & Truveta    & 1065174 & ConditionCategory & Categories & 264680\\\\\n",
       "\t 1067561 &    427457 & No Information            & The value is exceptional (missing, omitted, incomplete, improper). No information as to the reason for being an exceptional value is provided. This is the most general exceptional value. It is also the default exceptional value. & NullFlavor & NI      & NullFlavor        & Categories & 266949\\\\\n",
       "\t 2649591 &    296522 & Insufficient Information  & Insufficient Information                                                                                                                                                                                                             & NullFlavor & II      & NullFlavor        & Categories &  81742\\\\\n",
       "\\end{tabular}\n"
      ],
      "text/markdown": [
       "\n",
       "A data.frame: 8 × 9\n",
       "\n",
       "| CategoryConceptId &lt;dbl&gt; | total &lt;int&gt; | ConceptName &lt;chr&gt; | ConceptDefinition &lt;chr&gt; | CodeSystem &lt;chr&gt; | ConceptCode &lt;chr&gt; | ConceptClass &lt;chr&gt; | Domain &lt;chr&gt; | __index_level_0__ &lt;int&gt; |\n",
       "|---|---|---|---|---|---|---|---|---|\n",
       "|       0 |     55285 | Field has not been mapped | The field has not been mapped.                                                                                                                                                                                                       | NullFlavor | NM      | NullFlavor        | Categories |  22724 |\n",
       "| 1065168 |  33045861 | AdmissionDiagnosis        | AdmissionDiagnosis                                                                                                                                                                                                                   | Truveta    | 1065168 | ConditionCategory | Categories | 264675 |\n",
       "| 1065169 | 140627640 | BillingDiagnosis          | BillingDiagnosis                                                                                                                                                                                                                     | Truveta    | 1065169 | ConditionCategory | Categories | 264676 |\n",
       "| 1065170 | 209327512 | EncounterDiagnosis        | EncounterDiagnosis                                                                                                                                                                                                                   | Truveta    | 1065170 | ConditionCategory | Categories | 264677 |\n",
       "| 1065172 | 251512834 | MedicalHistory            | MedicalHistory                                                                                                                                                                                                                       | Truveta    | 1065172 | ConditionCategory | Categories | 264679 |\n",
       "| 1065174 |   4247590 | ProblemList               | ProblemList                                                                                                                                                                                                                          | Truveta    | 1065174 | ConditionCategory | Categories | 264680 |\n",
       "| 1067561 |    427457 | No Information            | The value is exceptional (missing, omitted, incomplete, improper). No information as to the reason for being an exceptional value is provided. This is the most general exceptional value. It is also the default exceptional value. | NullFlavor | NI      | NullFlavor        | Categories | 266949 |\n",
       "| 2649591 |    296522 | Insufficient Information  | Insufficient Information                                                                                                                                                                                                             | NullFlavor | II      | NullFlavor        | Categories |  81742 |\n",
       "\n"
      ],
      "text/plain": [
       "  CategoryConceptId total     ConceptName              \n",
       "1       0               55285 Field has not been mapped\n",
       "2 1065168            33045861 AdmissionDiagnosis       \n",
       "3 1065169           140627640 BillingDiagnosis         \n",
       "4 1065170           209327512 EncounterDiagnosis       \n",
       "5 1065172           251512834 MedicalHistory           \n",
       "6 1065174             4247590 ProblemList              \n",
       "7 1067561              427457 No Information           \n",
       "8 2649591              296522 Insufficient Information \n",
       "  ConceptDefinition                                                                                                                                                                                                                   \n",
       "1 The field has not been mapped.                                                                                                                                                                                                      \n",
       "2 AdmissionDiagnosis                                                                                                                                                                                                                  \n",
       "3 BillingDiagnosis                                                                                                                                                                                                                    \n",
       "4 EncounterDiagnosis                                                                                                                                                                                                                  \n",
       "5 MedicalHistory                                                                                                                                                                                                                      \n",
       "6 ProblemList                                                                                                                                                                                                                         \n",
       "7 The value is exceptional (missing, omitted, incomplete, improper). No information as to the reason for being an exceptional value is provided. This is the most general exceptional value. It is also the default exceptional value.\n",
       "8 Insufficient Information                                                                                                                                                                                                            \n",
       "  CodeSystem ConceptCode ConceptClass      Domain     __index_level_0__\n",
       "1 NullFlavor NM          NullFlavor        Categories  22724           \n",
       "2 Truveta    1065168     ConditionCategory Categories 264675           \n",
       "3 Truveta    1065169     ConditionCategory Categories 264676           \n",
       "4 Truveta    1065170     ConditionCategory Categories 264677           \n",
       "5 Truveta    1065172     ConditionCategory Categories 264679           \n",
       "6 Truveta    1065174     ConditionCategory Categories 264680           \n",
       "7 NullFlavor NI          NullFlavor        Categories 266949           \n",
       "8 NullFlavor II          NullFlavor        Categories  81742           "
      ]
     },
     "metadata": {},
     "output_type": "display_data"
    },
    {
     "data": {
      "text/html": [
       "<table class=\"dataframe\">\n",
       "<caption>A tibble: 5 × 9</caption>\n",
       "<thead>\n",
       "\t<tr><th scope=col>PrimaryDiagnosisConceptId</th><th scope=col>cnt</th><th scope=col>ConceptName</th><th scope=col>ConceptDefinition</th><th scope=col>CodeSystem</th><th scope=col>ConceptCode</th><th scope=col>ConceptClass</th><th scope=col>Domain</th><th scope=col>__index_level_0__</th></tr>\n",
       "\t<tr><th scope=col>&lt;dbl&gt;</th><th scope=col>&lt;int&gt;</th><th scope=col>&lt;chr&gt;</th><th scope=col>&lt;chr&gt;</th><th scope=col>&lt;chr&gt;</th><th scope=col>&lt;chr&gt;</th><th scope=col>&lt;chr&gt;</th><th scope=col>&lt;chr&gt;</th><th scope=col>&lt;int&gt;</th></tr>\n",
       "</thead>\n",
       "<tbody>\n",
       "\t<tr><td>     NA</td><td>        0</td><td>NA                            </td><td>NA                                                                                                                                                                                                                                  </td><td>NA        </td><td>NA     </td><td>NA            </td><td>NA        </td><td>    NA</td></tr>\n",
       "\t<tr><td>1067557</td><td>234069050</td><td>Field is not present in source</td><td>Field is not present in source                                                                                                                                                                                                      </td><td>NullFlavor</td><td>FNPS   </td><td>NullFlavor    </td><td>Categories</td><td>266946</td></tr>\n",
       "\t<tr><td>1067561</td><td>  1792009</td><td>No Information                </td><td>The value is exceptional (missing, omitted, incomplete, improper). No information as to the reason for being an exceptional value is provided. This is the most general exceptional value. It is also the default exceptional value.</td><td>NullFlavor</td><td>NI     </td><td>NullFlavor    </td><td>Categories</td><td>266949</td></tr>\n",
       "\t<tr><td>1200405</td><td>342664693</td><td>No                            </td><td>No                                                                                                                                                                                                                                  </td><td>Truveta   </td><td>1200405</td><td>YesNoIndicator</td><td>Categories</td><td> 90723</td></tr>\n",
       "\t<tr><td>1200406</td><td> 61014949</td><td>Yes                           </td><td>Yes                                                                                                                                                                                                                                 </td><td>Truveta   </td><td>1200406</td><td>YesNoIndicator</td><td>Categories</td><td> 90724</td></tr>\n",
       "</tbody>\n",
       "</table>\n"
      ],
      "text/latex": [
       "A tibble: 5 × 9\n",
       "\\begin{tabular}{lllllllll}\n",
       " PrimaryDiagnosisConceptId & cnt & ConceptName & ConceptDefinition & CodeSystem & ConceptCode & ConceptClass & Domain & \\_\\_index\\_level\\_0\\_\\_\\\\\n",
       " <dbl> & <int> & <chr> & <chr> & <chr> & <chr> & <chr> & <chr> & <int>\\\\\n",
       "\\hline\n",
       "\t      NA &         0 & NA                             & NA                                                                                                                                                                                                                                   & NA         & NA      & NA             & NA         &     NA\\\\\n",
       "\t 1067557 & 234069050 & Field is not present in source & Field is not present in source                                                                                                                                                                                                       & NullFlavor & FNPS    & NullFlavor     & Categories & 266946\\\\\n",
       "\t 1067561 &   1792009 & No Information                 & The value is exceptional (missing, omitted, incomplete, improper). No information as to the reason for being an exceptional value is provided. This is the most general exceptional value. It is also the default exceptional value. & NullFlavor & NI      & NullFlavor     & Categories & 266949\\\\\n",
       "\t 1200405 & 342664693 & No                             & No                                                                                                                                                                                                                                   & Truveta    & 1200405 & YesNoIndicator & Categories &  90723\\\\\n",
       "\t 1200406 &  61014949 & Yes                            & Yes                                                                                                                                                                                                                                  & Truveta    & 1200406 & YesNoIndicator & Categories &  90724\\\\\n",
       "\\end{tabular}\n"
      ],
      "text/markdown": [
       "\n",
       "A tibble: 5 × 9\n",
       "\n",
       "| PrimaryDiagnosisConceptId &lt;dbl&gt; | cnt &lt;int&gt; | ConceptName &lt;chr&gt; | ConceptDefinition &lt;chr&gt; | CodeSystem &lt;chr&gt; | ConceptCode &lt;chr&gt; | ConceptClass &lt;chr&gt; | Domain &lt;chr&gt; | __index_level_0__ &lt;int&gt; |\n",
       "|---|---|---|---|---|---|---|---|---|\n",
       "|      NA |         0 | NA                             | NA                                                                                                                                                                                                                                   | NA         | NA      | NA             | NA         |     NA |\n",
       "| 1067557 | 234069050 | Field is not present in source | Field is not present in source                                                                                                                                                                                                       | NullFlavor | FNPS    | NullFlavor     | Categories | 266946 |\n",
       "| 1067561 |   1792009 | No Information                 | The value is exceptional (missing, omitted, incomplete, improper). No information as to the reason for being an exceptional value is provided. This is the most general exceptional value. It is also the default exceptional value. | NullFlavor | NI      | NullFlavor     | Categories | 266949 |\n",
       "| 1200405 | 342664693 | No                             | No                                                                                                                                                                                                                                   | Truveta    | 1200405 | YesNoIndicator | Categories |  90723 |\n",
       "| 1200406 |  61014949 | Yes                            | Yes                                                                                                                                                                                                                                  | Truveta    | 1200406 | YesNoIndicator | Categories |  90724 |\n",
       "\n"
      ],
      "text/plain": [
       "  PrimaryDiagnosisConceptId cnt       ConceptName                   \n",
       "1      NA                           0 NA                            \n",
       "2 1067557                   234069050 Field is not present in source\n",
       "3 1067561                     1792009 No Information                \n",
       "4 1200405                   342664693 No                            \n",
       "5 1200406                    61014949 Yes                           \n",
       "  ConceptDefinition                                                                                                                                                                                                                   \n",
       "1 NA                                                                                                                                                                                                                                  \n",
       "2 Field is not present in source                                                                                                                                                                                                      \n",
       "3 The value is exceptional (missing, omitted, incomplete, improper). No information as to the reason for being an exceptional value is provided. This is the most general exceptional value. It is also the default exceptional value.\n",
       "4 No                                                                                                                                                                                                                                  \n",
       "5 Yes                                                                                                                                                                                                                                 \n",
       "  CodeSystem ConceptCode ConceptClass   Domain     __index_level_0__\n",
       "1 NA         NA          NA             NA             NA           \n",
       "2 NullFlavor FNPS        NullFlavor     Categories 266946           \n",
       "3 NullFlavor NI          NullFlavor     Categories 266949           \n",
       "4 Truveta    1200405     YesNoIndicator Categories  90723           \n",
       "5 Truveta    1200406     YesNoIndicator Categories  90724           "
      ]
     },
     "metadata": {},
     "output_type": "display_data"
    },
    {
     "data": {
      "text/html": [
       "<table class=\"dataframe\">\n",
       "<caption>A tibble: 4 × 9</caption>\n",
       "<thead>\n",
       "\t<tr><th scope=col>ClinicalStatusConceptId</th><th scope=col>cnt</th><th scope=col>ConceptName</th><th scope=col>ConceptDefinition</th><th scope=col>CodeSystem</th><th scope=col>ConceptCode</th><th scope=col>ConceptClass</th><th scope=col>Domain</th><th scope=col>__index_level_0__</th></tr>\n",
       "\t<tr><th scope=col>&lt;dbl&gt;</th><th scope=col>&lt;int&gt;</th><th scope=col>&lt;chr&gt;</th><th scope=col>&lt;chr&gt;</th><th scope=col>&lt;chr&gt;</th><th scope=col>&lt;chr&gt;</th><th scope=col>&lt;chr&gt;</th><th scope=col>&lt;chr&gt;</th><th scope=col>&lt;int&gt;</th></tr>\n",
       "</thead>\n",
       "<tbody>\n",
       "\t<tr><td>     NA</td><td>        0</td><td>NA                            </td><td>NA                                                                                                                                                                                                                                  </td><td>NA        </td><td>NA     </td><td>NA                     </td><td>NA        </td><td>    NA</td></tr>\n",
       "\t<tr><td>1065181</td><td>        1</td><td>Recurrence                    </td><td>The subject is experiencing a re-occurence or repeating of a previously resolved condition, e.g. urinary tract infection, pancreatitis, cholangitis, conjunctivitis.                                                                </td><td>Truveta   </td><td>1065181</td><td>ConditionClinicalStatus</td><td>Categories</td><td>264684</td></tr>\n",
       "\t<tr><td>1067557</td><td>552749391</td><td>Field is not present in source</td><td>Field is not present in source                                                                                                                                                                                                      </td><td>NullFlavor</td><td>FNPS   </td><td>NullFlavor             </td><td>Categories</td><td>266946</td></tr>\n",
       "\t<tr><td>1067561</td><td> 86791309</td><td>No Information                </td><td>The value is exceptional (missing, omitted, incomplete, improper). No information as to the reason for being an exceptional value is provided. This is the most general exceptional value. It is also the default exceptional value.</td><td>NullFlavor</td><td>NI     </td><td>NullFlavor             </td><td>Categories</td><td>266949</td></tr>\n",
       "</tbody>\n",
       "</table>\n"
      ],
      "text/latex": [
       "A tibble: 4 × 9\n",
       "\\begin{tabular}{lllllllll}\n",
       " ClinicalStatusConceptId & cnt & ConceptName & ConceptDefinition & CodeSystem & ConceptCode & ConceptClass & Domain & \\_\\_index\\_level\\_0\\_\\_\\\\\n",
       " <dbl> & <int> & <chr> & <chr> & <chr> & <chr> & <chr> & <chr> & <int>\\\\\n",
       "\\hline\n",
       "\t      NA &         0 & NA                             & NA                                                                                                                                                                                                                                   & NA         & NA      & NA                      & NA         &     NA\\\\\n",
       "\t 1065181 &         1 & Recurrence                     & The subject is experiencing a re-occurence or repeating of a previously resolved condition, e.g. urinary tract infection, pancreatitis, cholangitis, conjunctivitis.                                                                 & Truveta    & 1065181 & ConditionClinicalStatus & Categories & 264684\\\\\n",
       "\t 1067557 & 552749391 & Field is not present in source & Field is not present in source                                                                                                                                                                                                       & NullFlavor & FNPS    & NullFlavor              & Categories & 266946\\\\\n",
       "\t 1067561 &  86791309 & No Information                 & The value is exceptional (missing, omitted, incomplete, improper). No information as to the reason for being an exceptional value is provided. This is the most general exceptional value. It is also the default exceptional value. & NullFlavor & NI      & NullFlavor              & Categories & 266949\\\\\n",
       "\\end{tabular}\n"
      ],
      "text/markdown": [
       "\n",
       "A tibble: 4 × 9\n",
       "\n",
       "| ClinicalStatusConceptId &lt;dbl&gt; | cnt &lt;int&gt; | ConceptName &lt;chr&gt; | ConceptDefinition &lt;chr&gt; | CodeSystem &lt;chr&gt; | ConceptCode &lt;chr&gt; | ConceptClass &lt;chr&gt; | Domain &lt;chr&gt; | __index_level_0__ &lt;int&gt; |\n",
       "|---|---|---|---|---|---|---|---|---|\n",
       "|      NA |         0 | NA                             | NA                                                                                                                                                                                                                                   | NA         | NA      | NA                      | NA         |     NA |\n",
       "| 1065181 |         1 | Recurrence                     | The subject is experiencing a re-occurence or repeating of a previously resolved condition, e.g. urinary tract infection, pancreatitis, cholangitis, conjunctivitis.                                                                 | Truveta    | 1065181 | ConditionClinicalStatus | Categories | 264684 |\n",
       "| 1067557 | 552749391 | Field is not present in source | Field is not present in source                                                                                                                                                                                                       | NullFlavor | FNPS    | NullFlavor              | Categories | 266946 |\n",
       "| 1067561 |  86791309 | No Information                 | The value is exceptional (missing, omitted, incomplete, improper). No information as to the reason for being an exceptional value is provided. This is the most general exceptional value. It is also the default exceptional value. | NullFlavor | NI      | NullFlavor              | Categories | 266949 |\n",
       "\n"
      ],
      "text/plain": [
       "  ClinicalStatusConceptId cnt       ConceptName                   \n",
       "1      NA                         0 NA                            \n",
       "2 1065181                         1 Recurrence                    \n",
       "3 1067557                 552749391 Field is not present in source\n",
       "4 1067561                  86791309 No Information                \n",
       "  ConceptDefinition                                                                                                                                                                                                                   \n",
       "1 NA                                                                                                                                                                                                                                  \n",
       "2 The subject is experiencing a re-occurence or repeating of a previously resolved condition, e.g. urinary tract infection, pancreatitis, cholangitis, conjunctivitis.                                                                \n",
       "3 Field is not present in source                                                                                                                                                                                                      \n",
       "4 The value is exceptional (missing, omitted, incomplete, improper). No information as to the reason for being an exceptional value is provided. This is the most general exceptional value. It is also the default exceptional value.\n",
       "  CodeSystem ConceptCode ConceptClass            Domain     __index_level_0__\n",
       "1 NA         NA          NA                      NA             NA           \n",
       "2 Truveta    1065181     ConditionClinicalStatus Categories 264684           \n",
       "3 NullFlavor FNPS        NullFlavor              Categories 266946           \n",
       "4 NullFlavor NI          NullFlavor              Categories 266949           "
      ]
     },
     "metadata": {},
     "output_type": "display_data"
    },
    {
     "data": {
      "text/html": [
       "<table class=\"dataframe\">\n",
       "<caption>A tibble: 8 × 9</caption>\n",
       "<thead>\n",
       "\t<tr><th scope=col>SeverityConceptId</th><th scope=col>cnt</th><th scope=col>ConceptName</th><th scope=col>ConceptDefinition</th><th scope=col>CodeSystem</th><th scope=col>ConceptCode</th><th scope=col>ConceptClass</th><th scope=col>Domain</th><th scope=col>__index_level_0__</th></tr>\n",
       "\t<tr><th scope=col>&lt;int&gt;</th><th scope=col>&lt;int&gt;</th><th scope=col>&lt;chr&gt;</th><th scope=col>&lt;chr&gt;</th><th scope=col>&lt;chr&gt;</th><th scope=col>&lt;chr&gt;</th><th scope=col>&lt;chr&gt;</th><th scope=col>&lt;chr&gt;</th><th scope=col>&lt;int&gt;</th></tr>\n",
       "</thead>\n",
       "<tbody>\n",
       "\t<tr><td>1065187</td><td>   342791</td><td>Severe                        </td><td>Severe                                                                                                                                                                                                                              </td><td>Truveta   </td><td>1065187</td><td>ConditionSeverity</td><td>Categories</td><td>264688</td></tr>\n",
       "\t<tr><td>1065188</td><td>  4084264</td><td>Mild                          </td><td>Mild                                                                                                                                                                                                                                </td><td>Truveta   </td><td>1065188</td><td>ConditionSeverity</td><td>Categories</td><td>264689</td></tr>\n",
       "\t<tr><td>1065189</td><td>   959662</td><td>Moderate                      </td><td>Moderate                                                                                                                                                                                                                            </td><td>Truveta   </td><td>1065189</td><td>ConditionSeverity</td><td>Categories</td><td>264690</td></tr>\n",
       "\t<tr><td>1067555</td><td>   406430</td><td>Invalid                       </td><td>The value as represented in the instance is not a member of the set of permitted data values in the constrained value domain of a variable.                                                                                         </td><td>NullFlavor</td><td>INV    </td><td>NullFlavor       </td><td>Categories</td><td>266944</td></tr>\n",
       "\t<tr><td>1067557</td><td>436736074</td><td>Field is not present in source</td><td>Field is not present in source                                                                                                                                                                                                      </td><td>NullFlavor</td><td>FNPS   </td><td>NullFlavor       </td><td>Categories</td><td>266946</td></tr>\n",
       "\t<tr><td>1067558</td><td>   112263</td><td>Unknown                       </td><td>A proper value is applicable, but not known.                                                                                                                                                                                        </td><td>NullFlavor</td><td>UNK    </td><td>NullFlavor       </td><td>Categories</td><td>266947</td></tr>\n",
       "\t<tr><td>1067561</td><td> 71842120</td><td>No Information                </td><td>The value is exceptional (missing, omitted, incomplete, improper). No information as to the reason for being an exceptional value is provided. This is the most general exceptional value. It is also the default exceptional value.</td><td>NullFlavor</td><td>NI     </td><td>NullFlavor       </td><td>Categories</td><td>266949</td></tr>\n",
       "\t<tr><td>2649591</td><td>        2</td><td>Insufficient Information      </td><td>Insufficient Information                                                                                                                                                                                                            </td><td>NullFlavor</td><td>II     </td><td>NullFlavor       </td><td>Categories</td><td> 81742</td></tr>\n",
       "</tbody>\n",
       "</table>\n"
      ],
      "text/latex": [
       "A tibble: 8 × 9\n",
       "\\begin{tabular}{lllllllll}\n",
       " SeverityConceptId & cnt & ConceptName & ConceptDefinition & CodeSystem & ConceptCode & ConceptClass & Domain & \\_\\_index\\_level\\_0\\_\\_\\\\\n",
       " <int> & <int> & <chr> & <chr> & <chr> & <chr> & <chr> & <chr> & <int>\\\\\n",
       "\\hline\n",
       "\t 1065187 &    342791 & Severe                         & Severe                                                                                                                                                                                                                               & Truveta    & 1065187 & ConditionSeverity & Categories & 264688\\\\\n",
       "\t 1065188 &   4084264 & Mild                           & Mild                                                                                                                                                                                                                                 & Truveta    & 1065188 & ConditionSeverity & Categories & 264689\\\\\n",
       "\t 1065189 &    959662 & Moderate                       & Moderate                                                                                                                                                                                                                             & Truveta    & 1065189 & ConditionSeverity & Categories & 264690\\\\\n",
       "\t 1067555 &    406430 & Invalid                        & The value as represented in the instance is not a member of the set of permitted data values in the constrained value domain of a variable.                                                                                          & NullFlavor & INV     & NullFlavor        & Categories & 266944\\\\\n",
       "\t 1067557 & 436736074 & Field is not present in source & Field is not present in source                                                                                                                                                                                                       & NullFlavor & FNPS    & NullFlavor        & Categories & 266946\\\\\n",
       "\t 1067558 &    112263 & Unknown                        & A proper value is applicable, but not known.                                                                                                                                                                                         & NullFlavor & UNK     & NullFlavor        & Categories & 266947\\\\\n",
       "\t 1067561 &  71842120 & No Information                 & The value is exceptional (missing, omitted, incomplete, improper). No information as to the reason for being an exceptional value is provided. This is the most general exceptional value. It is also the default exceptional value. & NullFlavor & NI      & NullFlavor        & Categories & 266949\\\\\n",
       "\t 2649591 &         2 & Insufficient Information       & Insufficient Information                                                                                                                                                                                                             & NullFlavor & II      & NullFlavor        & Categories &  81742\\\\\n",
       "\\end{tabular}\n"
      ],
      "text/markdown": [
       "\n",
       "A tibble: 8 × 9\n",
       "\n",
       "| SeverityConceptId &lt;int&gt; | cnt &lt;int&gt; | ConceptName &lt;chr&gt; | ConceptDefinition &lt;chr&gt; | CodeSystem &lt;chr&gt; | ConceptCode &lt;chr&gt; | ConceptClass &lt;chr&gt; | Domain &lt;chr&gt; | __index_level_0__ &lt;int&gt; |\n",
       "|---|---|---|---|---|---|---|---|---|\n",
       "| 1065187 |    342791 | Severe                         | Severe                                                                                                                                                                                                                               | Truveta    | 1065187 | ConditionSeverity | Categories | 264688 |\n",
       "| 1065188 |   4084264 | Mild                           | Mild                                                                                                                                                                                                                                 | Truveta    | 1065188 | ConditionSeverity | Categories | 264689 |\n",
       "| 1065189 |    959662 | Moderate                       | Moderate                                                                                                                                                                                                                             | Truveta    | 1065189 | ConditionSeverity | Categories | 264690 |\n",
       "| 1067555 |    406430 | Invalid                        | The value as represented in the instance is not a member of the set of permitted data values in the constrained value domain of a variable.                                                                                          | NullFlavor | INV     | NullFlavor        | Categories | 266944 |\n",
       "| 1067557 | 436736074 | Field is not present in source | Field is not present in source                                                                                                                                                                                                       | NullFlavor | FNPS    | NullFlavor        | Categories | 266946 |\n",
       "| 1067558 |    112263 | Unknown                        | A proper value is applicable, but not known.                                                                                                                                                                                         | NullFlavor | UNK     | NullFlavor        | Categories | 266947 |\n",
       "| 1067561 |  71842120 | No Information                 | The value is exceptional (missing, omitted, incomplete, improper). No information as to the reason for being an exceptional value is provided. This is the most general exceptional value. It is also the default exceptional value. | NullFlavor | NI      | NullFlavor        | Categories | 266949 |\n",
       "| 2649591 |         2 | Insufficient Information       | Insufficient Information                                                                                                                                                                                                             | NullFlavor | II      | NullFlavor        | Categories |  81742 |\n",
       "\n"
      ],
      "text/plain": [
       "  SeverityConceptId cnt       ConceptName                   \n",
       "1 1065187              342791 Severe                        \n",
       "2 1065188             4084264 Mild                          \n",
       "3 1065189              959662 Moderate                      \n",
       "4 1067555              406430 Invalid                       \n",
       "5 1067557           436736074 Field is not present in source\n",
       "6 1067558              112263 Unknown                       \n",
       "7 1067561            71842120 No Information                \n",
       "8 2649591                   2 Insufficient Information      \n",
       "  ConceptDefinition                                                                                                                                                                                                                   \n",
       "1 Severe                                                                                                                                                                                                                              \n",
       "2 Mild                                                                                                                                                                                                                                \n",
       "3 Moderate                                                                                                                                                                                                                            \n",
       "4 The value as represented in the instance is not a member of the set of permitted data values in the constrained value domain of a variable.                                                                                         \n",
       "5 Field is not present in source                                                                                                                                                                                                      \n",
       "6 A proper value is applicable, but not known.                                                                                                                                                                                        \n",
       "7 The value is exceptional (missing, omitted, incomplete, improper). No information as to the reason for being an exceptional value is provided. This is the most general exceptional value. It is also the default exceptional value.\n",
       "8 Insufficient Information                                                                                                                                                                                                            \n",
       "  CodeSystem ConceptCode ConceptClass      Domain     __index_level_0__\n",
       "1 Truveta    1065187     ConditionSeverity Categories 264688           \n",
       "2 Truveta    1065188     ConditionSeverity Categories 264689           \n",
       "3 Truveta    1065189     ConditionSeverity Categories 264690           \n",
       "4 NullFlavor INV         NullFlavor        Categories 266944           \n",
       "5 NullFlavor FNPS        NullFlavor        Categories 266946           \n",
       "6 NullFlavor UNK         NullFlavor        Categories 266947           \n",
       "7 NullFlavor NI          NullFlavor        Categories 266949           \n",
       "8 NullFlavor II          NullFlavor        Categories  81742           "
      ]
     },
     "metadata": {},
     "output_type": "display_data"
    },
    {
     "data": {
      "text/html": [
       "<table class=\"dataframe\">\n",
       "<caption>A tibble: 9 × 9</caption>\n",
       "<thead>\n",
       "\t<tr><th scope=col>VerificationStatusConceptId</th><th scope=col>cnt</th><th scope=col>ConceptName</th><th scope=col>ConceptDefinition</th><th scope=col>CodeSystem</th><th scope=col>ConceptCode</th><th scope=col>ConceptClass</th><th scope=col>Domain</th><th scope=col>__index_level_0__</th></tr>\n",
       "\t<tr><th scope=col>&lt;dbl&gt;</th><th scope=col>&lt;int&gt;</th><th scope=col>&lt;chr&gt;</th><th scope=col>&lt;chr&gt;</th><th scope=col>&lt;chr&gt;</th><th scope=col>&lt;chr&gt;</th><th scope=col>&lt;chr&gt;</th><th scope=col>&lt;chr&gt;</th><th scope=col>&lt;int&gt;</th></tr>\n",
       "</thead>\n",
       "<tbody>\n",
       "\t<tr><td>     NA</td><td>        0</td><td>NA                            </td><td>NA                                                                                                                                                                                                                                  </td><td>NA        </td><td>NA     </td><td>NA                         </td><td>NA        </td><td>    NA</td></tr>\n",
       "\t<tr><td>      0</td><td>  4030592</td><td>Field has not been mapped     </td><td>The field has not been mapped.                                                                                                                                                                                                      </td><td>NullFlavor</td><td>NM     </td><td>NullFlavor                 </td><td>Categories</td><td> 22724</td></tr>\n",
       "\t<tr><td>1065193</td><td>   337334</td><td>Confirmed                     </td><td>There is sufficient diagnostic and/or clinical evidence to treat this as a confirmed condition.                                                                                                                                     </td><td>Truveta   </td><td>1065193</td><td>ConditionVerificationStatus</td><td>Categories</td><td>264691</td></tr>\n",
       "\t<tr><td>1065194</td><td>       10</td><td>Differential                  </td><td>One of a set of potential (and typically mutually exclusive) diagnoses asserted to further guide the diagnostic process and preliminary treatment.                                                                                  </td><td>Truveta   </td><td>1065194</td><td>ConditionVerificationStatus</td><td>Categories</td><td>264692</td></tr>\n",
       "\t<tr><td>1065197</td><td>     6307</td><td>Provisional                   </td><td>This is a tentative diagnosis - still a candidate that is under consideration.                                                                                                                                                      </td><td>Truveta   </td><td>1065197</td><td>ConditionVerificationStatus</td><td>Categories</td><td>264694</td></tr>\n",
       "\t<tr><td>1065198</td><td>       27</td><td>Refuted                       </td><td>This condition has been ruled out by diagnostic and clinical evidence.                                                                                                                                                              </td><td>Truveta   </td><td>1065198</td><td>ConditionVerificationStatus</td><td>Categories</td><td>264695</td></tr>\n",
       "\t<tr><td>1065199</td><td>       14</td><td>Unconfirmed                   </td><td>There is not sufficient diagnostic and/or clinical evidence to treat this as a confirmed condition.                                                                                                                                 </td><td>Truveta   </td><td>1065199</td><td>ConditionVerificationStatus</td><td>Categories</td><td>264696</td></tr>\n",
       "\t<tr><td>1067557</td><td>543569781</td><td>Field is not present in source</td><td>Field is not present in source                                                                                                                                                                                                      </td><td>NullFlavor</td><td>FNPS   </td><td>NullFlavor                 </td><td>Categories</td><td>266946</td></tr>\n",
       "\t<tr><td>1067561</td><td> 91596636</td><td>No Information                </td><td>The value is exceptional (missing, omitted, incomplete, improper). No information as to the reason for being an exceptional value is provided. This is the most general exceptional value. It is also the default exceptional value.</td><td>NullFlavor</td><td>NI     </td><td>NullFlavor                 </td><td>Categories</td><td>266949</td></tr>\n",
       "</tbody>\n",
       "</table>\n"
      ],
      "text/latex": [
       "A tibble: 9 × 9\n",
       "\\begin{tabular}{lllllllll}\n",
       " VerificationStatusConceptId & cnt & ConceptName & ConceptDefinition & CodeSystem & ConceptCode & ConceptClass & Domain & \\_\\_index\\_level\\_0\\_\\_\\\\\n",
       " <dbl> & <int> & <chr> & <chr> & <chr> & <chr> & <chr> & <chr> & <int>\\\\\n",
       "\\hline\n",
       "\t      NA &         0 & NA                             & NA                                                                                                                                                                                                                                   & NA         & NA      & NA                          & NA         &     NA\\\\\n",
       "\t       0 &   4030592 & Field has not been mapped      & The field has not been mapped.                                                                                                                                                                                                       & NullFlavor & NM      & NullFlavor                  & Categories &  22724\\\\\n",
       "\t 1065193 &    337334 & Confirmed                      & There is sufficient diagnostic and/or clinical evidence to treat this as a confirmed condition.                                                                                                                                      & Truveta    & 1065193 & ConditionVerificationStatus & Categories & 264691\\\\\n",
       "\t 1065194 &        10 & Differential                   & One of a set of potential (and typically mutually exclusive) diagnoses asserted to further guide the diagnostic process and preliminary treatment.                                                                                   & Truveta    & 1065194 & ConditionVerificationStatus & Categories & 264692\\\\\n",
       "\t 1065197 &      6307 & Provisional                    & This is a tentative diagnosis - still a candidate that is under consideration.                                                                                                                                                       & Truveta    & 1065197 & ConditionVerificationStatus & Categories & 264694\\\\\n",
       "\t 1065198 &        27 & Refuted                        & This condition has been ruled out by diagnostic and clinical evidence.                                                                                                                                                               & Truveta    & 1065198 & ConditionVerificationStatus & Categories & 264695\\\\\n",
       "\t 1065199 &        14 & Unconfirmed                    & There is not sufficient diagnostic and/or clinical evidence to treat this as a confirmed condition.                                                                                                                                  & Truveta    & 1065199 & ConditionVerificationStatus & Categories & 264696\\\\\n",
       "\t 1067557 & 543569781 & Field is not present in source & Field is not present in source                                                                                                                                                                                                       & NullFlavor & FNPS    & NullFlavor                  & Categories & 266946\\\\\n",
       "\t 1067561 &  91596636 & No Information                 & The value is exceptional (missing, omitted, incomplete, improper). No information as to the reason for being an exceptional value is provided. This is the most general exceptional value. It is also the default exceptional value. & NullFlavor & NI      & NullFlavor                  & Categories & 266949\\\\\n",
       "\\end{tabular}\n"
      ],
      "text/markdown": [
       "\n",
       "A tibble: 9 × 9\n",
       "\n",
       "| VerificationStatusConceptId &lt;dbl&gt; | cnt &lt;int&gt; | ConceptName &lt;chr&gt; | ConceptDefinition &lt;chr&gt; | CodeSystem &lt;chr&gt; | ConceptCode &lt;chr&gt; | ConceptClass &lt;chr&gt; | Domain &lt;chr&gt; | __index_level_0__ &lt;int&gt; |\n",
       "|---|---|---|---|---|---|---|---|---|\n",
       "|      NA |         0 | NA                             | NA                                                                                                                                                                                                                                   | NA         | NA      | NA                          | NA         |     NA |\n",
       "|       0 |   4030592 | Field has not been mapped      | The field has not been mapped.                                                                                                                                                                                                       | NullFlavor | NM      | NullFlavor                  | Categories |  22724 |\n",
       "| 1065193 |    337334 | Confirmed                      | There is sufficient diagnostic and/or clinical evidence to treat this as a confirmed condition.                                                                                                                                      | Truveta    | 1065193 | ConditionVerificationStatus | Categories | 264691 |\n",
       "| 1065194 |        10 | Differential                   | One of a set of potential (and typically mutually exclusive) diagnoses asserted to further guide the diagnostic process and preliminary treatment.                                                                                   | Truveta    | 1065194 | ConditionVerificationStatus | Categories | 264692 |\n",
       "| 1065197 |      6307 | Provisional                    | This is a tentative diagnosis - still a candidate that is under consideration.                                                                                                                                                       | Truveta    | 1065197 | ConditionVerificationStatus | Categories | 264694 |\n",
       "| 1065198 |        27 | Refuted                        | This condition has been ruled out by diagnostic and clinical evidence.                                                                                                                                                               | Truveta    | 1065198 | ConditionVerificationStatus | Categories | 264695 |\n",
       "| 1065199 |        14 | Unconfirmed                    | There is not sufficient diagnostic and/or clinical evidence to treat this as a confirmed condition.                                                                                                                                  | Truveta    | 1065199 | ConditionVerificationStatus | Categories | 264696 |\n",
       "| 1067557 | 543569781 | Field is not present in source | Field is not present in source                                                                                                                                                                                                       | NullFlavor | FNPS    | NullFlavor                  | Categories | 266946 |\n",
       "| 1067561 |  91596636 | No Information                 | The value is exceptional (missing, omitted, incomplete, improper). No information as to the reason for being an exceptional value is provided. This is the most general exceptional value. It is also the default exceptional value. | NullFlavor | NI      | NullFlavor                  | Categories | 266949 |\n",
       "\n"
      ],
      "text/plain": [
       "  VerificationStatusConceptId cnt       ConceptName                   \n",
       "1      NA                             0 NA                            \n",
       "2       0                       4030592 Field has not been mapped     \n",
       "3 1065193                        337334 Confirmed                     \n",
       "4 1065194                            10 Differential                  \n",
       "5 1065197                          6307 Provisional                   \n",
       "6 1065198                            27 Refuted                       \n",
       "7 1065199                            14 Unconfirmed                   \n",
       "8 1067557                     543569781 Field is not present in source\n",
       "9 1067561                      91596636 No Information                \n",
       "  ConceptDefinition                                                                                                                                                                                                                   \n",
       "1 NA                                                                                                                                                                                                                                  \n",
       "2 The field has not been mapped.                                                                                                                                                                                                      \n",
       "3 There is sufficient diagnostic and/or clinical evidence to treat this as a confirmed condition.                                                                                                                                     \n",
       "4 One of a set of potential (and typically mutually exclusive) diagnoses asserted to further guide the diagnostic process and preliminary treatment.                                                                                  \n",
       "5 This is a tentative diagnosis - still a candidate that is under consideration.                                                                                                                                                      \n",
       "6 This condition has been ruled out by diagnostic and clinical evidence.                                                                                                                                                              \n",
       "7 There is not sufficient diagnostic and/or clinical evidence to treat this as a confirmed condition.                                                                                                                                 \n",
       "8 Field is not present in source                                                                                                                                                                                                      \n",
       "9 The value is exceptional (missing, omitted, incomplete, improper). No information as to the reason for being an exceptional value is provided. This is the most general exceptional value. It is also the default exceptional value.\n",
       "  CodeSystem ConceptCode ConceptClass                Domain    \n",
       "1 NA         NA          NA                          NA        \n",
       "2 NullFlavor NM          NullFlavor                  Categories\n",
       "3 Truveta    1065193     ConditionVerificationStatus Categories\n",
       "4 Truveta    1065194     ConditionVerificationStatus Categories\n",
       "5 Truveta    1065197     ConditionVerificationStatus Categories\n",
       "6 Truveta    1065198     ConditionVerificationStatus Categories\n",
       "7 Truveta    1065199     ConditionVerificationStatus Categories\n",
       "8 NullFlavor FNPS        NullFlavor                  Categories\n",
       "9 NullFlavor NI          NullFlavor                  Categories\n",
       "  __index_level_0__\n",
       "1     NA           \n",
       "2  22724           \n",
       "3 264691           \n",
       "4 264692           \n",
       "5 264694           \n",
       "6 264695           \n",
       "7 264696           \n",
       "8 266946           \n",
       "9 266949           "
      ]
     },
     "metadata": {},
     "output_type": "display_data"
    },
    {
     "data": {
      "text/html": [
       "<table class=\"dataframe\">\n",
       "<caption>A tibble: 3 × 9</caption>\n",
       "<thead>\n",
       "\t<tr><th scope=col>SourceProvenanceConceptId</th><th scope=col>cnt</th><th scope=col>ConceptName</th><th scope=col>ConceptDefinition</th><th scope=col>CodeSystem</th><th scope=col>ConceptCode</th><th scope=col>ConceptClass</th><th scope=col>Domain</th><th scope=col>__index_level_0__</th></tr>\n",
       "\t<tr><th scope=col>&lt;dbl&gt;</th><th scope=col>&lt;int&gt;</th><th scope=col>&lt;chr&gt;</th><th scope=col>&lt;chr&gt;</th><th scope=col>&lt;chr&gt;</th><th scope=col>&lt;chr&gt;</th><th scope=col>&lt;chr&gt;</th><th scope=col>&lt;chr&gt;</th><th scope=col>&lt;int&gt;</th></tr>\n",
       "</thead>\n",
       "<tbody>\n",
       "\t<tr><td>     NA</td><td>   645249</td><td>NA                       </td><td>NA                            </td><td>NA        </td><td>NA     </td><td>NA              </td><td>NA        </td><td>    NA</td></tr>\n",
       "\t<tr><td>      0</td><td>513838008</td><td>Field has not been mapped</td><td>The field has not been mapped.</td><td>NullFlavor</td><td>NM     </td><td>NullFlavor      </td><td>Categories</td><td> 22724</td></tr>\n",
       "\t<tr><td>3056721</td><td>      349</td><td>Notes                    </td><td>Notes                         </td><td>Truveta   </td><td>3056721</td><td>SourceProvenance</td><td>Categories</td><td>269835</td></tr>\n",
       "</tbody>\n",
       "</table>\n"
      ],
      "text/latex": [
       "A tibble: 3 × 9\n",
       "\\begin{tabular}{lllllllll}\n",
       " SourceProvenanceConceptId & cnt & ConceptName & ConceptDefinition & CodeSystem & ConceptCode & ConceptClass & Domain & \\_\\_index\\_level\\_0\\_\\_\\\\\n",
       " <dbl> & <int> & <chr> & <chr> & <chr> & <chr> & <chr> & <chr> & <int>\\\\\n",
       "\\hline\n",
       "\t      NA &    645249 & NA                        & NA                             & NA         & NA      & NA               & NA         &     NA\\\\\n",
       "\t       0 & 513838008 & Field has not been mapped & The field has not been mapped. & NullFlavor & NM      & NullFlavor       & Categories &  22724\\\\\n",
       "\t 3056721 &       349 & Notes                     & Notes                          & Truveta    & 3056721 & SourceProvenance & Categories & 269835\\\\\n",
       "\\end{tabular}\n"
      ],
      "text/markdown": [
       "\n",
       "A tibble: 3 × 9\n",
       "\n",
       "| SourceProvenanceConceptId &lt;dbl&gt; | cnt &lt;int&gt; | ConceptName &lt;chr&gt; | ConceptDefinition &lt;chr&gt; | CodeSystem &lt;chr&gt; | ConceptCode &lt;chr&gt; | ConceptClass &lt;chr&gt; | Domain &lt;chr&gt; | __index_level_0__ &lt;int&gt; |\n",
       "|---|---|---|---|---|---|---|---|---|\n",
       "|      NA |    645249 | NA                        | NA                             | NA         | NA      | NA               | NA         |     NA |\n",
       "|       0 | 513838008 | Field has not been mapped | The field has not been mapped. | NullFlavor | NM      | NullFlavor       | Categories |  22724 |\n",
       "| 3056721 |       349 | Notes                     | Notes                          | Truveta    | 3056721 | SourceProvenance | Categories | 269835 |\n",
       "\n"
      ],
      "text/plain": [
       "  SourceProvenanceConceptId cnt       ConceptName              \n",
       "1      NA                      645249 NA                       \n",
       "2       0                   513838008 Field has not been mapped\n",
       "3 3056721                         349 Notes                    \n",
       "  ConceptDefinition              CodeSystem ConceptCode ConceptClass    \n",
       "1 NA                             NA         NA          NA              \n",
       "2 The field has not been mapped. NullFlavor NM          NullFlavor      \n",
       "3 Notes                          Truveta    3056721     SourceProvenance\n",
       "  Domain     __index_level_0__\n",
       "1 NA             NA           \n",
       "2 Categories  22724           \n",
       "3 Categories 269835           "
      ]
     },
     "metadata": {},
     "output_type": "display_data"
    }
   ],
   "source": [
    "# diagnosis encounter - condition summary\n",
    "\n",
    "concept = read_parquet(\"data/Concept.parquet\")\n",
    "\n",
    "sql <- \"select c.CategoryConceptId, count(distinct c.Id) as total \n",
    "from Encounter e left join Condition c on (e.Id = c.EncounterId)\n",
    "group by CategoryConceptId\n",
    "order by total desc;\"\n",
    "\n",
    "cat <- load_sql_table(con,snapshot,query = sql) %>% collect %>% merge(., concept,by.x = \"CategoryConceptId\", by.y = \"ConceptId\")\n",
    "cat\n",
    "\n",
    "sql <- \"select c.PrimaryDiagnosisConceptId, count(distinct c.Id) as cnt from\n",
    "Encounter e left join Condition c on (e.Id = c.EncounterId)\n",
    " group by PrimaryDiagnosisConceptId\n",
    " order by PrimaryDiagnosisConceptId;\"\n",
    "primdx <- load_sql_table(con, snapshot, query=sql) %>% collect()\n",
    "primdx <- primdx %>% left_join(concept, by = c('PrimaryDiagnosisConceptId' = 'ConceptId'))\n",
    "primdx\n",
    "\n",
    "sql <- \"select c.ClinicalStatusConceptId, count(distinct c.Id) as cnt from\n",
    " Encounter e left join Condition c on (e.Id = c.EncounterId)\n",
    " group by ClinicalStatusConceptId\n",
    " order by ClinicalStatusConceptId;\"\n",
    "clinstat <- load_sql_table(con, snapshot, query=sql) %>% collect()\n",
    "clinstat <- clinstat %>% left_join(concept, by = c('ClinicalStatusConceptId' = 'ConceptId'))\n",
    "clinstat\n",
    "\n",
    "sql <- \"select c.SeverityConceptId, count(distinct c.Id) as cnt from\n",
    " Encounter e left join Condition c on (e.Id = c.EncounterId)\n",
    " where RecordedDateTime is not null\n",
    " group by SeverityConceptId\n",
    " order by SeverityConceptId;\"\n",
    "sevstat <- load_sql_table(con, snapshot, query=sql) %>% collect()\n",
    "sevstat <- sevstat %>% left_join(concept, by = c('SeverityConceptId' = 'ConceptId'))\n",
    "sevstat\n",
    "\n",
    "\n",
    "sql <- \"select c.VerificationStatusConceptId, count(distinct c.Id) as cnt from \n",
    " Encounter e left join Condition c on (e.Id = c.EncounterId)\n",
    " group by VerificationStatusConceptId\n",
    " order by VerificationStatusConceptId;\"\n",
    "veristat <- load_sql_table(con, snapshot, query=sql) %>% collect()\n",
    "veristat <- veristat %>% left_join(concept, by = c('VerificationStatusConceptId' = 'ConceptId'))\n",
    "veristat\n",
    "\n",
    "sql <- \"select c.SourceProvenanceConceptId, count(distinct c.Id) as cnt from\n",
    " Encounter e left join Condition c on (e.Id = c.EncounterId)\n",
    " where RecordedDateTime is not null\n",
    " group by SourceProvenanceConceptId\n",
    " order by SourceProvenanceConceptId;\"\n",
    "srcprov <- load_sql_table(con, snapshot, query=sql) %>% collect()\n",
    "srcprov <- srcprov %>% left_join(concept, by = c('SourceProvenanceConceptId' = 'ConceptId'))\n",
    "srcprov\n"
   ]
  },
  {
   "cell_type": "code",
   "execution_count": 5,
   "id": "6edb2863-d642-45e2-a6d9-f3e4e1a30d70",
   "metadata": {
    "execution": {
     "iopub.execute_input": "2023-08-01T18:54:14.117425Z",
     "iopub.status.busy": "2023-08-01T18:54:14.116385Z",
     "iopub.status.idle": "2023-08-01T18:54:14.126569Z",
     "shell.execute_reply": "2023-08-01T18:54:14.125588Z"
    },
    "tags": []
   },
   "outputs": [
    {
     "data": {
      "text/html": [
       "130042371"
      ],
      "text/latex": [
       "130042371"
      ],
      "text/markdown": [
       "130042371"
      ],
      "text/plain": [
       "[1] 130042371"
      ]
     },
     "metadata": {},
     "output_type": "display_data"
    }
   ],
   "source": [
    "sum(cat$total)"
   ]
  },
  {
   "cell_type": "code",
   "execution_count": 8,
   "id": "e4204825-bacd-4076-bad8-1973a9edce6a",
   "metadata": {
    "execution": {
     "iopub.execute_input": "2023-07-31T21:59:22.741733Z",
     "iopub.status.busy": "2023-07-31T21:59:22.740696Z",
     "iopub.status.idle": "2023-07-31T21:59:54.353811Z",
     "shell.execute_reply": "2023-07-31T21:59:54.352298Z"
    }
   },
   "outputs": [],
   "source": [
    "concept_table <- load_sql_table(con,snapshot, query = \"select * from Concept;\")%>% collect()\n",
    "write_csv(concept_table,\"data/ConceptTable.csv.r\")"
   ]
  },
  {
   "cell_type": "code",
   "execution_count": 29,
   "id": "1229a6d9-8bfb-4287-9bbf-81e4cd1b66fc",
   "metadata": {
    "execution": {
     "iopub.execute_input": "2023-08-02T20:00:18.414008Z",
     "iopub.status.busy": "2023-08-02T20:00:18.413049Z",
     "iopub.status.idle": "2023-08-02T20:02:43.808346Z",
     "shell.execute_reply": "2023-08-02T20:02:43.807360Z"
    },
    "tags": []
   },
   "outputs": [
    {
     "data": {
      "text/html": [
       "<table class=\"dataframe\">\n",
       "<caption>A tibble: 1 × 2</caption>\n",
       "<thead>\n",
       "\t<tr><th scope=col>totalrow</th><th scope=col>patient</th></tr>\n",
       "\t<tr><th scope=col>&lt;int&gt;</th><th scope=col>&lt;int&gt;</th></tr>\n",
       "</thead>\n",
       "<tbody>\n",
       "\t<tr><td>107231531</td><td>1215632</td></tr>\n",
       "</tbody>\n",
       "</table>\n"
      ],
      "text/latex": [
       "A tibble: 1 × 2\n",
       "\\begin{tabular}{ll}\n",
       " totalrow & patient\\\\\n",
       " <int> & <int>\\\\\n",
       "\\hline\n",
       "\t 107231531 & 1215632\\\\\n",
       "\\end{tabular}\n"
      ],
      "text/markdown": [
       "\n",
       "A tibble: 1 × 2\n",
       "\n",
       "| totalrow &lt;int&gt; | patient &lt;int&gt; |\n",
       "|---|---|\n",
       "| 107231531 | 1215632 |\n",
       "\n"
      ],
      "text/plain": [
       "  totalrow  patient\n",
       "1 107231531 1215632"
      ]
     },
     "metadata": {},
     "output_type": "display_data"
    }
   ],
   "source": [
    "# diagnosis condition encounter filtered\n",
    "\n",
    "sql <- \"select count(distinct e.Id) as totalrow,count(distinct e.PersonId) as patient\n",
    "from Encounter e inner join Condition c on (e.Id = c.EncounterId)\n",
    "where ClassConceptId !=1067555 and StartDateTime is not NULL\n",
    " and StatusConceptId not in (1067555,2983200,2506595, 2983199,2506590) \"\n",
    "\n",
    "diag_enct <- load_sql_table(con,snapshot,query = sql)%>% collect()\n",
    "diag_enct"
   ]
  },
  {
   "cell_type": "code",
   "execution_count": 30,
   "id": "b42307ee-ca3e-48d8-abf4-45f588dadf0c",
   "metadata": {
    "execution": {
     "iopub.execute_input": "2023-08-02T20:02:43.810598Z",
     "iopub.status.busy": "2023-08-02T20:02:43.809809Z",
     "iopub.status.idle": "2023-08-02T20:03:28.134984Z",
     "shell.execute_reply": "2023-08-02T20:03:28.133978Z"
    },
    "tags": []
   },
   "outputs": [
    {
     "data": {
      "text/html": [
       "<table class=\"dataframe\">\n",
       "<caption>A tibble: 1 × 2</caption>\n",
       "<thead>\n",
       "\t<tr><th scope=col>totalrow</th><th scope=col>patient</th></tr>\n",
       "\t<tr><th scope=col>&lt;int&gt;</th><th scope=col>&lt;int&gt;</th></tr>\n",
       "</thead>\n",
       "<tbody>\n",
       "\t<tr><td>26083400</td><td>823870</td></tr>\n",
       "</tbody>\n",
       "</table>\n"
      ],
      "text/latex": [
       "A tibble: 1 × 2\n",
       "\\begin{tabular}{ll}\n",
       " totalrow & patient\\\\\n",
       " <int> & <int>\\\\\n",
       "\\hline\n",
       "\t 26083400 & 823870\\\\\n",
       "\\end{tabular}\n"
      ],
      "text/markdown": [
       "\n",
       "A tibble: 1 × 2\n",
       "\n",
       "| totalrow &lt;int&gt; | patient &lt;int&gt; |\n",
       "|---|---|\n",
       "| 26083400 | 823870 |\n",
       "\n"
      ],
      "text/plain": [
       "  totalrow patient\n",
       "1 26083400 823870 "
      ]
     },
     "metadata": {},
     "output_type": "display_data"
    }
   ],
   "source": [
    "# diagnosis procedure encounter filtered\n",
    "\n",
    "sql <- \"select count(distinct e.Id) as totalrow,count(distinct e.PersonId) as patient\n",
    "from Encounter e inner join [Procedure] c on (e.Id = c.EncounterId)\n",
    "where e.ClassConceptId !=1067555 and e.StartDateTime is not NULL\n",
    " and e.StatusConceptId not in (1067555,2983200,2506595, 2983199,2506590) \"\n",
    "\n",
    "diag_enct <- load_sql_table(con,snapshot,query = sql)%>% collect()\n",
    "diag_enct"
   ]
  },
  {
   "cell_type": "code",
   "execution_count": null,
   "id": "4cbe04ff-d8cb-4443-aa91-0313a9e389cc",
   "metadata": {},
   "outputs": [],
   "source": [
    "# diagnosis encounter filtered\n",
    "\n",
    "sql <- \"select e.ClassConceptId, count(c.Id) as totalrow,count(distinct c.PersonId) as patient\n",
    "from Encounter e left join Procedure c on (e.Id = c.EncounterId)\n",
    "where ClassConceptId !=1067555 and StartDateTime is not NULL\n",
    " and StatusConceptId not in (1067555,2983200,2506595, 2983199,2506590) \"\n",
    "\n",
    "proce_enct <- load_sql_table(con,snapshot,query = sql)%>% collect()"
   ]
  },
  {
   "cell_type": "code",
   "execution_count": null,
   "id": "1defd883-0e48-43de-858b-51d71ea28d4c",
   "metadata": {
    "execution": {
     "iopub.execute_input": "2023-08-07T17:01:24.256745Z",
     "iopub.status.busy": "2023-08-07T17:01:24.255652Z"
    },
    "tags": []
   },
   "outputs": [],
   "source": [
    "# diagnosis encounter - condition summary\n",
    "\n",
    "concept <- read_parquet(\"data/Concept.parquet\")\n",
    "\n",
    "sql <- \"select e.ClassConceptId, count(distinct c.EncounterId) as total ,count(distinct c.PersonId) as patients\n",
    "from Encounter e inner join Condition c on (e.Id = c.EncounterId)\n",
    "group by ClassConceptId\n",
    "order by total desc;\"\n",
    "\n",
    "cla <- load_sql_table(con,snapshot,query = sql) %>% collect %>% merge(., concept,by.x = \"ClassConceptId\", by.y = \"ConceptId\")\n",
    "cla\n",
    "\n",
    "sql <- \"select e.StatusConceptId, count(distinct c.EncounterId) as total, count(distinct c.PersonId) as patients from\n",
    "Encounter e inner join Condition c on (e.Id = c.EncounterId)\n",
    " group by e.StatusConceptId\n",
    " order by total desc;\"\n",
    "stat <- load_sql_table(con, snapshot, query=sql) %>% collect()%>% left_join(concept, by = c('StatusConceptId' = 'ConceptId'))\n",
    "stat\n",
    "\n",
    "sql <- \"select e.TypeConceptId, count(distinct c.EncounterId) as total, count(distinct c.PersonId) as patients from\n",
    " Encounter e inner join Condition c on (e.Id = c.EncounterId)\n",
    " group by e.TypeConceptId\n",
    " order by total desc;\" \n",
    "typ <- load_sql_table(con, snapshot, query=sql) %>% collect() %>% left_join(concept, by = c('TypeConceptId' = 'ConceptId'))\n",
    "typ\n"
   ]
  },
  {
   "cell_type": "code",
   "execution_count": null,
   "id": "4d4b4c85-b5f9-480a-8b0c-edf68a4334e8",
   "metadata": {
    "tags": []
   },
   "outputs": [],
   "source": [
    "# diagnosis encounter - Procedure summary\n",
    "\n",
    "concept <- read_parquet(\"data/Concept.parquet\")\n",
    "\n",
    "sql <- \"select e.ClassConceptId, count(distinct c.EncounterId) as total ,count(distinct c.PersonId) as patients\n",
    "from Encounter e inner join [Procedure] c on (e.Id = c.EncounterId)\n",
    "group by e.ClassConceptId\n",
    "order by total desc;\"\n",
    "\n",
    "clap <- load_sql_table(con,snapshot,query = sql) %>% collect %>% merge(., concept,by.x = \"ClassConceptId\", by.y = \"ConceptId\")\n",
    "clap\n",
    "\n",
    "sql <- \"select e.StatusConceptId, count(distinct c.EncounterId) as total, count(distinct c.PersonId) as patients from\n",
    "Encounter e inner join [Procedure] c on (e.Id = c.EncounterId)\n",
    " group by e.StatusConceptId\n",
    " order by total desc;\"\n",
    "statp <- load_sql_table(con, snapshot, query=sql) %>% collect()%>% left_join(concept, by = c('StatusConceptId' = 'ConceptId'))\n",
    "statp\n",
    "\n",
    "sql <- \"select e.TypeConceptId, count(distinct c.EncounterId) as total, count(distinct c.PersonId) as patients from\n",
    " Encounter e inner join [Procedure] c on (e.Id = c.EncounterId)\n",
    " group by e.TypeConceptId\n",
    " order by total desc;\" \n",
    "typp <- load_sql_table(con, snapshot, query=sql) %>% collect() %>% left_join(concept, by = c('TypeConceptId' = 'ConceptId'))\n",
    "typp\n"
   ]
  },
  {
   "cell_type": "code",
   "execution_count": null,
   "id": "998b45d0-7fe3-4ee4-8b73-7b028f9a49ff",
   "metadata": {},
   "outputs": [],
   "source": [
    "# types <- merge(typ,typp, by.x = \"TypeConceptId\",by.y = \"TypeConceptId\")%>% "
   ]
  },
  {
   "cell_type": "code",
   "execution_count": null,
   "id": "caa0193e-c2a8-4a73-acd2-d5229982dd21",
   "metadata": {
    "tags": []
   },
   "outputs": [],
   "source": [
    "write_csv(typ, \"data/de_typeclass_condition.csv.r\")\n",
    "write_csv(typp, \"data/de_typeclass_procedure.csv.r\")"
   ]
  },
  {
   "cell_type": "code",
   "execution_count": 3,
   "id": "d28a00d5-9b89-4b83-aacd-e13beffd51e7",
   "metadata": {
    "execution": {
     "iopub.execute_input": "2023-08-07T15:43:13.209140Z",
     "iopub.status.busy": "2023-08-07T15:43:13.208106Z",
     "iopub.status.idle": "2023-08-07T15:48:24.442066Z",
     "shell.execute_reply": "2023-08-07T15:48:24.440967Z"
    },
    "tags": []
   },
   "outputs": [
    {
     "data": {
      "text/plain": [
       " EncounterId       \n",
       " Length:115963879  \n",
       " Class :character  \n",
       " Mode  :character  "
      ]
     },
     "metadata": {},
     "output_type": "display_data"
    }
   ],
   "source": [
    "# get defined diagnosis encounter: condition + procedure\n",
    "\n",
    "diag_ent <- \"\n",
    "select distinct EncounterId from\n",
    "(select distinct EncounterId from Condition\n",
    "union\n",
    "select distinct EncounterId from [Procedure]) as t\n",
    "\"\n",
    "\n",
    "diag_encounter<- load_sql_table(con,snapshot,query = diag_ent)%>% collect()\n",
    "summary(diag_encounter)"
   ]
  },
  {
   "cell_type": "code",
   "execution_count": 4,
   "id": "4b1c576c-c386-4fc6-9193-d92f7d4280a2",
   "metadata": {
    "execution": {
     "iopub.execute_input": "2023-08-07T15:48:24.444534Z",
     "iopub.status.busy": "2023-08-07T15:48:24.443667Z",
     "iopub.status.idle": "2023-08-07T15:48:41.461690Z",
     "shell.execute_reply": "2023-08-07T15:48:41.460489Z"
    },
    "tags": []
   },
   "outputs": [
    {
     "data": {
      "text/plain": [
       " EncounterId       \n",
       " Length:115963879  \n",
       " Class :character  \n",
       " Mode  :character  "
      ]
     },
     "metadata": {},
     "output_type": "display_data"
    }
   ],
   "source": [
    "summary(diag_encounter)\n",
    "write_parquet(diag_encounter, \"data/diag_enct_id.parquet\")"
   ]
  },
  {
   "cell_type": "code",
   "execution_count": 6,
   "id": "1518733b-c51c-4175-9e20-d6aee3055e8a",
   "metadata": {
    "execution": {
     "iopub.execute_input": "2023-08-07T15:51:13.205599Z",
     "iopub.status.busy": "2023-08-07T15:51:13.204536Z",
     "iopub.status.idle": "2023-08-07T15:53:04.213814Z",
     "shell.execute_reply": "2023-08-07T15:53:04.208242Z"
    },
    "tags": []
   },
   "outputs": [],
   "source": [
    "# non-diagnosis encounter - summary\n",
    "diag_encounter <- read_parquet(\"data/diag_enct_id.parquet\")\n",
    "concept <- read_parquet(\"data/Concept.parquet\")\n",
    "params <- list('encounterid' = diag_encounter)\n",
    "\n",
    "non_diag <- \"select e.ClassConceptId,count(distinct e.Id) as Records, count(distinct e.PersonId) as Patients\n",
    "from Encounter e \n",
    "where e.Id not in :encounterid\n",
    "group by e.ClassConceptId\n",
    "order by Records desc\"\n",
    "\n",
    "non_diag_class<- load_sql_table(con,snapshot,query = non_diag,params = params)%>% collect() %>% merge(.,concept,by.x = \"ClassConceptId\",\n",
    "                                                                                                      by.y = \"ConceptId\")\n",
    "non_diag_class\n",
    "\n"
   ]
  },
  {
   "cell_type": "code",
   "execution_count": 7,
   "id": "f3d69629-4a12-4200-8277-8e9fc312a4bd",
   "metadata": {
    "execution": {
     "iopub.execute_input": "2023-08-07T16:41:53.937985Z",
     "iopub.status.busy": "2023-08-07T16:41:53.937083Z",
     "iopub.status.idle": "2023-08-07T16:41:53.945738Z",
     "shell.execute_reply": "2023-08-07T16:41:53.944789Z"
    }
   },
   "outputs": [
    {
     "ename": "ERROR",
     "evalue": "Error in eval(expr, envir, enclos): object 'non_diag_class' not found\n",
     "output_type": "error",
     "traceback": [
      "Error in eval(expr, envir, enclos): object 'non_diag_class' not found\nTraceback:\n"
     ]
    }
   ],
   "source": [
    "non_diag_class"
   ]
  },
  {
   "cell_type": "code",
   "execution_count": 9,
   "id": "66522fd9-fe55-4470-a886-3607cb98f4da",
   "metadata": {
    "execution": {
     "iopub.execute_input": "2023-08-03T20:56:25.853569Z",
     "iopub.status.busy": "2023-08-03T20:56:25.852737Z",
     "iopub.status.idle": "2023-08-03T20:56:25.866513Z",
     "shell.execute_reply": "2023-08-03T20:56:25.865552Z"
    },
    "tags": []
   },
   "outputs": [
    {
     "data": {
      "text/html": [
       "<table class=\"dataframe\">\n",
       "<caption>A tibble: 0 × 4</caption>\n",
       "<thead>\n",
       "\t<tr><th scope=col>ClassConceptId</th><th scope=col>ConceptName</th><th scope=col>Records</th><th scope=col>Patients</th></tr>\n",
       "\t<tr><th scope=col>&lt;???&gt;</th><th scope=col>&lt;???&gt;</th><th scope=col>&lt;???&gt;</th><th scope=col>&lt;???&gt;</th></tr>\n",
       "</thead>\n",
       "<tbody>\n",
       "</tbody>\n",
       "</table>\n"
      ],
      "text/latex": [
       "A tibble: 0 × 4\n",
       "\\begin{tabular}{llll}\n",
       " ClassConceptId & ConceptName & Records & Patients\\\\\n",
       " <???> & <???> & <???> & <???>\\\\\n",
       "\\hline\n",
       "\\end{tabular}\n"
      ],
      "text/markdown": [
       "\n",
       "A tibble: 0 × 4\n",
       "\n",
       "| ClassConceptId &lt;???&gt; | ConceptName &lt;???&gt; | Records &lt;???&gt; | Patients &lt;???&gt; |\n",
       "|---|---|---|---|\n",
       "\n"
      ],
      "text/plain": [
       "     ClassConceptId ConceptName Records Patients"
      ]
     },
     "metadata": {},
     "output_type": "display_data"
    }
   ],
   "source": [
    "\n",
    "non_diag <- \"select e.TypeConceptId, c.ConceptName, count(distinct e.Id) as Records, count(distinct e.PersonId) as Patients\n",
    "from Encounter e left join Concept c on(e.ClassConceptId = c.ConceptId)\n",
    "where e.Id not in :encounterid\n",
    "group by e.TypeConceptId, ConceptName\n",
    "order by Records desc\"\n",
    "\n",
    "non_diag_type<- load_sql_table(con,snapshot,query = non_diag,params = params)%>% collect()\n",
    "\n",
    "non_diag_type\n",
    "\n",
    "non_diag <- \"select e.StatusConceptId, c.ConceptName, count(distinct e.Id) as Records, count(distinct e.PersonId) as Patients\n",
    "from Encounter e left join Concept c on(e.ClassConceptId = c.ConceptId)\n",
    "where e.Id not in :encounterid\n",
    "group by e.StatusConceptId, ConceptName\n",
    "order by Records desc\"\n",
    "\n",
    "non_diag_stat<- load_sql_table(con,snapshot,query = non_diag,params = params)%>% collect()\n",
    "\n",
    "non_diag_stat"
   ]
  },
  {
   "cell_type": "code",
   "execution_count": null,
   "id": "e2b192a8-7322-49ef-bb63-ec2baa250936",
   "metadata": {},
   "outputs": [],
   "source": []
  }
 ],
 "metadata": {
  "kernelspec": {
   "display_name": "R",
   "language": "R",
   "name": "ir"
  },
  "language_info": {
   "codemirror_mode": "r",
   "file_extension": ".r",
   "mimetype": "text/x-r-source",
   "name": "R",
   "pygments_lexer": "r",
   "version": "4.1.3"
  }
 },
 "nbformat": 4,
 "nbformat_minor": 5
}
