{
 "cells": [
  {
   "cell_type": "code",
   "execution_count": 1,
   "id": "925b0dfc-fd27-410a-940d-92bb31713b3c",
   "metadata": {
    "execution": {
     "iopub.execute_input": "2023-06-26T20:05:06.369463Z",
     "iopub.status.busy": "2023-06-26T20:05:06.369029Z",
     "iopub.status.idle": "2023-06-26T20:05:12.708632Z",
     "shell.execute_reply": "2023-06-26T20:05:12.707988Z",
     "shell.execute_reply.started": "2023-06-26T20:05:06.369369Z"
    },
    "tags": []
   },
   "outputs": [
    {
     "name": "stdout",
     "output_type": "stream",
     "text": [
      "To sign in to Truveta, use a web browser to open the page https://login.truveta.com/activate?user_code=XXHF-ZXLM (User code: XXHF-ZXLM).\n",
      "Signed in successfully.\n",
      "Initialized Truveta Study Client (TraceId: d6438d8aaa0f1e739e3e80547e1b56a org: org_TfbnAclWXIW7puUv workspace: rg1)\n",
      "Today date is:  2023-06-26\n"
     ]
    }
   ],
   "source": [
    "from IPython.display import JSON\n",
    "from truveta.study import Client\n",
    "client = Client()\n",
    "\n",
    "import pathlib #this is a package for finding filepaths. \n",
    "import os\n",
    "import pandas as pd \n",
    "import numpy as np \n",
    "from datetime import date\n",
    " \n",
    "# Returns the current local date\n",
    "today = date.today()\n",
    "\n",
    "print(\"Today date is: \", today)"
   ]
  },
  {
   "cell_type": "code",
   "execution_count": 2,
   "id": "616246af-5d52-4d08-83bc-3835d8f8e9eb",
   "metadata": {
    "execution": {
     "iopub.execute_input": "2023-06-26T20:05:12.710404Z",
     "iopub.status.busy": "2023-06-26T20:05:12.709848Z",
     "iopub.status.idle": "2023-06-26T20:05:13.580666Z",
     "shell.execute_reply": "2023-06-26T20:05:13.580083Z",
     "shell.execute_reply.started": "2023-06-26T20:05:12.710381Z"
    },
    "tags": []
   },
   "outputs": [],
   "source": [
    "#Indicate study name: \n",
    "st = client.get_study(title=\"Hypertension Cohort\")\n",
    "assert st is not None\n",
    "\n",
    "#Indicate population name: \n",
    "p = st.get_population(title=\"Study Cohort\")\n",
    "assert p is not None\n",
    "\n"
   ]
  },
  {
   "cell_type": "code",
   "execution_count": 3,
   "id": "131e8797-6f21-4e5a-a8bc-df673ccdb606",
   "metadata": {
    "execution": {
     "iopub.execute_input": "2023-06-26T20:05:13.581776Z",
     "iopub.status.busy": "2023-06-26T20:05:13.581388Z",
     "iopub.status.idle": "2023-06-26T20:05:14.244412Z",
     "shell.execute_reply": "2023-06-26T20:05:14.243862Z",
     "shell.execute_reply.started": "2023-06-26T20:05:13.581760Z"
    },
    "tags": []
   },
   "outputs": [
    {
     "data": {
      "text/plain": [
       "{'id': 'ps-fxx24ulya56urj6qhcj5isknxi',\n",
       " 'status': 'Finished',\n",
       " 'currentStage': None,\n",
       " 'totalStages': 9,\n",
       " 'percentComplete': 100}"
      ]
     },
     "execution_count": 3,
     "metadata": {},
     "output_type": "execute_result"
    }
   ],
   "source": [
    "p.get_snapshots()\n",
    "#This gets the population snapshot.\n",
    "\n",
    "population = p.get_snapshots()[0]\n",
    "population.get_status()"
   ]
  },
  {
   "cell_type": "code",
   "execution_count": 5,
   "id": "54e438a7-4a1d-4c17-b7bb-d1fe928ac42c",
   "metadata": {
    "execution": {
     "iopub.execute_input": "2023-06-22T15:28:58.300765Z",
     "iopub.status.busy": "2023-06-22T15:28:58.300256Z",
     "iopub.status.idle": "2023-06-22T15:28:59.194764Z",
     "shell.execute_reply": "2023-06-22T15:28:59.194152Z",
     "shell.execute_reply.started": "2023-06-22T15:28:58.300742Z"
    },
    "tags": []
   },
   "outputs": [
    {
     "name": "stdout",
     "output_type": "stream",
     "text": [
      "This call may take up to 120 seconds\n"
     ]
    },
    {
     "data": {
      "text/html": [
       "<div>\n",
       "<style scoped>\n",
       "    .dataframe tbody tr th:only-of-type {\n",
       "        vertical-align: middle;\n",
       "    }\n",
       "\n",
       "    .dataframe tbody tr th {\n",
       "        vertical-align: top;\n",
       "    }\n",
       "\n",
       "    .dataframe thead th {\n",
       "        text-align: right;\n",
       "    }\n",
       "</style>\n",
       "<table border=\"1\" class=\"dataframe\">\n",
       "  <thead>\n",
       "    <tr style=\"text-align: right;\">\n",
       "      <th></th>\n",
       "      <th>column</th>\n",
       "      <th>column_type</th>\n",
       "    </tr>\n",
       "    <tr>\n",
       "      <th>table</th>\n",
       "      <th></th>\n",
       "      <th></th>\n",
       "    </tr>\n",
       "  </thead>\n",
       "  <tbody>\n",
       "    <tr>\n",
       "      <th>Claim</th>\n",
       "      <td>13</td>\n",
       "      <td>13</td>\n",
       "    </tr>\n",
       "    <tr>\n",
       "      <th>ClaimLine</th>\n",
       "      <td>6</td>\n",
       "      <td>6</td>\n",
       "    </tr>\n",
       "    <tr>\n",
       "      <th>ClaimLineCodes</th>\n",
       "      <td>4</td>\n",
       "      <td>4</td>\n",
       "    </tr>\n",
       "    <tr>\n",
       "      <th>Concept</th>\n",
       "      <td>7</td>\n",
       "      <td>7</td>\n",
       "    </tr>\n",
       "    <tr>\n",
       "      <th>ConceptLink</th>\n",
       "      <td>2</td>\n",
       "      <td>2</td>\n",
       "    </tr>\n",
       "    <tr>\n",
       "      <th>Condition</th>\n",
       "      <td>14</td>\n",
       "      <td>14</td>\n",
       "    </tr>\n",
       "    <tr>\n",
       "      <th>ConditionCodes</th>\n",
       "      <td>4</td>\n",
       "      <td>4</td>\n",
       "    </tr>\n",
       "    <tr>\n",
       "      <th>DeviceUse</th>\n",
       "      <td>14</td>\n",
       "      <td>14</td>\n",
       "    </tr>\n",
       "    <tr>\n",
       "      <th>Encounter</th>\n",
       "      <td>11</td>\n",
       "      <td>11</td>\n",
       "    </tr>\n",
       "    <tr>\n",
       "      <th>ExtendedProperty</th>\n",
       "      <td>9</td>\n",
       "      <td>9</td>\n",
       "    </tr>\n",
       "    <tr>\n",
       "      <th>ImagingInstance</th>\n",
       "      <td>9</td>\n",
       "      <td>9</td>\n",
       "    </tr>\n",
       "    <tr>\n",
       "      <th>ImagingProperty</th>\n",
       "      <td>10</td>\n",
       "      <td>10</td>\n",
       "    </tr>\n",
       "    <tr>\n",
       "      <th>ImagingSeries</th>\n",
       "      <td>8</td>\n",
       "      <td>8</td>\n",
       "    </tr>\n",
       "    <tr>\n",
       "      <th>ImagingStudy</th>\n",
       "      <td>4</td>\n",
       "      <td>4</td>\n",
       "    </tr>\n",
       "    <tr>\n",
       "      <th>Immunization</th>\n",
       "      <td>14</td>\n",
       "      <td>14</td>\n",
       "    </tr>\n",
       "    <tr>\n",
       "      <th>ImmunizationCodes</th>\n",
       "      <td>4</td>\n",
       "      <td>4</td>\n",
       "    </tr>\n",
       "    <tr>\n",
       "      <th>LabResult</th>\n",
       "      <td>16</td>\n",
       "      <td>16</td>\n",
       "    </tr>\n",
       "    <tr>\n",
       "      <th>LabResultCodes</th>\n",
       "      <td>4</td>\n",
       "      <td>4</td>\n",
       "    </tr>\n",
       "    <tr>\n",
       "      <th>Location</th>\n",
       "      <td>4</td>\n",
       "      <td>4</td>\n",
       "    </tr>\n",
       "    <tr>\n",
       "      <th>MedicationAdministration</th>\n",
       "      <td>14</td>\n",
       "      <td>14</td>\n",
       "    </tr>\n",
       "    <tr>\n",
       "      <th>MedicationCodes</th>\n",
       "      <td>3</td>\n",
       "      <td>3</td>\n",
       "    </tr>\n",
       "    <tr>\n",
       "      <th>MedicationRequest</th>\n",
       "      <td>20</td>\n",
       "      <td>20</td>\n",
       "    </tr>\n",
       "    <tr>\n",
       "      <th>Observation</th>\n",
       "      <td>18</td>\n",
       "      <td>18</td>\n",
       "    </tr>\n",
       "    <tr>\n",
       "      <th>Patient</th>\n",
       "      <td>2</td>\n",
       "      <td>2</td>\n",
       "    </tr>\n",
       "    <tr>\n",
       "      <th>Person</th>\n",
       "      <td>8</td>\n",
       "      <td>8</td>\n",
       "    </tr>\n",
       "    <tr>\n",
       "      <th>PersonDeathFact</th>\n",
       "      <td>8</td>\n",
       "      <td>8</td>\n",
       "    </tr>\n",
       "    <tr>\n",
       "      <th>PersonEPCTlink</th>\n",
       "      <td>2</td>\n",
       "      <td>2</td>\n",
       "    </tr>\n",
       "    <tr>\n",
       "      <th>PersonLocation</th>\n",
       "      <td>5</td>\n",
       "      <td>5</td>\n",
       "    </tr>\n",
       "    <tr>\n",
       "      <th>PersonRace</th>\n",
       "      <td>3</td>\n",
       "      <td>3</td>\n",
       "    </tr>\n",
       "    <tr>\n",
       "      <th>PersonTag</th>\n",
       "      <td>3</td>\n",
       "      <td>3</td>\n",
       "    </tr>\n",
       "    <tr>\n",
       "      <th>Procedure</th>\n",
       "      <td>10</td>\n",
       "      <td>10</td>\n",
       "    </tr>\n",
       "    <tr>\n",
       "      <th>ProcedureCodes</th>\n",
       "      <td>4</td>\n",
       "      <td>4</td>\n",
       "    </tr>\n",
       "    <tr>\n",
       "      <th>SearchResult_hypertension</th>\n",
       "      <td>5</td>\n",
       "      <td>5</td>\n",
       "    </tr>\n",
       "    <tr>\n",
       "      <th>SocialDeterminantsOfHealth</th>\n",
       "      <td>8</td>\n",
       "      <td>8</td>\n",
       "    </tr>\n",
       "    <tr>\n",
       "      <th>SocialHistory</th>\n",
       "      <td>9</td>\n",
       "      <td>9</td>\n",
       "    </tr>\n",
       "    <tr>\n",
       "      <th>Vital</th>\n",
       "      <td>12</td>\n",
       "      <td>12</td>\n",
       "    </tr>\n",
       "  </tbody>\n",
       "</table>\n",
       "</div>"
      ],
      "text/plain": [
       "                            column  column_type\n",
       "table                                          \n",
       "Claim                           13           13\n",
       "ClaimLine                        6            6\n",
       "ClaimLineCodes                   4            4\n",
       "Concept                          7            7\n",
       "ConceptLink                      2            2\n",
       "Condition                       14           14\n",
       "ConditionCodes                   4            4\n",
       "DeviceUse                       14           14\n",
       "Encounter                       11           11\n",
       "ExtendedProperty                 9            9\n",
       "ImagingInstance                  9            9\n",
       "ImagingProperty                 10           10\n",
       "ImagingSeries                    8            8\n",
       "ImagingStudy                     4            4\n",
       "Immunization                    14           14\n",
       "ImmunizationCodes                4            4\n",
       "LabResult                       16           16\n",
       "LabResultCodes                   4            4\n",
       "Location                         4            4\n",
       "MedicationAdministration        14           14\n",
       "MedicationCodes                  3            3\n",
       "MedicationRequest               20           20\n",
       "Observation                     18           18\n",
       "Patient                          2            2\n",
       "Person                           8            8\n",
       "PersonDeathFact                  8            8\n",
       "PersonEPCTlink                   2            2\n",
       "PersonLocation                   5            5\n",
       "PersonRace                       3            3\n",
       "PersonTag                        3            3\n",
       "Procedure                       10           10\n",
       "ProcedureCodes                   4            4\n",
       "SearchResult_hypertension        5            5\n",
       "SocialDeterminantsOfHealth       8            8\n",
       "SocialHistory                    9            9\n",
       "Vital                           12           12"
      ]
     },
     "execution_count": 5,
     "metadata": {},
     "output_type": "execute_result"
    }
   ],
   "source": [
    "#what tables are there\n",
    "schema = population.get_data_dictionary()\n",
    "schema.groupby('table').count()"
   ]
  },
  {
   "cell_type": "code",
   "execution_count": 3,
   "id": "ee31e6ae-7ea4-425f-9c74-d06d8ec3c37c",
   "metadata": {
    "execution": {
     "iopub.execute_input": "2023-06-26T19:29:58.408880Z",
     "iopub.status.busy": "2023-06-26T19:29:58.408311Z",
     "iopub.status.idle": "2023-06-26T19:29:58.412239Z",
     "shell.execute_reply": "2023-06-26T19:29:58.411769Z",
     "shell.execute_reply.started": "2023-06-26T19:29:58.408856Z"
    },
    "tags": []
   },
   "outputs": [],
   "source": [
    "### This creates the data folder\n",
    "data = pathlib.Path('./data')\n",
    "data.mkdir(parents=True, exist_ok=True)\n",
    "\n",
    "### This defines the load_and_dump function. \n",
    "def load_and_dump(table: str):\n",
    "    print(\"Loading:\", table)\n",
    "    df = population.load_data(table=table)\n",
    "    df.to_parquet(data / f\"{table}.parquet\", coerce_timestamps = 'us', allow_truncated_timestamps = True)"
   ]
  },
  {
   "cell_type": "code",
   "execution_count": 40,
   "id": "fcf856c5-9393-45c0-9f95-43af0a6b0f8e",
   "metadata": {
    "execution": {
     "iopub.execute_input": "2023-06-15T23:28:50.481983Z",
     "iopub.status.busy": "2023-06-15T23:28:50.481484Z",
     "iopub.status.idle": "2023-06-15T23:29:01.055776Z",
     "shell.execute_reply": "2023-06-15T23:29:01.055209Z",
     "shell.execute_reply.started": "2023-06-15T23:28:50.481959Z"
    },
    "tags": []
   },
   "outputs": [
    {
     "name": "stdout",
     "output_type": "stream",
     "text": [
      "Loading: Patient\n",
      "Loading: Person\n",
      "Loading: PersonRace\n"
     ]
    }
   ],
   "source": [
    "load_and_dump('Patient') #This has patient and person Ids\n",
    "load_and_dump('Person') #This has some demographic information as well as PersonId\n",
    "load_and_dump('PersonRace')"
   ]
  },
  {
   "cell_type": "code",
   "execution_count": 5,
   "id": "e37c4eaf-121c-475a-91d3-81a86084580a",
   "metadata": {
    "execution": {
     "iopub.execute_input": "2023-06-15T17:46:33.791796Z",
     "iopub.status.busy": "2023-06-15T17:46:33.791467Z",
     "iopub.status.idle": "2023-06-15T17:46:42.199667Z",
     "shell.execute_reply": "2023-06-15T17:46:42.199120Z",
     "shell.execute_reply.started": "2023-06-15T17:46:33.791776Z"
    }
   },
   "outputs": [
    {
     "name": "stdout",
     "output_type": "stream",
     "text": [
      "Loading: Concept\n"
     ]
    }
   ],
   "source": [
    "load_and_dump('Concept')"
   ]
  },
  {
   "cell_type": "code",
   "execution_count": 8,
   "id": "ed3be32b-bd9c-4d95-838e-1e0f4adf95b6",
   "metadata": {
    "execution": {
     "iopub.execute_input": "2023-06-26T20:30:49.120273Z",
     "iopub.status.busy": "2023-06-26T20:30:49.119919Z",
     "iopub.status.idle": "2023-06-26T20:30:53.501616Z",
     "shell.execute_reply": "2023-06-26T20:30:53.501122Z",
     "shell.execute_reply.started": "2023-06-26T20:30:49.120253Z"
    },
    "tags": []
   },
   "outputs": [
    {
     "data": {
      "text/html": [
       "<div>\n",
       "<style scoped>\n",
       "    .dataframe tbody tr th:only-of-type {\n",
       "        vertical-align: middle;\n",
       "    }\n",
       "\n",
       "    .dataframe tbody tr th {\n",
       "        vertical-align: top;\n",
       "    }\n",
       "\n",
       "    .dataframe thead th {\n",
       "        text-align: right;\n",
       "    }\n",
       "</style>\n",
       "<table border=\"1\" class=\"dataframe\">\n",
       "  <thead>\n",
       "    <tr style=\"text-align: right;\">\n",
       "      <th></th>\n",
       "      <th>ConceptId</th>\n",
       "      <th>ConceptName</th>\n",
       "      <th>ConceptDefinition</th>\n",
       "      <th>CodeSystem</th>\n",
       "      <th>ConceptCode</th>\n",
       "      <th>ConceptClass</th>\n",
       "      <th>Domain</th>\n",
       "    </tr>\n",
       "  </thead>\n",
       "  <tbody>\n",
       "    <tr>\n",
       "      <th>0</th>\n",
       "      <td>3462811</td>\n",
       "      <td>Abbott GmbH - ARCHITECT - IGM, ANTIGEN, ANTISE...</td>\n",
       "      <td>Abbott GmbH - ARCHITECT - IGM, ANTIGEN, ANTISE...</td>\n",
       "      <td>Truveta</td>\n",
       "      <td>3462811</td>\n",
       "      <td>Device</td>\n",
       "      <td>Device</td>\n",
       "    </tr>\n",
       "    <tr>\n",
       "      <th>1</th>\n",
       "      <td>3462812</td>\n",
       "      <td>Abbott GmbH - ARCHITECT - KIT, SEROLOGICAL, NE...</td>\n",
       "      <td>Abbott GmbH - ARCHITECT - KIT, SEROLOGICAL, NE...</td>\n",
       "      <td>Truveta</td>\n",
       "      <td>3462812</td>\n",
       "      <td>Device</td>\n",
       "      <td>Device</td>\n",
       "    </tr>\n",
       "    <tr>\n",
       "      <th>2</th>\n",
       "      <td>3462813</td>\n",
       "      <td>Abbott GmbH - ARCHITECT - KIT, SEROLOGICAL, PO...</td>\n",
       "      <td>Abbott GmbH - ARCHITECT - KIT, SEROLOGICAL, PO...</td>\n",
       "      <td>Truveta</td>\n",
       "      <td>3462813</td>\n",
       "      <td>Device</td>\n",
       "      <td>Device</td>\n",
       "    </tr>\n",
       "    <tr>\n",
       "      <th>3</th>\n",
       "      <td>3462814</td>\n",
       "      <td>Abbott GmbH - ARCHITECT - LDL &amp; VLDL PRECIPITA...</td>\n",
       "      <td>Abbott GmbH - ARCHITECT - LDL &amp; VLDL PRECIPITA...</td>\n",
       "      <td>Truveta</td>\n",
       "      <td>3462814</td>\n",
       "      <td>Device</td>\n",
       "      <td>Device</td>\n",
       "    </tr>\n",
       "    <tr>\n",
       "      <th>4</th>\n",
       "      <td>3462815</td>\n",
       "      <td>Abbott GmbH - ARCHITECT - LIPASE HYDROLYSIS/GL...</td>\n",
       "      <td>Abbott GmbH - ARCHITECT - LIPASE HYDROLYSIS/GL...</td>\n",
       "      <td>Truveta</td>\n",
       "      <td>3462815</td>\n",
       "      <td>Device</td>\n",
       "      <td>Device</td>\n",
       "    </tr>\n",
       "  </tbody>\n",
       "</table>\n",
       "</div>"
      ],
      "text/plain": [
       "   ConceptId                                        ConceptName  \\\n",
       "0    3462811  Abbott GmbH - ARCHITECT - IGM, ANTIGEN, ANTISE...   \n",
       "1    3462812  Abbott GmbH - ARCHITECT - KIT, SEROLOGICAL, NE...   \n",
       "2    3462813  Abbott GmbH - ARCHITECT - KIT, SEROLOGICAL, PO...   \n",
       "3    3462814  Abbott GmbH - ARCHITECT - LDL & VLDL PRECIPITA...   \n",
       "4    3462815  Abbott GmbH - ARCHITECT - LIPASE HYDROLYSIS/GL...   \n",
       "\n",
       "                                   ConceptDefinition CodeSystem ConceptCode  \\\n",
       "0  Abbott GmbH - ARCHITECT - IGM, ANTIGEN, ANTISE...    Truveta     3462811   \n",
       "1  Abbott GmbH - ARCHITECT - KIT, SEROLOGICAL, NE...    Truveta     3462812   \n",
       "2  Abbott GmbH - ARCHITECT - KIT, SEROLOGICAL, PO...    Truveta     3462813   \n",
       "3  Abbott GmbH - ARCHITECT - LDL & VLDL PRECIPITA...    Truveta     3462814   \n",
       "4  Abbott GmbH - ARCHITECT - LIPASE HYDROLYSIS/GL...    Truveta     3462815   \n",
       "\n",
       "  ConceptClass  Domain  \n",
       "0       Device  Device  \n",
       "1       Device  Device  \n",
       "2       Device  Device  \n",
       "3       Device  Device  \n",
       "4       Device  Device  "
      ]
     },
     "execution_count": 8,
     "metadata": {},
     "output_type": "execute_result"
    }
   ],
   "source": [
    "concept = pd.read_parquet('data/Concept.parquet')\n",
    "concept.head()"
   ]
  },
  {
   "cell_type": "code",
   "execution_count": 9,
   "id": "ff5f0e19-7f2b-4475-a0f2-2b4a78f44d88",
   "metadata": {
    "execution": {
     "iopub.execute_input": "2023-06-22T15:30:06.832557Z",
     "iopub.status.busy": "2023-06-22T15:30:06.832194Z",
     "iopub.status.idle": "2023-06-22T15:30:08.084729Z",
     "shell.execute_reply": "2023-06-22T15:30:08.084222Z",
     "shell.execute_reply.started": "2023-06-22T15:30:06.832532Z"
    },
    "tags": []
   },
   "outputs": [
    {
     "name": "stdout",
     "output_type": "stream",
     "text": [
      "BirthDateTime                   48900\n",
      "EthnicityConceptId                  8\n",
      "GenderConceptId                     6\n",
      "PersonId                      1206910\n",
      "IsExpired                           2\n",
      "MaritalStatusConceptId             12\n",
      "PreferredLanguageConceptId          1\n",
      "ReligionConceptId                   1\n",
      "dtype: int64\n",
      "<class 'pandas.core.frame.DataFrame'>\n",
      "Int64Index: 1206910 entries, 0 to 75431\n",
      "Data columns (total 8 columns):\n",
      " #   Column                      Non-Null Count    Dtype         \n",
      "---  ------                      --------------    -----         \n",
      " 0   BirthDateTime               1206910 non-null  datetime64[ns]\n",
      " 1   EthnicityConceptId          1206910 non-null  int32         \n",
      " 2   GenderConceptId             1206910 non-null  int32         \n",
      " 3   PersonId                    1206910 non-null  object        \n",
      " 4   IsExpired                   1164130 non-null  object        \n",
      " 5   MaritalStatusConceptId      1206910 non-null  int32         \n",
      " 6   PreferredLanguageConceptId  1206910 non-null  int32         \n",
      " 7   ReligionConceptId           1206910 non-null  int32         \n",
      "dtypes: datetime64[ns](1), int32(5), object(2)\n",
      "memory usage: 59.9+ MB\n",
      "None\n"
     ]
    }
   ],
   "source": [
    "#patient analysis\n",
    "person = pd.read_parquet('data/Person.parquet')\n",
    "person.rename({'Id': 'PersonId'}, axis=1, inplace=True)\n",
    "#each entry is a unique person Id\n",
    "print(person.nunique())\n",
    "print(person.info())"
   ]
  },
  {
   "cell_type": "code",
   "execution_count": 12,
   "id": "f47174c4-a550-43e4-83db-ced529ac5187",
   "metadata": {
    "execution": {
     "iopub.execute_input": "2023-06-16T13:17:14.823129Z",
     "iopub.status.busy": "2023-06-16T13:17:14.822432Z",
     "iopub.status.idle": "2023-06-16T13:17:17.593636Z",
     "shell.execute_reply": "2023-06-16T13:17:17.592916Z",
     "shell.execute_reply.started": "2023-06-16T13:17:14.823106Z"
    },
    "tags": []
   },
   "outputs": [
    {
     "name": "stdout",
     "output_type": "stream",
     "text": [
      "                                     Id                              PersonId  \\\n",
      "0  fd04227a-57a4-ba1e-1d08-601c765706ff  0f4b77ae-9cf9-fa6e-6208-d8c241688ae0   \n",
      "1  d7ee8ed6-5b9a-835e-fd8d-575bbc76b4fe  80d4aa36-be3f-e095-f516-dd33f7277809   \n",
      "2  4209a6ac-702a-176d-e69d-2d7b114fb28e  3f2f5618-448f-6d22-79c6-4ee737eac23d   \n",
      "3  94ba28c3-72b8-3ad7-9fc8-797539a4d91d  504c65ca-9eec-9d88-425f-787267d18406   \n",
      "4  866f00a9-9d8a-93ca-1a45-1f57b3999ce5  7f125e63-141c-aa20-5653-243717f82710   \n",
      "\n",
      "   RaceConceptId  \n",
      "0      1067364.0  \n",
      "1      1067364.0  \n",
      "2      1067364.0  \n",
      "3      1067364.0  \n",
      "4      1067364.0  \n"
     ]
    }
   ],
   "source": [
    "#get person's gender, race and ethnicity concept id list\n",
    "person_gender = person.groupby('GenderConceptId',as_index=False).PersonId.count()\n",
    "# print(person_gender)\n",
    "\n",
    "#read in person race and merge\n",
    "person_race = pd.read_parquet('data/PersonRace.parquet')\n",
    "print(person_race.head())\n",
    "person_race_name = person.merge(person_race,left_on=\"PersonId\",right_on=\"PersonId\",how = 'left')\n",
    "person_race_name.head(10)\n",
    "person_races = person_race_name.groupby('RaceConceptId',as_index=False).PersonId.count()\n",
    "# print(person_races)\n",
    "\n",
    "#get person's ethinicity count\n",
    "person_eth = person.groupby('EthnicityConceptId',as_index=False).PersonId.count()\n",
    "# print(person_eth)"
   ]
  },
  {
   "cell_type": "code",
   "execution_count": 13,
   "id": "ba502fa7-2df7-4c27-ac8f-d6c2ecb17279",
   "metadata": {
    "execution": {
     "iopub.execute_input": "2023-06-16T13:17:27.287451Z",
     "iopub.status.busy": "2023-06-16T13:17:27.286824Z",
     "iopub.status.idle": "2023-06-16T13:17:29.306117Z",
     "shell.execute_reply": "2023-06-16T13:17:29.305557Z",
     "shell.execute_reply.started": "2023-06-16T13:17:27.287426Z"
    },
    "tags": []
   },
   "outputs": [
    {
     "data": {
      "text/html": [
       "<div>\n",
       "<style scoped>\n",
       "    .dataframe tbody tr th:only-of-type {\n",
       "        vertical-align: middle;\n",
       "    }\n",
       "\n",
       "    .dataframe tbody tr th {\n",
       "        vertical-align: top;\n",
       "    }\n",
       "\n",
       "    .dataframe thead th {\n",
       "        text-align: right;\n",
       "    }\n",
       "</style>\n",
       "<table border=\"1\" class=\"dataframe\">\n",
       "  <thead>\n",
       "    <tr style=\"text-align: right;\">\n",
       "      <th></th>\n",
       "      <th>PersonId</th>\n",
       "      <th>Id</th>\n",
       "    </tr>\n",
       "    <tr>\n",
       "      <th>RaceConceptId</th>\n",
       "      <th></th>\n",
       "      <th></th>\n",
       "    </tr>\n",
       "  </thead>\n",
       "  <tbody>\n",
       "    <tr>\n",
       "      <th>0</th>\n",
       "      <td>32</td>\n",
       "      <td>32</td>\n",
       "    </tr>\n",
       "    <tr>\n",
       "      <th>1</th>\n",
       "      <td>1203761</td>\n",
       "      <td>1203761</td>\n",
       "    </tr>\n",
       "  </tbody>\n",
       "</table>\n",
       "</div>"
      ],
      "text/plain": [
       "               PersonId       Id\n",
       "RaceConceptId                   \n",
       "0                    32       32\n",
       "1               1203761  1203761"
      ]
     },
     "execution_count": 13,
     "metadata": {},
     "output_type": "execute_result"
    }
   ],
   "source": [
    "#example of checking race-person uniqueness\n",
    "df2 = person_race.groupby('PersonId').count().reset_index()\n",
    "df2.groupby('RaceConceptId').count()\n",
    "# df2"
   ]
  },
  {
   "cell_type": "code",
   "execution_count": 14,
   "id": "dbbd6c46-ba41-4cd6-b7c0-4a9c61b3e0b3",
   "metadata": {
    "execution": {
     "iopub.execute_input": "2023-06-16T13:17:49.113713Z",
     "iopub.status.busy": "2023-06-16T13:17:49.113366Z",
     "iopub.status.idle": "2023-06-16T13:18:02.967595Z",
     "shell.execute_reply": "2023-06-16T13:18:02.966914Z",
     "shell.execute_reply.started": "2023-06-16T13:17:49.113691Z"
    },
    "tags": []
   },
   "outputs": [
    {
     "name": "stdout",
     "output_type": "stream",
     "text": [
      "finish loading\n"
     ]
    }
   ],
   "source": [
    "#use sql to get concept names\n",
    "sql_gender = \"select ConceptId, ConceptName, ConceptDefinition \\\n",
    "from Concept \\\n",
    "where ConceptId in :genderconceptid\"\n",
    "sql_race = \"select ConceptId, ConceptName, ConceptDefinition \\\n",
    "from Concept \\\n",
    "where ConceptId in :raceconceptid\"\n",
    "sql_eth = \"select ConceptId, ConceptName, ConceptDefinition \\\n",
    "from Concept \\\n",
    "where ConceptId in :ethnicityid\"\n",
    "#set parameters to be the list of concept ids\n",
    "params_gen = {\n",
    "    'genderconceptid':person_gender.GenderConceptId\n",
    " \n",
    "}\n",
    "params_race = {\n",
    "     'raceconceptid':round(person_races.RaceConceptId)\n",
    "}\n",
    "params_eth = {\n",
    "        'ethnicityid':person_eth.EthnicityConceptId\n",
    "}\n",
    "\n",
    "gender_name = population.load_sql_table(sql = sql_gender,params = params_gen)\n",
    "race_name = population.load_sql_table(sql = sql_race, params = params_race)\n",
    "ethnicity_name = population.load_sql_table(sql= sql_eth, params = params_eth)\n",
    "print('finish loading')\n"
   ]
  },
  {
   "cell_type": "code",
   "execution_count": 17,
   "id": "024dd59d-ed8d-4f83-ba5d-fa2714e172fc",
   "metadata": {
    "execution": {
     "iopub.execute_input": "2023-06-16T13:18:56.101923Z",
     "iopub.status.busy": "2023-06-16T13:18:56.101548Z",
     "iopub.status.idle": "2023-06-16T13:18:56.114136Z",
     "shell.execute_reply": "2023-06-16T13:18:56.113603Z",
     "shell.execute_reply.started": "2023-06-16T13:18:56.101902Z"
    },
    "tags": []
   },
   "outputs": [
    {
     "name": "stderr",
     "output_type": "stream",
     "text": [
      "/tmp/ipykernel_144/1973152731.py:7: SettingWithCopyWarning: \n",
      "A value is trying to be set on a copy of a slice from a DataFrame\n",
      "\n",
      "See the caveats in the documentation: https://pandas.pydata.org/pandas-docs/stable/user_guide/indexing.html#returning-a-view-versus-a-copy\n",
      "  baseline.rename(columns={'PersonId':'PersonCount'},inplace=True)\n",
      "/tmp/ipykernel_144/1973152731.py:7: SettingWithCopyWarning: \n",
      "A value is trying to be set on a copy of a slice from a DataFrame\n",
      "\n",
      "See the caveats in the documentation: https://pandas.pydata.org/pandas-docs/stable/user_guide/indexing.html#returning-a-view-versus-a-copy\n",
      "  baseline.rename(columns={'PersonId':'PersonCount'},inplace=True)\n",
      "/tmp/ipykernel_144/1973152731.py:7: SettingWithCopyWarning: \n",
      "A value is trying to be set on a copy of a slice from a DataFrame\n",
      "\n",
      "See the caveats in the documentation: https://pandas.pydata.org/pandas-docs/stable/user_guide/indexing.html#returning-a-view-versus-a-copy\n",
      "  baseline.rename(columns={'PersonId':'PersonCount'},inplace=True)\n"
     ]
    }
   ],
   "source": [
    "#merging names with counts table\n",
    "def get_baseline_stats(person_tb,concept, left = \"\", right = \"ConceptId\"):\n",
    "    stats = person_tb.merge(concept, left_on=left, right_on=right, how = 'left')\n",
    "#add a percentage\n",
    "    stats['CountPercentage%'] =round(stats.PersonId / stats.PersonId.sum() * 100,3)\n",
    "    baseline = stats[[left,'ConceptName','PersonId','CountPercentage%']]\n",
    "    baseline.rename(columns={'PersonId':'PersonCount'},inplace=True)\n",
    "    return baseline\n",
    "\n",
    "\n",
    "baseline_gender = get_baseline_stats(person_gender, gender_name, left= 'GenderConceptId', right = 'ConceptId')\n",
    "baseline_ethnicity = get_baseline_stats(person_eth, ethnicity_name, left = 'EthnicityConceptId', right = 'ConceptId')\n",
    "baseline_race = get_baseline_stats(person_races, race_name, left = 'RaceConceptId',right = 'ConceptId')\n",
    "\n"
   ]
  },
  {
   "cell_type": "code",
   "execution_count": 51,
   "id": "4b8f1f76-cbd0-4714-b0fe-7bdaaee413b1",
   "metadata": {
    "execution": {
     "iopub.execute_input": "2023-06-16T15:17:25.431889Z",
     "iopub.status.busy": "2023-06-16T15:17:25.431534Z",
     "iopub.status.idle": "2023-06-16T15:17:25.440489Z",
     "shell.execute_reply": "2023-06-16T15:17:25.439990Z",
     "shell.execute_reply.started": "2023-06-16T15:17:25.431866Z"
    },
    "tags": []
   },
   "outputs": [
    {
     "name": "stdout",
     "output_type": "stream",
     "text": [
      "   GenderConceptId     ConceptName  PersonCount  CountPercentage%\n",
      "0          1065405          Female       637959            52.859\n",
      "1          1065406            Male       565946            46.892\n",
      "2          1065408           Other            7             0.001\n",
      "3          1065409         Unknown           40             0.003\n",
      "4          1067556          Masked         2941             0.244\n",
      "5          1067561  No Information           17             0.001\n",
      "======================================================\n",
      "   EthnicityConceptId             ConceptName  PersonCount  CountPercentage%\n",
      "0             1065359      Hispanic or Latino        73247             6.069\n",
      "1             1065389               Colombian           15             0.001\n",
      "2             1065401  Not Hispanic or Latino      1040618            86.222\n",
      "3             1067555                 Invalid          391             0.032\n",
      "4             1067556                  Masked        54107             4.483\n",
      "5             1067558                 Unknown        21529             1.784\n",
      "6             1067561          No Information         5376             0.445\n",
      "7             3056585      Declined to answer        11627             0.963\n",
      "======================================================\n",
      "    RaceConceptId                                ConceptName  PersonCount  \\\n",
      "0       1066466.0           American Indian or Alaska Native         4585   \n",
      "1       1066467.0                            American Indian          730   \n",
      "2       1066754.0                                   Columbia           22   \n",
      "3       1067021.0                              Alaska Native           80   \n",
      "4       1067294.0                                      Asian        33712   \n",
      "5       1067295.0                               Asian Indian           87   \n",
      "6       1067302.0                                   Filipino           16   \n",
      "7       1067306.0                                     Korean            5   \n",
      "8       1067319.0                  Black or African American       140545   \n",
      "9       1067320.0                                      Black        39776   \n",
      "10      1067321.0                           African American         4447   \n",
      "11      1067322.0                                    African           22   \n",
      "12      1067338.0  Native Hawaiian or Other Pacific Islander         2414   \n",
      "13      1067340.0                            Native Hawaiian           59   \n",
      "14      1067364.0                                      White       888147   \n",
      "15      1067374.0            Middle Eastern or North African           23   \n",
      "16      1067385.0                                 Other Race        42685   \n",
      "17      1067386.0                     Other Pacific Islander          974   \n",
      "18      1067388.0                                Multiracial         4270   \n",
      "19      1067555.0                                    Invalid         2505   \n",
      "20      1067556.0                                     Masked        12396   \n",
      "21      1067558.0                                    Unknown        17283   \n",
      "22      1067561.0                             No Information         1519   \n",
      "23      3056583.0                         Declined to answer         7459   \n",
      "\n",
      "    CountPercentage%  \n",
      "0              0.381  \n",
      "1              0.061  \n",
      "2              0.002  \n",
      "3              0.007  \n",
      "4              2.801  \n",
      "5              0.007  \n",
      "6              0.001  \n",
      "7              0.000  \n",
      "8             11.675  \n",
      "9              3.304  \n",
      "10             0.369  \n",
      "11             0.002  \n",
      "12             0.201  \n",
      "13             0.005  \n",
      "14            73.781  \n",
      "15             0.002  \n",
      "16             3.546  \n",
      "17             0.081  \n",
      "18             0.355  \n",
      "19             0.208  \n",
      "20             1.030  \n",
      "21             1.436  \n",
      "22             0.126  \n",
      "23             0.620  \n",
      "RaceConceptId    0\n",
      "PersonId         0\n",
      "dtype: int64\n"
     ]
    }
   ],
   "source": [
    "print(baseline_gender)\n",
    "print('======================================================')\n",
    "print(baseline_ethnicity)\n",
    "print('======================================================')\n",
    "print(baseline_race)\n",
    "print(person_races[person_races['RaceConceptId'].isna()].count())"
   ]
  },
  {
   "cell_type": "code",
   "execution_count": 19,
   "id": "bdd2fd74-7dba-4e64-8915-28404a0c6395",
   "metadata": {
    "execution": {
     "iopub.execute_input": "2023-06-16T13:19:47.694486Z",
     "iopub.status.busy": "2023-06-16T13:19:47.693987Z",
     "iopub.status.idle": "2023-06-16T13:19:47.698573Z",
     "shell.execute_reply": "2023-06-16T13:19:47.698041Z",
     "shell.execute_reply.started": "2023-06-16T13:19:47.694463Z"
    },
    "tags": []
   },
   "outputs": [
    {
     "data": {
      "text/plain": [
       "1203761"
      ]
     },
     "execution_count": 19,
     "metadata": {},
     "output_type": "execute_result"
    }
   ],
   "source": [
    "baseline_race.PersonCount.sum()"
   ]
  },
  {
   "cell_type": "code",
   "execution_count": 6,
   "id": "410a5ed0-4130-4de2-871e-3e0be765593d",
   "metadata": {
    "execution": {
     "iopub.execute_input": "2023-06-22T15:29:20.853639Z",
     "iopub.status.busy": "2023-06-22T15:29:20.853285Z",
     "iopub.status.idle": "2023-06-22T15:29:45.482598Z",
     "shell.execute_reply": "2023-06-22T15:29:45.481972Z",
     "shell.execute_reply.started": "2023-06-22T15:29:20.853616Z"
    },
    "tags": []
   },
   "outputs": [],
   "source": [
    "sql = \"\\\n",
    "SELECT * \\\n",
    "FROM SearchResult_hypertension \\\n",
    "\"\n",
    "\n",
    "search_result = population.load_sql_table(sql = sql)\n",
    "search_result.to_parquet(\"data/absolute_date_time.parquet\", coerce_timestamps = 'us',allow_truncated_timestamps = True)"
   ]
  },
  {
   "cell_type": "code",
   "execution_count": 7,
   "id": "2f83bd38-6e57-4b27-921b-47f605e4823a",
   "metadata": {
    "execution": {
     "iopub.execute_input": "2023-06-22T15:29:45.483929Z",
     "iopub.status.busy": "2023-06-22T15:29:45.483692Z",
     "iopub.status.idle": "2023-06-22T15:29:48.719946Z",
     "shell.execute_reply": "2023-06-22T15:29:48.719005Z",
     "shell.execute_reply.started": "2023-06-22T15:29:45.483911Z"
    },
    "tags": []
   },
   "outputs": [],
   "source": [
    "import datetime as dt\n",
    "search_result['ShiftedTime'] = pd.to_datetime(search_result.AbsoluteEffectiveDateTime)- pd.DatetimeIndex(search_result.RecordedDateTime)\n",
    "#take a average gap for each patient\n",
    "person_shift_time = search_result.groupby('PersonId')['ShiftedTime'].mean().reset_index()"
   ]
  },
  {
   "cell_type": "code",
   "execution_count": 10,
   "id": "26c67d5d-a6a6-45b3-9159-14785972b096",
   "metadata": {
    "execution": {
     "iopub.execute_input": "2023-06-22T15:30:14.558480Z",
     "iopub.status.busy": "2023-06-22T15:30:14.558122Z",
     "iopub.status.idle": "2023-06-22T15:30:15.839778Z",
     "shell.execute_reply": "2023-06-22T15:30:15.839208Z",
     "shell.execute_reply.started": "2023-06-22T15:30:14.558457Z"
    },
    "tags": []
   },
   "outputs": [],
   "source": [
    "person_age = person.merge(person_shift_time,left_on=\"PersonId\", right_on='PersonId', how = 'left')[['PersonId','BirthDateTime','ShiftedTime']]\n",
    "\n",
    "person_age['age_at_2019'] = round(((person_age.ShiftedTime + pd.to_datetime('2019-07-01') - person_age.BirthDateTime).dt.days)/365 ,0)\n"
   ]
  },
  {
   "cell_type": "code",
   "execution_count": 16,
   "id": "15c47a00-f510-4228-8617-f07778ce394f",
   "metadata": {
    "execution": {
     "iopub.execute_input": "2023-06-22T15:34:34.001502Z",
     "iopub.status.busy": "2023-06-22T15:34:34.001132Z",
     "iopub.status.idle": "2023-06-22T15:34:34.005615Z",
     "shell.execute_reply": "2023-06-22T15:34:34.005106Z",
     "shell.execute_reply.started": "2023-06-22T15:34:34.001479Z"
    }
   },
   "outputs": [
    {
     "data": {
      "text/plain": [
       "Timestamp('2019-01-01 00:00:00')"
      ]
     },
     "execution_count": 16,
     "metadata": {},
     "output_type": "execute_result"
    }
   ],
   "source": [
    "pd.to_datetime(\"2019-01\")"
   ]
  },
  {
   "cell_type": "code",
   "execution_count": 24,
   "id": "a1aecdb7-2d96-43d8-b7fc-033f470b624b",
   "metadata": {
    "execution": {
     "iopub.execute_input": "2023-06-22T15:49:28.938798Z",
     "iopub.status.busy": "2023-06-22T15:49:28.938409Z",
     "iopub.status.idle": "2023-06-22T15:49:28.987867Z",
     "shell.execute_reply": "2023-06-22T15:49:28.987330Z",
     "shell.execute_reply.started": "2023-06-22T15:49:28.938774Z"
    },
    "tags": []
   },
   "outputs": [],
   "source": [
    "person_age['AbsoluteBirthDate'] = person_age['BirthDateTime'] + person_age['ShiftedTime']\n",
    "absolute_age = person_age[['PersonId', 'AbsoluteBirthDate', 'ShiftedTime']]"
   ]
  },
  {
   "cell_type": "code",
   "execution_count": 25,
   "id": "37743ca6-d6f8-4019-9595-bdfe5bb2c8b9",
   "metadata": {
    "execution": {
     "iopub.execute_input": "2023-06-22T15:49:29.706254Z",
     "iopub.status.busy": "2023-06-22T15:49:29.705898Z",
     "iopub.status.idle": "2023-06-22T15:49:29.771691Z",
     "shell.execute_reply": "2023-06-22T15:49:29.771043Z",
     "shell.execute_reply.started": "2023-06-22T15:49:29.706229Z"
    },
    "tags": []
   },
   "outputs": [
    {
     "ename": "ArrowNotImplementedError",
     "evalue": "Unhandled type for Arrow to Parquet schema conversion: duration[ns]",
     "output_type": "error",
     "traceback": [
      "\u001b[0;31m---------------------------------------------------------------------------\u001b[0m",
      "\u001b[0;31mArrowNotImplementedError\u001b[0m                  Traceback (most recent call last)",
      "\u001b[0;32m/tmp/ipykernel_4518/422694068.py\u001b[0m in \u001b[0;36m<module>\u001b[0;34m\u001b[0m\n\u001b[0;32m----> 1\u001b[0;31m absolute_age.to_parquet(\"data/person_age.parquet\",coerce_timestamps = 'us', \n\u001b[0m\u001b[1;32m      2\u001b[0m                         \u001b[0mallow_truncated_timestamps\u001b[0m \u001b[0;34m=\u001b[0m \u001b[0;32mTrue\u001b[0m\u001b[0;34m,\u001b[0m\u001b[0muse_deprecated_int96_timestamps\u001b[0m\u001b[0;34m=\u001b[0m\u001b[0;32mTrue\u001b[0m\u001b[0;34m,\u001b[0m\u001b[0;34m\u001b[0m\u001b[0;34m\u001b[0m\u001b[0m\n\u001b[1;32m      3\u001b[0m                        compression = \"gzip\")\n",
      "\u001b[0;32m/opt/conda/lib/python3.10/site-packages/pandas/util/_decorators.py\u001b[0m in \u001b[0;36mwrapper\u001b[0;34m(*args, **kwargs)\u001b[0m\n\u001b[1;32m    209\u001b[0m                 \u001b[0;32melse\u001b[0m\u001b[0;34m:\u001b[0m\u001b[0;34m\u001b[0m\u001b[0;34m\u001b[0m\u001b[0m\n\u001b[1;32m    210\u001b[0m                     \u001b[0mkwargs\u001b[0m\u001b[0;34m[\u001b[0m\u001b[0mnew_arg_name\u001b[0m\u001b[0;34m]\u001b[0m \u001b[0;34m=\u001b[0m \u001b[0mnew_arg_value\u001b[0m\u001b[0;34m\u001b[0m\u001b[0;34m\u001b[0m\u001b[0m\n\u001b[0;32m--> 211\u001b[0;31m             \u001b[0;32mreturn\u001b[0m \u001b[0mfunc\u001b[0m\u001b[0;34m(\u001b[0m\u001b[0;34m*\u001b[0m\u001b[0margs\u001b[0m\u001b[0;34m,\u001b[0m \u001b[0;34m**\u001b[0m\u001b[0mkwargs\u001b[0m\u001b[0;34m)\u001b[0m\u001b[0;34m\u001b[0m\u001b[0;34m\u001b[0m\u001b[0m\n\u001b[0m\u001b[1;32m    212\u001b[0m \u001b[0;34m\u001b[0m\u001b[0m\n\u001b[1;32m    213\u001b[0m         \u001b[0;32mreturn\u001b[0m \u001b[0mcast\u001b[0m\u001b[0;34m(\u001b[0m\u001b[0mF\u001b[0m\u001b[0;34m,\u001b[0m \u001b[0mwrapper\u001b[0m\u001b[0;34m)\u001b[0m\u001b[0;34m\u001b[0m\u001b[0;34m\u001b[0m\u001b[0m\n",
      "\u001b[0;32m/opt/conda/lib/python3.10/site-packages/pandas/core/frame.py\u001b[0m in \u001b[0;36mto_parquet\u001b[0;34m(self, path, engine, compression, index, partition_cols, storage_options, **kwargs)\u001b[0m\n\u001b[1;32m   2974\u001b[0m         \u001b[0;32mfrom\u001b[0m \u001b[0mpandas\u001b[0m\u001b[0;34m.\u001b[0m\u001b[0mio\u001b[0m\u001b[0;34m.\u001b[0m\u001b[0mparquet\u001b[0m \u001b[0;32mimport\u001b[0m \u001b[0mto_parquet\u001b[0m\u001b[0;34m\u001b[0m\u001b[0;34m\u001b[0m\u001b[0m\n\u001b[1;32m   2975\u001b[0m \u001b[0;34m\u001b[0m\u001b[0m\n\u001b[0;32m-> 2976\u001b[0;31m         return to_parquet(\n\u001b[0m\u001b[1;32m   2977\u001b[0m             \u001b[0mself\u001b[0m\u001b[0;34m,\u001b[0m\u001b[0;34m\u001b[0m\u001b[0;34m\u001b[0m\u001b[0m\n\u001b[1;32m   2978\u001b[0m             \u001b[0mpath\u001b[0m\u001b[0;34m,\u001b[0m\u001b[0;34m\u001b[0m\u001b[0;34m\u001b[0m\u001b[0m\n",
      "\u001b[0;32m/opt/conda/lib/python3.10/site-packages/pandas/io/parquet.py\u001b[0m in \u001b[0;36mto_parquet\u001b[0;34m(df, path, engine, compression, index, storage_options, partition_cols, **kwargs)\u001b[0m\n\u001b[1;32m    428\u001b[0m     \u001b[0mpath_or_buf\u001b[0m\u001b[0;34m:\u001b[0m \u001b[0mFilePath\u001b[0m \u001b[0;34m|\u001b[0m \u001b[0mWriteBuffer\u001b[0m\u001b[0;34m[\u001b[0m\u001b[0mbytes\u001b[0m\u001b[0;34m]\u001b[0m \u001b[0;34m=\u001b[0m \u001b[0mio\u001b[0m\u001b[0;34m.\u001b[0m\u001b[0mBytesIO\u001b[0m\u001b[0;34m(\u001b[0m\u001b[0;34m)\u001b[0m \u001b[0;32mif\u001b[0m \u001b[0mpath\u001b[0m \u001b[0;32mis\u001b[0m \u001b[0;32mNone\u001b[0m \u001b[0;32melse\u001b[0m \u001b[0mpath\u001b[0m\u001b[0;34m\u001b[0m\u001b[0;34m\u001b[0m\u001b[0m\n\u001b[1;32m    429\u001b[0m \u001b[0;34m\u001b[0m\u001b[0m\n\u001b[0;32m--> 430\u001b[0;31m     impl.write(\n\u001b[0m\u001b[1;32m    431\u001b[0m         \u001b[0mdf\u001b[0m\u001b[0;34m,\u001b[0m\u001b[0;34m\u001b[0m\u001b[0;34m\u001b[0m\u001b[0m\n\u001b[1;32m    432\u001b[0m         \u001b[0mpath_or_buf\u001b[0m\u001b[0;34m,\u001b[0m\u001b[0;34m\u001b[0m\u001b[0;34m\u001b[0m\u001b[0m\n",
      "\u001b[0;32m/opt/conda/lib/python3.10/site-packages/pandas/io/parquet.py\u001b[0m in \u001b[0;36mwrite\u001b[0;34m(self, df, path, compression, index, storage_options, partition_cols, **kwargs)\u001b[0m\n\u001b[1;32m    202\u001b[0m             \u001b[0;32melse\u001b[0m\u001b[0;34m:\u001b[0m\u001b[0;34m\u001b[0m\u001b[0;34m\u001b[0m\u001b[0m\n\u001b[1;32m    203\u001b[0m                 \u001b[0;31m# write to single output file\u001b[0m\u001b[0;34m\u001b[0m\u001b[0;34m\u001b[0m\u001b[0m\n\u001b[0;32m--> 204\u001b[0;31m                 self.api.parquet.write_table(\n\u001b[0m\u001b[1;32m    205\u001b[0m                     \u001b[0mtable\u001b[0m\u001b[0;34m,\u001b[0m \u001b[0mpath_or_handle\u001b[0m\u001b[0;34m,\u001b[0m \u001b[0mcompression\u001b[0m\u001b[0;34m=\u001b[0m\u001b[0mcompression\u001b[0m\u001b[0;34m,\u001b[0m \u001b[0;34m**\u001b[0m\u001b[0mkwargs\u001b[0m\u001b[0;34m\u001b[0m\u001b[0;34m\u001b[0m\u001b[0m\n\u001b[1;32m    206\u001b[0m                 )\n",
      "\u001b[0;32m/opt/conda/lib/python3.10/site-packages/pyarrow/parquet.py\u001b[0m in \u001b[0;36mwrite_table\u001b[0;34m(table, where, row_group_size, version, use_dictionary, compression, write_statistics, use_deprecated_int96_timestamps, coerce_timestamps, allow_truncated_timestamps, data_page_size, flavor, filesystem, compression_level, use_byte_stream_split, column_encoding, data_page_version, use_compliant_nested_type, **kwargs)\u001b[0m\n\u001b[1;32m   2072\u001b[0m     \u001b[0muse_int96\u001b[0m \u001b[0;34m=\u001b[0m \u001b[0muse_deprecated_int96_timestamps\u001b[0m\u001b[0;34m\u001b[0m\u001b[0;34m\u001b[0m\u001b[0m\n\u001b[1;32m   2073\u001b[0m     \u001b[0;32mtry\u001b[0m\u001b[0;34m:\u001b[0m\u001b[0;34m\u001b[0m\u001b[0;34m\u001b[0m\u001b[0m\n\u001b[0;32m-> 2074\u001b[0;31m         with ParquetWriter(\n\u001b[0m\u001b[1;32m   2075\u001b[0m                 \u001b[0mwhere\u001b[0m\u001b[0;34m,\u001b[0m \u001b[0mtable\u001b[0m\u001b[0;34m.\u001b[0m\u001b[0mschema\u001b[0m\u001b[0;34m,\u001b[0m\u001b[0;34m\u001b[0m\u001b[0;34m\u001b[0m\u001b[0m\n\u001b[1;32m   2076\u001b[0m                 \u001b[0mfilesystem\u001b[0m\u001b[0;34m=\u001b[0m\u001b[0mfilesystem\u001b[0m\u001b[0;34m,\u001b[0m\u001b[0;34m\u001b[0m\u001b[0;34m\u001b[0m\u001b[0m\n",
      "\u001b[0;32m/opt/conda/lib/python3.10/site-packages/pyarrow/parquet.py\u001b[0m in \u001b[0;36m__init__\u001b[0;34m(self, where, schema, filesystem, flavor, version, use_dictionary, compression, write_statistics, use_deprecated_int96_timestamps, compression_level, use_byte_stream_split, column_encoding, writer_engine_version, data_page_version, use_compliant_nested_type, **options)\u001b[0m\n\u001b[1;32m    668\u001b[0m         \u001b[0mself\u001b[0m\u001b[0;34m.\u001b[0m\u001b[0m_metadata_collector\u001b[0m \u001b[0;34m=\u001b[0m \u001b[0moptions\u001b[0m\u001b[0;34m.\u001b[0m\u001b[0mpop\u001b[0m\u001b[0;34m(\u001b[0m\u001b[0;34m'metadata_collector'\u001b[0m\u001b[0;34m,\u001b[0m \u001b[0;32mNone\u001b[0m\u001b[0;34m)\u001b[0m\u001b[0;34m\u001b[0m\u001b[0;34m\u001b[0m\u001b[0m\n\u001b[1;32m    669\u001b[0m         \u001b[0mengine_version\u001b[0m \u001b[0;34m=\u001b[0m \u001b[0;34m'V2'\u001b[0m\u001b[0;34m\u001b[0m\u001b[0;34m\u001b[0m\u001b[0m\n\u001b[0;32m--> 670\u001b[0;31m         self.writer = _parquet.ParquetWriter(\n\u001b[0m\u001b[1;32m    671\u001b[0m             \u001b[0msink\u001b[0m\u001b[0;34m,\u001b[0m \u001b[0mschema\u001b[0m\u001b[0;34m,\u001b[0m\u001b[0;34m\u001b[0m\u001b[0;34m\u001b[0m\u001b[0m\n\u001b[1;32m    672\u001b[0m             \u001b[0mversion\u001b[0m\u001b[0;34m=\u001b[0m\u001b[0mversion\u001b[0m\u001b[0;34m,\u001b[0m\u001b[0;34m\u001b[0m\u001b[0;34m\u001b[0m\u001b[0m\n",
      "\u001b[0;32m/opt/conda/lib/python3.10/site-packages/pyarrow/_parquet.pyx\u001b[0m in \u001b[0;36mpyarrow._parquet.ParquetWriter.__cinit__\u001b[0;34m()\u001b[0m\n",
      "\u001b[0;32m/opt/conda/lib/python3.10/site-packages/pyarrow/error.pxi\u001b[0m in \u001b[0;36mpyarrow.lib.check_status\u001b[0;34m()\u001b[0m\n",
      "\u001b[0;31mArrowNotImplementedError\u001b[0m: Unhandled type for Arrow to Parquet schema conversion: duration[ns]"
     ]
    }
   ],
   "source": [
    "\n",
    "absolute_age.to_csv(\"data/patient_abs_birthdate.csv\",header= True)"
   ]
  },
  {
   "cell_type": "code",
   "execution_count": 44,
   "id": "13baf5b5-5ec8-45e7-9527-89f38c7b9532",
   "metadata": {
    "execution": {
     "iopub.execute_input": "2023-06-16T14:35:20.365141Z",
     "iopub.status.busy": "2023-06-16T14:35:20.364817Z",
     "iopub.status.idle": "2023-06-16T14:35:20.672032Z",
     "shell.execute_reply": "2023-06-16T14:35:20.671464Z",
     "shell.execute_reply.started": "2023-06-16T14:35:20.365120Z"
    },
    "tags": []
   },
   "outputs": [],
   "source": [
    "#put person into age groups\n",
    "def assign_age_group(age):\n",
    "    if age < 18:\n",
    "        return '<18'\n",
    "    elif age >=18 and age <=39:\n",
    "        return '18-39'\n",
    "    elif age >=40 and age <=63:\n",
    "        return '40-63'\n",
    "    elif age >=64:\n",
    "        return '64+'\n",
    "    \n",
    "    else:\n",
    "        return -1\n",
    "    \n",
    "    \n",
    "person_age['AgeGroup'] = person_age['age_at_2019'].apply(lambda x: assign_age_group(x))\n",
    "    "
   ]
  },
  {
   "cell_type": "code",
   "execution_count": 46,
   "id": "3a395ebe-a2dd-4d70-9a80-70dfd5aaf363",
   "metadata": {
    "execution": {
     "iopub.execute_input": "2023-06-16T14:36:30.961454Z",
     "iopub.status.busy": "2023-06-16T14:36:30.960897Z",
     "iopub.status.idle": "2023-06-16T14:36:31.300933Z",
     "shell.execute_reply": "2023-06-16T14:36:31.300375Z",
     "shell.execute_reply.started": "2023-06-16T14:36:30.961430Z"
    },
    "tags": []
   },
   "outputs": [
    {
     "data": {
      "text/plain": [
       "PersonId         1206910\n",
       "BirthDateTime      48900\n",
       "ShiftedTime       331764\n",
       "age_at_2019          104\n",
       "AgeGroup               4\n",
       "dtype: int64"
      ]
     },
     "execution_count": 46,
     "metadata": {},
     "output_type": "execute_result"
    }
   ],
   "source": [
    "person_age.head()\n",
    "#check uniqueness\n",
    "person_age.nunique()"
   ]
  },
  {
   "cell_type": "code",
   "execution_count": 47,
   "id": "4f16f338-b348-4870-a989-d263054969c7",
   "metadata": {
    "execution": {
     "iopub.execute_input": "2023-06-16T14:37:31.830564Z",
     "iopub.status.busy": "2023-06-16T14:37:31.830179Z",
     "iopub.status.idle": "2023-06-16T14:37:31.907144Z",
     "shell.execute_reply": "2023-06-16T14:37:31.906575Z",
     "shell.execute_reply.started": "2023-06-16T14:37:31.830542Z"
    }
   },
   "outputs": [],
   "source": [
    "age_group = person_age.groupby('AgeGroup')['PersonId'].count().reset_index()"
   ]
  },
  {
   "cell_type": "code",
   "execution_count": 52,
   "id": "2bedd7d4-af60-4b59-a9e6-267db1054b0a",
   "metadata": {
    "execution": {
     "iopub.execute_input": "2023-06-16T15:25:59.686853Z",
     "iopub.status.busy": "2023-06-16T15:25:59.686539Z",
     "iopub.status.idle": "2023-06-16T15:25:59.691658Z",
     "shell.execute_reply": "2023-06-16T15:25:59.691034Z",
     "shell.execute_reply.started": "2023-06-16T15:25:59.686832Z"
    },
    "tags": []
   },
   "outputs": [],
   "source": [
    "age_group['Percentage'] = age_group.PersonId / age_group.PersonId.sum() *100\n",
    "age_group.rename({'PersonId':'PersonCount'},inplace=True)"
   ]
  },
  {
   "cell_type": "code",
   "execution_count": 53,
   "id": "ae9f2df5-842a-4068-84a8-dc8699e64eda",
   "metadata": {
    "execution": {
     "iopub.execute_input": "2023-06-16T15:26:05.714710Z",
     "iopub.status.busy": "2023-06-16T15:26:05.714221Z",
     "iopub.status.idle": "2023-06-16T15:26:05.720717Z",
     "shell.execute_reply": "2023-06-16T15:26:05.720087Z",
     "shell.execute_reply.started": "2023-06-16T15:26:05.714687Z"
    }
   },
   "outputs": [
    {
     "data": {
      "text/html": [
       "<div>\n",
       "<style scoped>\n",
       "    .dataframe tbody tr th:only-of-type {\n",
       "        vertical-align: middle;\n",
       "    }\n",
       "\n",
       "    .dataframe tbody tr th {\n",
       "        vertical-align: top;\n",
       "    }\n",
       "\n",
       "    .dataframe thead th {\n",
       "        text-align: right;\n",
       "    }\n",
       "</style>\n",
       "<table border=\"1\" class=\"dataframe\">\n",
       "  <thead>\n",
       "    <tr style=\"text-align: right;\">\n",
       "      <th></th>\n",
       "      <th>AgeGroup</th>\n",
       "      <th>PersonId</th>\n",
       "      <th>Percentage</th>\n",
       "    </tr>\n",
       "  </thead>\n",
       "  <tbody>\n",
       "    <tr>\n",
       "      <th>0</th>\n",
       "      <td>18-39</td>\n",
       "      <td>49054</td>\n",
       "      <td>4.064429</td>\n",
       "    </tr>\n",
       "    <tr>\n",
       "      <th>1</th>\n",
       "      <td>40-63</td>\n",
       "      <td>395362</td>\n",
       "      <td>32.758201</td>\n",
       "    </tr>\n",
       "    <tr>\n",
       "      <th>2</th>\n",
       "      <td>64+</td>\n",
       "      <td>761462</td>\n",
       "      <td>63.091863</td>\n",
       "    </tr>\n",
       "    <tr>\n",
       "      <th>3</th>\n",
       "      <td>&lt;18</td>\n",
       "      <td>1032</td>\n",
       "      <td>0.085508</td>\n",
       "    </tr>\n",
       "  </tbody>\n",
       "</table>\n",
       "</div>"
      ],
      "text/plain": [
       "  AgeGroup  PersonId  Percentage\n",
       "0    18-39     49054    4.064429\n",
       "1    40-63    395362   32.758201\n",
       "2      64+    761462   63.091863\n",
       "3      <18      1032    0.085508"
      ]
     },
     "execution_count": 53,
     "metadata": {},
     "output_type": "execute_result"
    }
   ],
   "source": [
    "age_group\n"
   ]
  },
  {
   "cell_type": "code",
   "execution_count": 6,
   "id": "8f2cf78a-9482-4505-989a-4c30b5c60dd6",
   "metadata": {
    "execution": {
     "iopub.execute_input": "2023-06-26T19:30:39.565336Z",
     "iopub.status.busy": "2023-06-26T19:30:39.564966Z",
     "iopub.status.idle": "2023-06-26T19:30:47.167413Z",
     "shell.execute_reply": "2023-06-26T19:30:47.166738Z",
     "shell.execute_reply.started": "2023-06-26T19:30:39.565313Z"
    },
    "tags": []
   },
   "outputs": [
    {
     "name": "stdout",
     "output_type": "stream",
     "text": [
      "Loading: PersonLocation\n"
     ]
    }
   ],
   "source": [
    "load_and_dump(\"PersonLocation\")"
   ]
  },
  {
   "cell_type": "code",
   "execution_count": 9,
   "id": "781a5d4f-0949-4521-aa50-b0ae3b27e4c6",
   "metadata": {
    "execution": {
     "iopub.execute_input": "2023-06-26T19:58:45.085789Z",
     "iopub.status.busy": "2023-06-26T19:58:45.085435Z",
     "iopub.status.idle": "2023-06-26T19:58:49.980093Z",
     "shell.execute_reply": "2023-06-26T19:58:49.979502Z",
     "shell.execute_reply.started": "2023-06-26T19:58:45.085766Z"
    }
   },
   "outputs": [
    {
     "name": "stdout",
     "output_type": "stream",
     "text": [
      "Loading: Location\n"
     ]
    }
   ],
   "source": [
    "load_and_dump('Location')"
   ]
  },
  {
   "cell_type": "code",
   "execution_count": 10,
   "id": "99272231-9013-432c-acab-0b8e327e2cab",
   "metadata": {
    "execution": {
     "iopub.execute_input": "2023-06-26T19:59:51.348433Z",
     "iopub.status.busy": "2023-06-26T19:59:51.348263Z",
     "iopub.status.idle": "2023-06-26T19:59:51.656188Z",
     "shell.execute_reply": "2023-06-26T19:59:51.655600Z",
     "shell.execute_reply.started": "2023-06-26T19:59:51.348418Z"
    }
   },
   "outputs": [],
   "source": [
    "location = pd.read_parquet(\"data/Location.parquet\")"
   ]
  },
  {
   "cell_type": "code",
   "execution_count": 7,
   "id": "dd1f4f38-a3d4-4666-9c5b-ca1675da4661",
   "metadata": {
    "execution": {
     "iopub.execute_input": "2023-06-26T19:57:42.875326Z",
     "iopub.status.busy": "2023-06-26T19:57:42.874987Z",
     "iopub.status.idle": "2023-06-26T19:57:43.868889Z",
     "shell.execute_reply": "2023-06-26T19:57:43.868338Z",
     "shell.execute_reply.started": "2023-06-26T19:57:42.875304Z"
    }
   },
   "outputs": [],
   "source": [
    "pl = pd.read_parquet(\"data/PersonLocation.parquet\")"
   ]
  },
  {
   "cell_type": "code",
   "execution_count": 8,
   "id": "a8b86f1c-c896-4ccc-9fcb-afdff50c80a8",
   "metadata": {
    "execution": {
     "iopub.execute_input": "2023-06-26T19:57:49.631545Z",
     "iopub.status.busy": "2023-06-26T19:57:49.631099Z",
     "iopub.status.idle": "2023-06-26T19:57:49.639057Z",
     "shell.execute_reply": "2023-06-26T19:57:49.638555Z",
     "shell.execute_reply.started": "2023-06-26T19:57:49.631525Z"
    }
   },
   "outputs": [
    {
     "data": {
      "text/html": [
       "<div>\n",
       "<style scoped>\n",
       "    .dataframe tbody tr th:only-of-type {\n",
       "        vertical-align: middle;\n",
       "    }\n",
       "\n",
       "    .dataframe tbody tr th {\n",
       "        vertical-align: top;\n",
       "    }\n",
       "\n",
       "    .dataframe thead th {\n",
       "        text-align: right;\n",
       "    }\n",
       "</style>\n",
       "<table border=\"1\" class=\"dataframe\">\n",
       "  <thead>\n",
       "    <tr style=\"text-align: right;\">\n",
       "      <th></th>\n",
       "      <th>EffectiveStartDateTime</th>\n",
       "      <th>Id</th>\n",
       "      <th>LocationId</th>\n",
       "      <th>PersonId</th>\n",
       "      <th>UseConceptId</th>\n",
       "    </tr>\n",
       "  </thead>\n",
       "  <tbody>\n",
       "    <tr>\n",
       "      <th>0</th>\n",
       "      <td>2018-04-11 10:38:07</td>\n",
       "      <td>27efe796-62a2-38b5-7033-b89e51dbb4c0</td>\n",
       "      <td>816e0c8c-b676-3b0c-df95-09e2f697b501</td>\n",
       "      <td>b61ce239-6cdd-1b52-3a1e-ee152787b4ad</td>\n",
       "      <td>1067556</td>\n",
       "    </tr>\n",
       "    <tr>\n",
       "      <th>1</th>\n",
       "      <td>2017-11-07 16:43:46</td>\n",
       "      <td>7cdcca27-7111-da5a-bb67-a605a4b40066</td>\n",
       "      <td>ca57eb86-dba8-604e-450d-e8d6c0dd8bea</td>\n",
       "      <td>ee9d93ae-aa70-a9e7-3657-94e956309c36</td>\n",
       "      <td>1067556</td>\n",
       "    </tr>\n",
       "    <tr>\n",
       "      <th>2</th>\n",
       "      <td>2018-05-16 10:03:34</td>\n",
       "      <td>c7adc1de-2d49-8c5a-04c8-644811ca9358</td>\n",
       "      <td>025a7d05-f47c-7570-0c7a-c251bf6a8683</td>\n",
       "      <td>67a2a7dc-02b2-8931-9a44-a99d50601ff7</td>\n",
       "      <td>1067556</td>\n",
       "    </tr>\n",
       "    <tr>\n",
       "      <th>3</th>\n",
       "      <td>2019-02-11 21:12:30</td>\n",
       "      <td>ccdd3cc4-78ed-6303-e76a-3b890a41f4c2</td>\n",
       "      <td>c6cee469-d891-110e-b68e-f1833be7c7f3</td>\n",
       "      <td>f52e366a-69d2-fb8b-8c34-b6ab556ba18b</td>\n",
       "      <td>1067556</td>\n",
       "    </tr>\n",
       "    <tr>\n",
       "      <th>4</th>\n",
       "      <td>2018-06-21 07:48:03</td>\n",
       "      <td>1bb6a1b8-4521-bb05-0693-ebe11327d751</td>\n",
       "      <td>0a0635e2-9b6c-f980-9f09-98a7bf16c067</td>\n",
       "      <td>718774a3-bab6-3cb7-6375-15f0332ccd0c</td>\n",
       "      <td>1067556</td>\n",
       "    </tr>\n",
       "  </tbody>\n",
       "</table>\n",
       "</div>"
      ],
      "text/plain": [
       "  EffectiveStartDateTime                                    Id  \\\n",
       "0    2018-04-11 10:38:07  27efe796-62a2-38b5-7033-b89e51dbb4c0   \n",
       "1    2017-11-07 16:43:46  7cdcca27-7111-da5a-bb67-a605a4b40066   \n",
       "2    2018-05-16 10:03:34  c7adc1de-2d49-8c5a-04c8-644811ca9358   \n",
       "3    2019-02-11 21:12:30  ccdd3cc4-78ed-6303-e76a-3b890a41f4c2   \n",
       "4    2018-06-21 07:48:03  1bb6a1b8-4521-bb05-0693-ebe11327d751   \n",
       "\n",
       "                             LocationId                              PersonId  \\\n",
       "0  816e0c8c-b676-3b0c-df95-09e2f697b501  b61ce239-6cdd-1b52-3a1e-ee152787b4ad   \n",
       "1  ca57eb86-dba8-604e-450d-e8d6c0dd8bea  ee9d93ae-aa70-a9e7-3657-94e956309c36   \n",
       "2  025a7d05-f47c-7570-0c7a-c251bf6a8683  67a2a7dc-02b2-8931-9a44-a99d50601ff7   \n",
       "3  c6cee469-d891-110e-b68e-f1833be7c7f3  f52e366a-69d2-fb8b-8c34-b6ab556ba18b   \n",
       "4  0a0635e2-9b6c-f980-9f09-98a7bf16c067  718774a3-bab6-3cb7-6375-15f0332ccd0c   \n",
       "\n",
       "   UseConceptId  \n",
       "0       1067556  \n",
       "1       1067556  \n",
       "2       1067556  \n",
       "3       1067556  \n",
       "4       1067556  "
      ]
     },
     "execution_count": 8,
     "metadata": {},
     "output_type": "execute_result"
    }
   ],
   "source": [
    "pl.head()"
   ]
  },
  {
   "cell_type": "code",
   "execution_count": 11,
   "id": "e5189c14-e030-4bfb-9e86-4c602b812cef",
   "metadata": {
    "execution": {
     "iopub.execute_input": "2023-06-26T20:00:59.590899Z",
     "iopub.status.busy": "2023-06-26T20:00:59.590105Z",
     "iopub.status.idle": "2023-06-26T20:01:42.481852Z",
     "shell.execute_reply": "2023-06-26T20:01:42.481255Z",
     "shell.execute_reply.started": "2023-06-26T20:00:59.590873Z"
    }
   },
   "outputs": [],
   "source": [
    "person_location = pl.merge(location, left_on = 'LocationId', right_on='Id', how = 'left')"
   ]
  },
  {
   "cell_type": "code",
   "execution_count": null,
   "id": "0d1e59f2-7910-47d0-a301-ef51288ac3da",
   "metadata": {},
   "outputs": [],
   "source": [
    "person_location.groupby('PersonId').LocationId.count().describe()"
   ]
  },
  {
   "cell_type": "code",
   "execution_count": 6,
   "id": "89c1d7c5-5c66-4e67-ab83-d9ade7c9068f",
   "metadata": {
    "execution": {
     "iopub.execute_input": "2023-06-26T20:19:51.491901Z",
     "iopub.status.busy": "2023-06-26T20:19:51.491539Z",
     "iopub.status.idle": "2023-06-26T20:24:27.390347Z",
     "shell.execute_reply": "2023-06-26T20:24:27.389389Z",
     "shell.execute_reply.started": "2023-06-26T20:19:51.491879Z"
    },
    "tags": []
   },
   "outputs": [],
   "source": [
    "sql = \"\"\"select l.StateOrProvinceConceptId, count(distinct PersonId) as cnt\n",
    "from PersonLocation pl join Location l on (pl.LocationId = l.Id)\n",
    "where StateOrProvinceConceptId is not NULL and StateOrProvinceConceptId not in (0,1067561,1067557)\n",
    "group by StateOrProvinceConceptId\n",
    "order by cnt\"\"\"\n",
    "\n",
    "location_cnt = population.load_sql_table(sql = sql)"
   ]
  },
  {
   "cell_type": "code",
   "execution_count": 9,
   "id": "74674180-a911-4654-ba87-1c4a2794c51a",
   "metadata": {
    "execution": {
     "iopub.execute_input": "2023-06-26T20:30:55.429491Z",
     "iopub.status.busy": "2023-06-26T20:30:55.428567Z",
     "iopub.status.idle": "2023-06-26T20:30:56.144618Z",
     "shell.execute_reply": "2023-06-26T20:30:56.143939Z",
     "shell.execute_reply.started": "2023-06-26T20:30:55.429448Z"
    },
    "tags": []
   },
   "outputs": [
    {
     "data": {
      "text/html": [
       "<div>\n",
       "<style scoped>\n",
       "    .dataframe tbody tr th:only-of-type {\n",
       "        vertical-align: middle;\n",
       "    }\n",
       "\n",
       "    .dataframe tbody tr th {\n",
       "        vertical-align: top;\n",
       "    }\n",
       "\n",
       "    .dataframe thead th {\n",
       "        text-align: right;\n",
       "    }\n",
       "</style>\n",
       "<table border=\"1\" class=\"dataframe\">\n",
       "  <thead>\n",
       "    <tr style=\"text-align: right;\">\n",
       "      <th></th>\n",
       "      <th>StateOrProvinceConceptId</th>\n",
       "      <th>ConceptName</th>\n",
       "      <th>cnt</th>\n",
       "    </tr>\n",
       "  </thead>\n",
       "  <tbody>\n",
       "    <tr>\n",
       "      <th>0</th>\n",
       "      <td>0.0</td>\n",
       "      <td>Field has not been mapped</td>\n",
       "      <td>9851</td>\n",
       "    </tr>\n",
       "    <tr>\n",
       "      <th>1</th>\n",
       "      <td>1067503.0</td>\n",
       "      <td>Michigan</td>\n",
       "      <td>52285</td>\n",
       "    </tr>\n",
       "    <tr>\n",
       "      <th>2</th>\n",
       "      <td>1067493.0</td>\n",
       "      <td>Idaho</td>\n",
       "      <td>1961</td>\n",
       "    </tr>\n",
       "    <tr>\n",
       "      <th>3</th>\n",
       "      <td>1067528.0</td>\n",
       "      <td>Tennessee</td>\n",
       "      <td>581</td>\n",
       "    </tr>\n",
       "    <tr>\n",
       "      <th>4</th>\n",
       "      <td>1067536.0</td>\n",
       "      <td>Washington</td>\n",
       "      <td>99314</td>\n",
       "    </tr>\n",
       "    <tr>\n",
       "      <th>5</th>\n",
       "      <td>NaN</td>\n",
       "      <td>NaN</td>\n",
       "      <td>25327</td>\n",
       "    </tr>\n",
       "    <tr>\n",
       "      <th>6</th>\n",
       "      <td>1067511.0</td>\n",
       "      <td>Nebraska</td>\n",
       "      <td>390</td>\n",
       "    </tr>\n",
       "    <tr>\n",
       "      <th>7</th>\n",
       "      <td>1067505.0</td>\n",
       "      <td>Missouri</td>\n",
       "      <td>25495</td>\n",
       "    </tr>\n",
       "    <tr>\n",
       "      <th>8</th>\n",
       "      <td>1067522.0</td>\n",
       "      <td>Pennsylvania</td>\n",
       "      <td>593</td>\n",
       "    </tr>\n",
       "    <tr>\n",
       "      <th>9</th>\n",
       "      <td>1067491.0</td>\n",
       "      <td>Hawaii</td>\n",
       "      <td>2699</td>\n",
       "    </tr>\n",
       "    <tr>\n",
       "      <th>10</th>\n",
       "      <td>1067486.0</td>\n",
       "      <td>Delaware</td>\n",
       "      <td>36</td>\n",
       "    </tr>\n",
       "    <tr>\n",
       "      <th>11</th>\n",
       "      <td>1067497.0</td>\n",
       "      <td>Kentucky</td>\n",
       "      <td>6849</td>\n",
       "    </tr>\n",
       "    <tr>\n",
       "      <th>12</th>\n",
       "      <td>1067480.0</td>\n",
       "      <td>Arizona</td>\n",
       "      <td>937</td>\n",
       "    </tr>\n",
       "    <tr>\n",
       "      <th>13</th>\n",
       "      <td>1067476.0</td>\n",
       "      <td>Alaska</td>\n",
       "      <td>7448</td>\n",
       "    </tr>\n",
       "    <tr>\n",
       "      <th>14</th>\n",
       "      <td>1067517.0</td>\n",
       "      <td>New York</td>\n",
       "      <td>44069</td>\n",
       "    </tr>\n",
       "    <tr>\n",
       "      <th>15</th>\n",
       "      <td>1067496.0</td>\n",
       "      <td>Kansas</td>\n",
       "      <td>12668</td>\n",
       "    </tr>\n",
       "    <tr>\n",
       "      <th>16</th>\n",
       "      <td>2703599.0</td>\n",
       "      <td>Defer</td>\n",
       "      <td>137</td>\n",
       "    </tr>\n",
       "    <tr>\n",
       "      <th>17</th>\n",
       "      <td>1067492.0</td>\n",
       "      <td>Iowa</td>\n",
       "      <td>54811</td>\n",
       "    </tr>\n",
       "    <tr>\n",
       "      <th>18</th>\n",
       "      <td>1067537.0</td>\n",
       "      <td>Wisconsin</td>\n",
       "      <td>74638</td>\n",
       "    </tr>\n",
       "    <tr>\n",
       "      <th>19</th>\n",
       "      <td>1067504.0</td>\n",
       "      <td>Minnesota</td>\n",
       "      <td>194</td>\n",
       "    </tr>\n",
       "    <tr>\n",
       "      <th>20</th>\n",
       "      <td>1067514.0</td>\n",
       "      <td>New Mexico</td>\n",
       "      <td>131</td>\n",
       "    </tr>\n",
       "    <tr>\n",
       "      <th>21</th>\n",
       "      <td>1067523.0</td>\n",
       "      <td>Puerto Rico</td>\n",
       "      <td>74</td>\n",
       "    </tr>\n",
       "    <tr>\n",
       "      <th>22</th>\n",
       "      <td>1067529.0</td>\n",
       "      <td>Texas</td>\n",
       "      <td>163983</td>\n",
       "    </tr>\n",
       "    <tr>\n",
       "      <th>23</th>\n",
       "      <td>1067516.0</td>\n",
       "      <td>Nevada</td>\n",
       "      <td>343</td>\n",
       "    </tr>\n",
       "    <tr>\n",
       "      <th>24</th>\n",
       "      <td>1067477.0</td>\n",
       "      <td>Alabama</td>\n",
       "      <td>121</td>\n",
       "    </tr>\n",
       "    <tr>\n",
       "      <th>25</th>\n",
       "      <td>1067525.0</td>\n",
       "      <td>Rhode Island</td>\n",
       "      <td>13</td>\n",
       "    </tr>\n",
       "    <tr>\n",
       "      <th>26</th>\n",
       "      <td>1067510.0</td>\n",
       "      <td>North Dakota</td>\n",
       "      <td>18</td>\n",
       "    </tr>\n",
       "    <tr>\n",
       "      <th>27</th>\n",
       "      <td>1067535.0</td>\n",
       "      <td>Vermont</td>\n",
       "      <td>14</td>\n",
       "    </tr>\n",
       "    <tr>\n",
       "      <th>28</th>\n",
       "      <td>1067487.0</td>\n",
       "      <td>Florida</td>\n",
       "      <td>58002</td>\n",
       "    </tr>\n",
       "    <tr>\n",
       "      <th>29</th>\n",
       "      <td>1067533.0</td>\n",
       "      <td>Virginia</td>\n",
       "      <td>111669</td>\n",
       "    </tr>\n",
       "    <tr>\n",
       "      <th>30</th>\n",
       "      <td>1067483.0</td>\n",
       "      <td>Colorado</td>\n",
       "      <td>322</td>\n",
       "    </tr>\n",
       "    <tr>\n",
       "      <th>31</th>\n",
       "      <td>1067498.0</td>\n",
       "      <td>Louisiana</td>\n",
       "      <td>193</td>\n",
       "    </tr>\n",
       "    <tr>\n",
       "      <th>32</th>\n",
       "      <td>1067556.0</td>\n",
       "      <td>Masked</td>\n",
       "      <td>104192</td>\n",
       "    </tr>\n",
       "    <tr>\n",
       "      <th>33</th>\n",
       "      <td>1067539.0</td>\n",
       "      <td>Wyoming</td>\n",
       "      <td>33</td>\n",
       "    </tr>\n",
       "    <tr>\n",
       "      <th>34</th>\n",
       "      <td>1067518.0</td>\n",
       "      <td>Ohio</td>\n",
       "      <td>69954</td>\n",
       "    </tr>\n",
       "    <tr>\n",
       "      <th>35</th>\n",
       "      <td>1067494.0</td>\n",
       "      <td>Illinois</td>\n",
       "      <td>89547</td>\n",
       "    </tr>\n",
       "    <tr>\n",
       "      <th>36</th>\n",
       "      <td>1067527.0</td>\n",
       "      <td>South Dakota</td>\n",
       "      <td>252</td>\n",
       "    </tr>\n",
       "    <tr>\n",
       "      <th>37</th>\n",
       "      <td>1067512.0</td>\n",
       "      <td>New Hampshire</td>\n",
       "      <td>30</td>\n",
       "    </tr>\n",
       "    <tr>\n",
       "      <th>38</th>\n",
       "      <td>1067521.0</td>\n",
       "      <td>Oregon</td>\n",
       "      <td>45829</td>\n",
       "    </tr>\n",
       "    <tr>\n",
       "      <th>39</th>\n",
       "      <td>1067508.0</td>\n",
       "      <td>Montana</td>\n",
       "      <td>8938</td>\n",
       "    </tr>\n",
       "    <tr>\n",
       "      <th>40</th>\n",
       "      <td>1067500.0</td>\n",
       "      <td>Maryland</td>\n",
       "      <td>349</td>\n",
       "    </tr>\n",
       "    <tr>\n",
       "      <th>41</th>\n",
       "      <td>1067485.0</td>\n",
       "      <td>District of Columbia</td>\n",
       "      <td>16</td>\n",
       "    </tr>\n",
       "    <tr>\n",
       "      <th>42</th>\n",
       "      <td>1067532.0</td>\n",
       "      <td>Utah</td>\n",
       "      <td>83</td>\n",
       "    </tr>\n",
       "    <tr>\n",
       "      <th>43</th>\n",
       "      <td>1067513.0</td>\n",
       "      <td>New Jersey</td>\n",
       "      <td>662</td>\n",
       "    </tr>\n",
       "    <tr>\n",
       "      <th>44</th>\n",
       "      <td>1067478.0</td>\n",
       "      <td>Arkansas</td>\n",
       "      <td>221</td>\n",
       "    </tr>\n",
       "    <tr>\n",
       "      <th>45</th>\n",
       "      <td>1067526.0</td>\n",
       "      <td>South Carolina</td>\n",
       "      <td>20572</td>\n",
       "    </tr>\n",
       "    <tr>\n",
       "      <th>46</th>\n",
       "      <td>1067561.0</td>\n",
       "      <td>No Information</td>\n",
       "      <td>112</td>\n",
       "    </tr>\n",
       "    <tr>\n",
       "      <th>47</th>\n",
       "      <td>1067507.0</td>\n",
       "      <td>Mississippi</td>\n",
       "      <td>92</td>\n",
       "    </tr>\n",
       "    <tr>\n",
       "      <th>48</th>\n",
       "      <td>1067484.0</td>\n",
       "      <td>Connecticut</td>\n",
       "      <td>1861</td>\n",
       "    </tr>\n",
       "    <tr>\n",
       "      <th>49</th>\n",
       "      <td>1067501.0</td>\n",
       "      <td>Maine</td>\n",
       "      <td>35</td>\n",
       "    </tr>\n",
       "    <tr>\n",
       "      <th>50</th>\n",
       "      <td>1067519.0</td>\n",
       "      <td>Oklahoma</td>\n",
       "      <td>479</td>\n",
       "    </tr>\n",
       "    <tr>\n",
       "      <th>51</th>\n",
       "      <td>1067499.0</td>\n",
       "      <td>Massachusetts</td>\n",
       "      <td>180</td>\n",
       "    </tr>\n",
       "    <tr>\n",
       "      <th>52</th>\n",
       "      <td>1067489.0</td>\n",
       "      <td>Georgia</td>\n",
       "      <td>2089</td>\n",
       "    </tr>\n",
       "    <tr>\n",
       "      <th>53</th>\n",
       "      <td>1067557.0</td>\n",
       "      <td>Field is not present in source</td>\n",
       "      <td>298</td>\n",
       "    </tr>\n",
       "    <tr>\n",
       "      <th>54</th>\n",
       "      <td>1067482.0</td>\n",
       "      <td>California</td>\n",
       "      <td>49673</td>\n",
       "    </tr>\n",
       "    <tr>\n",
       "      <th>55</th>\n",
       "      <td>1067509.0</td>\n",
       "      <td>North Carolina</td>\n",
       "      <td>105802</td>\n",
       "    </tr>\n",
       "    <tr>\n",
       "      <th>56</th>\n",
       "      <td>1067495.0</td>\n",
       "      <td>Indiana</td>\n",
       "      <td>1715</td>\n",
       "    </tr>\n",
       "    <tr>\n",
       "      <th>57</th>\n",
       "      <td>1067538.0</td>\n",
       "      <td>West Virginia</td>\n",
       "      <td>554</td>\n",
       "    </tr>\n",
       "    <tr>\n",
       "      <th>58</th>\n",
       "      <td>1067520.0</td>\n",
       "      <td>Ontario</td>\n",
       "      <td>33</td>\n",
       "    </tr>\n",
       "  </tbody>\n",
       "</table>\n",
       "</div>"
      ],
      "text/plain": [
       "    StateOrProvinceConceptId                     ConceptName     cnt\n",
       "0                        0.0       Field has not been mapped    9851\n",
       "1                  1067503.0                        Michigan   52285\n",
       "2                  1067493.0                           Idaho    1961\n",
       "3                  1067528.0                       Tennessee     581\n",
       "4                  1067536.0                      Washington   99314\n",
       "5                        NaN                             NaN   25327\n",
       "6                  1067511.0                        Nebraska     390\n",
       "7                  1067505.0                        Missouri   25495\n",
       "8                  1067522.0                    Pennsylvania     593\n",
       "9                  1067491.0                          Hawaii    2699\n",
       "10                 1067486.0                        Delaware      36\n",
       "11                 1067497.0                        Kentucky    6849\n",
       "12                 1067480.0                         Arizona     937\n",
       "13                 1067476.0                          Alaska    7448\n",
       "14                 1067517.0                        New York   44069\n",
       "15                 1067496.0                          Kansas   12668\n",
       "16                 2703599.0                           Defer     137\n",
       "17                 1067492.0                            Iowa   54811\n",
       "18                 1067537.0                       Wisconsin   74638\n",
       "19                 1067504.0                       Minnesota     194\n",
       "20                 1067514.0                      New Mexico     131\n",
       "21                 1067523.0                     Puerto Rico      74\n",
       "22                 1067529.0                           Texas  163983\n",
       "23                 1067516.0                          Nevada     343\n",
       "24                 1067477.0                         Alabama     121\n",
       "25                 1067525.0                    Rhode Island      13\n",
       "26                 1067510.0                    North Dakota      18\n",
       "27                 1067535.0                         Vermont      14\n",
       "28                 1067487.0                         Florida   58002\n",
       "29                 1067533.0                        Virginia  111669\n",
       "30                 1067483.0                        Colorado     322\n",
       "31                 1067498.0                       Louisiana     193\n",
       "32                 1067556.0                          Masked  104192\n",
       "33                 1067539.0                         Wyoming      33\n",
       "34                 1067518.0                            Ohio   69954\n",
       "35                 1067494.0                        Illinois   89547\n",
       "36                 1067527.0                    South Dakota     252\n",
       "37                 1067512.0                   New Hampshire      30\n",
       "38                 1067521.0                          Oregon   45829\n",
       "39                 1067508.0                         Montana    8938\n",
       "40                 1067500.0                        Maryland     349\n",
       "41                 1067485.0            District of Columbia      16\n",
       "42                 1067532.0                            Utah      83\n",
       "43                 1067513.0                      New Jersey     662\n",
       "44                 1067478.0                        Arkansas     221\n",
       "45                 1067526.0                  South Carolina   20572\n",
       "46                 1067561.0                  No Information     112\n",
       "47                 1067507.0                     Mississippi      92\n",
       "48                 1067484.0                     Connecticut    1861\n",
       "49                 1067501.0                           Maine      35\n",
       "50                 1067519.0                        Oklahoma     479\n",
       "51                 1067499.0                   Massachusetts     180\n",
       "52                 1067489.0                         Georgia    2089\n",
       "53                 1067557.0  Field is not present in source     298\n",
       "54                 1067482.0                      California   49673\n",
       "55                 1067509.0                  North Carolina  105802\n",
       "56                 1067495.0                         Indiana    1715\n",
       "57                 1067538.0                   West Virginia     554\n",
       "58                 1067520.0                         Ontario      33"
      ]
     },
     "execution_count": 9,
     "metadata": {},
     "output_type": "execute_result"
    }
   ],
   "source": [
    "location_name = location_cnt.merge(concept, left_on = 'StateOrProvinceConceptId', right_on = 'ConceptId',how = \"left\")\n",
    "location_name[['StateOrProvinceConceptId','ConceptName','cnt']]"
   ]
  },
  {
   "cell_type": "code",
   "execution_count": null,
   "id": "be360868-c025-4bda-ace4-5880d353418e",
   "metadata": {},
   "outputs": [],
   "source": [
    "#check marital status\n"
   ]
  }
 ],
 "metadata": {
  "kernelspec": {
   "display_name": "Python 3 (ipykernel)",
   "language": "python",
   "name": "python3"
  },
  "language_info": {
   "codemirror_mode": {
    "name": "ipython",
    "version": 3
   },
   "file_extension": ".py",
   "mimetype": "text/x-python",
   "name": "python",
   "nbconvert_exporter": "python",
   "pygments_lexer": "ipython3",
   "version": "3.10.5"
  }
 },
 "nbformat": 4,
 "nbformat_minor": 5
}
