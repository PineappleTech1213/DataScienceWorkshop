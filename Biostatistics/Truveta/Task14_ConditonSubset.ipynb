{
 "cells": [
  {
   "cell_type": "code",
   "execution_count": 2,
   "id": "83fa4a5b-84a3-46e9-a51f-12d93f5a49fb",
   "metadata": {
    "execution": {
     "iopub.execute_input": "2023-08-01T18:21:18.545351Z",
     "iopub.status.busy": "2023-08-01T18:21:18.523659Z",
     "iopub.status.idle": "2023-08-01T18:21:19.132469Z",
     "shell.execute_reply": "2023-08-01T18:21:19.131465Z"
    },
    "tags": []
   },
   "outputs": [
    {
     "name": "stderr",
     "output_type": "stream",
     "text": [
      "here() starts at /home/jovyan/studyrepositories/hypertensioncohorts-is5fyzbqztbebenalfbuo4boem\n",
      "\n",
      "Loading required package: DBI\n",
      "\n",
      "\n",
      "Attaching package: ‘dbplyr’\n",
      "\n",
      "\n",
      "The following objects are masked from ‘package:dplyr’:\n",
      "\n",
      "    ident, sql\n",
      "\n",
      "\n"
     ]
    }
   ],
   "source": [
    "library(here)\n",
    "library(here)\n",
    "library(readr, warn.conflicts = FALSE)\n",
    "library(arrow, warn.conflicts = FALSE)\n",
    "library(magrittr, warn.conflicts = FALSE)\n",
    "library(stringr, warn.conflicts = FALSE)\n",
    "library(dplyr, warn.conflicts = FALSE)\n",
    "library(rlang, warn.conflicts = FALSE)\n",
    "library(data.table, warn.conflicts = FALSE)\n",
    "library(lubridate, warn.conflicts = FALSE)\n",
    "library(tidyr, warn.conflicts = FALSE)\n",
    "library(truveta.study)\n",
    "library(dbplyr)\n",
    "library(lubridate)"
   ]
  },
  {
   "cell_type": "code",
   "execution_count": 3,
   "id": "3d5b3980-d1d5-4024-9a51-9b0e7b6e8434",
   "metadata": {
    "execution": {
     "iopub.execute_input": "2023-08-01T18:21:19.135049Z",
     "iopub.status.busy": "2023-08-01T18:21:19.134006Z",
     "iopub.status.idle": "2023-08-01T18:21:25.940122Z",
     "shell.execute_reply": "2023-08-01T18:21:25.938318Z"
    },
    "tags": []
   },
   "outputs": [
    {
     "name": "stdout",
     "output_type": "stream",
     "text": [
      "[1] \"Deprecation warning: the Vital and SocialHistory tables will be removed from the Truveta Data Model on September 12th, 2023. New snapshots generated after this date will exclude these tables. Existing snapshots which include these tables will be unaffected. Visit Learn for more information.\"\n"
     ]
    },
    {
     "name": "stderr",
     "output_type": "stream",
     "text": [
      "To sign in to Truveta, use a web browser to open the page https://login.truveta.com/activate?user_code=MNFQ-FFBT.\n",
      "\n",
      "Signed in successfully.\n",
      "\n"
     ]
    }
   ],
   "source": [
    "# build connections \n",
    "con <- create_connection()\n",
    "study <- get_study(con, title = \"Hypertension Cohort\")\n",
    "population <- get_population(con, study, title = \"Study Cohort\")\n",
    "snapshot <- get_latest_snapshot(con, population, finished = TRUE)"
   ]
  },
  {
   "cell_type": "code",
   "execution_count": 4,
   "id": "2d4d367c-d001-4914-83c6-4d9e3a1b976e",
   "metadata": {
    "execution": {
     "iopub.execute_input": "2023-08-01T18:21:28.182247Z",
     "iopub.status.busy": "2023-08-01T18:21:28.181118Z",
     "iopub.status.idle": "2023-08-01T18:21:29.492157Z",
     "shell.execute_reply": "2023-08-01T18:21:29.490989Z"
    },
    "tags": []
   },
   "outputs": [],
   "source": [
    "# prepare concept table\n",
    "concept <- read_parquet(\"data/Concept.parquet\")\n",
    "unidentified_conditions <- c(0,1067557,1067561)\n",
    "params <- list(\n",
    "    'codes'=unidentified_conditions\n",
    ")"
   ]
  },
  {
   "cell_type": "code",
   "execution_count": 9,
   "id": "6566d6d8-2c98-4159-be26-da53c7031091",
   "metadata": {
    "execution": {
     "iopub.execute_input": "2023-07-25T20:29:54.616548Z",
     "iopub.status.busy": "2023-07-25T20:29:54.615244Z",
     "iopub.status.idle": "2023-07-25T20:30:48.545914Z",
     "shell.execute_reply": "2023-07-25T20:30:48.544264Z"
    }
   },
   "outputs": [
    {
     "data": {
      "text/html": [
       "<table class=\"dataframe\">\n",
       "<caption>A tibble: 1 × 1</caption>\n",
       "<thead>\n",
       "\t<tr><th scope=col>cnt</th></tr>\n",
       "\t<tr><th scope=col>&lt;int&gt;</th></tr>\n",
       "</thead>\n",
       "<tbody>\n",
       "\t<tr><td>735047629</td></tr>\n",
       "</tbody>\n",
       "</table>\n"
      ],
      "text/latex": [
       "A tibble: 1 × 1\n",
       "\\begin{tabular}{l}\n",
       " cnt\\\\\n",
       " <int>\\\\\n",
       "\\hline\n",
       "\t 735047629\\\\\n",
       "\\end{tabular}\n"
      ],
      "text/markdown": [
       "\n",
       "A tibble: 1 × 1\n",
       "\n",
       "| cnt &lt;int&gt; |\n",
       "|---|\n",
       "| 735047629 |\n",
       "\n"
      ],
      "text/plain": [
       "  cnt      \n",
       "1 735047629"
      ]
     },
     "metadata": {},
     "output_type": "display_data"
    }
   ],
   "source": [
    "# basic descriptive data\n",
    "sql <- \"select count(distinct Id) as cnt from Condition;\"\n",
    "\n",
    "load_sql_table(con,snapshot,query = sql)%>%collect()"
   ]
  },
  {
   "cell_type": "code",
   "execution_count": 10,
   "id": "41a8ce3b-644b-4361-95ce-78d7b1813750",
   "metadata": {
    "execution": {
     "iopub.execute_input": "2023-07-25T20:32:17.247175Z",
     "iopub.status.busy": "2023-07-25T20:32:17.245967Z",
     "iopub.status.idle": "2023-07-25T20:33:03.822555Z",
     "shell.execute_reply": "2023-07-25T20:33:03.821384Z"
    }
   },
   "outputs": [
    {
     "data": {
      "text/html": [
       "<table class=\"dataframe\">\n",
       "<caption>A tibble: 1 × 1</caption>\n",
       "<thead>\n",
       "\t<tr><th scope=col>cnt</th></tr>\n",
       "\t<tr><th scope=col>&lt;int&gt;</th></tr>\n",
       "</thead>\n",
       "<tbody>\n",
       "\t<tr><td>609338994</td></tr>\n",
       "</tbody>\n",
       "</table>\n"
      ],
      "text/latex": [
       "A tibble: 1 × 1\n",
       "\\begin{tabular}{l}\n",
       " cnt\\\\\n",
       " <int>\\\\\n",
       "\\hline\n",
       "\t 609338994\\\\\n",
       "\\end{tabular}\n"
      ],
      "text/markdown": [
       "\n",
       "A tibble: 1 × 1\n",
       "\n",
       "| cnt &lt;int&gt; |\n",
       "|---|\n",
       "| 609338994 |\n",
       "\n"
      ],
      "text/plain": [
       "  cnt      \n",
       "1 609338994"
      ]
     },
     "metadata": {},
     "output_type": "display_data"
    }
   ],
   "source": [
    "# basic descriptive data\n",
    "sql <- \"select count(distinct Id) as cnt from Condition\n",
    "where RecordedDateTime is not NULL;\"\n",
    "\n",
    "load_sql_table(con,snapshot,query = sql)%>%collect()"
   ]
  },
  {
   "cell_type": "code",
   "execution_count": 8,
   "id": "e000e556-1bfb-4ed7-ad43-4d114ab6fe32",
   "metadata": {
    "execution": {
     "iopub.execute_input": "2023-07-24T13:46:01.997089Z",
     "iopub.status.busy": "2023-07-24T13:46:01.995827Z",
     "iopub.status.idle": "2023-07-24T13:46:02.006324Z",
     "shell.execute_reply": "2023-07-24T13:46:02.005000Z"
    },
    "tags": []
   },
   "outputs": [],
   "source": [
    "sql <- \"WITH t as (\n",
    "SELECT PersonId, row_number() over (partition by PersonId order by RecordedDateTime),\n",
    "RecordedDateTime, AbsoluteEffectiveDateTime \n",
    "FROM SearchResult_hypertension\n",
    "GROUP BY PersonId, RecordedDateTime, AbsoluteEffectiveDateTime),\n",
    "indexDT as (\n",
    "SELECT\n",
    "PersonId,\n",
    "RecordedDateTime,\n",
    "AbsoluteEffectiveDateTime,\n",
    "DATEDIFF(DAY, RecordedDateTime, AbsoluteEffectiveDateTime + '-01') as ShiftDays\n",
    "FROM t\n",
    "WHERE rownum=1\n",
    "ORDER BY PersonId);\n",
    "\n",
    "SELECT count(c.*) as cnt\n",
    "FROM Condition c\n",
    "JOIN indexDT i ON (c.PersonId = i.PersonId)\n",
    "WHERE\n",
    "c.RecordedDateTime IS NOT NULL AND\n",
    "year(c.RecordedDateTime + ShiftDays) = 2019\n",
    "GROUP BY c.PersonId, c.RecordedDateTime;\"\n"
   ]
  },
  {
   "cell_type": "code",
   "execution_count": 11,
   "id": "31e7b0d0-a8e2-4c5b-aefe-eced32406625",
   "metadata": {
    "execution": {
     "iopub.execute_input": "2023-07-25T20:33:03.825211Z",
     "iopub.status.busy": "2023-07-25T20:33:03.824278Z",
     "iopub.status.idle": "2023-07-25T20:33:32.666051Z",
     "shell.execute_reply": "2023-07-25T20:33:32.664794Z"
    },
    "tags": []
   },
   "outputs": [
    {
     "data": {
      "text/html": [
       "<table class=\"dataframe\">\n",
       "<caption>A tibble: 4 × 3</caption>\n",
       "<thead>\n",
       "\t<tr><th scope=col>PrimaryDiagnosisConceptId</th><th scope=col>ConceptName</th><th scope=col>Records</th></tr>\n",
       "\t<tr><th scope=col>&lt;int&gt;</th><th scope=col>&lt;chr&gt;</th><th scope=col>&lt;int&gt;</th></tr>\n",
       "</thead>\n",
       "<tbody>\n",
       "\t<tr><td>1067557</td><td>Field is not present in source</td><td>327712537</td></tr>\n",
       "\t<tr><td>1067561</td><td>No Information                </td><td>  2123482</td></tr>\n",
       "\t<tr><td>1200405</td><td>No                            </td><td>343797222</td></tr>\n",
       "\t<tr><td>1200406</td><td>Yes                           </td><td> 61414388</td></tr>\n",
       "</tbody>\n",
       "</table>\n"
      ],
      "text/latex": [
       "A tibble: 4 × 3\n",
       "\\begin{tabular}{lll}\n",
       " PrimaryDiagnosisConceptId & ConceptName & Records\\\\\n",
       " <int> & <chr> & <int>\\\\\n",
       "\\hline\n",
       "\t 1067557 & Field is not present in source & 327712537\\\\\n",
       "\t 1067561 & No Information                 &   2123482\\\\\n",
       "\t 1200405 & No                             & 343797222\\\\\n",
       "\t 1200406 & Yes                            &  61414388\\\\\n",
       "\\end{tabular}\n"
      ],
      "text/markdown": [
       "\n",
       "A tibble: 4 × 3\n",
       "\n",
       "| PrimaryDiagnosisConceptId &lt;int&gt; | ConceptName &lt;chr&gt; | Records &lt;int&gt; |\n",
       "|---|---|---|\n",
       "| 1067557 | Field is not present in source | 327712537 |\n",
       "| 1067561 | No Information                 |   2123482 |\n",
       "| 1200405 | No                             | 343797222 |\n",
       "| 1200406 | Yes                            |  61414388 |\n",
       "\n"
      ],
      "text/plain": [
       "  PrimaryDiagnosisConceptId ConceptName                    Records  \n",
       "1 1067557                   Field is not present in source 327712537\n",
       "2 1067561                   No Information                   2123482\n",
       "3 1200405                   No                             343797222\n",
       "4 1200406                   Yes                             61414388"
      ]
     },
     "metadata": {},
     "output_type": "display_data"
    }
   ],
   "source": [
    "# find condition category distribution\n",
    "sql <- \"select s.PrimaryDiagnosisConceptId, c.ConceptName, count(s.Id) as Records\n",
    "from Condition s join Concept c ON (s.PrimaryDiagnosisConceptId = c.ConceptId)\n",
    "group by PrimaryDiagnosisConceptId, ConceptName\n",
    "order by 1;\"\n",
    "\n",
    "primary_diagnosis_count <- load_sql_table(con,snapshot,query = sql)%>% collect()\n",
    "primary_diagnosis_count"
   ]
  },
  {
   "cell_type": "code",
   "execution_count": 7,
   "id": "8d3e4352-3896-411a-9b9f-79870e9a9cff",
   "metadata": {
    "execution": {
     "iopub.execute_input": "2023-07-25T20:13:38.705683Z",
     "iopub.status.busy": "2023-07-25T20:13:38.704330Z",
     "iopub.status.idle": "2023-07-25T20:22:39.573242Z",
     "shell.execute_reply": "2023-07-25T20:22:39.571847Z"
    },
    "tags": []
   },
   "outputs": [
    {
     "data": {
      "text/html": [
       "<table class=\"dataframe\">\n",
       "<caption>A data.frame: 10 × 18</caption>\n",
       "<thead>\n",
       "\t<tr><th></th><th scope=col>CodeConceptId</th><th scope=col>CategoryConceptId</th><th scope=col>RecordsCount</th><th scope=col>PatientCount</th><th scope=col>CategoryName</th><th scope=col>ConceptDefinition.x</th><th scope=col>CategoryCodeSystem</th><th scope=col>ConceptCode.x</th><th scope=col>ConceptClass.x</th><th scope=col>Domain.x</th><th scope=col>__index_level_0__.x</th><th scope=col>DiagnosisName</th><th scope=col>ConceptDefinition.y</th><th scope=col>DiagnosisCodeSystem</th><th scope=col>ConceptCode.y</th><th scope=col>ConceptClass.y</th><th scope=col>Domain.y</th><th scope=col>__index_level_0__.y</th></tr>\n",
       "\t<tr><th></th><th scope=col>&lt;dbl&gt;</th><th scope=col>&lt;int&gt;</th><th scope=col>&lt;int&gt;</th><th scope=col>&lt;int&gt;</th><th scope=col>&lt;chr&gt;</th><th scope=col>&lt;chr&gt;</th><th scope=col>&lt;chr&gt;</th><th scope=col>&lt;chr&gt;</th><th scope=col>&lt;chr&gt;</th><th scope=col>&lt;chr&gt;</th><th scope=col>&lt;int&gt;</th><th scope=col>&lt;chr&gt;</th><th scope=col>&lt;chr&gt;</th><th scope=col>&lt;chr&gt;</th><th scope=col>&lt;chr&gt;</th><th scope=col>&lt;chr&gt;</th><th scope=col>&lt;chr&gt;</th><th scope=col>&lt;int&gt;</th></tr>\n",
       "</thead>\n",
       "<tbody>\n",
       "\t<tr><th scope=row>1</th><td> 0</td><td>1065172</td><td> 17</td><td>  4</td><td>MedicalHistory    </td><td>MedicalHistory    </td><td>Truveta</td><td>1065172</td><td>ConditionCategory</td><td>Categories</td><td>264679</td><td>Field has not been mapped                   </td><td>The field has not been mapped.                         </td><td>NullFlavor</td><td>NM    </td><td>NullFlavor      </td><td>Categories</td><td>22724</td></tr>\n",
       "\t<tr><th scope=row>2</th><td> 0</td><td>1065168</td><td>140</td><td>125</td><td>AdmissionDiagnosis</td><td>AdmissionDiagnosis</td><td>Truveta</td><td>1065168</td><td>ConditionCategory</td><td>Categories</td><td>264675</td><td>Field has not been mapped                   </td><td>The field has not been mapped.                         </td><td>NullFlavor</td><td>NM    </td><td>NullFlavor      </td><td>Categories</td><td>22724</td></tr>\n",
       "\t<tr><th scope=row>3</th><td> 0</td><td>1065169</td><td>899</td><td>756</td><td>BillingDiagnosis  </td><td>BillingDiagnosis  </td><td>Truveta</td><td>1065169</td><td>ConditionCategory</td><td>Categories</td><td>264676</td><td>Field has not been mapped                   </td><td>The field has not been mapped.                         </td><td>NullFlavor</td><td>NM    </td><td>NullFlavor      </td><td>Categories</td><td>22724</td></tr>\n",
       "\t<tr><th scope=row>4</th><td>10</td><td>1065170</td><td>  2</td><td>  2</td><td>EncounterDiagnosis</td><td>EncounterDiagnosis</td><td>Truveta</td><td>1065170</td><td>ConditionCategory</td><td>Categories</td><td>264677</td><td>Anxiety disorder of childhood OR adolescence</td><td>Anxiety disorder of childhood OR adolescence (disorder)</td><td>SNOMED CT </td><td>109006</td><td>Clinical Finding</td><td>Condition </td><td>22734</td></tr>\n",
       "\t<tr><th scope=row>5</th><td>10</td><td>1065174</td><td>  1</td><td>  1</td><td>ProblemList       </td><td>ProblemList       </td><td>Truveta</td><td>1065174</td><td>ConditionCategory</td><td>Categories</td><td>264680</td><td>Anxiety disorder of childhood OR adolescence</td><td>Anxiety disorder of childhood OR adolescence (disorder)</td><td>SNOMED CT </td><td>109006</td><td>Clinical Finding</td><td>Condition </td><td>22734</td></tr>\n",
       "\t<tr><th scope=row>6</th><td>10</td><td>1065172</td><td> 23</td><td>  1</td><td>MedicalHistory    </td><td>MedicalHistory    </td><td>Truveta</td><td>1065172</td><td>ConditionCategory</td><td>Categories</td><td>264679</td><td>Anxiety disorder of childhood OR adolescence</td><td>Anxiety disorder of childhood OR adolescence (disorder)</td><td>SNOMED CT </td><td>109006</td><td>Clinical Finding</td><td>Condition </td><td>22734</td></tr>\n",
       "\t<tr><th scope=row>7</th><td>11</td><td>1065172</td><td> 52</td><td>  3</td><td>MedicalHistory    </td><td>MedicalHistory    </td><td>Truveta</td><td>1065172</td><td>ConditionCategory</td><td>Categories</td><td>264679</td><td>Parathyroid structure                       </td><td>Parathyroid structure (body structure)                 </td><td>SNOMED CT </td><td>111002</td><td>BodySiteExamined</td><td>Categories</td><td>22735</td></tr>\n",
       "\t<tr><th scope=row>8</th><td>11</td><td>1065174</td><td>  6</td><td>  6</td><td>ProblemList       </td><td>ProblemList       </td><td>Truveta</td><td>1065174</td><td>ConditionCategory</td><td>Categories</td><td>264680</td><td>Parathyroid structure                       </td><td>Parathyroid structure (body structure)                 </td><td>SNOMED CT </td><td>111002</td><td>BodySiteExamined</td><td>Categories</td><td>22735</td></tr>\n",
       "\t<tr><th scope=row>9</th><td>11</td><td>1065168</td><td>  1</td><td>  1</td><td>AdmissionDiagnosis</td><td>AdmissionDiagnosis</td><td>Truveta</td><td>1065168</td><td>ConditionCategory</td><td>Categories</td><td>264675</td><td>Parathyroid structure                       </td><td>Parathyroid structure (body structure)                 </td><td>SNOMED CT </td><td>111002</td><td>BodySiteExamined</td><td>Categories</td><td>22735</td></tr>\n",
       "\t<tr><th scope=row>10</th><td>22</td><td>1065170</td><td> 13</td><td>  3</td><td>EncounterDiagnosis</td><td>EncounterDiagnosis</td><td>Truveta</td><td>1065170</td><td>ConditionCategory</td><td>Categories</td><td>264677</td><td>Choroidal hemorrhage                        </td><td>Choroidal hemorrhage (disorder)                        </td><td>SNOMED CT </td><td>122003</td><td>Clinical Finding</td><td>Condition </td><td>22746</td></tr>\n",
       "</tbody>\n",
       "</table>\n"
      ],
      "text/latex": [
       "A data.frame: 10 × 18\n",
       "\\begin{tabular}{r|llllllllllllllllll}\n",
       "  & CodeConceptId & CategoryConceptId & RecordsCount & PatientCount & CategoryName & ConceptDefinition.x & CategoryCodeSystem & ConceptCode.x & ConceptClass.x & Domain.x & \\_\\_index\\_level\\_0\\_\\_.x & DiagnosisName & ConceptDefinition.y & DiagnosisCodeSystem & ConceptCode.y & ConceptClass.y & Domain.y & \\_\\_index\\_level\\_0\\_\\_.y\\\\\n",
       "  & <dbl> & <int> & <int> & <int> & <chr> & <chr> & <chr> & <chr> & <chr> & <chr> & <int> & <chr> & <chr> & <chr> & <chr> & <chr> & <chr> & <int>\\\\\n",
       "\\hline\n",
       "\t1 &  0 & 1065172 &  17 &   4 & MedicalHistory     & MedicalHistory     & Truveta & 1065172 & ConditionCategory & Categories & 264679 & Field has not been mapped                    & The field has not been mapped.                          & NullFlavor & NM     & NullFlavor       & Categories & 22724\\\\\n",
       "\t2 &  0 & 1065168 & 140 & 125 & AdmissionDiagnosis & AdmissionDiagnosis & Truveta & 1065168 & ConditionCategory & Categories & 264675 & Field has not been mapped                    & The field has not been mapped.                          & NullFlavor & NM     & NullFlavor       & Categories & 22724\\\\\n",
       "\t3 &  0 & 1065169 & 899 & 756 & BillingDiagnosis   & BillingDiagnosis   & Truveta & 1065169 & ConditionCategory & Categories & 264676 & Field has not been mapped                    & The field has not been mapped.                          & NullFlavor & NM     & NullFlavor       & Categories & 22724\\\\\n",
       "\t4 & 10 & 1065170 &   2 &   2 & EncounterDiagnosis & EncounterDiagnosis & Truveta & 1065170 & ConditionCategory & Categories & 264677 & Anxiety disorder of childhood OR adolescence & Anxiety disorder of childhood OR adolescence (disorder) & SNOMED CT  & 109006 & Clinical Finding & Condition  & 22734\\\\\n",
       "\t5 & 10 & 1065174 &   1 &   1 & ProblemList        & ProblemList        & Truveta & 1065174 & ConditionCategory & Categories & 264680 & Anxiety disorder of childhood OR adolescence & Anxiety disorder of childhood OR adolescence (disorder) & SNOMED CT  & 109006 & Clinical Finding & Condition  & 22734\\\\\n",
       "\t6 & 10 & 1065172 &  23 &   1 & MedicalHistory     & MedicalHistory     & Truveta & 1065172 & ConditionCategory & Categories & 264679 & Anxiety disorder of childhood OR adolescence & Anxiety disorder of childhood OR adolescence (disorder) & SNOMED CT  & 109006 & Clinical Finding & Condition  & 22734\\\\\n",
       "\t7 & 11 & 1065172 &  52 &   3 & MedicalHistory     & MedicalHistory     & Truveta & 1065172 & ConditionCategory & Categories & 264679 & Parathyroid structure                        & Parathyroid structure (body structure)                  & SNOMED CT  & 111002 & BodySiteExamined & Categories & 22735\\\\\n",
       "\t8 & 11 & 1065174 &   6 &   6 & ProblemList        & ProblemList        & Truveta & 1065174 & ConditionCategory & Categories & 264680 & Parathyroid structure                        & Parathyroid structure (body structure)                  & SNOMED CT  & 111002 & BodySiteExamined & Categories & 22735\\\\\n",
       "\t9 & 11 & 1065168 &   1 &   1 & AdmissionDiagnosis & AdmissionDiagnosis & Truveta & 1065168 & ConditionCategory & Categories & 264675 & Parathyroid structure                        & Parathyroid structure (body structure)                  & SNOMED CT  & 111002 & BodySiteExamined & Categories & 22735\\\\\n",
       "\t10 & 22 & 1065170 &  13 &   3 & EncounterDiagnosis & EncounterDiagnosis & Truveta & 1065170 & ConditionCategory & Categories & 264677 & Choroidal hemorrhage                         & Choroidal hemorrhage (disorder)                         & SNOMED CT  & 122003 & Clinical Finding & Condition  & 22746\\\\\n",
       "\\end{tabular}\n"
      ],
      "text/markdown": [
       "\n",
       "A data.frame: 10 × 18\n",
       "\n",
       "| <!--/--> | CodeConceptId &lt;dbl&gt; | CategoryConceptId &lt;int&gt; | RecordsCount &lt;int&gt; | PatientCount &lt;int&gt; | CategoryName &lt;chr&gt; | ConceptDefinition.x &lt;chr&gt; | CategoryCodeSystem &lt;chr&gt; | ConceptCode.x &lt;chr&gt; | ConceptClass.x &lt;chr&gt; | Domain.x &lt;chr&gt; | __index_level_0__.x &lt;int&gt; | DiagnosisName &lt;chr&gt; | ConceptDefinition.y &lt;chr&gt; | DiagnosisCodeSystem &lt;chr&gt; | ConceptCode.y &lt;chr&gt; | ConceptClass.y &lt;chr&gt; | Domain.y &lt;chr&gt; | __index_level_0__.y &lt;int&gt; |\n",
       "|---|---|---|---|---|---|---|---|---|---|---|---|---|---|---|---|---|---|---|\n",
       "| 1 |  0 | 1065172 |  17 |   4 | MedicalHistory     | MedicalHistory     | Truveta | 1065172 | ConditionCategory | Categories | 264679 | Field has not been mapped                    | The field has not been mapped.                          | NullFlavor | NM     | NullFlavor       | Categories | 22724 |\n",
       "| 2 |  0 | 1065168 | 140 | 125 | AdmissionDiagnosis | AdmissionDiagnosis | Truveta | 1065168 | ConditionCategory | Categories | 264675 | Field has not been mapped                    | The field has not been mapped.                          | NullFlavor | NM     | NullFlavor       | Categories | 22724 |\n",
       "| 3 |  0 | 1065169 | 899 | 756 | BillingDiagnosis   | BillingDiagnosis   | Truveta | 1065169 | ConditionCategory | Categories | 264676 | Field has not been mapped                    | The field has not been mapped.                          | NullFlavor | NM     | NullFlavor       | Categories | 22724 |\n",
       "| 4 | 10 | 1065170 |   2 |   2 | EncounterDiagnosis | EncounterDiagnosis | Truveta | 1065170 | ConditionCategory | Categories | 264677 | Anxiety disorder of childhood OR adolescence | Anxiety disorder of childhood OR adolescence (disorder) | SNOMED CT  | 109006 | Clinical Finding | Condition  | 22734 |\n",
       "| 5 | 10 | 1065174 |   1 |   1 | ProblemList        | ProblemList        | Truveta | 1065174 | ConditionCategory | Categories | 264680 | Anxiety disorder of childhood OR adolescence | Anxiety disorder of childhood OR adolescence (disorder) | SNOMED CT  | 109006 | Clinical Finding | Condition  | 22734 |\n",
       "| 6 | 10 | 1065172 |  23 |   1 | MedicalHistory     | MedicalHistory     | Truveta | 1065172 | ConditionCategory | Categories | 264679 | Anxiety disorder of childhood OR adolescence | Anxiety disorder of childhood OR adolescence (disorder) | SNOMED CT  | 109006 | Clinical Finding | Condition  | 22734 |\n",
       "| 7 | 11 | 1065172 |  52 |   3 | MedicalHistory     | MedicalHistory     | Truveta | 1065172 | ConditionCategory | Categories | 264679 | Parathyroid structure                        | Parathyroid structure (body structure)                  | SNOMED CT  | 111002 | BodySiteExamined | Categories | 22735 |\n",
       "| 8 | 11 | 1065174 |   6 |   6 | ProblemList        | ProblemList        | Truveta | 1065174 | ConditionCategory | Categories | 264680 | Parathyroid structure                        | Parathyroid structure (body structure)                  | SNOMED CT  | 111002 | BodySiteExamined | Categories | 22735 |\n",
       "| 9 | 11 | 1065168 |   1 |   1 | AdmissionDiagnosis | AdmissionDiagnosis | Truveta | 1065168 | ConditionCategory | Categories | 264675 | Parathyroid structure                        | Parathyroid structure (body structure)                  | SNOMED CT  | 111002 | BodySiteExamined | Categories | 22735 |\n",
       "| 10 | 22 | 1065170 |  13 |   3 | EncounterDiagnosis | EncounterDiagnosis | Truveta | 1065170 | ConditionCategory | Categories | 264677 | Choroidal hemorrhage                         | Choroidal hemorrhage (disorder)                         | SNOMED CT  | 122003 | Clinical Finding | Condition  | 22746 |\n",
       "\n"
      ],
      "text/plain": [
       "   CodeConceptId CategoryConceptId RecordsCount PatientCount CategoryName      \n",
       "1   0            1065172            17            4          MedicalHistory    \n",
       "2   0            1065168           140          125          AdmissionDiagnosis\n",
       "3   0            1065169           899          756          BillingDiagnosis  \n",
       "4  10            1065170             2            2          EncounterDiagnosis\n",
       "5  10            1065174             1            1          ProblemList       \n",
       "6  10            1065172            23            1          MedicalHistory    \n",
       "7  11            1065172            52            3          MedicalHistory    \n",
       "8  11            1065174             6            6          ProblemList       \n",
       "9  11            1065168             1            1          AdmissionDiagnosis\n",
       "10 22            1065170            13            3          EncounterDiagnosis\n",
       "   ConceptDefinition.x CategoryCodeSystem ConceptCode.x ConceptClass.x   \n",
       "1  MedicalHistory      Truveta            1065172       ConditionCategory\n",
       "2  AdmissionDiagnosis  Truveta            1065168       ConditionCategory\n",
       "3  BillingDiagnosis    Truveta            1065169       ConditionCategory\n",
       "4  EncounterDiagnosis  Truveta            1065170       ConditionCategory\n",
       "5  ProblemList         Truveta            1065174       ConditionCategory\n",
       "6  MedicalHistory      Truveta            1065172       ConditionCategory\n",
       "7  MedicalHistory      Truveta            1065172       ConditionCategory\n",
       "8  ProblemList         Truveta            1065174       ConditionCategory\n",
       "9  AdmissionDiagnosis  Truveta            1065168       ConditionCategory\n",
       "10 EncounterDiagnosis  Truveta            1065170       ConditionCategory\n",
       "   Domain.x   __index_level_0__.x DiagnosisName                               \n",
       "1  Categories 264679              Field has not been mapped                   \n",
       "2  Categories 264675              Field has not been mapped                   \n",
       "3  Categories 264676              Field has not been mapped                   \n",
       "4  Categories 264677              Anxiety disorder of childhood OR adolescence\n",
       "5  Categories 264680              Anxiety disorder of childhood OR adolescence\n",
       "6  Categories 264679              Anxiety disorder of childhood OR adolescence\n",
       "7  Categories 264679              Parathyroid structure                       \n",
       "8  Categories 264680              Parathyroid structure                       \n",
       "9  Categories 264675              Parathyroid structure                       \n",
       "10 Categories 264677              Choroidal hemorrhage                        \n",
       "   ConceptDefinition.y                                     DiagnosisCodeSystem\n",
       "1  The field has not been mapped.                          NullFlavor         \n",
       "2  The field has not been mapped.                          NullFlavor         \n",
       "3  The field has not been mapped.                          NullFlavor         \n",
       "4  Anxiety disorder of childhood OR adolescence (disorder) SNOMED CT          \n",
       "5  Anxiety disorder of childhood OR adolescence (disorder) SNOMED CT          \n",
       "6  Anxiety disorder of childhood OR adolescence (disorder) SNOMED CT          \n",
       "7  Parathyroid structure (body structure)                  SNOMED CT          \n",
       "8  Parathyroid structure (body structure)                  SNOMED CT          \n",
       "9  Parathyroid structure (body structure)                  SNOMED CT          \n",
       "10 Choroidal hemorrhage (disorder)                         SNOMED CT          \n",
       "   ConceptCode.y ConceptClass.y   Domain.y   __index_level_0__.y\n",
       "1  NM            NullFlavor       Categories 22724              \n",
       "2  NM            NullFlavor       Categories 22724              \n",
       "3  NM            NullFlavor       Categories 22724              \n",
       "4  109006        Clinical Finding Condition  22734              \n",
       "5  109006        Clinical Finding Condition  22734              \n",
       "6  109006        Clinical Finding Condition  22734              \n",
       "7  111002        BodySiteExamined Categories 22735              \n",
       "8  111002        BodySiteExamined Categories 22735              \n",
       "9  111002        BodySiteExamined Categories 22735              \n",
       "10 122003        Clinical Finding Condition  22746              "
      ]
     },
     "metadata": {},
     "output_type": "display_data"
    }
   ],
   "source": [
    "# find records's code system distribution of category over code concept\n",
    "\n",
    "sql <- \"select c.CategoryConceptId, cc.CodeConceptId, count(distinct c.Id) as RecordsCount, count(distinct c.PersonId) as PatientCount\n",
    "from Condition c left join ConditionCodes cc on (c.Id = cc.ConditionId and c.PersonId = cc.PersonId)\n",
    "group by CategoryConceptId, CodeConceptId\n",
    "order by 1;\"\n",
    "\n",
    "concept <- read_parquet(\"data/Concept.parquet\")\n",
    "category_codeconcept <- load_sql_table(con,snapshot,query = sql)%>% collect()\n",
    "cat_concept_name <- category_codeconcept %>% merge(.,concept,by.x = \"CategoryConceptId\", by.y = \"ConceptId\", all.x =TRUE)%>%\n",
    "rename(CategoryName = ConceptName, CategoryCodeSystem = CodeSystem )%>% \n",
    "merge(.,concept,by.x = 'CodeConceptId',by.y='ConceptId', all.x = TRUE)%>%\n",
    "rename(DiagnosisName=ConceptName,DiagnosisCodeSystem=CodeSystem)\n"
   ]
  },
  {
   "cell_type": "code",
   "execution_count": 8,
   "id": "c2241722-18be-4e5c-8dfd-2ef102c95739",
   "metadata": {
    "execution": {
     "iopub.execute_input": "2023-07-25T20:28:33.454447Z",
     "iopub.status.busy": "2023-07-25T20:28:33.453267Z",
     "iopub.status.idle": "2023-07-25T20:28:33.469260Z",
     "shell.execute_reply": "2023-07-25T20:28:33.468150Z"
    },
    "tags": []
   },
   "outputs": [
    {
     "data": {
      "text/html": [
       "1520893001"
      ],
      "text/latex": [
       "1520893001"
      ],
      "text/markdown": [
       "1520893001"
      ],
      "text/plain": [
       "[1] 1520893001"
      ]
     },
     "metadata": {},
     "output_type": "display_data"
    },
    {
     "data": {
      "text/html": [
       "227376924"
      ],
      "text/latex": [
       "227376924"
      ],
      "text/markdown": [
       "227376924"
      ],
      "text/plain": [
       "[1] 227376924"
      ]
     },
     "metadata": {},
     "output_type": "display_data"
    }
   ],
   "source": [
    "sum(category_codeconcept$RecordsCount)\n",
    "sum(category_codeconcept$PatientCount)"
   ]
  },
  {
   "cell_type": "code",
   "execution_count": 14,
   "id": "d5eb2c60-ff41-4b10-b727-4499cbc7bce7",
   "metadata": {
    "execution": {
     "iopub.execute_input": "2023-07-25T20:46:57.136850Z",
     "iopub.status.busy": "2023-07-25T20:46:57.135625Z",
     "iopub.status.idle": "2023-07-25T20:50:41.177158Z",
     "shell.execute_reply": "2023-07-25T20:50:41.175657Z"
    },
    "tags": []
   },
   "outputs": [],
   "source": [
    "# join Encounter with Condition to find patients with encounter but no diagnosis\n",
    "\n",
    "sql <- \"select e.ClassConceptId as EncounterClassId, c.CategoryConceptId as ConditionCategory,\n",
    "count(distinct e.Id) as ConditionCount, count(distinct e.PersonId) as PatientCount\n",
    "from Encounter e left join Condition c on(e.Id = c.EncounterId)\n",
    "where e.StatusConceptId not in (2983199,2506590,2983200,2506591,2506595)\n",
    "and (year(e.StartDateTime) in (2017,2018))\n",
    "group by e.ClassConceptId, c.CategoryConceptId\n",
    "order by 4;\"\n",
    "\n",
    "ent_con <- load_sql_table(con,snapshot, query = sql)%>% collect()"
   ]
  },
  {
   "cell_type": "code",
   "execution_count": 16,
   "id": "20f18276-ecbc-49e1-b662-2c91a86250a0",
   "metadata": {
    "execution": {
     "iopub.execute_input": "2023-07-25T20:51:10.275437Z",
     "iopub.status.busy": "2023-07-25T20:51:10.274138Z",
     "iopub.status.idle": "2023-07-25T20:51:37.851849Z",
     "shell.execute_reply": "2023-07-25T20:51:37.850144Z"
    },
    "tags": []
   },
   "outputs": [
    {
     "data": {
      "text/html": [
       "332584081"
      ],
      "text/latex": [
       "332584081"
      ],
      "text/markdown": [
       "332584081"
      ],
      "text/plain": [
       "[1] 332584081"
      ]
     },
     "metadata": {},
     "output_type": "display_data"
    },
    {
     "data": {
      "text/html": [
       "102510682"
      ],
      "text/latex": [
       "102510682"
      ],
      "text/markdown": [
       "102510682"
      ],
      "text/plain": [
       "[1] 102510682"
      ]
     },
     "metadata": {},
     "output_type": "display_data"
    },
    {
     "data": {
      "text/html": [
       "<table class=\"dataframe\">\n",
       "<caption>A tibble: 1 × 1</caption>\n",
       "<thead>\n",
       "\t<tr><th scope=col>cnt</th></tr>\n",
       "\t<tr><th scope=col>&lt;int&gt;</th></tr>\n",
       "</thead>\n",
       "<tbody>\n",
       "\t<tr><td>62030029</td></tr>\n",
       "</tbody>\n",
       "</table>\n"
      ],
      "text/latex": [
       "A tibble: 1 × 1\n",
       "\\begin{tabular}{l}\n",
       " cnt\\\\\n",
       " <int>\\\\\n",
       "\\hline\n",
       "\t 62030029\\\\\n",
       "\\end{tabular}\n"
      ],
      "text/markdown": [
       "\n",
       "A tibble: 1 × 1\n",
       "\n",
       "| cnt &lt;int&gt; |\n",
       "|---|\n",
       "| 62030029 |\n",
       "\n"
      ],
      "text/plain": [
       "  cnt     \n",
       "1 62030029"
      ]
     },
     "metadata": {},
     "output_type": "display_data"
    }
   ],
   "source": [
    "sum(ent_con$ConditionCount)\n",
    "sum(ent_con$PatientCount)\n",
    "\n",
    "load_sql_table(con,snapshot,query = \"select count(distinct Id) as cnt from Encounter e\n",
    "where e.StatusConceptId not in (2983199,2506590,2983200,2506591,2506595)\n",
    "and (year(e.StartDateTime) in (2017,2018)); \")%>% collect()"
   ]
  },
  {
   "cell_type": "code",
   "execution_count": 17,
   "id": "a952927a-ee81-412a-afb0-7f6bb44f2953",
   "metadata": {
    "execution": {
     "iopub.execute_input": "2023-07-25T15:25:58.698898Z",
     "iopub.status.busy": "2023-07-25T15:25:58.697752Z",
     "iopub.status.idle": "2023-07-25T15:26:24.907072Z",
     "shell.execute_reply": "2023-07-25T15:26:24.905676Z"
    },
    "tags": []
   },
   "outputs": [],
   "source": [
    "ent_con_data <- ent_con %>% collect()%>% merge(.,concept,by.x = \"ConditionCategory\", by.y = \"ConceptId\")%>%\n",
    "rename(CategoryName = ConceptName, CategoryCodeSystem = CodeSystem )%>% \n",
    "merge(.,concept,by.x = 'DiagnosisId',by.y='ConceptId')%>%\n",
    "rename(DiagnosisName=ConceptName,DiagnosisCodeSystem=CodeSystem)%>%\n",
    "merge(.,concept, by.x = \"EncounterClassId\", by.y = \"ConceptId\") %>%\n",
    " rename(EncounterClaa = ConceptName, EncounterCodeSystem = CodeSystem)"
   ]
  },
  {
   "cell_type": "code",
   "execution_count": 18,
   "id": "77682fc8-a2bb-4897-9789-18812c6d632a",
   "metadata": {
    "execution": {
     "iopub.execute_input": "2023-07-25T15:27:27.697771Z",
     "iopub.status.busy": "2023-07-25T15:27:27.696593Z",
     "iopub.status.idle": "2023-07-25T15:27:27.720809Z",
     "shell.execute_reply": "2023-07-25T15:27:27.719645Z"
    }
   },
   "outputs": [
    {
     "data": {
      "text/html": [
       "<table class=\"dataframe\">\n",
       "<caption>A data.frame: 5 × 26</caption>\n",
       "<thead>\n",
       "\t<tr><th></th><th scope=col>EncounterClassId</th><th scope=col>DiagnosisId</th><th scope=col>ConditionCategory</th><th scope=col>ConditionCount</th><th scope=col>PatientCount</th><th scope=col>CategoryName</th><th scope=col>ConceptDefinition.x</th><th scope=col>CategoryCodeSystem</th><th scope=col>ConceptCode.x</th><th scope=col>ConceptClass.x</th><th scope=col>⋯</th><th scope=col>ConceptClass.y</th><th scope=col>Domain.y</th><th scope=col>__index_level_0__.y</th><th scope=col>EncounterClaa</th><th scope=col>ConceptDefinition</th><th scope=col>EncounterCodeSystem</th><th scope=col>ConceptCode</th><th scope=col>ConceptClass</th><th scope=col>Domain</th><th scope=col>__index_level_0__</th></tr>\n",
       "\t<tr><th></th><th scope=col>&lt;int&gt;</th><th scope=col>&lt;int&gt;</th><th scope=col>&lt;int&gt;</th><th scope=col>&lt;int&gt;</th><th scope=col>&lt;int&gt;</th><th scope=col>&lt;chr&gt;</th><th scope=col>&lt;chr&gt;</th><th scope=col>&lt;chr&gt;</th><th scope=col>&lt;chr&gt;</th><th scope=col>&lt;chr&gt;</th><th scope=col>⋯</th><th scope=col>&lt;chr&gt;</th><th scope=col>&lt;chr&gt;</th><th scope=col>&lt;int&gt;</th><th scope=col>&lt;chr&gt;</th><th scope=col>&lt;chr&gt;</th><th scope=col>&lt;chr&gt;</th><th scope=col>&lt;chr&gt;</th><th scope=col>&lt;chr&gt;</th><th scope=col>&lt;chr&gt;</th><th scope=col>&lt;int&gt;</th></tr>\n",
       "</thead>\n",
       "<tbody>\n",
       "\t<tr><th scope=row>1</th><td>0</td><td>589599</td><td>1065170</td><td>  1</td><td>  1</td><td>EncounterDiagnosis</td><td>EncounterDiagnosis</td><td>Truveta</td><td>1065170</td><td>ConditionCategory</td><td>⋯</td><td>                </td><td>Condition</td><td>194450</td><td>Field has not been mapped</td><td>The field has not been mapped.</td><td>NullFlavor</td><td>NM</td><td>NullFlavor</td><td>Categories</td><td>22724</td></tr>\n",
       "\t<tr><th scope=row>2</th><td>0</td><td> 76399</td><td>1065170</td><td>131</td><td>101</td><td>EncounterDiagnosis</td><td>EncounterDiagnosis</td><td>Truveta</td><td>1065170</td><td>ConditionCategory</td><td>⋯</td><td>Clinical Finding</td><td>Condition</td><td>   369</td><td>Field has not been mapped</td><td>The field has not been mapped.</td><td>NullFlavor</td><td>NM</td><td>NullFlavor</td><td>Categories</td><td>22724</td></tr>\n",
       "\t<tr><th scope=row>3</th><td>0</td><td>465510</td><td>1065170</td><td>  8</td><td>  4</td><td>EncounterDiagnosis</td><td>EncounterDiagnosis</td><td>Truveta</td><td>1065170</td><td>ConditionCategory</td><td>⋯</td><td>Clinical Finding</td><td>Condition</td><td> 51463</td><td>Field has not been mapped</td><td>The field has not been mapped.</td><td>NullFlavor</td><td>NM</td><td>NullFlavor</td><td>Categories</td><td>22724</td></tr>\n",
       "\t<tr><th scope=row>4</th><td>0</td><td>537800</td><td>1065168</td><td>  3</td><td>  3</td><td>AdmissionDiagnosis</td><td>AdmissionDiagnosis</td><td>Truveta</td><td>1065168</td><td>ConditionCategory</td><td>⋯</td><td>                </td><td>Condition</td><td>141974</td><td>Field has not been mapped</td><td>The field has not been mapped.</td><td>NullFlavor</td><td>NM</td><td>NullFlavor</td><td>Categories</td><td>22724</td></tr>\n",
       "\t<tr><th scope=row>5</th><td>0</td><td>536394</td><td>1065170</td><td> 24</td><td>  6</td><td>EncounterDiagnosis</td><td>EncounterDiagnosis</td><td>Truveta</td><td>1065170</td><td>ConditionCategory</td><td>⋯</td><td>                </td><td>Condition</td><td>140563</td><td>Field has not been mapped</td><td>The field has not been mapped.</td><td>NullFlavor</td><td>NM</td><td>NullFlavor</td><td>Categories</td><td>22724</td></tr>\n",
       "</tbody>\n",
       "</table>\n"
      ],
      "text/latex": [
       "A data.frame: 5 × 26\n",
       "\\begin{tabular}{r|lllllllllllllllllllll}\n",
       "  & EncounterClassId & DiagnosisId & ConditionCategory & ConditionCount & PatientCount & CategoryName & ConceptDefinition.x & CategoryCodeSystem & ConceptCode.x & ConceptClass.x & ⋯ & ConceptClass.y & Domain.y & \\_\\_index\\_level\\_0\\_\\_.y & EncounterClaa & ConceptDefinition & EncounterCodeSystem & ConceptCode & ConceptClass & Domain & \\_\\_index\\_level\\_0\\_\\_\\\\\n",
       "  & <int> & <int> & <int> & <int> & <int> & <chr> & <chr> & <chr> & <chr> & <chr> & ⋯ & <chr> & <chr> & <int> & <chr> & <chr> & <chr> & <chr> & <chr> & <chr> & <int>\\\\\n",
       "\\hline\n",
       "\t1 & 0 & 589599 & 1065170 &   1 &   1 & EncounterDiagnosis & EncounterDiagnosis & Truveta & 1065170 & ConditionCategory & ⋯ &                  & Condition & 194450 & Field has not been mapped & The field has not been mapped. & NullFlavor & NM & NullFlavor & Categories & 22724\\\\\n",
       "\t2 & 0 &  76399 & 1065170 & 131 & 101 & EncounterDiagnosis & EncounterDiagnosis & Truveta & 1065170 & ConditionCategory & ⋯ & Clinical Finding & Condition &    369 & Field has not been mapped & The field has not been mapped. & NullFlavor & NM & NullFlavor & Categories & 22724\\\\\n",
       "\t3 & 0 & 465510 & 1065170 &   8 &   4 & EncounterDiagnosis & EncounterDiagnosis & Truveta & 1065170 & ConditionCategory & ⋯ & Clinical Finding & Condition &  51463 & Field has not been mapped & The field has not been mapped. & NullFlavor & NM & NullFlavor & Categories & 22724\\\\\n",
       "\t4 & 0 & 537800 & 1065168 &   3 &   3 & AdmissionDiagnosis & AdmissionDiagnosis & Truveta & 1065168 & ConditionCategory & ⋯ &                  & Condition & 141974 & Field has not been mapped & The field has not been mapped. & NullFlavor & NM & NullFlavor & Categories & 22724\\\\\n",
       "\t5 & 0 & 536394 & 1065170 &  24 &   6 & EncounterDiagnosis & EncounterDiagnosis & Truveta & 1065170 & ConditionCategory & ⋯ &                  & Condition & 140563 & Field has not been mapped & The field has not been mapped. & NullFlavor & NM & NullFlavor & Categories & 22724\\\\\n",
       "\\end{tabular}\n"
      ],
      "text/markdown": [
       "\n",
       "A data.frame: 5 × 26\n",
       "\n",
       "| <!--/--> | EncounterClassId &lt;int&gt; | DiagnosisId &lt;int&gt; | ConditionCategory &lt;int&gt; | ConditionCount &lt;int&gt; | PatientCount &lt;int&gt; | CategoryName &lt;chr&gt; | ConceptDefinition.x &lt;chr&gt; | CategoryCodeSystem &lt;chr&gt; | ConceptCode.x &lt;chr&gt; | ConceptClass.x &lt;chr&gt; | ⋯ ⋯ | ConceptClass.y &lt;chr&gt; | Domain.y &lt;chr&gt; | __index_level_0__.y &lt;int&gt; | EncounterClaa &lt;chr&gt; | ConceptDefinition &lt;chr&gt; | EncounterCodeSystem &lt;chr&gt; | ConceptCode &lt;chr&gt; | ConceptClass &lt;chr&gt; | Domain &lt;chr&gt; | __index_level_0__ &lt;int&gt; |\n",
       "|---|---|---|---|---|---|---|---|---|---|---|---|---|---|---|---|---|---|---|---|---|---|\n",
       "| 1 | 0 | 589599 | 1065170 |   1 |   1 | EncounterDiagnosis | EncounterDiagnosis | Truveta | 1065170 | ConditionCategory | ⋯ | <!----> | Condition | 194450 | Field has not been mapped | The field has not been mapped. | NullFlavor | NM | NullFlavor | Categories | 22724 |\n",
       "| 2 | 0 |  76399 | 1065170 | 131 | 101 | EncounterDiagnosis | EncounterDiagnosis | Truveta | 1065170 | ConditionCategory | ⋯ | Clinical Finding | Condition |    369 | Field has not been mapped | The field has not been mapped. | NullFlavor | NM | NullFlavor | Categories | 22724 |\n",
       "| 3 | 0 | 465510 | 1065170 |   8 |   4 | EncounterDiagnosis | EncounterDiagnosis | Truveta | 1065170 | ConditionCategory | ⋯ | Clinical Finding | Condition |  51463 | Field has not been mapped | The field has not been mapped. | NullFlavor | NM | NullFlavor | Categories | 22724 |\n",
       "| 4 | 0 | 537800 | 1065168 |   3 |   3 | AdmissionDiagnosis | AdmissionDiagnosis | Truveta | 1065168 | ConditionCategory | ⋯ | <!----> | Condition | 141974 | Field has not been mapped | The field has not been mapped. | NullFlavor | NM | NullFlavor | Categories | 22724 |\n",
       "| 5 | 0 | 536394 | 1065170 |  24 |   6 | EncounterDiagnosis | EncounterDiagnosis | Truveta | 1065170 | ConditionCategory | ⋯ | <!----> | Condition | 140563 | Field has not been mapped | The field has not been mapped. | NullFlavor | NM | NullFlavor | Categories | 22724 |\n",
       "\n"
      ],
      "text/plain": [
       "  EncounterClassId DiagnosisId ConditionCategory ConditionCount PatientCount\n",
       "1 0                589599      1065170             1              1         \n",
       "2 0                 76399      1065170           131            101         \n",
       "3 0                465510      1065170             8              4         \n",
       "4 0                537800      1065168             3              3         \n",
       "5 0                536394      1065170            24              6         \n",
       "  CategoryName       ConceptDefinition.x CategoryCodeSystem ConceptCode.x\n",
       "1 EncounterDiagnosis EncounterDiagnosis  Truveta            1065170      \n",
       "2 EncounterDiagnosis EncounterDiagnosis  Truveta            1065170      \n",
       "3 EncounterDiagnosis EncounterDiagnosis  Truveta            1065170      \n",
       "4 AdmissionDiagnosis AdmissionDiagnosis  Truveta            1065168      \n",
       "5 EncounterDiagnosis EncounterDiagnosis  Truveta            1065170      \n",
       "  ConceptClass.x    ⋯ ConceptClass.y   Domain.y  __index_level_0__.y\n",
       "1 ConditionCategory ⋯                  Condition 194450             \n",
       "2 ConditionCategory ⋯ Clinical Finding Condition    369             \n",
       "3 ConditionCategory ⋯ Clinical Finding Condition  51463             \n",
       "4 ConditionCategory ⋯                  Condition 141974             \n",
       "5 ConditionCategory ⋯                  Condition 140563             \n",
       "  EncounterClaa             ConceptDefinition              EncounterCodeSystem\n",
       "1 Field has not been mapped The field has not been mapped. NullFlavor         \n",
       "2 Field has not been mapped The field has not been mapped. NullFlavor         \n",
       "3 Field has not been mapped The field has not been mapped. NullFlavor         \n",
       "4 Field has not been mapped The field has not been mapped. NullFlavor         \n",
       "5 Field has not been mapped The field has not been mapped. NullFlavor         \n",
       "  ConceptCode ConceptClass Domain     __index_level_0__\n",
       "1 NM          NullFlavor   Categories 22724            \n",
       "2 NM          NullFlavor   Categories 22724            \n",
       "3 NM          NullFlavor   Categories 22724            \n",
       "4 NM          NullFlavor   Categories 22724            \n",
       "5 NM          NullFlavor   Categories 22724            "
      ]
     },
     "metadata": {},
     "output_type": "display_data"
    }
   ],
   "source": [
    "head(ent_con_data,5)"
   ]
  },
  {
   "cell_type": "code",
   "execution_count": 19,
   "id": "934019fb-77ab-4ccd-8f01-1c9c74f90f44",
   "metadata": {
    "execution": {
     "iopub.execute_input": "2023-07-25T15:28:16.820681Z",
     "iopub.status.busy": "2023-07-25T15:28:16.819488Z",
     "iopub.status.idle": "2023-07-25T15:28:17.495406Z",
     "shell.execute_reply": "2023-07-25T15:28:17.494081Z"
    }
   },
   "outputs": [],
   "source": [
    "write_csv(ent_con_data,\"data/encounter_condition.csv\")"
   ]
  },
  {
   "cell_type": "code",
   "execution_count": 6,
   "id": "ee90848b-a7a2-438a-b007-a9cf2f42e595",
   "metadata": {
    "execution": {
     "iopub.execute_input": "2023-07-20T16:44:33.185550Z",
     "iopub.status.busy": "2023-07-20T16:44:33.184569Z",
     "iopub.status.idle": "2023-07-20T16:44:33.656327Z",
     "shell.execute_reply": "2023-07-20T16:44:33.655122Z"
    },
    "tags": []
   },
   "outputs": [],
   "source": [
    "write_csv(cat_concept_name,\"data/category_concept_conditions.csv\")"
   ]
  },
  {
   "cell_type": "code",
   "execution_count": 9,
   "id": "3cdd8a09-592b-472e-b135-5eb15d8fea17",
   "metadata": {
    "execution": {
     "iopub.execute_input": "2023-07-21T19:46:55.662033Z",
     "iopub.status.busy": "2023-07-21T19:46:55.660498Z",
     "iopub.status.idle": "2023-07-21T19:47:47.234098Z",
     "shell.execute_reply": "2023-07-21T19:47:47.233005Z"
    },
    "tags": []
   },
   "outputs": [],
   "source": [
    "sql <- \"select cc.CodeConceptId, count( *) as cnt\n",
    "from ConditionCodes cc join Condition c on (c.Id= cc.ConditionId and c.SourceProvenanceConceptId = cc.SourceConceptId)\n",
    "group by cc.CodeConceptId;\"\n",
    "\n",
    "code_count <- load_sql_table(con,snapshot,query = sql)"
   ]
  },
  {
   "cell_type": "code",
   "execution_count": 10,
   "id": "99e41ec8-134e-46e3-bb16-e1ff973720b9",
   "metadata": {
    "execution": {
     "iopub.execute_input": "2023-07-21T19:47:47.237608Z",
     "iopub.status.busy": "2023-07-21T19:47:47.236545Z",
     "iopub.status.idle": "2023-07-21T19:47:47.247675Z",
     "shell.execute_reply": "2023-07-21T19:47:47.246576Z"
    },
    "tags": []
   },
   "outputs": [
    {
     "data": {
      "text/plain": [
       "Scalar\n",
       "1772036021"
      ]
     },
     "metadata": {},
     "output_type": "display_data"
    }
   ],
   "source": [
    "sum(code_count$cnt)"
   ]
  },
  {
   "cell_type": "code",
   "execution_count": 13,
   "id": "61823135-67ed-477c-a4fe-09c7eb40a925",
   "metadata": {
    "execution": {
     "iopub.execute_input": "2023-07-18T19:03:20.612377Z",
     "iopub.status.busy": "2023-07-18T19:03:20.611426Z",
     "iopub.status.idle": "2023-07-18T19:03:32.098099Z",
     "shell.execute_reply": "2023-07-18T19:03:32.096991Z"
    }
   },
   "outputs": [],
   "source": [
    "# find patients who have more than one primary diagnosis condition record\n",
    "sql <- \"select top 100 *\n",
    "from (select PatientId, count(Id) as Records\n",
    "from Condition\n",
    "where PrimaryDiagnosisConceptId = 1200406\n",
    "and CategoryConceptId is not NULL and\n",
    "CategoryConceptId not in :codes\n",
    "group by PatientId) as t\n",
    "where t.Records > 5;\n",
    "\"\n",
    "\n",
    "patient_subset <- load_sql_table(con,snapshot,query=sql,params= params) %>%collect()\n"
   ]
  },
  {
   "cell_type": "code",
   "execution_count": null,
   "id": "a178eb3f-4897-4b54-911b-78356d5b692c",
   "metadata": {},
   "outputs": [],
   "source": []
  },
  {
   "cell_type": "code",
   "execution_count": null,
   "id": "232445c1-469c-4173-adb8-8a6608a6dcae",
   "metadata": {
    "tags": []
   },
   "outputs": [],
   "source": [
    "#patient_subset"
   ]
  },
  {
   "cell_type": "code",
   "execution_count": null,
   "id": "33e19bcb-6748-4d51-88b7-7b94aa3ef846",
   "metadata": {},
   "outputs": [],
   "source": [
    "# check if a "
   ]
  },
  {
   "cell_type": "code",
   "execution_count": 1,
   "id": "4f26bbb8-62cc-482e-ae97-878705779059",
   "metadata": {
    "execution": {
     "iopub.execute_input": "2023-07-25T14:06:14.929997Z",
     "iopub.status.busy": "2023-07-25T14:06:14.927042Z",
     "iopub.status.idle": "2023-07-25T14:06:14.961135Z",
     "shell.execute_reply": "2023-07-25T14:06:14.959609Z"
    },
    "tags": []
   },
   "outputs": [
    {
     "ename": "ERROR",
     "evalue": "Error in load_sql_table(con, snapshot, query = sql, params = params) %>% : could not find function \"%>%\"\n",
     "output_type": "error",
     "traceback": [
      "Error in load_sql_table(con, snapshot, query = sql, params = params) %>% : could not find function \"%>%\"\nTraceback:\n"
     ]
    }
   ],
   "source": [
    "#get a subset of the condition table with designated patient ids\n",
    "patient_ids <- c(\"b1307ccf-a2fe-4d0f-4460-a16a781a24b8\",\"e29dd1b1-bc5b-f79e-128a-d6cf9a69c6f0\",\n",
    "          \"6aceabf2-ffa1-5d66-1fb7-29dc6645aae1\" , \"7529f9b9-d8c5-0d14-a968-302e78157141\",\"c2d25038-d7e6-873c-5352-21232e2b4ce4\",\n",
    "              \"1eb608b6-a393-cf31-2350-7ee3b12cdf85\",\"cae257a0-c324-92f9-e0b9-d06b94b3f910\", \"c3846a8c-b925-a389-a392-3d20b7f90e6f\",\n",
    "               \"4e0eecf1-f9ca-bcce-ae45-169461f3e0c1\" )\n",
    "params <- list(PatientId = patient_ids)\n",
    "\n",
    "sql <- \"select con.*, c.CodeConceptId\n",
    "from Condition con join ConditionCodes c on (con.Id = c.ConditionId)\n",
    "where con.PatientId in :PatientId;\"\n",
    "\n",
    "patient_sample <- load_sql_table(con,snapshot,query = sql, params = params)%>% collect()\n",
    "head(patient_sample)"
   ]
  },
  {
   "cell_type": "code",
   "execution_count": null,
   "id": "a85cb6ae-0c88-4303-aa5e-53774cb1595a",
   "metadata": {
    "tags": []
   },
   "outputs": [],
   "source": [
    "head(patient_sample)"
   ]
  },
  {
   "cell_type": "code",
   "execution_count": null,
   "id": "1308eb95-97a3-40c1-b348-2b702f5384ab",
   "metadata": {},
   "outputs": [],
   "source": []
  },
  {
   "cell_type": "code",
   "execution_count": 6,
   "id": "c3f56f05-598b-4059-8871-5574c5d77e2a",
   "metadata": {
    "execution": {
     "iopub.execute_input": "2023-07-19T14:40:42.444451Z",
     "iopub.status.busy": "2023-07-19T14:40:42.443125Z",
     "iopub.status.idle": "2023-07-19T14:40:42.620076Z",
     "shell.execute_reply": "2023-07-19T14:40:42.618495Z"
    }
   },
   "outputs": [],
   "source": [
    "write_csv(patient_sample,\"data/condition_patients.csv\")"
   ]
  },
  {
   "cell_type": "code",
   "execution_count": 7,
   "id": "ab9a44dc-8c5a-418d-8986-51c989b4fd14",
   "metadata": {
    "execution": {
     "iopub.execute_input": "2023-07-18T18:30:33.140772Z",
     "iopub.status.busy": "2023-07-18T18:30:33.139701Z",
     "iopub.status.idle": "2023-07-18T18:34:42.942058Z",
     "shell.execute_reply": "2023-07-18T18:34:42.940963Z"
    },
    "tags": []
   },
   "outputs": [
    {
     "data": {
      "text/html": [
       "<table class=\"dataframe\">\n",
       "<caption>A tibble: 118512 × 3</caption>\n",
       "<thead>\n",
       "\t<tr><th scope=col>CodeConceptId</th><th scope=col>ConceptName</th><th scope=col>RecordCount</th></tr>\n",
       "\t<tr><th scope=col>&lt;int&gt;</th><th scope=col>&lt;chr&gt;</th><th scope=col>&lt;int&gt;</th></tr>\n",
       "</thead>\n",
       "<tbody>\n",
       "\t<tr><td>  0</td><td>Field has not been mapped                                               </td><td>8434254</td></tr>\n",
       "\t<tr><td> 10</td><td>Anxiety disorder of childhood OR adolescence                            </td><td>     26</td></tr>\n",
       "\t<tr><td> 11</td><td>Parathyroid structure                                                   </td><td>     60</td></tr>\n",
       "\t<tr><td> 22</td><td>Choroidal hemorrhage                                                    </td><td>      8</td></tr>\n",
       "\t<tr><td> 38</td><td>No past history of                                                      </td><td>   1319</td></tr>\n",
       "\t<tr><td> 40</td><td>Chronic pharyngitis                                                     </td><td>   6289</td></tr>\n",
       "\t<tr><td> 41</td><td>Glaucoma as birth trauma                                                </td><td>     11</td></tr>\n",
       "\t<tr><td> 45</td><td>Colloid milium                                                          </td><td>      6</td></tr>\n",
       "\t<tr><td> 61</td><td>Thermal injury                                                          </td><td>     40</td></tr>\n",
       "\t<tr><td> 62</td><td>Severe manic bipolar I disorder without psychotic features              </td><td>    205</td></tr>\n",
       "\t<tr><td> 70</td><td>Injury of ascending right colon without open wound into abdominal cavity</td><td>      2</td></tr>\n",
       "\t<tr><td> 74</td><td>Supraorbital neuralgia                                                  </td><td>    855</td></tr>\n",
       "\t<tr><td> 76</td><td>Poisoning by sawfly larvae                                              </td><td>    339</td></tr>\n",
       "\t<tr><td> 80</td><td>Hemorrhagic bronchopneumonia                                            </td><td>     65</td></tr>\n",
       "\t<tr><td> 82</td><td>Autoimmune pancytopenia                                                 </td><td>     86</td></tr>\n",
       "\t<tr><td> 83</td><td>Withdrawal arrhythmia                                                   </td><td>     13</td></tr>\n",
       "\t<tr><td> 86</td><td>Cyanocobalamin (57-Co)                                                  </td><td>      1</td></tr>\n",
       "\t<tr><td> 87</td><td>Injury of intercostal artery                                            </td><td>     35</td></tr>\n",
       "\t<tr><td> 92</td><td>Benign hypertensive renal disease                                       </td><td>  38579</td></tr>\n",
       "\t<tr><td> 97</td><td>Decreased lactation                                                     </td><td>    163</td></tr>\n",
       "\t<tr><td>100</td><td>Structure of anterior division of renal artery                          </td><td>     10</td></tr>\n",
       "\t<tr><td>114</td><td>Delusion of persecution                                                 </td><td>     97</td></tr>\n",
       "\t<tr><td>117</td><td>Current drinker                                                         </td><td>  94748</td></tr>\n",
       "\t<tr><td>120</td><td>Acute epiglottitis with obstruction                                     </td><td>    167</td></tr>\n",
       "\t<tr><td>121</td><td>Tumor of body of uterus affecting pregnancy                             </td><td>     65</td></tr>\n",
       "\t<tr><td>138</td><td>Epilepsia partialis continua                                            </td><td>    208</td></tr>\n",
       "\t<tr><td>139</td><td>Noninfectious jejunitis                                                 </td><td>     13</td></tr>\n",
       "\t<tr><td>150</td><td>Sycosis                                                                 </td><td>      4</td></tr>\n",
       "\t<tr><td>152</td><td>Calcified nodule                                                        </td><td>    352</td></tr>\n",
       "\t<tr><td>154</td><td>Acne rosacea, erythematous telangiectatic type                          </td><td>    649</td></tr>\n",
       "\t<tr><td>⋮</td><td>⋮</td><td>⋮</td></tr>\n",
       "\t<tr><td>2932066</td><td>Spinal enthesopathy of cervical region         </td><td> 961</td></tr>\n",
       "\t<tr><td>2932068</td><td>Spinal enthesopathy of lumbar region           </td><td>1439</td></tr>\n",
       "\t<tr><td>2932069</td><td>Spinal enthesopathy of lumbosacral region      </td><td>  12</td></tr>\n",
       "\t<tr><td>2932073</td><td>Spinal enthesopathy of thoracolumbar region    </td><td> 130</td></tr>\n",
       "\t<tr><td>2932075</td><td>Spinal stenosis of cervicothoracic region      </td><td> 691</td></tr>\n",
       "\t<tr><td>2932076</td><td>Spinal stenosis of thoracolumbar region        </td><td>   9</td></tr>\n",
       "\t<tr><td>2932089</td><td>Squamous cell papilloma of esophagus           </td><td>   1</td></tr>\n",
       "\t<tr><td>2932096</td><td>Steel syndrome                                 </td><td> 108</td></tr>\n",
       "\t<tr><td>2932099</td><td>Stenosis of sacral spine                       </td><td> 163</td></tr>\n",
       "\t<tr><td>2932101</td><td>Stent graft                                    </td><td>   1</td></tr>\n",
       "\t<tr><td>2932208</td><td>Structure of periosteum of scapula             </td><td>  68</td></tr>\n",
       "\t<tr><td>2932225</td><td>Structure of right iliac crest                 </td><td>   2</td></tr>\n",
       "\t<tr><td>2932348</td><td>Swelling of submandibular area                 </td><td>  38</td></tr>\n",
       "\t<tr><td>2932387</td><td>Thoracic postural kyphosis                     </td><td>   3</td></tr>\n",
       "\t<tr><td>2932389</td><td>Thoracogenic scoliosis of thoracic spine       </td><td>1086</td></tr>\n",
       "\t<tr><td>2932390</td><td>Thoracogenic scoliosis of thoracolumbar spine  </td><td>1375</td></tr>\n",
       "\t<tr><td>2932446</td><td>Transient synovitis of left glenohumeral joint </td><td>  82</td></tr>\n",
       "\t<tr><td>2932449</td><td>Transient synovitis of right glenohumeral joint</td><td>  54</td></tr>\n",
       "\t<tr><td>2932503</td><td>Unexplained chronic cough                      </td><td>   5</td></tr>\n",
       "\t<tr><td>2932509</td><td>Unstageable pressure injury of left foot       </td><td>  15</td></tr>\n",
       "\t<tr><td>2932510</td><td>Unstageable pressure injury of right foot      </td><td>   3</td></tr>\n",
       "\t<tr><td>2932565</td><td>Victim of elder abuse by related caregiver     </td><td>   1</td></tr>\n",
       "\t<tr><td>2932584</td><td>Weakness of left lower limb                    </td><td>9792</td></tr>\n",
       "\t<tr><td>2932585</td><td>Weakness of left upper limb                    </td><td>3925</td></tr>\n",
       "\t<tr><td>2932586</td><td>Weakness of right lower limb                   </td><td>8871</td></tr>\n",
       "\t<tr><td>2932587</td><td>Weakness of right upper limb                   </td><td>   2</td></tr>\n",
       "\t<tr><td>3790460</td><td>Chronic ulcer of left foot                     </td><td>   1</td></tr>\n",
       "\t<tr><td>3790482</td><td>Chronic ulcer of right lower leg               </td><td>   2</td></tr>\n",
       "\t<tr><td>3791909</td><td>Pain due to dental trauma                      </td><td>   1</td></tr>\n",
       "\t<tr><td>3795485</td><td>Acute encephalitis                             </td><td>   3</td></tr>\n",
       "</tbody>\n",
       "</table>\n"
      ],
      "text/latex": [
       "A tibble: 118512 × 3\n",
       "\\begin{tabular}{lll}\n",
       " CodeConceptId & ConceptName & RecordCount\\\\\n",
       " <int> & <chr> & <int>\\\\\n",
       "\\hline\n",
       "\t   0 & Field has not been mapped                                                & 8434254\\\\\n",
       "\t  10 & Anxiety disorder of childhood OR adolescence                             &      26\\\\\n",
       "\t  11 & Parathyroid structure                                                    &      60\\\\\n",
       "\t  22 & Choroidal hemorrhage                                                     &       8\\\\\n",
       "\t  38 & No past history of                                                       &    1319\\\\\n",
       "\t  40 & Chronic pharyngitis                                                      &    6289\\\\\n",
       "\t  41 & Glaucoma as birth trauma                                                 &      11\\\\\n",
       "\t  45 & Colloid milium                                                           &       6\\\\\n",
       "\t  61 & Thermal injury                                                           &      40\\\\\n",
       "\t  62 & Severe manic bipolar I disorder without psychotic features               &     205\\\\\n",
       "\t  70 & Injury of ascending right colon without open wound into abdominal cavity &       2\\\\\n",
       "\t  74 & Supraorbital neuralgia                                                   &     855\\\\\n",
       "\t  76 & Poisoning by sawfly larvae                                               &     339\\\\\n",
       "\t  80 & Hemorrhagic bronchopneumonia                                             &      65\\\\\n",
       "\t  82 & Autoimmune pancytopenia                                                  &      86\\\\\n",
       "\t  83 & Withdrawal arrhythmia                                                    &      13\\\\\n",
       "\t  86 & Cyanocobalamin (57-Co)                                                   &       1\\\\\n",
       "\t  87 & Injury of intercostal artery                                             &      35\\\\\n",
       "\t  92 & Benign hypertensive renal disease                                        &   38579\\\\\n",
       "\t  97 & Decreased lactation                                                      &     163\\\\\n",
       "\t 100 & Structure of anterior division of renal artery                           &      10\\\\\n",
       "\t 114 & Delusion of persecution                                                  &      97\\\\\n",
       "\t 117 & Current drinker                                                          &   94748\\\\\n",
       "\t 120 & Acute epiglottitis with obstruction                                      &     167\\\\\n",
       "\t 121 & Tumor of body of uterus affecting pregnancy                              &      65\\\\\n",
       "\t 138 & Epilepsia partialis continua                                             &     208\\\\\n",
       "\t 139 & Noninfectious jejunitis                                                  &      13\\\\\n",
       "\t 150 & Sycosis                                                                  &       4\\\\\n",
       "\t 152 & Calcified nodule                                                         &     352\\\\\n",
       "\t 154 & Acne rosacea, erythematous telangiectatic type                           &     649\\\\\n",
       "\t ⋮ & ⋮ & ⋮\\\\\n",
       "\t 2932066 & Spinal enthesopathy of cervical region          &  961\\\\\n",
       "\t 2932068 & Spinal enthesopathy of lumbar region            & 1439\\\\\n",
       "\t 2932069 & Spinal enthesopathy of lumbosacral region       &   12\\\\\n",
       "\t 2932073 & Spinal enthesopathy of thoracolumbar region     &  130\\\\\n",
       "\t 2932075 & Spinal stenosis of cervicothoracic region       &  691\\\\\n",
       "\t 2932076 & Spinal stenosis of thoracolumbar region         &    9\\\\\n",
       "\t 2932089 & Squamous cell papilloma of esophagus            &    1\\\\\n",
       "\t 2932096 & Steel syndrome                                  &  108\\\\\n",
       "\t 2932099 & Stenosis of sacral spine                        &  163\\\\\n",
       "\t 2932101 & Stent graft                                     &    1\\\\\n",
       "\t 2932208 & Structure of periosteum of scapula              &   68\\\\\n",
       "\t 2932225 & Structure of right iliac crest                  &    2\\\\\n",
       "\t 2932348 & Swelling of submandibular area                  &   38\\\\\n",
       "\t 2932387 & Thoracic postural kyphosis                      &    3\\\\\n",
       "\t 2932389 & Thoracogenic scoliosis of thoracic spine        & 1086\\\\\n",
       "\t 2932390 & Thoracogenic scoliosis of thoracolumbar spine   & 1375\\\\\n",
       "\t 2932446 & Transient synovitis of left glenohumeral joint  &   82\\\\\n",
       "\t 2932449 & Transient synovitis of right glenohumeral joint &   54\\\\\n",
       "\t 2932503 & Unexplained chronic cough                       &    5\\\\\n",
       "\t 2932509 & Unstageable pressure injury of left foot        &   15\\\\\n",
       "\t 2932510 & Unstageable pressure injury of right foot       &    3\\\\\n",
       "\t 2932565 & Victim of elder abuse by related caregiver      &    1\\\\\n",
       "\t 2932584 & Weakness of left lower limb                     & 9792\\\\\n",
       "\t 2932585 & Weakness of left upper limb                     & 3925\\\\\n",
       "\t 2932586 & Weakness of right lower limb                    & 8871\\\\\n",
       "\t 2932587 & Weakness of right upper limb                    &    2\\\\\n",
       "\t 3790460 & Chronic ulcer of left foot                      &    1\\\\\n",
       "\t 3790482 & Chronic ulcer of right lower leg                &    2\\\\\n",
       "\t 3791909 & Pain due to dental trauma                       &    1\\\\\n",
       "\t 3795485 & Acute encephalitis                              &    3\\\\\n",
       "\\end{tabular}\n"
      ],
      "text/markdown": [
       "\n",
       "A tibble: 118512 × 3\n",
       "\n",
       "| CodeConceptId &lt;int&gt; | ConceptName &lt;chr&gt; | RecordCount &lt;int&gt; |\n",
       "|---|---|---|\n",
       "|   0 | Field has not been mapped                                                | 8434254 |\n",
       "|  10 | Anxiety disorder of childhood OR adolescence                             |      26 |\n",
       "|  11 | Parathyroid structure                                                    |      60 |\n",
       "|  22 | Choroidal hemorrhage                                                     |       8 |\n",
       "|  38 | No past history of                                                       |    1319 |\n",
       "|  40 | Chronic pharyngitis                                                      |    6289 |\n",
       "|  41 | Glaucoma as birth trauma                                                 |      11 |\n",
       "|  45 | Colloid milium                                                           |       6 |\n",
       "|  61 | Thermal injury                                                           |      40 |\n",
       "|  62 | Severe manic bipolar I disorder without psychotic features               |     205 |\n",
       "|  70 | Injury of ascending right colon without open wound into abdominal cavity |       2 |\n",
       "|  74 | Supraorbital neuralgia                                                   |     855 |\n",
       "|  76 | Poisoning by sawfly larvae                                               |     339 |\n",
       "|  80 | Hemorrhagic bronchopneumonia                                             |      65 |\n",
       "|  82 | Autoimmune pancytopenia                                                  |      86 |\n",
       "|  83 | Withdrawal arrhythmia                                                    |      13 |\n",
       "|  86 | Cyanocobalamin (57-Co)                                                   |       1 |\n",
       "|  87 | Injury of intercostal artery                                             |      35 |\n",
       "|  92 | Benign hypertensive renal disease                                        |   38579 |\n",
       "|  97 | Decreased lactation                                                      |     163 |\n",
       "| 100 | Structure of anterior division of renal artery                           |      10 |\n",
       "| 114 | Delusion of persecution                                                  |      97 |\n",
       "| 117 | Current drinker                                                          |   94748 |\n",
       "| 120 | Acute epiglottitis with obstruction                                      |     167 |\n",
       "| 121 | Tumor of body of uterus affecting pregnancy                              |      65 |\n",
       "| 138 | Epilepsia partialis continua                                             |     208 |\n",
       "| 139 | Noninfectious jejunitis                                                  |      13 |\n",
       "| 150 | Sycosis                                                                  |       4 |\n",
       "| 152 | Calcified nodule                                                         |     352 |\n",
       "| 154 | Acne rosacea, erythematous telangiectatic type                           |     649 |\n",
       "| ⋮ | ⋮ | ⋮ |\n",
       "| 2932066 | Spinal enthesopathy of cervical region          |  961 |\n",
       "| 2932068 | Spinal enthesopathy of lumbar region            | 1439 |\n",
       "| 2932069 | Spinal enthesopathy of lumbosacral region       |   12 |\n",
       "| 2932073 | Spinal enthesopathy of thoracolumbar region     |  130 |\n",
       "| 2932075 | Spinal stenosis of cervicothoracic region       |  691 |\n",
       "| 2932076 | Spinal stenosis of thoracolumbar region         |    9 |\n",
       "| 2932089 | Squamous cell papilloma of esophagus            |    1 |\n",
       "| 2932096 | Steel syndrome                                  |  108 |\n",
       "| 2932099 | Stenosis of sacral spine                        |  163 |\n",
       "| 2932101 | Stent graft                                     |    1 |\n",
       "| 2932208 | Structure of periosteum of scapula              |   68 |\n",
       "| 2932225 | Structure of right iliac crest                  |    2 |\n",
       "| 2932348 | Swelling of submandibular area                  |   38 |\n",
       "| 2932387 | Thoracic postural kyphosis                      |    3 |\n",
       "| 2932389 | Thoracogenic scoliosis of thoracic spine        | 1086 |\n",
       "| 2932390 | Thoracogenic scoliosis of thoracolumbar spine   | 1375 |\n",
       "| 2932446 | Transient synovitis of left glenohumeral joint  |   82 |\n",
       "| 2932449 | Transient synovitis of right glenohumeral joint |   54 |\n",
       "| 2932503 | Unexplained chronic cough                       |    5 |\n",
       "| 2932509 | Unstageable pressure injury of left foot        |   15 |\n",
       "| 2932510 | Unstageable pressure injury of right foot       |    3 |\n",
       "| 2932565 | Victim of elder abuse by related caregiver      |    1 |\n",
       "| 2932584 | Weakness of left lower limb                     | 9792 |\n",
       "| 2932585 | Weakness of left upper limb                     | 3925 |\n",
       "| 2932586 | Weakness of right lower limb                    | 8871 |\n",
       "| 2932587 | Weakness of right upper limb                    |    2 |\n",
       "| 3790460 | Chronic ulcer of left foot                      |    1 |\n",
       "| 3790482 | Chronic ulcer of right lower leg                |    2 |\n",
       "| 3791909 | Pain due to dental trauma                       |    1 |\n",
       "| 3795485 | Acute encephalitis                              |    3 |\n",
       "\n"
      ],
      "text/plain": [
       "       CodeConceptId\n",
       "1        0          \n",
       "2       10          \n",
       "3       11          \n",
       "4       22          \n",
       "5       38          \n",
       "6       40          \n",
       "7       41          \n",
       "8       45          \n",
       "9       61          \n",
       "10      62          \n",
       "11      70          \n",
       "12      74          \n",
       "13      76          \n",
       "14      80          \n",
       "15      82          \n",
       "16      83          \n",
       "17      86          \n",
       "18      87          \n",
       "19      92          \n",
       "20      97          \n",
       "21     100          \n",
       "22     114          \n",
       "23     117          \n",
       "24     120          \n",
       "25     121          \n",
       "26     138          \n",
       "27     139          \n",
       "28     150          \n",
       "29     152          \n",
       "30     154          \n",
       "⋮      ⋮            \n",
       "118483 2932066      \n",
       "118484 2932068      \n",
       "118485 2932069      \n",
       "118486 2932073      \n",
       "118487 2932075      \n",
       "118488 2932076      \n",
       "118489 2932089      \n",
       "118490 2932096      \n",
       "118491 2932099      \n",
       "118492 2932101      \n",
       "118493 2932208      \n",
       "118494 2932225      \n",
       "118495 2932348      \n",
       "118496 2932387      \n",
       "118497 2932389      \n",
       "118498 2932390      \n",
       "118499 2932446      \n",
       "118500 2932449      \n",
       "118501 2932503      \n",
       "118502 2932509      \n",
       "118503 2932510      \n",
       "118504 2932565      \n",
       "118505 2932584      \n",
       "118506 2932585      \n",
       "118507 2932586      \n",
       "118508 2932587      \n",
       "118509 3790460      \n",
       "118510 3790482      \n",
       "118511 3791909      \n",
       "118512 3795485      \n",
       "       ConceptName                                                             \n",
       "1      Field has not been mapped                                               \n",
       "2      Anxiety disorder of childhood OR adolescence                            \n",
       "3      Parathyroid structure                                                   \n",
       "4      Choroidal hemorrhage                                                    \n",
       "5      No past history of                                                      \n",
       "6      Chronic pharyngitis                                                     \n",
       "7      Glaucoma as birth trauma                                                \n",
       "8      Colloid milium                                                          \n",
       "9      Thermal injury                                                          \n",
       "10     Severe manic bipolar I disorder without psychotic features              \n",
       "11     Injury of ascending right colon without open wound into abdominal cavity\n",
       "12     Supraorbital neuralgia                                                  \n",
       "13     Poisoning by sawfly larvae                                              \n",
       "14     Hemorrhagic bronchopneumonia                                            \n",
       "15     Autoimmune pancytopenia                                                 \n",
       "16     Withdrawal arrhythmia                                                   \n",
       "17     Cyanocobalamin (57-Co)                                                  \n",
       "18     Injury of intercostal artery                                            \n",
       "19     Benign hypertensive renal disease                                       \n",
       "20     Decreased lactation                                                     \n",
       "21     Structure of anterior division of renal artery                          \n",
       "22     Delusion of persecution                                                 \n",
       "23     Current drinker                                                         \n",
       "24     Acute epiglottitis with obstruction                                     \n",
       "25     Tumor of body of uterus affecting pregnancy                             \n",
       "26     Epilepsia partialis continua                                            \n",
       "27     Noninfectious jejunitis                                                 \n",
       "28     Sycosis                                                                 \n",
       "29     Calcified nodule                                                        \n",
       "30     Acne rosacea, erythematous telangiectatic type                          \n",
       "⋮      ⋮                                                                       \n",
       "118483 Spinal enthesopathy of cervical region                                  \n",
       "118484 Spinal enthesopathy of lumbar region                                    \n",
       "118485 Spinal enthesopathy of lumbosacral region                               \n",
       "118486 Spinal enthesopathy of thoracolumbar region                             \n",
       "118487 Spinal stenosis of cervicothoracic region                               \n",
       "118488 Spinal stenosis of thoracolumbar region                                 \n",
       "118489 Squamous cell papilloma of esophagus                                    \n",
       "118490 Steel syndrome                                                          \n",
       "118491 Stenosis of sacral spine                                                \n",
       "118492 Stent graft                                                             \n",
       "118493 Structure of periosteum of scapula                                      \n",
       "118494 Structure of right iliac crest                                          \n",
       "118495 Swelling of submandibular area                                          \n",
       "118496 Thoracic postural kyphosis                                              \n",
       "118497 Thoracogenic scoliosis of thoracic spine                                \n",
       "118498 Thoracogenic scoliosis of thoracolumbar spine                           \n",
       "118499 Transient synovitis of left glenohumeral joint                          \n",
       "118500 Transient synovitis of right glenohumeral joint                         \n",
       "118501 Unexplained chronic cough                                               \n",
       "118502 Unstageable pressure injury of left foot                                \n",
       "118503 Unstageable pressure injury of right foot                               \n",
       "118504 Victim of elder abuse by related caregiver                              \n",
       "118505 Weakness of left lower limb                                             \n",
       "118506 Weakness of left upper limb                                             \n",
       "118507 Weakness of right lower limb                                            \n",
       "118508 Weakness of right upper limb                                            \n",
       "118509 Chronic ulcer of left foot                                              \n",
       "118510 Chronic ulcer of right lower leg                                        \n",
       "118511 Pain due to dental trauma                                               \n",
       "118512 Acute encephalitis                                                      \n",
       "       RecordCount\n",
       "1      8434254    \n",
       "2           26    \n",
       "3           60    \n",
       "4            8    \n",
       "5         1319    \n",
       "6         6289    \n",
       "7           11    \n",
       "8            6    \n",
       "9           40    \n",
       "10         205    \n",
       "11           2    \n",
       "12         855    \n",
       "13         339    \n",
       "14          65    \n",
       "15          86    \n",
       "16          13    \n",
       "17           1    \n",
       "18          35    \n",
       "19       38579    \n",
       "20         163    \n",
       "21          10    \n",
       "22          97    \n",
       "23       94748    \n",
       "24         167    \n",
       "25          65    \n",
       "26         208    \n",
       "27          13    \n",
       "28           4    \n",
       "29         352    \n",
       "30         649    \n",
       "⋮      ⋮          \n",
       "118483  961       \n",
       "118484 1439       \n",
       "118485   12       \n",
       "118486  130       \n",
       "118487  691       \n",
       "118488    9       \n",
       "118489    1       \n",
       "118490  108       \n",
       "118491  163       \n",
       "118492    1       \n",
       "118493   68       \n",
       "118494    2       \n",
       "118495   38       \n",
       "118496    3       \n",
       "118497 1086       \n",
       "118498 1375       \n",
       "118499   82       \n",
       "118500   54       \n",
       "118501    5       \n",
       "118502   15       \n",
       "118503    3       \n",
       "118504    1       \n",
       "118505 9792       \n",
       "118506 3925       \n",
       "118507 8871       \n",
       "118508    2       \n",
       "118509    1       \n",
       "118510    2       \n",
       "118511    1       \n",
       "118512    3       "
      ]
     },
     "metadata": {},
     "output_type": "display_data"
    }
   ],
   "source": [
    "# find patients who have more than one valid condition records\n",
    "sql <- \"select s.CodeConceptId,c.ConceptName, count(distinct s.ConditionId) as 'RecordCount'\n",
    "from ConditionCodes s join Concept c on (s.CodeConceptId = c.ConceptId)\n",
    "group by CodeConceptId, ConceptName\n",
    "order by 1;\"\n",
    "\n",
    "condition_count <- load_sql_table(con,snapshot,query  = sql) %>%collect()\n",
    "condition_count"
   ]
  },
  {
   "cell_type": "code",
   "execution_count": 4,
   "id": "36b3e600-af83-4a5f-91ef-b853f74beb4a",
   "metadata": {
    "execution": {
     "iopub.execute_input": "2023-07-27T18:58:17.514958Z",
     "iopub.status.busy": "2023-07-27T18:58:17.513421Z",
     "iopub.status.idle": "2023-07-27T18:59:56.898391Z",
     "shell.execute_reply": "2023-07-27T18:59:56.897274Z"
    },
    "tags": []
   },
   "outputs": [],
   "source": [
    "# check conditioncodes table's uniqueness\n",
    "\n",
    "sql <- \"\n",
    "select top 50 * from\n",
    "(select ConditionId, count(*) as total \n",
    "from ConditionCodes\n",
    "group by ConditionId) as t\n",
    "where t.total >=2\n",
    ";\"\n",
    "\n",
    "cc <- load_sql_table(con,snapshot, query = sql)%>% collect()"
   ]
  },
  {
   "cell_type": "code",
   "execution_count": 5,
   "id": "a0a5761b-9261-4c8e-b21d-9f3f26e8d55e",
   "metadata": {
    "execution": {
     "iopub.execute_input": "2023-07-27T18:59:56.900825Z",
     "iopub.status.busy": "2023-07-27T18:59:56.899990Z",
     "iopub.status.idle": "2023-07-27T19:02:50.062628Z",
     "shell.execute_reply": "2023-07-27T19:02:50.061493Z"
    },
    "tags": []
   },
   "outputs": [],
   "source": [
    "params = list('ConditionId' = cc$ConditionId)\n",
    "sql <- \"select * from ConditionCodes\n",
    "where ConditionId in :ConditionId;\n",
    "\"\n",
    "example <- load_sql_table(con,snapshot, query = sql,params = params) %>% collect()"
   ]
  },
  {
   "cell_type": "code",
   "execution_count": 6,
   "id": "ad506cc9-d6fc-4a33-ae22-a10c9ca277a0",
   "metadata": {
    "execution": {
     "iopub.execute_input": "2023-07-27T19:02:50.065166Z",
     "iopub.status.busy": "2023-07-27T19:02:50.064248Z",
     "iopub.status.idle": "2023-07-27T19:02:51.007632Z",
     "shell.execute_reply": "2023-07-27T19:02:51.006591Z"
    },
    "tags": []
   },
   "outputs": [
    {
     "data": {
      "text/html": [
       "<table class=\"dataframe\">\n",
       "<caption>A data.frame: 10 × 11</caption>\n",
       "<thead>\n",
       "\t<tr><th></th><th scope=col>CodeConceptId</th><th scope=col>ConditionId</th><th scope=col>SourceConceptId</th><th scope=col>PersonId</th><th scope=col>ConceptName</th><th scope=col>ConceptDefinition</th><th scope=col>CodeSystem</th><th scope=col>ConceptCode</th><th scope=col>ConceptClass</th><th scope=col>Domain</th><th scope=col>__index_level_0__</th></tr>\n",
       "\t<tr><th></th><th scope=col>&lt;int&gt;</th><th scope=col>&lt;chr&gt;</th><th scope=col>&lt;int&gt;</th><th scope=col>&lt;chr&gt;</th><th scope=col>&lt;chr&gt;</th><th scope=col>&lt;chr&gt;</th><th scope=col>&lt;chr&gt;</th><th scope=col>&lt;chr&gt;</th><th scope=col>&lt;chr&gt;</th><th scope=col>&lt;chr&gt;</th><th scope=col>&lt;int&gt;</th></tr>\n",
       "</thead>\n",
       "<tbody>\n",
       "\t<tr><th scope=row>1</th><td>  721</td><td>f2ff5f22-9fcb-e307-6067-9cfe6a2195d8</td><td>2703595</td><td>45ec6601-3d9a-6221-04ae-572d4517a50d</td><td>Actinic keratosis    </td><td>Actinic keratosis (morphologic abnormality)</td><td>SNOMED CT</td><td>856006  </td><td>Morph Abnormality</td><td>Observation</td><td>18916</td></tr>\n",
       "\t<tr><th scope=row>2</th><td> 3429</td><td>e7f42f2f-c608-fb25-55ba-c7f8f42a288e</td><td>2703597</td><td>b6fd229d-5ca7-9ad2-61de-cb3cb91925b0</td><td>Arthritis            </td><td>Arthritis (disorder)                       </td><td>SNOMED CT</td><td>3723001 </td><td>Clinical Finding </td><td>Condition  </td><td>22711</td></tr>\n",
       "\t<tr><th scope=row>3</th><td> 3429</td><td>e7f42f2f-c608-fb25-55ba-c7f8f42a288e</td><td>2703595</td><td>b6fd229d-5ca7-9ad2-61de-cb3cb91925b0</td><td>Arthritis            </td><td>Arthritis (disorder)                       </td><td>SNOMED CT</td><td>3723001 </td><td>Clinical Finding </td><td>Condition  </td><td>22711</td></tr>\n",
       "\t<tr><th scope=row>4</th><td> 8125</td><td>cab7a762-b693-e7c3-5eb4-9304f4ec7a78</td><td>2703597</td><td>98ea710a-f8c5-8f96-c68e-20d34c90186c</td><td>Aortic valve disorder</td><td>Aortic valve disorder (disorder)           </td><td>SNOMED CT</td><td>8722008 </td><td>Clinical Finding </td><td>Condition  </td><td>30803</td></tr>\n",
       "\t<tr><th scope=row>5</th><td> 8125</td><td>cab7a762-b693-e7c3-5eb4-9304f4ec7a78</td><td>2703595</td><td>98ea710a-f8c5-8f96-c68e-20d34c90186c</td><td>Aortic valve disorder</td><td>Aortic valve disorder (disorder)           </td><td>SNOMED CT</td><td>8722008 </td><td>Clinical Finding </td><td>Condition  </td><td>30803</td></tr>\n",
       "\t<tr><th scope=row>6</th><td>12365</td><td>6c18334b-1362-e657-9d10-58ed8c4ffa84</td><td>2703597</td><td>368fccf8-324d-1ac6-0477-500c7ee0daa9</td><td>Peptic ulcer         </td><td>Peptic ulcer (disorder)                    </td><td>SNOMED CT</td><td>13200003</td><td>Clinical Finding </td><td>Condition  </td><td>37469</td></tr>\n",
       "\t<tr><th scope=row>7</th><td>12780</td><td>654ddb07-bb59-0e3b-126a-5917e89fdba7</td><td>2703597</td><td>8c696c14-8eae-666e-b61d-5a3b1f9c381c</td><td>Hypercholesterolemia </td><td>Hypercholesterolemia (disorder)            </td><td>SNOMED CT</td><td>13644009</td><td>Clinical Finding </td><td>Condition  </td><td>38986</td></tr>\n",
       "\t<tr><th scope=row>8</th><td>12780</td><td>654ddb07-bb59-0e3b-126a-5917e89fdba7</td><td>2703595</td><td>8c696c14-8eae-666e-b61d-5a3b1f9c381c</td><td>Hypercholesterolemia </td><td>Hypercholesterolemia (disorder)            </td><td>SNOMED CT</td><td>13644009</td><td>Clinical Finding </td><td>Condition  </td><td>38986</td></tr>\n",
       "\t<tr><th scope=row>9</th><td>29813</td><td>79aa70b0-72ef-d171-99d1-f60326278333</td><td>2703597</td><td>68adb7a4-fca0-d857-ce57-93a469008631</td><td>Trigeminal neuralgia </td><td>Trigeminal neuralgia (disorder)            </td><td>SNOMED CT</td><td>31681005</td><td>Clinical Finding </td><td>Condition  </td><td>65826</td></tr>\n",
       "\t<tr><th scope=row>10</th><td>29813</td><td>79aa70b0-72ef-d171-99d1-f60326278333</td><td>2703595</td><td>68adb7a4-fca0-d857-ce57-93a469008631</td><td>Trigeminal neuralgia </td><td>Trigeminal neuralgia (disorder)            </td><td>SNOMED CT</td><td>31681005</td><td>Clinical Finding </td><td>Condition  </td><td>65826</td></tr>\n",
       "</tbody>\n",
       "</table>\n"
      ],
      "text/latex": [
       "A data.frame: 10 × 11\n",
       "\\begin{tabular}{r|lllllllllll}\n",
       "  & CodeConceptId & ConditionId & SourceConceptId & PersonId & ConceptName & ConceptDefinition & CodeSystem & ConceptCode & ConceptClass & Domain & \\_\\_index\\_level\\_0\\_\\_\\\\\n",
       "  & <int> & <chr> & <int> & <chr> & <chr> & <chr> & <chr> & <chr> & <chr> & <chr> & <int>\\\\\n",
       "\\hline\n",
       "\t1 &   721 & f2ff5f22-9fcb-e307-6067-9cfe6a2195d8 & 2703595 & 45ec6601-3d9a-6221-04ae-572d4517a50d & Actinic keratosis     & Actinic keratosis (morphologic abnormality) & SNOMED CT & 856006   & Morph Abnormality & Observation & 18916\\\\\n",
       "\t2 &  3429 & e7f42f2f-c608-fb25-55ba-c7f8f42a288e & 2703597 & b6fd229d-5ca7-9ad2-61de-cb3cb91925b0 & Arthritis             & Arthritis (disorder)                        & SNOMED CT & 3723001  & Clinical Finding  & Condition   & 22711\\\\\n",
       "\t3 &  3429 & e7f42f2f-c608-fb25-55ba-c7f8f42a288e & 2703595 & b6fd229d-5ca7-9ad2-61de-cb3cb91925b0 & Arthritis             & Arthritis (disorder)                        & SNOMED CT & 3723001  & Clinical Finding  & Condition   & 22711\\\\\n",
       "\t4 &  8125 & cab7a762-b693-e7c3-5eb4-9304f4ec7a78 & 2703597 & 98ea710a-f8c5-8f96-c68e-20d34c90186c & Aortic valve disorder & Aortic valve disorder (disorder)            & SNOMED CT & 8722008  & Clinical Finding  & Condition   & 30803\\\\\n",
       "\t5 &  8125 & cab7a762-b693-e7c3-5eb4-9304f4ec7a78 & 2703595 & 98ea710a-f8c5-8f96-c68e-20d34c90186c & Aortic valve disorder & Aortic valve disorder (disorder)            & SNOMED CT & 8722008  & Clinical Finding  & Condition   & 30803\\\\\n",
       "\t6 & 12365 & 6c18334b-1362-e657-9d10-58ed8c4ffa84 & 2703597 & 368fccf8-324d-1ac6-0477-500c7ee0daa9 & Peptic ulcer          & Peptic ulcer (disorder)                     & SNOMED CT & 13200003 & Clinical Finding  & Condition   & 37469\\\\\n",
       "\t7 & 12780 & 654ddb07-bb59-0e3b-126a-5917e89fdba7 & 2703597 & 8c696c14-8eae-666e-b61d-5a3b1f9c381c & Hypercholesterolemia  & Hypercholesterolemia (disorder)             & SNOMED CT & 13644009 & Clinical Finding  & Condition   & 38986\\\\\n",
       "\t8 & 12780 & 654ddb07-bb59-0e3b-126a-5917e89fdba7 & 2703595 & 8c696c14-8eae-666e-b61d-5a3b1f9c381c & Hypercholesterolemia  & Hypercholesterolemia (disorder)             & SNOMED CT & 13644009 & Clinical Finding  & Condition   & 38986\\\\\n",
       "\t9 & 29813 & 79aa70b0-72ef-d171-99d1-f60326278333 & 2703597 & 68adb7a4-fca0-d857-ce57-93a469008631 & Trigeminal neuralgia  & Trigeminal neuralgia (disorder)             & SNOMED CT & 31681005 & Clinical Finding  & Condition   & 65826\\\\\n",
       "\t10 & 29813 & 79aa70b0-72ef-d171-99d1-f60326278333 & 2703595 & 68adb7a4-fca0-d857-ce57-93a469008631 & Trigeminal neuralgia  & Trigeminal neuralgia (disorder)             & SNOMED CT & 31681005 & Clinical Finding  & Condition   & 65826\\\\\n",
       "\\end{tabular}\n"
      ],
      "text/markdown": [
       "\n",
       "A data.frame: 10 × 11\n",
       "\n",
       "| <!--/--> | CodeConceptId &lt;int&gt; | ConditionId &lt;chr&gt; | SourceConceptId &lt;int&gt; | PersonId &lt;chr&gt; | ConceptName &lt;chr&gt; | ConceptDefinition &lt;chr&gt; | CodeSystem &lt;chr&gt; | ConceptCode &lt;chr&gt; | ConceptClass &lt;chr&gt; | Domain &lt;chr&gt; | __index_level_0__ &lt;int&gt; |\n",
       "|---|---|---|---|---|---|---|---|---|---|---|---|\n",
       "| 1 |   721 | f2ff5f22-9fcb-e307-6067-9cfe6a2195d8 | 2703595 | 45ec6601-3d9a-6221-04ae-572d4517a50d | Actinic keratosis     | Actinic keratosis (morphologic abnormality) | SNOMED CT | 856006   | Morph Abnormality | Observation | 18916 |\n",
       "| 2 |  3429 | e7f42f2f-c608-fb25-55ba-c7f8f42a288e | 2703597 | b6fd229d-5ca7-9ad2-61de-cb3cb91925b0 | Arthritis             | Arthritis (disorder)                        | SNOMED CT | 3723001  | Clinical Finding  | Condition   | 22711 |\n",
       "| 3 |  3429 | e7f42f2f-c608-fb25-55ba-c7f8f42a288e | 2703595 | b6fd229d-5ca7-9ad2-61de-cb3cb91925b0 | Arthritis             | Arthritis (disorder)                        | SNOMED CT | 3723001  | Clinical Finding  | Condition   | 22711 |\n",
       "| 4 |  8125 | cab7a762-b693-e7c3-5eb4-9304f4ec7a78 | 2703597 | 98ea710a-f8c5-8f96-c68e-20d34c90186c | Aortic valve disorder | Aortic valve disorder (disorder)            | SNOMED CT | 8722008  | Clinical Finding  | Condition   | 30803 |\n",
       "| 5 |  8125 | cab7a762-b693-e7c3-5eb4-9304f4ec7a78 | 2703595 | 98ea710a-f8c5-8f96-c68e-20d34c90186c | Aortic valve disorder | Aortic valve disorder (disorder)            | SNOMED CT | 8722008  | Clinical Finding  | Condition   | 30803 |\n",
       "| 6 | 12365 | 6c18334b-1362-e657-9d10-58ed8c4ffa84 | 2703597 | 368fccf8-324d-1ac6-0477-500c7ee0daa9 | Peptic ulcer          | Peptic ulcer (disorder)                     | SNOMED CT | 13200003 | Clinical Finding  | Condition   | 37469 |\n",
       "| 7 | 12780 | 654ddb07-bb59-0e3b-126a-5917e89fdba7 | 2703597 | 8c696c14-8eae-666e-b61d-5a3b1f9c381c | Hypercholesterolemia  | Hypercholesterolemia (disorder)             | SNOMED CT | 13644009 | Clinical Finding  | Condition   | 38986 |\n",
       "| 8 | 12780 | 654ddb07-bb59-0e3b-126a-5917e89fdba7 | 2703595 | 8c696c14-8eae-666e-b61d-5a3b1f9c381c | Hypercholesterolemia  | Hypercholesterolemia (disorder)             | SNOMED CT | 13644009 | Clinical Finding  | Condition   | 38986 |\n",
       "| 9 | 29813 | 79aa70b0-72ef-d171-99d1-f60326278333 | 2703597 | 68adb7a4-fca0-d857-ce57-93a469008631 | Trigeminal neuralgia  | Trigeminal neuralgia (disorder)             | SNOMED CT | 31681005 | Clinical Finding  | Condition   | 65826 |\n",
       "| 10 | 29813 | 79aa70b0-72ef-d171-99d1-f60326278333 | 2703595 | 68adb7a4-fca0-d857-ce57-93a469008631 | Trigeminal neuralgia  | Trigeminal neuralgia (disorder)             | SNOMED CT | 31681005 | Clinical Finding  | Condition   | 65826 |\n",
       "\n"
      ],
      "text/plain": [
       "   CodeConceptId ConditionId                          SourceConceptId\n",
       "1    721         f2ff5f22-9fcb-e307-6067-9cfe6a2195d8 2703595        \n",
       "2   3429         e7f42f2f-c608-fb25-55ba-c7f8f42a288e 2703597        \n",
       "3   3429         e7f42f2f-c608-fb25-55ba-c7f8f42a288e 2703595        \n",
       "4   8125         cab7a762-b693-e7c3-5eb4-9304f4ec7a78 2703597        \n",
       "5   8125         cab7a762-b693-e7c3-5eb4-9304f4ec7a78 2703595        \n",
       "6  12365         6c18334b-1362-e657-9d10-58ed8c4ffa84 2703597        \n",
       "7  12780         654ddb07-bb59-0e3b-126a-5917e89fdba7 2703597        \n",
       "8  12780         654ddb07-bb59-0e3b-126a-5917e89fdba7 2703595        \n",
       "9  29813         79aa70b0-72ef-d171-99d1-f60326278333 2703597        \n",
       "10 29813         79aa70b0-72ef-d171-99d1-f60326278333 2703595        \n",
       "   PersonId                             ConceptName          \n",
       "1  45ec6601-3d9a-6221-04ae-572d4517a50d Actinic keratosis    \n",
       "2  b6fd229d-5ca7-9ad2-61de-cb3cb91925b0 Arthritis            \n",
       "3  b6fd229d-5ca7-9ad2-61de-cb3cb91925b0 Arthritis            \n",
       "4  98ea710a-f8c5-8f96-c68e-20d34c90186c Aortic valve disorder\n",
       "5  98ea710a-f8c5-8f96-c68e-20d34c90186c Aortic valve disorder\n",
       "6  368fccf8-324d-1ac6-0477-500c7ee0daa9 Peptic ulcer         \n",
       "7  8c696c14-8eae-666e-b61d-5a3b1f9c381c Hypercholesterolemia \n",
       "8  8c696c14-8eae-666e-b61d-5a3b1f9c381c Hypercholesterolemia \n",
       "9  68adb7a4-fca0-d857-ce57-93a469008631 Trigeminal neuralgia \n",
       "10 68adb7a4-fca0-d857-ce57-93a469008631 Trigeminal neuralgia \n",
       "   ConceptDefinition                           CodeSystem ConceptCode\n",
       "1  Actinic keratosis (morphologic abnormality) SNOMED CT  856006     \n",
       "2  Arthritis (disorder)                        SNOMED CT  3723001    \n",
       "3  Arthritis (disorder)                        SNOMED CT  3723001    \n",
       "4  Aortic valve disorder (disorder)            SNOMED CT  8722008    \n",
       "5  Aortic valve disorder (disorder)            SNOMED CT  8722008    \n",
       "6  Peptic ulcer (disorder)                     SNOMED CT  13200003   \n",
       "7  Hypercholesterolemia (disorder)             SNOMED CT  13644009   \n",
       "8  Hypercholesterolemia (disorder)             SNOMED CT  13644009   \n",
       "9  Trigeminal neuralgia (disorder)             SNOMED CT  31681005   \n",
       "10 Trigeminal neuralgia (disorder)             SNOMED CT  31681005   \n",
       "   ConceptClass      Domain      __index_level_0__\n",
       "1  Morph Abnormality Observation 18916            \n",
       "2  Clinical Finding  Condition   22711            \n",
       "3  Clinical Finding  Condition   22711            \n",
       "4  Clinical Finding  Condition   30803            \n",
       "5  Clinical Finding  Condition   30803            \n",
       "6  Clinical Finding  Condition   37469            \n",
       "7  Clinical Finding  Condition   38986            \n",
       "8  Clinical Finding  Condition   38986            \n",
       "9  Clinical Finding  Condition   65826            \n",
       "10 Clinical Finding  Condition   65826            "
      ]
     },
     "metadata": {},
     "output_type": "display_data"
    }
   ],
   "source": [
    "concept = read_parquet(\"data/Concept.parquet\")\n",
    "example_code <- example %>% merge(.,concept,by.x = \"CodeConceptId\", by.y = \"ConceptId\") \n",
    "head(example_code,10)"
   ]
  },
  {
   "cell_type": "code",
   "execution_count": 7,
   "id": "d2010bbf-7fb4-4c97-9b71-0e630c449154",
   "metadata": {
    "execution": {
     "iopub.execute_input": "2023-07-27T19:02:51.009896Z",
     "iopub.status.busy": "2023-07-27T19:02:51.009097Z",
     "iopub.status.idle": "2023-07-27T19:02:51.079818Z",
     "shell.execute_reply": "2023-07-27T19:02:51.078750Z"
    },
    "tags": []
   },
   "outputs": [],
   "source": [
    "write_csv(example_code, \"data/conditionCodeExample.csv.r\")"
   ]
  },
  {
   "cell_type": "code",
   "execution_count": 18,
   "id": "ff50790c-4dc9-4803-a1d4-f3fc204cd202",
   "metadata": {
    "execution": {
     "iopub.execute_input": "2023-07-27T17:34:42.026968Z",
     "iopub.status.busy": "2023-07-27T17:34:42.025979Z",
     "iopub.status.idle": "2023-07-27T17:39:54.806268Z",
     "shell.execute_reply": "2023-07-27T17:39:54.803618Z"
    },
    "tags": []
   },
   "outputs": [],
   "source": [
    "sql <- \"select ConditionId, PersonId, CodeConceptId, count(*) as total \n",
    "from ConditionCodes cc \n",
    "group by ConditionId,PersonId, CodeConceptId\n",
    "order by 4 desc\n",
    ";\"\n",
    "\n",
    "cc <- load_sql_table(con,snapshot, query = sql)%>% collect() %>% merge(., concept,by.x = 'CodeConceptId',by.y = 'ConceptId')\n"
   ]
  },
  {
   "cell_type": "code",
   "execution_count": null,
   "id": "314dd117-ff8c-4f7b-a807-0d2c32f54879",
   "metadata": {
    "tags": []
   },
   "outputs": [],
   "source": [
    "head(cc,10)"
   ]
  },
  {
   "cell_type": "code",
   "execution_count": 10,
   "id": "99e5c308-d64a-40cc-98e9-bb9859962bc7",
   "metadata": {
    "execution": {
     "iopub.execute_input": "2023-07-27T20:32:59.178107Z",
     "iopub.status.busy": "2023-07-27T20:32:59.177118Z",
     "iopub.status.idle": "2023-07-27T20:35:20.422759Z",
     "shell.execute_reply": "2023-07-27T20:35:20.421731Z"
    },
    "tags": []
   },
   "outputs": [
    {
     "data": {
      "text/html": [
       "<table class=\"dataframe\">\n",
       "<caption>A tibble: 1 × 1</caption>\n",
       "<thead>\n",
       "\t<tr><th scope=col>cnt</th></tr>\n",
       "\t<tr><th scope=col>&lt;int&gt;</th></tr>\n",
       "</thead>\n",
       "<tbody>\n",
       "\t<tr><td>755875327</td></tr>\n",
       "</tbody>\n",
       "</table>\n"
      ],
      "text/latex": [
       "A tibble: 1 × 1\n",
       "\\begin{tabular}{l}\n",
       " cnt\\\\\n",
       " <int>\\\\\n",
       "\\hline\n",
       "\t 755875327\\\\\n",
       "\\end{tabular}\n"
      ],
      "text/markdown": [
       "\n",
       "A tibble: 1 × 1\n",
       "\n",
       "| cnt &lt;int&gt; |\n",
       "|---|\n",
       "| 755875327 |\n",
       "\n"
      ],
      "text/plain": [
       "  cnt      \n",
       "1 755875327"
      ]
     },
     "metadata": {},
     "output_type": "display_data"
    }
   ],
   "source": [
    "# join encounter with condition to see if there will be duplicates.\n",
    "sql <- \"select count(e.Id) as cnt \n",
    "from Encounter e left join Condition c on (e.Id = c.EncounterId)\n",
    "where e.StatusConceptId not in (2983199,2506590,2983200,2506591,2506595)\n",
    "\"\n",
    "\n",
    "ent_con <- load_sql_table(con,snapshot,query = sql) %>% collect()\n",
    "ent_con"
   ]
  },
  {
   "cell_type": "code",
   "execution_count": 11,
   "id": "10eae5cb-1c96-48d4-98d2-bd3ce212152b",
   "metadata": {
    "execution": {
     "iopub.execute_input": "2023-07-27T21:08:28.469702Z",
     "iopub.status.busy": "2023-07-27T21:08:28.468715Z",
     "iopub.status.idle": "2023-07-27T21:09:29.351384Z",
     "shell.execute_reply": "2023-07-27T21:09:29.350331Z"
    },
    "tags": []
   },
   "outputs": [
    {
     "data": {
      "text/html": [
       "<table class=\"dataframe\">\n",
       "<caption>A tibble: 1 × 1</caption>\n",
       "<thead>\n",
       "\t<tr><th scope=col>cnt</th></tr>\n",
       "\t<tr><th scope=col>&lt;int&gt;</th></tr>\n",
       "</thead>\n",
       "<tbody>\n",
       "\t<tr><td>726114247</td></tr>\n",
       "</tbody>\n",
       "</table>\n"
      ],
      "text/latex": [
       "A tibble: 1 × 1\n",
       "\\begin{tabular}{l}\n",
       " cnt\\\\\n",
       " <int>\\\\\n",
       "\\hline\n",
       "\t 726114247\\\\\n",
       "\\end{tabular}\n"
      ],
      "text/markdown": [
       "\n",
       "A tibble: 1 × 1\n",
       "\n",
       "| cnt &lt;int&gt; |\n",
       "|---|\n",
       "| 726114247 |\n",
       "\n"
      ],
      "text/plain": [
       "  cnt      \n",
       "1 726114247"
      ]
     },
     "metadata": {},
     "output_type": "display_data"
    }
   ],
   "source": [
    "sql <- \"select count(distinct ConditionId) as cnt from ConditionCodes; \"\n",
    "\n",
    "load_sql_table(con, snapshot,query = sql)%>% collect()\n"
   ]
  },
  {
   "cell_type": "code",
   "execution_count": 5,
   "id": "d2f533bb-4e35-4027-af92-ba4d265fa750",
   "metadata": {
    "execution": {
     "iopub.execute_input": "2023-08-01T14:13:48.521692Z",
     "iopub.status.busy": "2023-08-01T14:13:48.520247Z",
     "iopub.status.idle": "2023-08-01T14:16:46.172521Z",
     "shell.execute_reply": "2023-08-01T14:16:46.171362Z"
    },
    "tags": []
   },
   "outputs": [],
   "source": [
    "# cut only source ending 94\n",
    "\n",
    "sql <- \"select cc.CodeConceptId as DiagnosisId, c.CategoryConceptId as ConditionCategory, count(*) as NRecords, count(distinct c.PersonId) as NPatient\n",
    "from Condition c join ConditionCodes cc on (c.Id=cc.ConditionId and c.PersonId =cc.PersonId)\n",
    "where SourceConceptId like '%94'\n",
    "group by CodeConceptId, CategoryConceptId\n",
    "order by 3;\"\n",
    "\n",
    "cc <- load_sql_table(con,snapshot,query = sql) %>% collect() %>%merge(.,concept,by.x = \"ConditionCategory\", by.y = \"ConceptId\")%>%\n",
    "rename(CategoryName = ConceptName, CategoryCodeSystem = CodeSystem )%>% \n",
    "merge(.,concept,by.x = 'DiagnosisId',by.y='ConceptId')%>%\n",
    "rename(DiagnosisName=ConceptName,DiagnosisCodeSystem=CodeSystem)\n"
   ]
  },
  {
   "cell_type": "code",
   "execution_count": 7,
   "id": "b9e0c308-5dc3-4e5a-8314-4fb24d3dd891",
   "metadata": {
    "execution": {
     "iopub.execute_input": "2023-08-01T14:18:04.973761Z",
     "iopub.status.busy": "2023-08-01T14:18:04.972694Z",
     "iopub.status.idle": "2023-08-01T14:18:04.985054Z",
     "shell.execute_reply": "2023-08-01T14:18:04.983611Z"
    },
    "tags": []
   },
   "outputs": [
    {
     "data": {
      "text/html": [
       "94.86728308323"
      ],
      "text/latex": [
       "94.86728308323"
      ],
      "text/markdown": [
       "94.86728308323"
      ],
      "text/plain": [
       "[1] 94.86728"
      ]
     },
     "metadata": {},
     "output_type": "display_data"
    }
   ],
   "source": [
    "sum(cc$NRecords)/735047629 *100"
   ]
  },
  {
   "cell_type": "code",
   "execution_count": 5,
   "id": "d63af83e-c08b-46b9-a962-323871217c1d",
   "metadata": {
    "execution": {
     "iopub.execute_input": "2023-08-01T18:22:16.872115Z",
     "iopub.status.busy": "2023-08-01T18:22:16.871065Z",
     "iopub.status.idle": "2023-08-01T18:23:07.129240Z",
     "shell.execute_reply": "2023-08-01T18:23:07.128173Z"
    },
    "tags": []
   },
   "outputs": [
    {
     "data": {
      "text/html": [
       "<table class=\"dataframe\">\n",
       "<caption>A tibble: 1 × 1</caption>\n",
       "<thead>\n",
       "\t<tr><th scope=col>total_ent</th></tr>\n",
       "\t<tr><th scope=col>&lt;int&gt;</th></tr>\n",
       "</thead>\n",
       "<tbody>\n",
       "\t<tr><td>110030147</td></tr>\n",
       "</tbody>\n",
       "</table>\n"
      ],
      "text/latex": [
       "A tibble: 1 × 1\n",
       "\\begin{tabular}{l}\n",
       " total\\_ent\\\\\n",
       " <int>\\\\\n",
       "\\hline\n",
       "\t 110030147\\\\\n",
       "\\end{tabular}\n"
      ],
      "text/markdown": [
       "\n",
       "A tibble: 1 × 1\n",
       "\n",
       "| total_ent &lt;int&gt; |\n",
       "|---|\n",
       "| 110030147 |\n",
       "\n"
      ],
      "text/plain": [
       "  total_ent\n",
       "1 110030147"
      ]
     },
     "metadata": {},
     "output_type": "display_data"
    }
   ],
   "source": [
    "#count # of encounters in condition\n",
    "\n",
    "sql <- \"select count(distinct EncounterId) as total_ent \n",
    "from Condition;\"\n",
    "\n",
    "\n",
    "load_sql_table(con,snapshot,query = sql)%>% collect()"
   ]
  },
  {
   "cell_type": "code",
   "execution_count": null,
   "id": "157bb590-dc61-4c1a-b5b0-25decb7cb222",
   "metadata": {},
   "outputs": [],
   "source": []
  }
 ],
 "metadata": {
  "kernelspec": {
   "display_name": "R",
   "language": "R",
   "name": "ir"
  },
  "language_info": {
   "codemirror_mode": "r",
   "file_extension": ".r",
   "mimetype": "text/x-r-source",
   "name": "R",
   "pygments_lexer": "r",
   "version": "4.1.3"
  }
 },
 "nbformat": 4,
 "nbformat_minor": 5
}
