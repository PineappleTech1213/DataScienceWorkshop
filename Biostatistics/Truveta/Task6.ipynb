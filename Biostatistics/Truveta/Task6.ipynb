{
 "cells": [
  {
   "cell_type": "code",
   "execution_count": 1,
   "id": "38000ca2-dcfd-44db-9db7-cb06830001b7",
   "metadata": {
    "execution": {
     "iopub.execute_input": "2023-07-25T19:16:53.193361Z",
     "iopub.status.busy": "2023-07-25T19:16:53.190993Z",
     "iopub.status.idle": "2023-07-25T19:16:53.981158Z",
     "shell.execute_reply": "2023-07-25T19:16:53.979820Z"
    },
    "tags": []
   },
   "outputs": [
    {
     "name": "stderr",
     "output_type": "stream",
     "text": [
      "here() starts at /home/jovyan/studyrepositories/hypertensioncohorts-is5fyzbqztbebenalfbuo4boem\n",
      "\n",
      "Loading required package: DBI\n",
      "\n",
      "\n",
      "Attaching package: ‘dbplyr’\n",
      "\n",
      "\n",
      "The following objects are masked from ‘package:dplyr’:\n",
      "\n",
      "    ident, sql\n",
      "\n",
      "\n"
     ]
    }
   ],
   "source": [
    "library(here)\n",
    "library(here)\n",
    "library(readr, warn.conflicts = FALSE)\n",
    "library(arrow, warn.conflicts = FALSE)\n",
    "library(magrittr, warn.conflicts = FALSE)\n",
    "library(stringr, warn.conflicts = FALSE)\n",
    "library(dplyr, warn.conflicts = FALSE)\n",
    "library(rlang, warn.conflicts = FALSE)\n",
    "library(data.table, warn.conflicts = FALSE)\n",
    "library(lubridate, warn.conflicts = FALSE)\n",
    "library(tidyr, warn.conflicts = FALSE)\n",
    "library(truveta.study)\n",
    "library(dbplyr)\n",
    "library(ggplot2)"
   ]
  },
  {
   "cell_type": "code",
   "execution_count": 2,
   "id": "d7c951b6-23ba-447d-b52d-344a28d2c031",
   "metadata": {
    "execution": {
     "iopub.execute_input": "2023-07-25T19:16:54.047208Z",
     "iopub.status.busy": "2023-07-25T19:16:53.983108Z",
     "iopub.status.idle": "2023-07-25T19:17:00.811949Z",
     "shell.execute_reply": "2023-07-25T19:17:00.810598Z"
    },
    "tags": []
   },
   "outputs": [
    {
     "name": "stdout",
     "output_type": "stream",
     "text": [
      "[1] \"Deprecation warning: the Vital and SocialHistory tables will be removed from the Truveta Data Model on September 12th, 2023. New snapshots generated after this date will exclude these tables. Existing snapshots which include these tables will be unaffected. Visit Learn for more information.\"\n"
     ]
    },
    {
     "name": "stderr",
     "output_type": "stream",
     "text": [
      "To sign in to Truveta, use a web browser to open the page https://login.truveta.com/activate?user_code=JTCQ-FHGS.\n",
      "\n",
      "Signed in successfully.\n",
      "\n"
     ]
    }
   ],
   "source": [
    "# build connections \n",
    "con <- create_connection()\n",
    "study <- get_study(con, title = \"Hypertension Cohort\")\n",
    "population <- get_population(con, study, title = \"Study Cohort\")\n",
    "snapshot <- get_latest_snapshot(con, population, finished = TRUE)"
   ]
  },
  {
   "cell_type": "code",
   "execution_count": 3,
   "id": "9ef4e8ad-978e-4940-b08c-3204ab38d574",
   "metadata": {
    "execution": {
     "iopub.execute_input": "2023-07-25T19:17:08.553390Z",
     "iopub.status.busy": "2023-07-25T19:17:08.552019Z",
     "iopub.status.idle": "2023-07-25T19:17:08.561931Z",
     "shell.execute_reply": "2023-07-25T19:17:08.560716Z"
    },
    "tags": []
   },
   "outputs": [],
   "source": [
    "params = list('missings'=c(0,1067557,1067561))"
   ]
  },
  {
   "cell_type": "code",
   "execution_count": 20,
   "id": "d2eb9b3f-d08f-4ac8-8911-aa25ea6c0d5e",
   "metadata": {
    "execution": {
     "iopub.execute_input": "2023-07-12T19:32:54.758937Z",
     "iopub.status.busy": "2023-07-12T19:32:54.757966Z",
     "iopub.status.idle": "2023-07-12T19:34:14.286679Z",
     "shell.execute_reply": "2023-07-12T19:34:14.285703Z"
    },
    "tags": []
   },
   "outputs": [
    {
     "data": {
      "text/html": [
       "<table class=\"dataframe\">\n",
       "<caption>A tibble: 1 × 1</caption>\n",
       "<thead>\n",
       "\t<tr><th scope=col>patient_count</th></tr>\n",
       "\t<tr><th scope=col>&lt;int&gt;</th></tr>\n",
       "</thead>\n",
       "<tbody>\n",
       "\t<tr><td>1164958</td></tr>\n",
       "</tbody>\n",
       "</table>\n"
      ],
      "text/latex": [
       "A tibble: 1 × 1\n",
       "\\begin{tabular}{l}\n",
       " patient\\_count\\\\\n",
       " <int>\\\\\n",
       "\\hline\n",
       "\t 1164958\\\\\n",
       "\\end{tabular}\n"
      ],
      "text/markdown": [
       "\n",
       "A tibble: 1 × 1\n",
       "\n",
       "| patient_count &lt;int&gt; |\n",
       "|---|\n",
       "| 1164958 |\n",
       "\n"
      ],
      "text/plain": [
       "  patient_count\n",
       "1 1164958      "
      ]
     },
     "metadata": {},
     "output_type": "display_data"
    },
    {
     "data": {
      "text/html": [
       "<table class=\"dataframe\">\n",
       "<caption>A data.frame: 5 × 3</caption>\n",
       "<thead>\n",
       "\t<tr><th scope=col>CategoryConceptId</th><th scope=col>ConceptName</th><th scope=col>cnt</th></tr>\n",
       "\t<tr><th scope=col>&lt;dbl&gt;</th><th scope=col>&lt;chr&gt;</th><th scope=col>&lt;int&gt;</th></tr>\n",
       "</thead>\n",
       "<tbody>\n",
       "\t<tr><td>      0</td><td>Field has not been mapped     </td><td>    161631</td></tr>\n",
       "\t<tr><td>1065644</td><td>Flow Sheet                    </td><td>1680075600</td></tr>\n",
       "\t<tr><td>1067557</td><td>Field is not present in source</td><td>      3323</td></tr>\n",
       "\t<tr><td>1067561</td><td>No Information                </td><td>        84</td></tr>\n",
       "\t<tr><td>     NA</td><td>NA                            </td><td>   8329012</td></tr>\n",
       "</tbody>\n",
       "</table>\n"
      ],
      "text/latex": [
       "A data.frame: 5 × 3\n",
       "\\begin{tabular}{lll}\n",
       " CategoryConceptId & ConceptName & cnt\\\\\n",
       " <dbl> & <chr> & <int>\\\\\n",
       "\\hline\n",
       "\t       0 & Field has not been mapped      &     161631\\\\\n",
       "\t 1065644 & Flow Sheet                     & 1680075600\\\\\n",
       "\t 1067557 & Field is not present in source &       3323\\\\\n",
       "\t 1067561 & No Information                 &         84\\\\\n",
       "\t      NA & NA                             &    8329012\\\\\n",
       "\\end{tabular}\n"
      ],
      "text/markdown": [
       "\n",
       "A data.frame: 5 × 3\n",
       "\n",
       "| CategoryConceptId &lt;dbl&gt; | ConceptName &lt;chr&gt; | cnt &lt;int&gt; |\n",
       "|---|---|---|\n",
       "|       0 | Field has not been mapped      |     161631 |\n",
       "| 1065644 | Flow Sheet                     | 1680075600 |\n",
       "| 1067557 | Field is not present in source |       3323 |\n",
       "| 1067561 | No Information                 |         84 |\n",
       "|      NA | NA                             |    8329012 |\n",
       "\n"
      ],
      "text/plain": [
       "  CategoryConceptId ConceptName                    cnt       \n",
       "1       0           Field has not been mapped          161631\n",
       "2 1065644           Flow Sheet                     1680075600\n",
       "3 1067557           Field is not present in source       3323\n",
       "4 1067561           No Information                         84\n",
       "5      NA           NA                                8329012"
      ]
     },
     "metadata": {},
     "output_type": "display_data"
    }
   ],
   "source": [
    "# number of unique patients in Observation : 1164958\n",
    "\n",
    "sql <- \"select count(distinct PersonId) as patient_count \n",
    "from Observation ;\n",
    "\"\n",
    "\n",
    "load_sql_table(con,snapshot,query = sql) %>% collect()\n",
    "\n",
    "# number of unique patietns for vital sign obs (should be 1155527)\n",
    "\n",
    "sql <- \"select CategoryConceptId, count(distinct Id) as cnt from Observation\n",
    "group by CategoryConceptId;\n",
    "\"\n",
    "\n",
    "load_sql_table(con,snapshot,query = sql) %>% collect() %>% merge(.,concept,by.x= \"CategoryConceptId\",\n",
    "                                                                 by.y = \"ConceptId\",all.x = TRUE)%>%\n",
    "select(CategoryConceptId, ConceptName, cnt)"
   ]
  },
  {
   "cell_type": "code",
   "execution_count": 7,
   "id": "2f476549-828c-4907-a728-6cf34f42f502",
   "metadata": {
    "execution": {
     "iopub.execute_input": "2023-07-25T19:29:54.811264Z",
     "iopub.status.busy": "2023-07-25T19:29:54.810041Z",
     "iopub.status.idle": "2023-07-25T19:29:56.117123Z",
     "shell.execute_reply": "2023-07-25T19:29:56.115631Z"
    },
    "tags": []
   },
   "outputs": [],
   "source": [
    "concept <- read_parquet(\"data/Concept.parquet\")\n"
   ]
  },
  {
   "cell_type": "code",
   "execution_count": 5,
   "id": "3a570d5f-5c5a-4c64-abf3-d3414805393c",
   "metadata": {
    "execution": {
     "iopub.execute_input": "2023-07-21T20:30:19.395841Z",
     "iopub.status.busy": "2023-07-21T20:30:19.394847Z",
     "iopub.status.idle": "2023-07-21T20:31:49.927002Z",
     "shell.execute_reply": "2023-07-21T20:31:49.925929Z"
    },
    "tags": []
   },
   "outputs": [
    {
     "data": {
      "text/html": [
       "<table class=\"dataframe\">\n",
       "<caption>A tibble: 12 × 3</caption>\n",
       "<thead>\n",
       "\t<tr><th scope=col>CodeConceptId</th><th scope=col>ConceptName</th><th scope=col>NonMissing</th></tr>\n",
       "\t<tr><th scope=col>&lt;int&gt;</th><th scope=col>&lt;chr&gt;</th><th scope=col>&lt;int&gt;</th></tr>\n",
       "</thead>\n",
       "<tbody>\n",
       "\t<tr><td>773682</td><td>Body surface area Derived from formula               </td><td> 16106929</td></tr>\n",
       "\t<tr><td>773683</td><td>Body weight Measured                                 </td><td>  9359097</td></tr>\n",
       "\t<tr><td>779602</td><td>Body height                                          </td><td> 21188681</td></tr>\n",
       "\t<tr><td>779610</td><td>Body temperature                                     </td><td> 58320387</td></tr>\n",
       "\t<tr><td>779749</td><td>Diastolic blood pressure                             </td><td>  9544089</td></tr>\n",
       "\t<tr><td>779767</td><td>Systolic blood pressure                              </td><td> 31652035</td></tr>\n",
       "\t<tr><td>780145</td><td>Heart rate                                           </td><td>118373893</td></tr>\n",
       "\t<tr><td>781355</td><td>Respiratory rate                                     </td><td> 68527358</td></tr>\n",
       "\t<tr><td>800318</td><td>Body weight                                          </td><td> 13171662</td></tr>\n",
       "\t<tr><td>809891</td><td>Body mass index (BMI) [Ratio]                        </td><td> 42141952</td></tr>\n",
       "\t<tr><td>825889</td><td>Blood pressure systolic and diastolic                </td><td> 92633203</td></tr>\n",
       "\t<tr><td>829956</td><td>Oxygen saturation in Arterial blood by Pulse oximetry</td><td>156128071</td></tr>\n",
       "</tbody>\n",
       "</table>\n"
      ],
      "text/latex": [
       "A tibble: 12 × 3\n",
       "\\begin{tabular}{lll}\n",
       " CodeConceptId & ConceptName & NonMissing\\\\\n",
       " <int> & <chr> & <int>\\\\\n",
       "\\hline\n",
       "\t 773682 & Body surface area Derived from formula                &  16106929\\\\\n",
       "\t 773683 & Body weight Measured                                  &   9359097\\\\\n",
       "\t 779602 & Body height                                           &  21188681\\\\\n",
       "\t 779610 & Body temperature                                      &  58320387\\\\\n",
       "\t 779749 & Diastolic blood pressure                              &   9544089\\\\\n",
       "\t 779767 & Systolic blood pressure                               &  31652035\\\\\n",
       "\t 780145 & Heart rate                                            & 118373893\\\\\n",
       "\t 781355 & Respiratory rate                                      &  68527358\\\\\n",
       "\t 800318 & Body weight                                           &  13171662\\\\\n",
       "\t 809891 & Body mass index (BMI) {[}Ratio{]}                         &  42141952\\\\\n",
       "\t 825889 & Blood pressure systolic and diastolic                 &  92633203\\\\\n",
       "\t 829956 & Oxygen saturation in Arterial blood by Pulse oximetry & 156128071\\\\\n",
       "\\end{tabular}\n"
      ],
      "text/markdown": [
       "\n",
       "A tibble: 12 × 3\n",
       "\n",
       "| CodeConceptId &lt;int&gt; | ConceptName &lt;chr&gt; | NonMissing &lt;int&gt; |\n",
       "|---|---|---|\n",
       "| 773682 | Body surface area Derived from formula                |  16106929 |\n",
       "| 773683 | Body weight Measured                                  |   9359097 |\n",
       "| 779602 | Body height                                           |  21188681 |\n",
       "| 779610 | Body temperature                                      |  58320387 |\n",
       "| 779749 | Diastolic blood pressure                              |   9544089 |\n",
       "| 779767 | Systolic blood pressure                               |  31652035 |\n",
       "| 780145 | Heart rate                                            | 118373893 |\n",
       "| 781355 | Respiratory rate                                      |  68527358 |\n",
       "| 800318 | Body weight                                           |  13171662 |\n",
       "| 809891 | Body mass index (BMI) [Ratio]                         |  42141952 |\n",
       "| 825889 | Blood pressure systolic and diastolic                 |  92633203 |\n",
       "| 829956 | Oxygen saturation in Arterial blood by Pulse oximetry | 156128071 |\n",
       "\n"
      ],
      "text/plain": [
       "   CodeConceptId ConceptName                                          \n",
       "1  773682        Body surface area Derived from formula               \n",
       "2  773683        Body weight Measured                                 \n",
       "3  779602        Body height                                          \n",
       "4  779610        Body temperature                                     \n",
       "5  779749        Diastolic blood pressure                             \n",
       "6  779767        Systolic blood pressure                              \n",
       "7  780145        Heart rate                                           \n",
       "8  781355        Respiratory rate                                     \n",
       "9  800318        Body weight                                          \n",
       "10 809891        Body mass index (BMI) [Ratio]                        \n",
       "11 825889        Blood pressure systolic and diastolic                \n",
       "12 829956        Oxygen saturation in Arterial blood by Pulse oximetry\n",
       "   NonMissing\n",
       "1   16106929 \n",
       "2    9359097 \n",
       "3   21188681 \n",
       "4   58320387 \n",
       "5    9544089 \n",
       "6   31652035 \n",
       "7  118373893 \n",
       "8   68527358 \n",
       "9   13171662 \n",
       "10  42141952 \n",
       "11  92633203 \n",
       "12 156128071 "
      ]
     },
     "metadata": {},
     "output_type": "display_data"
    },
    {
     "data": {
      "text/html": [
       "<table class=\"dataframe\">\n",
       "<caption>A tibble: 12 × 3</caption>\n",
       "<thead>\n",
       "\t<tr><th scope=col>CodeConceptId</th><th scope=col>ConceptName</th><th scope=col>Missing</th></tr>\n",
       "\t<tr><th scope=col>&lt;int&gt;</th><th scope=col>&lt;chr&gt;</th><th scope=col>&lt;int&gt;</th></tr>\n",
       "</thead>\n",
       "<tbody>\n",
       "\t<tr><td>773682</td><td>Body surface area Derived from formula               </td><td>  6563</td></tr>\n",
       "\t<tr><td>773683</td><td>Body weight Measured                                 </td><td> 78095</td></tr>\n",
       "\t<tr><td>779602</td><td>Body height                                          </td><td> 40846</td></tr>\n",
       "\t<tr><td>779610</td><td>Body temperature                                     </td><td>234487</td></tr>\n",
       "\t<tr><td>779749</td><td>Diastolic blood pressure                             </td><td>   355</td></tr>\n",
       "\t<tr><td>779767</td><td>Systolic blood pressure                              </td><td> 50615</td></tr>\n",
       "\t<tr><td>780145</td><td>Heart rate                                           </td><td>168813</td></tr>\n",
       "\t<tr><td>781355</td><td>Respiratory rate                                     </td><td> 97275</td></tr>\n",
       "\t<tr><td>800318</td><td>Body weight                                          </td><td> 48559</td></tr>\n",
       "\t<tr><td>809891</td><td>Body mass index (BMI) [Ratio]                        </td><td> 23922</td></tr>\n",
       "\t<tr><td>825889</td><td>Blood pressure systolic and diastolic                </td><td>277763</td></tr>\n",
       "\t<tr><td>829956</td><td>Oxygen saturation in Arterial blood by Pulse oximetry</td><td>211046</td></tr>\n",
       "</tbody>\n",
       "</table>\n"
      ],
      "text/latex": [
       "A tibble: 12 × 3\n",
       "\\begin{tabular}{lll}\n",
       " CodeConceptId & ConceptName & Missing\\\\\n",
       " <int> & <chr> & <int>\\\\\n",
       "\\hline\n",
       "\t 773682 & Body surface area Derived from formula                &   6563\\\\\n",
       "\t 773683 & Body weight Measured                                  &  78095\\\\\n",
       "\t 779602 & Body height                                           &  40846\\\\\n",
       "\t 779610 & Body temperature                                      & 234487\\\\\n",
       "\t 779749 & Diastolic blood pressure                              &    355\\\\\n",
       "\t 779767 & Systolic blood pressure                               &  50615\\\\\n",
       "\t 780145 & Heart rate                                            & 168813\\\\\n",
       "\t 781355 & Respiratory rate                                      &  97275\\\\\n",
       "\t 800318 & Body weight                                           &  48559\\\\\n",
       "\t 809891 & Body mass index (BMI) {[}Ratio{]}                         &  23922\\\\\n",
       "\t 825889 & Blood pressure systolic and diastolic                 & 277763\\\\\n",
       "\t 829956 & Oxygen saturation in Arterial blood by Pulse oximetry & 211046\\\\\n",
       "\\end{tabular}\n"
      ],
      "text/markdown": [
       "\n",
       "A tibble: 12 × 3\n",
       "\n",
       "| CodeConceptId &lt;int&gt; | ConceptName &lt;chr&gt; | Missing &lt;int&gt; |\n",
       "|---|---|---|\n",
       "| 773682 | Body surface area Derived from formula                |   6563 |\n",
       "| 773683 | Body weight Measured                                  |  78095 |\n",
       "| 779602 | Body height                                           |  40846 |\n",
       "| 779610 | Body temperature                                      | 234487 |\n",
       "| 779749 | Diastolic blood pressure                              |    355 |\n",
       "| 779767 | Systolic blood pressure                               |  50615 |\n",
       "| 780145 | Heart rate                                            | 168813 |\n",
       "| 781355 | Respiratory rate                                      |  97275 |\n",
       "| 800318 | Body weight                                           |  48559 |\n",
       "| 809891 | Body mass index (BMI) [Ratio]                         |  23922 |\n",
       "| 825889 | Blood pressure systolic and diastolic                 | 277763 |\n",
       "| 829956 | Oxygen saturation in Arterial blood by Pulse oximetry | 211046 |\n",
       "\n"
      ],
      "text/plain": [
       "   CodeConceptId ConceptName                                           Missing\n",
       "1  773682        Body surface area Derived from formula                  6563 \n",
       "2  773683        Body weight Measured                                   78095 \n",
       "3  779602        Body height                                            40846 \n",
       "4  779610        Body temperature                                      234487 \n",
       "5  779749        Diastolic blood pressure                                 355 \n",
       "6  779767        Systolic blood pressure                                50615 \n",
       "7  780145        Heart rate                                            168813 \n",
       "8  781355        Respiratory rate                                       97275 \n",
       "9  800318        Body weight                                            48559 \n",
       "10 809891        Body mass index (BMI) [Ratio]                          23922 \n",
       "11 825889        Blood pressure systolic and diastolic                 277763 \n",
       "12 829956        Oxygen saturation in Arterial blood by Pulse oximetry 211046 "
      ]
     },
     "metadata": {},
     "output_type": "display_data"
    }
   ],
   "source": [
    "# missing value distribution of all vital sign types\n",
    "sql <- \" select v.CodeConceptId, c.ConceptName, count(distinct v.Id) as NonMissing\n",
    "from Vital v join Concept c on (v.CodeConceptId = c.ConceptId)\n",
    "where Value is not NULL\n",
    "group by CodeConceptId, ConceptName\n",
    "order by 1;\"\n",
    "\n",
    "vital_nonmissing <- load_sql_table(con,snapshot, query = sql) %>% collect()\n",
    "\n",
    "sql2 <- \" select v.CodeConceptId, c.ConceptName, count(distinct v.Id) as Missing\n",
    "from Vital v join Concept c on (v.CodeConceptId = c.ConceptId)\n",
    "where Value is NULL\n",
    "group by CodeConceptId, ConceptName\n",
    "order by 1;\"\n",
    "\n",
    "vital_missing <- load_sql_table(con,snapshot,query = sql2)%>% collect()\n",
    "\n",
    "\n",
    "vital_nonmissing\n",
    "vital_missing\n"
   ]
  },
  {
   "cell_type": "code",
   "execution_count": 5,
   "id": "ee384a51-b800-489b-b9d4-648700c3ef80",
   "metadata": {
    "execution": {
     "iopub.execute_input": "2023-07-25T15:00:23.503264Z",
     "iopub.status.busy": "2023-07-25T15:00:23.500790Z",
     "iopub.status.idle": "2023-07-25T15:01:25.433310Z",
     "shell.execute_reply": "2023-07-25T15:01:25.431907Z"
    },
    "tags": []
   },
   "outputs": [],
   "source": [
    "# encounter type by vital sign type\n",
    "\n",
    "sql <- \"select v.CodeConceptId, e.ClassConceptId, count(distinct v.Id) as NonMissing\n",
    "from Vital v join Encounter e on (v.EncounterId = e.Id)\n",
    "where v.Value is not NULL and v.EffectiveDateTime is not NULL\n",
    "and e.StatusConceptId not in (2983199,2506590,2983200,2506591,2506595)\n",
    "group by CodeConceptId, ClassConceptId\n",
    "order by 1,2;\"\n",
    "\n",
    "ev <- load_sql_table(con,snapshot, query = sql) %>% collect()\n",
    "#ev"
   ]
  },
  {
   "cell_type": "code",
   "execution_count": null,
   "id": "7b90f575-9152-455b-a7b4-05d8915cf7e5",
   "metadata": {
    "tags": []
   },
   "outputs": [],
   "source": [
    "ev_names <- ev %>% merge(.,concept, by.x = \"CodeConceptId\", by.y = \"ConceptId\")%>%\n",
    "select(VitalSignId = CodeConceptId, ClassConceptId, VitalSignName =ConceptName, NonMissing)%>%\n",
    "merge(.,concept,by.x= 'ClassConceptId',by.y = 'ConceptId')%>%\n",
    "select(VitalSignId, VitalSignName, EncounterClassId = ClassConceptId, EncounterClassName = ConceptName, NonMissing)"
   ]
  },
  {
   "cell_type": "code",
   "execution_count": 14,
   "id": "2ba5347f-3d1d-4cc8-a872-d0a2db2b52b4",
   "metadata": {
    "execution": {
     "iopub.execute_input": "2023-07-24T19:59:19.854181Z",
     "iopub.status.busy": "2023-07-24T19:59:19.853176Z",
     "iopub.status.idle": "2023-07-24T19:59:19.892519Z",
     "shell.execute_reply": "2023-07-24T19:59:19.891580Z"
    }
   },
   "outputs": [
    {
     "data": {
      "text/html": [
       "<table class=\"dataframe\">\n",
       "<caption>A data.frame: 117 × 5</caption>\n",
       "<thead>\n",
       "\t<tr><th scope=col>VitalSignId</th><th scope=col>VitalSignName</th><th scope=col>EncounterClassId</th><th scope=col>EncounterClassName</th><th scope=col>NonMissing</th></tr>\n",
       "\t<tr><th scope=col>&lt;int&gt;</th><th scope=col>&lt;chr&gt;</th><th scope=col>&lt;int&gt;</th><th scope=col>&lt;chr&gt;</th><th scope=col>&lt;int&gt;</th></tr>\n",
       "</thead>\n",
       "<tbody>\n",
       "\t<tr><td>773682</td><td>Body surface area Derived from formula               </td><td>      0</td><td>Field has not been mapped</td><td>      1</td></tr>\n",
       "\t<tr><td>780145</td><td>Heart rate                                           </td><td>      0</td><td>Field has not been mapped</td><td>    493</td></tr>\n",
       "\t<tr><td>779767</td><td>Systolic blood pressure                              </td><td>      0</td><td>Field has not been mapped</td><td>   1289</td></tr>\n",
       "\t<tr><td>773683</td><td>Body weight Measured                                 </td><td>      0</td><td>Field has not been mapped</td><td>      1</td></tr>\n",
       "\t<tr><td>779749</td><td>Diastolic blood pressure                             </td><td>      0</td><td>Field has not been mapped</td><td>    174</td></tr>\n",
       "\t<tr><td>781355</td><td>Respiratory rate                                     </td><td>      0</td><td>Field has not been mapped</td><td>    138</td></tr>\n",
       "\t<tr><td>779602</td><td>Body height                                          </td><td>      0</td><td>Field has not been mapped</td><td>    143</td></tr>\n",
       "\t<tr><td>829956</td><td>Oxygen saturation in Arterial blood by Pulse oximetry</td><td>      0</td><td>Field has not been mapped</td><td> 605789</td></tr>\n",
       "\t<tr><td>773683</td><td>Body weight Measured                                 </td><td>1065215</td><td>inpatient acute          </td><td>     28</td></tr>\n",
       "\t<tr><td>781355</td><td>Respiratory rate                                     </td><td>1065215</td><td>inpatient acute          </td><td>    754</td></tr>\n",
       "\t<tr><td>779767</td><td>Systolic blood pressure                              </td><td>1065215</td><td>inpatient acute          </td><td>    475</td></tr>\n",
       "\t<tr><td>829956</td><td>Oxygen saturation in Arterial blood by Pulse oximetry</td><td>1065215</td><td>inpatient acute          </td><td> 193509</td></tr>\n",
       "\t<tr><td>780145</td><td>Heart rate                                           </td><td>1065215</td><td>inpatient acute          </td><td>    237</td></tr>\n",
       "\t<tr><td>780145</td><td>Heart rate                                           </td><td>1065216</td><td>ambulatory               </td><td> 803160</td></tr>\n",
       "\t<tr><td>779749</td><td>Diastolic blood pressure                             </td><td>1065216</td><td>ambulatory               </td><td> 860641</td></tr>\n",
       "\t<tr><td>800318</td><td>Body weight                                          </td><td>1065216</td><td>ambulatory               </td><td>  28515</td></tr>\n",
       "\t<tr><td>781355</td><td>Respiratory rate                                     </td><td>1065216</td><td>ambulatory               </td><td> 432882</td></tr>\n",
       "\t<tr><td>779610</td><td>Body temperature                                     </td><td>1065216</td><td>ambulatory               </td><td>  77623</td></tr>\n",
       "\t<tr><td>773683</td><td>Body weight Measured                                 </td><td>1065216</td><td>ambulatory               </td><td>  55824</td></tr>\n",
       "\t<tr><td>773682</td><td>Body surface area Derived from formula               </td><td>1065216</td><td>ambulatory               </td><td>3949405</td></tr>\n",
       "\t<tr><td>809891</td><td>Body mass index (BMI) [Ratio]                        </td><td>1065216</td><td>ambulatory               </td><td> 433035</td></tr>\n",
       "\t<tr><td>779767</td><td>Systolic blood pressure                              </td><td>1065216</td><td>ambulatory               </td><td> 802757</td></tr>\n",
       "\t<tr><td>825889</td><td>Blood pressure systolic and diastolic                </td><td>1065216</td><td>ambulatory               </td><td>   1423</td></tr>\n",
       "\t<tr><td>779602</td><td>Body height                                          </td><td>1065216</td><td>ambulatory               </td><td> 574459</td></tr>\n",
       "\t<tr><td>829956</td><td>Oxygen saturation in Arterial blood by Pulse oximetry</td><td>1065216</td><td>ambulatory               </td><td>9958145</td></tr>\n",
       "\t<tr><td>800318</td><td>Body weight                                          </td><td>1065217</td><td>emergency                </td><td> 279399</td></tr>\n",
       "\t<tr><td>773682</td><td>Body surface area Derived from formula               </td><td>1065217</td><td>emergency                </td><td> 483123</td></tr>\n",
       "\t<tr><td>779749</td><td>Diastolic blood pressure                             </td><td>1065217</td><td>emergency                </td><td> 666086</td></tr>\n",
       "\t<tr><td>825889</td><td>Blood pressure systolic and diastolic                </td><td>1065217</td><td>emergency                </td><td>    212</td></tr>\n",
       "\t<tr><td>829956</td><td>Oxygen saturation in Arterial blood by Pulse oximetry</td><td>1065217</td><td>emergency                </td><td>4426033</td></tr>\n",
       "\t<tr><td>⋮</td><td>⋮</td><td>⋮</td><td>⋮</td><td>⋮</td></tr>\n",
       "\t<tr><td>829956</td><td>Oxygen saturation in Arterial blood by Pulse oximetry</td><td>1065230</td><td>virtual                 </td><td>  7616</td></tr>\n",
       "\t<tr><td>779767</td><td>Systolic blood pressure                              </td><td>1065230</td><td>virtual                 </td><td>  9525</td></tr>\n",
       "\t<tr><td>773682</td><td>Body surface area Derived from formula               </td><td>1065230</td><td>virtual                 </td><td> 30877</td></tr>\n",
       "\t<tr><td>809891</td><td>Body mass index (BMI) [Ratio]                        </td><td>1065230</td><td>virtual                 </td><td>     1</td></tr>\n",
       "\t<tr><td>779610</td><td>Body temperature                                     </td><td>1065230</td><td>virtual                 </td><td>     1</td></tr>\n",
       "\t<tr><td>780145</td><td>Heart rate                                           </td><td>1065230</td><td>virtual                 </td><td>     1</td></tr>\n",
       "\t<tr><td>779602</td><td>Body height                                          </td><td>1065230</td><td>virtual                 </td><td>   648</td></tr>\n",
       "\t<tr><td>773683</td><td>Body weight Measured                                 </td><td>1065230</td><td>virtual                 </td><td>     1</td></tr>\n",
       "\t<tr><td>773682</td><td>Body surface area Derived from formula               </td><td>1067555</td><td>Invalid                 </td><td>     6</td></tr>\n",
       "\t<tr><td>779749</td><td>Diastolic blood pressure                             </td><td>1067555</td><td>Invalid                 </td><td>     4</td></tr>\n",
       "\t<tr><td>773683</td><td>Body weight Measured                                 </td><td>1067555</td><td>Invalid                 </td><td>   205</td></tr>\n",
       "\t<tr><td>829956</td><td>Oxygen saturation in Arterial blood by Pulse oximetry</td><td>1067555</td><td>Invalid                 </td><td>    69</td></tr>\n",
       "\t<tr><td>779767</td><td>Systolic blood pressure                              </td><td>1067555</td><td>Invalid                 </td><td>     4</td></tr>\n",
       "\t<tr><td>779610</td><td>Body temperature                                     </td><td>1067555</td><td>Invalid                 </td><td>     4</td></tr>\n",
       "\t<tr><td>825889</td><td>Blood pressure systolic and diastolic                </td><td>1067555</td><td>Invalid                 </td><td>     5</td></tr>\n",
       "\t<tr><td>779602</td><td>Body height                                          </td><td>1067555</td><td>Invalid                 </td><td>     5</td></tr>\n",
       "\t<tr><td>779749</td><td>Diastolic blood pressure                             </td><td>1067561</td><td>No Information          </td><td>   145</td></tr>\n",
       "\t<tr><td>779767</td><td>Systolic blood pressure                              </td><td>1067561</td><td>No Information          </td><td>   149</td></tr>\n",
       "\t<tr><td>773683</td><td>Body weight Measured                                 </td><td>1067561</td><td>No Information          </td><td>   756</td></tr>\n",
       "\t<tr><td>829956</td><td>Oxygen saturation in Arterial blood by Pulse oximetry</td><td>1067561</td><td>No Information          </td><td> 13757</td></tr>\n",
       "\t<tr><td>779602</td><td>Body height                                          </td><td>1067561</td><td>No Information          </td><td>   502</td></tr>\n",
       "\t<tr><td>779610</td><td>Body temperature                                     </td><td>2649591</td><td>Insufficient Information</td><td>     1</td></tr>\n",
       "\t<tr><td>780145</td><td>Heart rate                                           </td><td>2649591</td><td>Insufficient Information</td><td>    18</td></tr>\n",
       "\t<tr><td>773682</td><td>Body surface area Derived from formula               </td><td>2649591</td><td>Insufficient Information</td><td> 14772</td></tr>\n",
       "\t<tr><td>829956</td><td>Oxygen saturation in Arterial blood by Pulse oximetry</td><td>2649591</td><td>Insufficient Information</td><td>450218</td></tr>\n",
       "\t<tr><td>779767</td><td>Systolic blood pressure                              </td><td>2649591</td><td>Insufficient Information</td><td>    68</td></tr>\n",
       "\t<tr><td>779749</td><td>Diastolic blood pressure                             </td><td>2649591</td><td>Insufficient Information</td><td>    17</td></tr>\n",
       "\t<tr><td>779602</td><td>Body height                                          </td><td>2649591</td><td>Insufficient Information</td><td>  4378</td></tr>\n",
       "\t<tr><td>773683</td><td>Body weight Measured                                 </td><td>2649591</td><td>Insufficient Information</td><td>     3</td></tr>\n",
       "\t<tr><td>781355</td><td>Respiratory rate                                     </td><td>2649591</td><td>Insufficient Information</td><td>    14</td></tr>\n",
       "</tbody>\n",
       "</table>\n"
      ],
      "text/latex": [
       "A data.frame: 117 × 5\n",
       "\\begin{tabular}{lllll}\n",
       " VitalSignId & VitalSignName & EncounterClassId & EncounterClassName & NonMissing\\\\\n",
       " <int> & <chr> & <int> & <chr> & <int>\\\\\n",
       "\\hline\n",
       "\t 773682 & Body surface area Derived from formula                &       0 & Field has not been mapped &       1\\\\\n",
       "\t 780145 & Heart rate                                            &       0 & Field has not been mapped &     493\\\\\n",
       "\t 779767 & Systolic blood pressure                               &       0 & Field has not been mapped &    1289\\\\\n",
       "\t 773683 & Body weight Measured                                  &       0 & Field has not been mapped &       1\\\\\n",
       "\t 779749 & Diastolic blood pressure                              &       0 & Field has not been mapped &     174\\\\\n",
       "\t 781355 & Respiratory rate                                      &       0 & Field has not been mapped &     138\\\\\n",
       "\t 779602 & Body height                                           &       0 & Field has not been mapped &     143\\\\\n",
       "\t 829956 & Oxygen saturation in Arterial blood by Pulse oximetry &       0 & Field has not been mapped &  605789\\\\\n",
       "\t 773683 & Body weight Measured                                  & 1065215 & inpatient acute           &      28\\\\\n",
       "\t 781355 & Respiratory rate                                      & 1065215 & inpatient acute           &     754\\\\\n",
       "\t 779767 & Systolic blood pressure                               & 1065215 & inpatient acute           &     475\\\\\n",
       "\t 829956 & Oxygen saturation in Arterial blood by Pulse oximetry & 1065215 & inpatient acute           &  193509\\\\\n",
       "\t 780145 & Heart rate                                            & 1065215 & inpatient acute           &     237\\\\\n",
       "\t 780145 & Heart rate                                            & 1065216 & ambulatory                &  803160\\\\\n",
       "\t 779749 & Diastolic blood pressure                              & 1065216 & ambulatory                &  860641\\\\\n",
       "\t 800318 & Body weight                                           & 1065216 & ambulatory                &   28515\\\\\n",
       "\t 781355 & Respiratory rate                                      & 1065216 & ambulatory                &  432882\\\\\n",
       "\t 779610 & Body temperature                                      & 1065216 & ambulatory                &   77623\\\\\n",
       "\t 773683 & Body weight Measured                                  & 1065216 & ambulatory                &   55824\\\\\n",
       "\t 773682 & Body surface area Derived from formula                & 1065216 & ambulatory                & 3949405\\\\\n",
       "\t 809891 & Body mass index (BMI) {[}Ratio{]}                         & 1065216 & ambulatory                &  433035\\\\\n",
       "\t 779767 & Systolic blood pressure                               & 1065216 & ambulatory                &  802757\\\\\n",
       "\t 825889 & Blood pressure systolic and diastolic                 & 1065216 & ambulatory                &    1423\\\\\n",
       "\t 779602 & Body height                                           & 1065216 & ambulatory                &  574459\\\\\n",
       "\t 829956 & Oxygen saturation in Arterial blood by Pulse oximetry & 1065216 & ambulatory                & 9958145\\\\\n",
       "\t 800318 & Body weight                                           & 1065217 & emergency                 &  279399\\\\\n",
       "\t 773682 & Body surface area Derived from formula                & 1065217 & emergency                 &  483123\\\\\n",
       "\t 779749 & Diastolic blood pressure                              & 1065217 & emergency                 &  666086\\\\\n",
       "\t 825889 & Blood pressure systolic and diastolic                 & 1065217 & emergency                 &     212\\\\\n",
       "\t 829956 & Oxygen saturation in Arterial blood by Pulse oximetry & 1065217 & emergency                 & 4426033\\\\\n",
       "\t ⋮ & ⋮ & ⋮ & ⋮ & ⋮\\\\\n",
       "\t 829956 & Oxygen saturation in Arterial blood by Pulse oximetry & 1065230 & virtual                  &   7616\\\\\n",
       "\t 779767 & Systolic blood pressure                               & 1065230 & virtual                  &   9525\\\\\n",
       "\t 773682 & Body surface area Derived from formula                & 1065230 & virtual                  &  30877\\\\\n",
       "\t 809891 & Body mass index (BMI) {[}Ratio{]}                         & 1065230 & virtual                  &      1\\\\\n",
       "\t 779610 & Body temperature                                      & 1065230 & virtual                  &      1\\\\\n",
       "\t 780145 & Heart rate                                            & 1065230 & virtual                  &      1\\\\\n",
       "\t 779602 & Body height                                           & 1065230 & virtual                  &    648\\\\\n",
       "\t 773683 & Body weight Measured                                  & 1065230 & virtual                  &      1\\\\\n",
       "\t 773682 & Body surface area Derived from formula                & 1067555 & Invalid                  &      6\\\\\n",
       "\t 779749 & Diastolic blood pressure                              & 1067555 & Invalid                  &      4\\\\\n",
       "\t 773683 & Body weight Measured                                  & 1067555 & Invalid                  &    205\\\\\n",
       "\t 829956 & Oxygen saturation in Arterial blood by Pulse oximetry & 1067555 & Invalid                  &     69\\\\\n",
       "\t 779767 & Systolic blood pressure                               & 1067555 & Invalid                  &      4\\\\\n",
       "\t 779610 & Body temperature                                      & 1067555 & Invalid                  &      4\\\\\n",
       "\t 825889 & Blood pressure systolic and diastolic                 & 1067555 & Invalid                  &      5\\\\\n",
       "\t 779602 & Body height                                           & 1067555 & Invalid                  &      5\\\\\n",
       "\t 779749 & Diastolic blood pressure                              & 1067561 & No Information           &    145\\\\\n",
       "\t 779767 & Systolic blood pressure                               & 1067561 & No Information           &    149\\\\\n",
       "\t 773683 & Body weight Measured                                  & 1067561 & No Information           &    756\\\\\n",
       "\t 829956 & Oxygen saturation in Arterial blood by Pulse oximetry & 1067561 & No Information           &  13757\\\\\n",
       "\t 779602 & Body height                                           & 1067561 & No Information           &    502\\\\\n",
       "\t 779610 & Body temperature                                      & 2649591 & Insufficient Information &      1\\\\\n",
       "\t 780145 & Heart rate                                            & 2649591 & Insufficient Information &     18\\\\\n",
       "\t 773682 & Body surface area Derived from formula                & 2649591 & Insufficient Information &  14772\\\\\n",
       "\t 829956 & Oxygen saturation in Arterial blood by Pulse oximetry & 2649591 & Insufficient Information & 450218\\\\\n",
       "\t 779767 & Systolic blood pressure                               & 2649591 & Insufficient Information &     68\\\\\n",
       "\t 779749 & Diastolic blood pressure                              & 2649591 & Insufficient Information &     17\\\\\n",
       "\t 779602 & Body height                                           & 2649591 & Insufficient Information &   4378\\\\\n",
       "\t 773683 & Body weight Measured                                  & 2649591 & Insufficient Information &      3\\\\\n",
       "\t 781355 & Respiratory rate                                      & 2649591 & Insufficient Information &     14\\\\\n",
       "\\end{tabular}\n"
      ],
      "text/markdown": [
       "\n",
       "A data.frame: 117 × 5\n",
       "\n",
       "| VitalSignId &lt;int&gt; | VitalSignName &lt;chr&gt; | EncounterClassId &lt;int&gt; | EncounterClassName &lt;chr&gt; | NonMissing &lt;int&gt; |\n",
       "|---|---|---|---|---|\n",
       "| 773682 | Body surface area Derived from formula                |       0 | Field has not been mapped |       1 |\n",
       "| 780145 | Heart rate                                            |       0 | Field has not been mapped |     493 |\n",
       "| 779767 | Systolic blood pressure                               |       0 | Field has not been mapped |    1289 |\n",
       "| 773683 | Body weight Measured                                  |       0 | Field has not been mapped |       1 |\n",
       "| 779749 | Diastolic blood pressure                              |       0 | Field has not been mapped |     174 |\n",
       "| 781355 | Respiratory rate                                      |       0 | Field has not been mapped |     138 |\n",
       "| 779602 | Body height                                           |       0 | Field has not been mapped |     143 |\n",
       "| 829956 | Oxygen saturation in Arterial blood by Pulse oximetry |       0 | Field has not been mapped |  605789 |\n",
       "| 773683 | Body weight Measured                                  | 1065215 | inpatient acute           |      28 |\n",
       "| 781355 | Respiratory rate                                      | 1065215 | inpatient acute           |     754 |\n",
       "| 779767 | Systolic blood pressure                               | 1065215 | inpatient acute           |     475 |\n",
       "| 829956 | Oxygen saturation in Arterial blood by Pulse oximetry | 1065215 | inpatient acute           |  193509 |\n",
       "| 780145 | Heart rate                                            | 1065215 | inpatient acute           |     237 |\n",
       "| 780145 | Heart rate                                            | 1065216 | ambulatory                |  803160 |\n",
       "| 779749 | Diastolic blood pressure                              | 1065216 | ambulatory                |  860641 |\n",
       "| 800318 | Body weight                                           | 1065216 | ambulatory                |   28515 |\n",
       "| 781355 | Respiratory rate                                      | 1065216 | ambulatory                |  432882 |\n",
       "| 779610 | Body temperature                                      | 1065216 | ambulatory                |   77623 |\n",
       "| 773683 | Body weight Measured                                  | 1065216 | ambulatory                |   55824 |\n",
       "| 773682 | Body surface area Derived from formula                | 1065216 | ambulatory                | 3949405 |\n",
       "| 809891 | Body mass index (BMI) [Ratio]                         | 1065216 | ambulatory                |  433035 |\n",
       "| 779767 | Systolic blood pressure                               | 1065216 | ambulatory                |  802757 |\n",
       "| 825889 | Blood pressure systolic and diastolic                 | 1065216 | ambulatory                |    1423 |\n",
       "| 779602 | Body height                                           | 1065216 | ambulatory                |  574459 |\n",
       "| 829956 | Oxygen saturation in Arterial blood by Pulse oximetry | 1065216 | ambulatory                | 9958145 |\n",
       "| 800318 | Body weight                                           | 1065217 | emergency                 |  279399 |\n",
       "| 773682 | Body surface area Derived from formula                | 1065217 | emergency                 |  483123 |\n",
       "| 779749 | Diastolic blood pressure                              | 1065217 | emergency                 |  666086 |\n",
       "| 825889 | Blood pressure systolic and diastolic                 | 1065217 | emergency                 |     212 |\n",
       "| 829956 | Oxygen saturation in Arterial blood by Pulse oximetry | 1065217 | emergency                 | 4426033 |\n",
       "| ⋮ | ⋮ | ⋮ | ⋮ | ⋮ |\n",
       "| 829956 | Oxygen saturation in Arterial blood by Pulse oximetry | 1065230 | virtual                  |   7616 |\n",
       "| 779767 | Systolic blood pressure                               | 1065230 | virtual                  |   9525 |\n",
       "| 773682 | Body surface area Derived from formula                | 1065230 | virtual                  |  30877 |\n",
       "| 809891 | Body mass index (BMI) [Ratio]                         | 1065230 | virtual                  |      1 |\n",
       "| 779610 | Body temperature                                      | 1065230 | virtual                  |      1 |\n",
       "| 780145 | Heart rate                                            | 1065230 | virtual                  |      1 |\n",
       "| 779602 | Body height                                           | 1065230 | virtual                  |    648 |\n",
       "| 773683 | Body weight Measured                                  | 1065230 | virtual                  |      1 |\n",
       "| 773682 | Body surface area Derived from formula                | 1067555 | Invalid                  |      6 |\n",
       "| 779749 | Diastolic blood pressure                              | 1067555 | Invalid                  |      4 |\n",
       "| 773683 | Body weight Measured                                  | 1067555 | Invalid                  |    205 |\n",
       "| 829956 | Oxygen saturation in Arterial blood by Pulse oximetry | 1067555 | Invalid                  |     69 |\n",
       "| 779767 | Systolic blood pressure                               | 1067555 | Invalid                  |      4 |\n",
       "| 779610 | Body temperature                                      | 1067555 | Invalid                  |      4 |\n",
       "| 825889 | Blood pressure systolic and diastolic                 | 1067555 | Invalid                  |      5 |\n",
       "| 779602 | Body height                                           | 1067555 | Invalid                  |      5 |\n",
       "| 779749 | Diastolic blood pressure                              | 1067561 | No Information           |    145 |\n",
       "| 779767 | Systolic blood pressure                               | 1067561 | No Information           |    149 |\n",
       "| 773683 | Body weight Measured                                  | 1067561 | No Information           |    756 |\n",
       "| 829956 | Oxygen saturation in Arterial blood by Pulse oximetry | 1067561 | No Information           |  13757 |\n",
       "| 779602 | Body height                                           | 1067561 | No Information           |    502 |\n",
       "| 779610 | Body temperature                                      | 2649591 | Insufficient Information |      1 |\n",
       "| 780145 | Heart rate                                            | 2649591 | Insufficient Information |     18 |\n",
       "| 773682 | Body surface area Derived from formula                | 2649591 | Insufficient Information |  14772 |\n",
       "| 829956 | Oxygen saturation in Arterial blood by Pulse oximetry | 2649591 | Insufficient Information | 450218 |\n",
       "| 779767 | Systolic blood pressure                               | 2649591 | Insufficient Information |     68 |\n",
       "| 779749 | Diastolic blood pressure                              | 2649591 | Insufficient Information |     17 |\n",
       "| 779602 | Body height                                           | 2649591 | Insufficient Information |   4378 |\n",
       "| 773683 | Body weight Measured                                  | 2649591 | Insufficient Information |      3 |\n",
       "| 781355 | Respiratory rate                                      | 2649591 | Insufficient Information |     14 |\n",
       "\n"
      ],
      "text/plain": [
       "    VitalSignId VitalSignName                                        \n",
       "1   773682      Body surface area Derived from formula               \n",
       "2   780145      Heart rate                                           \n",
       "3   779767      Systolic blood pressure                              \n",
       "4   773683      Body weight Measured                                 \n",
       "5   779749      Diastolic blood pressure                             \n",
       "6   781355      Respiratory rate                                     \n",
       "7   779602      Body height                                          \n",
       "8   829956      Oxygen saturation in Arterial blood by Pulse oximetry\n",
       "9   773683      Body weight Measured                                 \n",
       "10  781355      Respiratory rate                                     \n",
       "11  779767      Systolic blood pressure                              \n",
       "12  829956      Oxygen saturation in Arterial blood by Pulse oximetry\n",
       "13  780145      Heart rate                                           \n",
       "14  780145      Heart rate                                           \n",
       "15  779749      Diastolic blood pressure                             \n",
       "16  800318      Body weight                                          \n",
       "17  781355      Respiratory rate                                     \n",
       "18  779610      Body temperature                                     \n",
       "19  773683      Body weight Measured                                 \n",
       "20  773682      Body surface area Derived from formula               \n",
       "21  809891      Body mass index (BMI) [Ratio]                        \n",
       "22  779767      Systolic blood pressure                              \n",
       "23  825889      Blood pressure systolic and diastolic                \n",
       "24  779602      Body height                                          \n",
       "25  829956      Oxygen saturation in Arterial blood by Pulse oximetry\n",
       "26  800318      Body weight                                          \n",
       "27  773682      Body surface area Derived from formula               \n",
       "28  779749      Diastolic blood pressure                             \n",
       "29  825889      Blood pressure systolic and diastolic                \n",
       "30  829956      Oxygen saturation in Arterial blood by Pulse oximetry\n",
       "⋮   ⋮           ⋮                                                    \n",
       "88  829956      Oxygen saturation in Arterial blood by Pulse oximetry\n",
       "89  779767      Systolic blood pressure                              \n",
       "90  773682      Body surface area Derived from formula               \n",
       "91  809891      Body mass index (BMI) [Ratio]                        \n",
       "92  779610      Body temperature                                     \n",
       "93  780145      Heart rate                                           \n",
       "94  779602      Body height                                          \n",
       "95  773683      Body weight Measured                                 \n",
       "96  773682      Body surface area Derived from formula               \n",
       "97  779749      Diastolic blood pressure                             \n",
       "98  773683      Body weight Measured                                 \n",
       "99  829956      Oxygen saturation in Arterial blood by Pulse oximetry\n",
       "100 779767      Systolic blood pressure                              \n",
       "101 779610      Body temperature                                     \n",
       "102 825889      Blood pressure systolic and diastolic                \n",
       "103 779602      Body height                                          \n",
       "104 779749      Diastolic blood pressure                             \n",
       "105 779767      Systolic blood pressure                              \n",
       "106 773683      Body weight Measured                                 \n",
       "107 829956      Oxygen saturation in Arterial blood by Pulse oximetry\n",
       "108 779602      Body height                                          \n",
       "109 779610      Body temperature                                     \n",
       "110 780145      Heart rate                                           \n",
       "111 773682      Body surface area Derived from formula               \n",
       "112 829956      Oxygen saturation in Arterial blood by Pulse oximetry\n",
       "113 779767      Systolic blood pressure                              \n",
       "114 779749      Diastolic blood pressure                             \n",
       "115 779602      Body height                                          \n",
       "116 773683      Body weight Measured                                 \n",
       "117 781355      Respiratory rate                                     \n",
       "    EncounterClassId EncounterClassName        NonMissing\n",
       "1         0          Field has not been mapped       1   \n",
       "2         0          Field has not been mapped     493   \n",
       "3         0          Field has not been mapped    1289   \n",
       "4         0          Field has not been mapped       1   \n",
       "5         0          Field has not been mapped     174   \n",
       "6         0          Field has not been mapped     138   \n",
       "7         0          Field has not been mapped     143   \n",
       "8         0          Field has not been mapped  605789   \n",
       "9   1065215          inpatient acute                28   \n",
       "10  1065215          inpatient acute               754   \n",
       "11  1065215          inpatient acute               475   \n",
       "12  1065215          inpatient acute            193509   \n",
       "13  1065215          inpatient acute               237   \n",
       "14  1065216          ambulatory                 803160   \n",
       "15  1065216          ambulatory                 860641   \n",
       "16  1065216          ambulatory                  28515   \n",
       "17  1065216          ambulatory                 432882   \n",
       "18  1065216          ambulatory                  77623   \n",
       "19  1065216          ambulatory                  55824   \n",
       "20  1065216          ambulatory                3949405   \n",
       "21  1065216          ambulatory                 433035   \n",
       "22  1065216          ambulatory                 802757   \n",
       "23  1065216          ambulatory                   1423   \n",
       "24  1065216          ambulatory                 574459   \n",
       "25  1065216          ambulatory                9958145   \n",
       "26  1065217          emergency                  279399   \n",
       "27  1065217          emergency                  483123   \n",
       "28  1065217          emergency                  666086   \n",
       "29  1065217          emergency                     212   \n",
       "30  1065217          emergency                 4426033   \n",
       "⋮   ⋮                ⋮                         ⋮         \n",
       "88  1065230          virtual                     7616    \n",
       "89  1065230          virtual                     9525    \n",
       "90  1065230          virtual                    30877    \n",
       "91  1065230          virtual                        1    \n",
       "92  1065230          virtual                        1    \n",
       "93  1065230          virtual                        1    \n",
       "94  1065230          virtual                      648    \n",
       "95  1065230          virtual                        1    \n",
       "96  1067555          Invalid                        6    \n",
       "97  1067555          Invalid                        4    \n",
       "98  1067555          Invalid                      205    \n",
       "99  1067555          Invalid                       69    \n",
       "100 1067555          Invalid                        4    \n",
       "101 1067555          Invalid                        4    \n",
       "102 1067555          Invalid                        5    \n",
       "103 1067555          Invalid                        5    \n",
       "104 1067561          No Information               145    \n",
       "105 1067561          No Information               149    \n",
       "106 1067561          No Information               756    \n",
       "107 1067561          No Information             13757    \n",
       "108 1067561          No Information               502    \n",
       "109 2649591          Insufficient Information       1    \n",
       "110 2649591          Insufficient Information      18    \n",
       "111 2649591          Insufficient Information   14772    \n",
       "112 2649591          Insufficient Information  450218    \n",
       "113 2649591          Insufficient Information      68    \n",
       "114 2649591          Insufficient Information      17    \n",
       "115 2649591          Insufficient Information    4378    \n",
       "116 2649591          Insufficient Information       3    \n",
       "117 2649591          Insufficient Information      14    "
      ]
     },
     "metadata": {},
     "output_type": "display_data"
    }
   ],
   "source": [
    "head(ev_names,5)"
   ]
  },
  {
   "cell_type": "code",
   "execution_count": 16,
   "id": "8a49b7f6-b7b5-471c-ac9d-355117f8022e",
   "metadata": {
    "execution": {
     "iopub.execute_input": "2023-06-22T14:48:41.071562Z",
     "iopub.status.busy": "2023-06-22T14:48:41.070702Z",
     "iopub.status.idle": "2023-06-22T14:51:46.373654Z",
     "shell.execute_reply": "2023-06-22T14:51:46.372504Z"
    },
    "tags": []
   },
   "outputs": [],
   "source": [
    "# number of unique encounters for Vital Signs\n",
    "sql <- \"select e.ClassConceptId, count(distinct v.Id) as enct_cnt \n",
    "from Vital v left join Encounter e on (v.EncounterId = e.Id)\n",
    "group by e.ClassConceptId;\"\n",
    "\n",
    "vital_enct <- load_sql_table(con,snapshot, query = sql ) %>% collect()"
   ]
  },
  {
   "cell_type": "code",
   "execution_count": 25,
   "id": "07f0407f-d3f3-42dd-92f9-d53ad90b3e87",
   "metadata": {
    "execution": {
     "iopub.execute_input": "2023-06-22T15:05:47.347807Z",
     "iopub.status.busy": "2023-06-22T15:05:47.346837Z",
     "iopub.status.idle": "2023-06-22T15:05:47.635893Z",
     "shell.execute_reply": "2023-06-22T15:05:47.634873Z"
    },
    "tags": []
   },
   "outputs": [
    {
     "data": {
      "text/html": [
       "<table class=\"dataframe\">\n",
       "<caption>A data.frame: 14 × 4</caption>\n",
       "<thead>\n",
       "\t<tr><th scope=col>ClassConceptId</th><th scope=col>ConceptName</th><th scope=col>enct_cnt</th><th scope=col>percentage</th></tr>\n",
       "\t<tr><th scope=col>&lt;dbl&gt;</th><th scope=col>&lt;chr&gt;</th><th scope=col>&lt;int&gt;</th><th scope=col>&lt;dbl&gt;</th></tr>\n",
       "</thead>\n",
       "<tbody>\n",
       "\t<tr><td>      0</td><td>Field has not been mapped</td><td> 23818977</td><td> 3.631</td></tr>\n",
       "\t<tr><td>1065215</td><td>inpatient acute          </td><td>    12765</td><td> 0.002</td></tr>\n",
       "\t<tr><td>1065216</td><td>ambulatory               </td><td>170293066</td><td>25.956</td></tr>\n",
       "\t<tr><td>1065217</td><td>emergency                </td><td> 33532123</td><td> 5.111</td></tr>\n",
       "\t<tr><td>1065219</td><td>home health              </td><td>  6786775</td><td> 1.034</td></tr>\n",
       "\t<tr><td>1065220</td><td>inpatient encounter      </td><td>248089537</td><td>37.814</td></tr>\n",
       "\t<tr><td>1065225</td><td>observation encounter    </td><td> 16675470</td><td> 2.542</td></tr>\n",
       "\t<tr><td>1065226</td><td>pre-admission            </td><td>    58646</td><td> 0.009</td></tr>\n",
       "\t<tr><td>1065227</td><td>short stay               </td><td> 14009099</td><td> 2.135</td></tr>\n",
       "\t<tr><td>1065230</td><td>virtual                  </td><td>   691227</td><td> 0.105</td></tr>\n",
       "\t<tr><td>1067555</td><td>Invalid                  </td><td>     5310</td><td> 0.001</td></tr>\n",
       "\t<tr><td>1067561</td><td>No Information           </td><td>   269664</td><td> 0.041</td></tr>\n",
       "\t<tr><td>2649591</td><td>Insufficient Information </td><td>  5006236</td><td> 0.763</td></tr>\n",
       "\t<tr><td>     NA</td><td>NA                       </td><td>136825726</td><td>20.855</td></tr>\n",
       "</tbody>\n",
       "</table>\n"
      ],
      "text/latex": [
       "A data.frame: 14 × 4\n",
       "\\begin{tabular}{llll}\n",
       " ClassConceptId & ConceptName & enct\\_cnt & percentage\\\\\n",
       " <dbl> & <chr> & <int> & <dbl>\\\\\n",
       "\\hline\n",
       "\t       0 & Field has not been mapped &  23818977 &  3.631\\\\\n",
       "\t 1065215 & inpatient acute           &     12765 &  0.002\\\\\n",
       "\t 1065216 & ambulatory                & 170293066 & 25.956\\\\\n",
       "\t 1065217 & emergency                 &  33532123 &  5.111\\\\\n",
       "\t 1065219 & home health               &   6786775 &  1.034\\\\\n",
       "\t 1065220 & inpatient encounter       & 248089537 & 37.814\\\\\n",
       "\t 1065225 & observation encounter     &  16675470 &  2.542\\\\\n",
       "\t 1065226 & pre-admission             &     58646 &  0.009\\\\\n",
       "\t 1065227 & short stay                &  14009099 &  2.135\\\\\n",
       "\t 1065230 & virtual                   &    691227 &  0.105\\\\\n",
       "\t 1067555 & Invalid                   &      5310 &  0.001\\\\\n",
       "\t 1067561 & No Information            &    269664 &  0.041\\\\\n",
       "\t 2649591 & Insufficient Information  &   5006236 &  0.763\\\\\n",
       "\t      NA & NA                        & 136825726 & 20.855\\\\\n",
       "\\end{tabular}\n"
      ],
      "text/markdown": [
       "\n",
       "A data.frame: 14 × 4\n",
       "\n",
       "| ClassConceptId &lt;dbl&gt; | ConceptName &lt;chr&gt; | enct_cnt &lt;int&gt; | percentage &lt;dbl&gt; |\n",
       "|---|---|---|---|\n",
       "|       0 | Field has not been mapped |  23818977 |  3.631 |\n",
       "| 1065215 | inpatient acute           |     12765 |  0.002 |\n",
       "| 1065216 | ambulatory                | 170293066 | 25.956 |\n",
       "| 1065217 | emergency                 |  33532123 |  5.111 |\n",
       "| 1065219 | home health               |   6786775 |  1.034 |\n",
       "| 1065220 | inpatient encounter       | 248089537 | 37.814 |\n",
       "| 1065225 | observation encounter     |  16675470 |  2.542 |\n",
       "| 1065226 | pre-admission             |     58646 |  0.009 |\n",
       "| 1065227 | short stay                |  14009099 |  2.135 |\n",
       "| 1065230 | virtual                   |    691227 |  0.105 |\n",
       "| 1067555 | Invalid                   |      5310 |  0.001 |\n",
       "| 1067561 | No Information            |    269664 |  0.041 |\n",
       "| 2649591 | Insufficient Information  |   5006236 |  0.763 |\n",
       "|      NA | NA                        | 136825726 | 20.855 |\n",
       "\n"
      ],
      "text/plain": [
       "   ClassConceptId ConceptName               enct_cnt  percentage\n",
       "1        0        Field has not been mapped  23818977  3.631    \n",
       "2  1065215        inpatient acute               12765  0.002    \n",
       "3  1065216        ambulatory                170293066 25.956    \n",
       "4  1065217        emergency                  33532123  5.111    \n",
       "5  1065219        home health                 6786775  1.034    \n",
       "6  1065220        inpatient encounter       248089537 37.814    \n",
       "7  1065225        observation encounter      16675470  2.542    \n",
       "8  1065226        pre-admission                 58646  0.009    \n",
       "9  1065227        short stay                 14009099  2.135    \n",
       "10 1065230        virtual                      691227  0.105    \n",
       "11 1067555        Invalid                        5310  0.001    \n",
       "12 1067561        No Information               269664  0.041    \n",
       "13 2649591        Insufficient Information    5006236  0.763    \n",
       "14      NA        NA                        136825726 20.855    "
      ]
     },
     "metadata": {},
     "output_type": "display_data"
    }
   ],
   "source": [
    "vital_enct %>% merge(., concept, by.x = \"ClassConceptId\", by.y = \"ConceptId\", all.x = TRUE) %>%\n",
    "select(ClassConceptId, ConceptName, enct_cnt)%>% mutate(percentage =round(enct_cnt/sum(vital_enct$enct_cnt) * 100,3))"
   ]
  },
  {
   "cell_type": "code",
   "execution_count": 23,
   "id": "740ee104-8639-4240-9857-7ef4707aab94",
   "metadata": {
    "execution": {
     "iopub.execute_input": "2023-06-22T15:04:10.924814Z",
     "iopub.status.busy": "2023-06-22T15:04:10.923849Z",
     "iopub.status.idle": "2023-06-22T15:04:10.933205Z",
     "shell.execute_reply": "2023-06-22T15:04:10.932254Z"
    }
   },
   "outputs": [
    {
     "data": {
      "text/html": [
       "656074621"
      ],
      "text/latex": [
       "656074621"
      ],
      "text/markdown": [
       "656074621"
      ],
      "text/plain": [
       "[1] 656074621"
      ]
     },
     "metadata": {},
     "output_type": "display_data"
    }
   ],
   "source": [
    "sum(vital_enct$enct_cnt)"
   ]
  },
  {
   "cell_type": "code",
   "execution_count": 18,
   "id": "a70f5eb0-bc83-45d9-bda6-5e06daf2ef75",
   "metadata": {
    "execution": {
     "iopub.execute_input": "2023-06-21T21:49:44.136262Z",
     "iopub.status.busy": "2023-06-21T21:49:44.135298Z",
     "iopub.status.idle": "2023-06-21T21:49:56.273567Z",
     "shell.execute_reply": "2023-06-21T21:49:56.272018Z"
    },
    "tags": []
   },
   "outputs": [
    {
     "data": {
      "text/html": [
       "<table class=\"dataframe\">\n",
       "<caption>A tibble: 5 × 12</caption>\n",
       "<thead>\n",
       "\t<tr><th scope=col>CodeConceptId</th><th scope=col>EffectiveDateTime</th><th scope=col>EncounterId</th><th scope=col>Id</th><th scope=col>InterpretationConceptId</th><th scope=col>NormalizedValueNumeric</th><th scope=col>NormalizedValueUOMConceptId</th><th scope=col>PatientId</th><th scope=col>RecordedDateTime</th><th scope=col>StatusConceptId</th><th scope=col>Value</th><th scope=col>PersonId</th></tr>\n",
       "\t<tr><th scope=col>&lt;int&gt;</th><th scope=col>&lt;dttm&gt;</th><th scope=col>&lt;chr&gt;</th><th scope=col>&lt;chr&gt;</th><th scope=col>&lt;int&gt;</th><th scope=col>&lt;dbl&gt;</th><th scope=col>&lt;int&gt;</th><th scope=col>&lt;chr&gt;</th><th scope=col>&lt;dttm&gt;</th><th scope=col>&lt;int&gt;</th><th scope=col>&lt;chr&gt;</th><th scope=col>&lt;chr&gt;</th></tr>\n",
       "</thead>\n",
       "<tbody>\n",
       "\t<tr><td>773683</td><td>2016-04-27 08:57:00</td><td>3e1d42ce-3b58-2440-c964-cdb940d8d112</td><td>d846b77f-3c12-0f9c-d39c-076d5d1a5fa3</td><td>1067557</td><td>3491.20</td><td>1067561</td><td>e65be796-5661-1fc9-9892-e0082738bb6c</td><td>2016-04-27 08:57:00</td><td>1065715</td><td>3491.2</td><td>efbe7483-34f9-22c5-b962-d7354a6a519e</td></tr>\n",
       "\t<tr><td>809891</td><td>2020-04-05 09:52:00</td><td>826255d8-1407-90c3-6c6e-b64f888f3dd6</td><td>af743c93-7fa7-b0e9-8034-02fa039a48ca</td><td>1067557</td><td>  27.95</td><td>1067561</td><td>e65be796-5661-1fc9-9892-e0082738bb6c</td><td>2020-04-05 09:51:00</td><td>1065715</td><td>27.95 </td><td>efbe7483-34f9-22c5-b962-d7354a6a519e</td></tr>\n",
       "\t<tr><td>773683</td><td>2019-12-15 07:32:00</td><td>1a636481-0c4c-ec6f-2f27-2185354498c6</td><td>ad07f57e-9b28-2a78-271a-053ec6f4d2d6</td><td>1067557</td><td>3248.00</td><td>1067561</td><td>e65be796-5661-1fc9-9892-e0082738bb6c</td><td>2019-12-15 07:31:00</td><td>1065715</td><td>3248  </td><td>efbe7483-34f9-22c5-b962-d7354a6a519e</td></tr>\n",
       "\t<tr><td>780145</td><td>2015-10-21 08:47:00</td><td>f3edc38d-229f-48ec-076b-42c4a2b6dec1</td><td>885c8914-4b33-b8cd-222a-9310b110e2f9</td><td>1067557</td><td>  76.00</td><td>1067561</td><td>e65be796-5661-1fc9-9892-e0082738bb6c</td><td>2015-10-21 08:40:00</td><td>1065715</td><td>76    </td><td>efbe7483-34f9-22c5-b962-d7354a6a519e</td></tr>\n",
       "\t<tr><td>773682</td><td>2017-06-17 11:32:00</td><td>540106da-0531-5ed0-13fd-77c29debaef9</td><td>59171623-eba3-8f8f-c06e-84960bf6634d</td><td>1067557</td><td>   2.12</td><td>1067561</td><td>e65be796-5661-1fc9-9892-e0082738bb6c</td><td>2017-06-17 11:30:00</td><td>1065715</td><td>2.12  </td><td>efbe7483-34f9-22c5-b962-d7354a6a519e</td></tr>\n",
       "</tbody>\n",
       "</table>\n"
      ],
      "text/latex": [
       "A tibble: 5 × 12\n",
       "\\begin{tabular}{llllllllllll}\n",
       " CodeConceptId & EffectiveDateTime & EncounterId & Id & InterpretationConceptId & NormalizedValueNumeric & NormalizedValueUOMConceptId & PatientId & RecordedDateTime & StatusConceptId & Value & PersonId\\\\\n",
       " <int> & <dttm> & <chr> & <chr> & <int> & <dbl> & <int> & <chr> & <dttm> & <int> & <chr> & <chr>\\\\\n",
       "\\hline\n",
       "\t 773683 & 2016-04-27 08:57:00 & 3e1d42ce-3b58-2440-c964-cdb940d8d112 & d846b77f-3c12-0f9c-d39c-076d5d1a5fa3 & 1067557 & 3491.20 & 1067561 & e65be796-5661-1fc9-9892-e0082738bb6c & 2016-04-27 08:57:00 & 1065715 & 3491.2 & efbe7483-34f9-22c5-b962-d7354a6a519e\\\\\n",
       "\t 809891 & 2020-04-05 09:52:00 & 826255d8-1407-90c3-6c6e-b64f888f3dd6 & af743c93-7fa7-b0e9-8034-02fa039a48ca & 1067557 &   27.95 & 1067561 & e65be796-5661-1fc9-9892-e0082738bb6c & 2020-04-05 09:51:00 & 1065715 & 27.95  & efbe7483-34f9-22c5-b962-d7354a6a519e\\\\\n",
       "\t 773683 & 2019-12-15 07:32:00 & 1a636481-0c4c-ec6f-2f27-2185354498c6 & ad07f57e-9b28-2a78-271a-053ec6f4d2d6 & 1067557 & 3248.00 & 1067561 & e65be796-5661-1fc9-9892-e0082738bb6c & 2019-12-15 07:31:00 & 1065715 & 3248   & efbe7483-34f9-22c5-b962-d7354a6a519e\\\\\n",
       "\t 780145 & 2015-10-21 08:47:00 & f3edc38d-229f-48ec-076b-42c4a2b6dec1 & 885c8914-4b33-b8cd-222a-9310b110e2f9 & 1067557 &   76.00 & 1067561 & e65be796-5661-1fc9-9892-e0082738bb6c & 2015-10-21 08:40:00 & 1065715 & 76     & efbe7483-34f9-22c5-b962-d7354a6a519e\\\\\n",
       "\t 773682 & 2017-06-17 11:32:00 & 540106da-0531-5ed0-13fd-77c29debaef9 & 59171623-eba3-8f8f-c06e-84960bf6634d & 1067557 &    2.12 & 1067561 & e65be796-5661-1fc9-9892-e0082738bb6c & 2017-06-17 11:30:00 & 1065715 & 2.12   & efbe7483-34f9-22c5-b962-d7354a6a519e\\\\\n",
       "\\end{tabular}\n"
      ],
      "text/markdown": [
       "\n",
       "A tibble: 5 × 12\n",
       "\n",
       "| CodeConceptId &lt;int&gt; | EffectiveDateTime &lt;dttm&gt; | EncounterId &lt;chr&gt; | Id &lt;chr&gt; | InterpretationConceptId &lt;int&gt; | NormalizedValueNumeric &lt;dbl&gt; | NormalizedValueUOMConceptId &lt;int&gt; | PatientId &lt;chr&gt; | RecordedDateTime &lt;dttm&gt; | StatusConceptId &lt;int&gt; | Value &lt;chr&gt; | PersonId &lt;chr&gt; |\n",
       "|---|---|---|---|---|---|---|---|---|---|---|---|\n",
       "| 773683 | 2016-04-27 08:57:00 | 3e1d42ce-3b58-2440-c964-cdb940d8d112 | d846b77f-3c12-0f9c-d39c-076d5d1a5fa3 | 1067557 | 3491.20 | 1067561 | e65be796-5661-1fc9-9892-e0082738bb6c | 2016-04-27 08:57:00 | 1065715 | 3491.2 | efbe7483-34f9-22c5-b962-d7354a6a519e |\n",
       "| 809891 | 2020-04-05 09:52:00 | 826255d8-1407-90c3-6c6e-b64f888f3dd6 | af743c93-7fa7-b0e9-8034-02fa039a48ca | 1067557 |   27.95 | 1067561 | e65be796-5661-1fc9-9892-e0082738bb6c | 2020-04-05 09:51:00 | 1065715 | 27.95  | efbe7483-34f9-22c5-b962-d7354a6a519e |\n",
       "| 773683 | 2019-12-15 07:32:00 | 1a636481-0c4c-ec6f-2f27-2185354498c6 | ad07f57e-9b28-2a78-271a-053ec6f4d2d6 | 1067557 | 3248.00 | 1067561 | e65be796-5661-1fc9-9892-e0082738bb6c | 2019-12-15 07:31:00 | 1065715 | 3248   | efbe7483-34f9-22c5-b962-d7354a6a519e |\n",
       "| 780145 | 2015-10-21 08:47:00 | f3edc38d-229f-48ec-076b-42c4a2b6dec1 | 885c8914-4b33-b8cd-222a-9310b110e2f9 | 1067557 |   76.00 | 1067561 | e65be796-5661-1fc9-9892-e0082738bb6c | 2015-10-21 08:40:00 | 1065715 | 76     | efbe7483-34f9-22c5-b962-d7354a6a519e |\n",
       "| 773682 | 2017-06-17 11:32:00 | 540106da-0531-5ed0-13fd-77c29debaef9 | 59171623-eba3-8f8f-c06e-84960bf6634d | 1067557 |    2.12 | 1067561 | e65be796-5661-1fc9-9892-e0082738bb6c | 2017-06-17 11:30:00 | 1065715 | 2.12   | efbe7483-34f9-22c5-b962-d7354a6a519e |\n",
       "\n"
      ],
      "text/plain": [
       "  CodeConceptId EffectiveDateTime   EncounterId                         \n",
       "1 773683        2016-04-27 08:57:00 3e1d42ce-3b58-2440-c964-cdb940d8d112\n",
       "2 809891        2020-04-05 09:52:00 826255d8-1407-90c3-6c6e-b64f888f3dd6\n",
       "3 773683        2019-12-15 07:32:00 1a636481-0c4c-ec6f-2f27-2185354498c6\n",
       "4 780145        2015-10-21 08:47:00 f3edc38d-229f-48ec-076b-42c4a2b6dec1\n",
       "5 773682        2017-06-17 11:32:00 540106da-0531-5ed0-13fd-77c29debaef9\n",
       "  Id                                   InterpretationConceptId\n",
       "1 d846b77f-3c12-0f9c-d39c-076d5d1a5fa3 1067557                \n",
       "2 af743c93-7fa7-b0e9-8034-02fa039a48ca 1067557                \n",
       "3 ad07f57e-9b28-2a78-271a-053ec6f4d2d6 1067557                \n",
       "4 885c8914-4b33-b8cd-222a-9310b110e2f9 1067557                \n",
       "5 59171623-eba3-8f8f-c06e-84960bf6634d 1067557                \n",
       "  NormalizedValueNumeric NormalizedValueUOMConceptId\n",
       "1 3491.20                1067561                    \n",
       "2   27.95                1067561                    \n",
       "3 3248.00                1067561                    \n",
       "4   76.00                1067561                    \n",
       "5    2.12                1067561                    \n",
       "  PatientId                            RecordedDateTime    StatusConceptId\n",
       "1 e65be796-5661-1fc9-9892-e0082738bb6c 2016-04-27 08:57:00 1065715        \n",
       "2 e65be796-5661-1fc9-9892-e0082738bb6c 2020-04-05 09:51:00 1065715        \n",
       "3 e65be796-5661-1fc9-9892-e0082738bb6c 2019-12-15 07:31:00 1065715        \n",
       "4 e65be796-5661-1fc9-9892-e0082738bb6c 2015-10-21 08:40:00 1065715        \n",
       "5 e65be796-5661-1fc9-9892-e0082738bb6c 2017-06-17 11:30:00 1065715        \n",
       "  Value  PersonId                            \n",
       "1 3491.2 efbe7483-34f9-22c5-b962-d7354a6a519e\n",
       "2 27.95  efbe7483-34f9-22c5-b962-d7354a6a519e\n",
       "3 3248   efbe7483-34f9-22c5-b962-d7354a6a519e\n",
       "4 76     efbe7483-34f9-22c5-b962-d7354a6a519e\n",
       "5 2.12   efbe7483-34f9-22c5-b962-d7354a6a519e"
      ]
     },
     "metadata": {},
     "output_type": "display_data"
    }
   ],
   "source": [
    "#take a glimpse of Vitals\n",
    "load_sql_table(con,snapshot,query = \"select top 5 * from Vital where EncounterId is not NULL;\") %>% collect()"
   ]
  },
  {
   "cell_type": "code",
   "execution_count": 17,
   "id": "4562ceaf-c15e-43b0-a6a2-09486ebaaca5",
   "metadata": {
    "execution": {
     "iopub.execute_input": "2023-06-21T21:48:14.254870Z",
     "iopub.status.busy": "2023-06-21T21:48:14.253266Z",
     "iopub.status.idle": "2023-06-21T21:48:16.780144Z",
     "shell.execute_reply": "2023-06-21T21:48:16.779145Z"
    }
   },
   "outputs": [
    {
     "data": {
      "text/html": [
       "<table class=\"dataframe\">\n",
       "<caption>A tibble: 5 × 11</caption>\n",
       "<thead>\n",
       "\t<tr><th scope=col>ClassConceptId</th><th scope=col>DischargeDispositionConceptId</th><th scope=col>EndDateTime</th><th scope=col>Id</th><th scope=col>LocationId</th><th scope=col>PatientId</th><th scope=col>PriorityConceptId</th><th scope=col>StartDateTime</th><th scope=col>StatusConceptId</th><th scope=col>TypeConceptId</th><th scope=col>PersonId</th></tr>\n",
       "\t<tr><th scope=col>&lt;int&gt;</th><th scope=col>&lt;int&gt;</th><th scope=col>&lt;dttm&gt;</th><th scope=col>&lt;chr&gt;</th><th scope=col>&lt;???&gt;</th><th scope=col>&lt;chr&gt;</th><th scope=col>&lt;int&gt;</th><th scope=col>&lt;dttm&gt;</th><th scope=col>&lt;int&gt;</th><th scope=col>&lt;int&gt;</th><th scope=col>&lt;chr&gt;</th></tr>\n",
       "</thead>\n",
       "<tbody>\n",
       "\t<tr><td>1065220</td><td>1065239</td><td>2019-11-12 23:59:00</td><td>c4c96584-8cc3-9308-3dff-1f7a8c87ddb2</td><td>NA</td><td>9437a75d-10ba-f4aa-688d-ff238f7813a3</td><td>1067557</td><td>2019-11-12 10:50:59</td><td>2506592</td><td>3059272</td><td>c1c3b47e-1f99-df88-ada2-ea35bb499d3a</td></tr>\n",
       "\t<tr><td>2649591</td><td>1067561</td><td>NA</td><td>a1a7c588-c9af-3660-64d6-4ac343e4bd05</td><td>NA</td><td>9437a75d-10ba-f4aa-688d-ff238f7813a3</td><td>1067557</td><td>2017-04-23 00:00:00</td><td>2506592</td><td>3059269</td><td>c1c3b47e-1f99-df88-ada2-ea35bb499d3a</td></tr>\n",
       "\t<tr><td>1065217</td><td>1065239</td><td>2020-04-03 09:39:00</td><td>f38b03f9-80c3-9ea3-0150-607b1cec6a96</td><td>NA</td><td>9437a75d-10ba-f4aa-688d-ff238f7813a3</td><td>1067557</td><td>2020-04-03 09:22:00</td><td>2506592</td><td>3059272</td><td>c1c3b47e-1f99-df88-ada2-ea35bb499d3a</td></tr>\n",
       "\t<tr><td>1065217</td><td>1065239</td><td>2020-03-28 20:26:00</td><td>4906df98-51d6-8710-22c3-c9f49ec5947a</td><td>NA</td><td>9437a75d-10ba-f4aa-688d-ff238f7813a3</td><td>1067557</td><td>2020-03-28 17:17:00</td><td>2506592</td><td>3059272</td><td>c1c3b47e-1f99-df88-ada2-ea35bb499d3a</td></tr>\n",
       "\t<tr><td>1065220</td><td>1065239</td><td>2017-04-27 14:50:00</td><td>6de5b37e-86de-561f-3e0a-991d91477dfc</td><td>NA</td><td>9437a75d-10ba-f4aa-688d-ff238f7813a3</td><td>1067557</td><td>2017-04-24 02:25:00</td><td>2506592</td><td>3059272</td><td>c1c3b47e-1f99-df88-ada2-ea35bb499d3a</td></tr>\n",
       "</tbody>\n",
       "</table>\n"
      ],
      "text/latex": [
       "A tibble: 5 × 11\n",
       "\\begin{tabular}{lllllllllll}\n",
       " ClassConceptId & DischargeDispositionConceptId & EndDateTime & Id & LocationId & PatientId & PriorityConceptId & StartDateTime & StatusConceptId & TypeConceptId & PersonId\\\\\n",
       " <int> & <int> & <dttm> & <chr> & <???> & <chr> & <int> & <dttm> & <int> & <int> & <chr>\\\\\n",
       "\\hline\n",
       "\t 1065220 & 1065239 & 2019-11-12 23:59:00 & c4c96584-8cc3-9308-3dff-1f7a8c87ddb2 & NA & 9437a75d-10ba-f4aa-688d-ff238f7813a3 & 1067557 & 2019-11-12 10:50:59 & 2506592 & 3059272 & c1c3b47e-1f99-df88-ada2-ea35bb499d3a\\\\\n",
       "\t 2649591 & 1067561 & NA & a1a7c588-c9af-3660-64d6-4ac343e4bd05 & NA & 9437a75d-10ba-f4aa-688d-ff238f7813a3 & 1067557 & 2017-04-23 00:00:00 & 2506592 & 3059269 & c1c3b47e-1f99-df88-ada2-ea35bb499d3a\\\\\n",
       "\t 1065217 & 1065239 & 2020-04-03 09:39:00 & f38b03f9-80c3-9ea3-0150-607b1cec6a96 & NA & 9437a75d-10ba-f4aa-688d-ff238f7813a3 & 1067557 & 2020-04-03 09:22:00 & 2506592 & 3059272 & c1c3b47e-1f99-df88-ada2-ea35bb499d3a\\\\\n",
       "\t 1065217 & 1065239 & 2020-03-28 20:26:00 & 4906df98-51d6-8710-22c3-c9f49ec5947a & NA & 9437a75d-10ba-f4aa-688d-ff238f7813a3 & 1067557 & 2020-03-28 17:17:00 & 2506592 & 3059272 & c1c3b47e-1f99-df88-ada2-ea35bb499d3a\\\\\n",
       "\t 1065220 & 1065239 & 2017-04-27 14:50:00 & 6de5b37e-86de-561f-3e0a-991d91477dfc & NA & 9437a75d-10ba-f4aa-688d-ff238f7813a3 & 1067557 & 2017-04-24 02:25:00 & 2506592 & 3059272 & c1c3b47e-1f99-df88-ada2-ea35bb499d3a\\\\\n",
       "\\end{tabular}\n"
      ],
      "text/markdown": [
       "\n",
       "A tibble: 5 × 11\n",
       "\n",
       "| ClassConceptId &lt;int&gt; | DischargeDispositionConceptId &lt;int&gt; | EndDateTime &lt;dttm&gt; | Id &lt;chr&gt; | LocationId &lt;???&gt; | PatientId &lt;chr&gt; | PriorityConceptId &lt;int&gt; | StartDateTime &lt;dttm&gt; | StatusConceptId &lt;int&gt; | TypeConceptId &lt;int&gt; | PersonId &lt;chr&gt; |\n",
       "|---|---|---|---|---|---|---|---|---|---|---|\n",
       "| 1065220 | 1065239 | 2019-11-12 23:59:00 | c4c96584-8cc3-9308-3dff-1f7a8c87ddb2 | NA | 9437a75d-10ba-f4aa-688d-ff238f7813a3 | 1067557 | 2019-11-12 10:50:59 | 2506592 | 3059272 | c1c3b47e-1f99-df88-ada2-ea35bb499d3a |\n",
       "| 2649591 | 1067561 | NA | a1a7c588-c9af-3660-64d6-4ac343e4bd05 | NA | 9437a75d-10ba-f4aa-688d-ff238f7813a3 | 1067557 | 2017-04-23 00:00:00 | 2506592 | 3059269 | c1c3b47e-1f99-df88-ada2-ea35bb499d3a |\n",
       "| 1065217 | 1065239 | 2020-04-03 09:39:00 | f38b03f9-80c3-9ea3-0150-607b1cec6a96 | NA | 9437a75d-10ba-f4aa-688d-ff238f7813a3 | 1067557 | 2020-04-03 09:22:00 | 2506592 | 3059272 | c1c3b47e-1f99-df88-ada2-ea35bb499d3a |\n",
       "| 1065217 | 1065239 | 2020-03-28 20:26:00 | 4906df98-51d6-8710-22c3-c9f49ec5947a | NA | 9437a75d-10ba-f4aa-688d-ff238f7813a3 | 1067557 | 2020-03-28 17:17:00 | 2506592 | 3059272 | c1c3b47e-1f99-df88-ada2-ea35bb499d3a |\n",
       "| 1065220 | 1065239 | 2017-04-27 14:50:00 | 6de5b37e-86de-561f-3e0a-991d91477dfc | NA | 9437a75d-10ba-f4aa-688d-ff238f7813a3 | 1067557 | 2017-04-24 02:25:00 | 2506592 | 3059272 | c1c3b47e-1f99-df88-ada2-ea35bb499d3a |\n",
       "\n"
      ],
      "text/plain": [
       "  ClassConceptId DischargeDispositionConceptId EndDateTime        \n",
       "1 1065220        1065239                       2019-11-12 23:59:00\n",
       "2 2649591        1067561                       <NA>               \n",
       "3 1065217        1065239                       2020-04-03 09:39:00\n",
       "4 1065217        1065239                       2020-03-28 20:26:00\n",
       "5 1065220        1065239                       2017-04-27 14:50:00\n",
       "  Id                                   LocationId\n",
       "1 c4c96584-8cc3-9308-3dff-1f7a8c87ddb2 NA        \n",
       "2 a1a7c588-c9af-3660-64d6-4ac343e4bd05 NA        \n",
       "3 f38b03f9-80c3-9ea3-0150-607b1cec6a96 NA        \n",
       "4 4906df98-51d6-8710-22c3-c9f49ec5947a NA        \n",
       "5 6de5b37e-86de-561f-3e0a-991d91477dfc NA        \n",
       "  PatientId                            PriorityConceptId StartDateTime      \n",
       "1 9437a75d-10ba-f4aa-688d-ff238f7813a3 1067557           2019-11-12 10:50:59\n",
       "2 9437a75d-10ba-f4aa-688d-ff238f7813a3 1067557           2017-04-23 00:00:00\n",
       "3 9437a75d-10ba-f4aa-688d-ff238f7813a3 1067557           2020-04-03 09:22:00\n",
       "4 9437a75d-10ba-f4aa-688d-ff238f7813a3 1067557           2020-03-28 17:17:00\n",
       "5 9437a75d-10ba-f4aa-688d-ff238f7813a3 1067557           2017-04-24 02:25:00\n",
       "  StatusConceptId TypeConceptId PersonId                            \n",
       "1 2506592         3059272       c1c3b47e-1f99-df88-ada2-ea35bb499d3a\n",
       "2 2506592         3059269       c1c3b47e-1f99-df88-ada2-ea35bb499d3a\n",
       "3 2506592         3059272       c1c3b47e-1f99-df88-ada2-ea35bb499d3a\n",
       "4 2506592         3059272       c1c3b47e-1f99-df88-ada2-ea35bb499d3a\n",
       "5 2506592         3059272       c1c3b47e-1f99-df88-ada2-ea35bb499d3a"
      ]
     },
     "metadata": {},
     "output_type": "display_data"
    }
   ],
   "source": [
    "load_sql_table(con,snapshot,query = \"select top 5 * from Encounter;\") %>% collect()"
   ]
  },
  {
   "cell_type": "code",
   "execution_count": 10,
   "id": "54778e0b-3590-405e-a6aa-df342f5e3aa5",
   "metadata": {
    "execution": {
     "iopub.execute_input": "2023-07-12T18:58:45.607046Z",
     "iopub.status.busy": "2023-07-12T18:58:45.606018Z",
     "iopub.status.idle": "2023-07-12T18:59:34.741449Z",
     "shell.execute_reply": "2023-07-12T18:59:34.740213Z"
    },
    "tags": []
   },
   "outputs": [],
   "source": [
    "sql <- \" select v.CodeConceptId, count(distinct v.EncounterId) as cnt \n",
    "from Observation v join Encounter e on (v.EncounterId = e.Id)\n",
    "where e.ClassConceptId = '1065216'\n",
    "group by v.CodeConceptId;\n",
    "\"\n",
    "\n",
    "amb_enct <- load_sql_table(con,snapshot, query = sql) %>% collect()"
   ]
  },
  {
   "cell_type": "code",
   "execution_count": 13,
   "id": "045284ce-88be-4881-a2fa-c918c11de621",
   "metadata": {
    "execution": {
     "iopub.execute_input": "2023-07-12T19:02:35.520220Z",
     "iopub.status.busy": "2023-07-12T19:02:35.519195Z",
     "iopub.status.idle": "2023-07-12T19:02:35.978402Z",
     "shell.execute_reply": "2023-07-12T19:02:35.977274Z"
    },
    "tags": []
   },
   "outputs": [],
   "source": [
    "vital_concept_count <- amb_enct %>% merge(., concept, by.x = \"CodeConceptId\", by.y = 'ConceptId', all.x = TRUE)%>%\n",
    "select(CodeConceptId, ConceptName, cnt)"
   ]
  },
  {
   "cell_type": "code",
   "execution_count": 71,
   "id": "84d2e392-49df-4bff-8470-a3ce55b11a2c",
   "metadata": {
    "execution": {
     "iopub.execute_input": "2023-06-22T17:58:57.114490Z",
     "iopub.status.busy": "2023-06-22T17:58:57.113468Z",
     "iopub.status.idle": "2023-06-22T17:58:57.121825Z",
     "shell.execute_reply": "2023-06-22T17:58:57.120898Z"
    },
    "tags": []
   },
   "outputs": [],
   "source": [
    "x <- sum(amb_enct$cnt)\n",
    "y <- x / 1155527"
   ]
  },
  {
   "cell_type": "code",
   "execution_count": 72,
   "id": "4723dabe-28b4-4563-b2c1-edc30796bff1",
   "metadata": {
    "execution": {
     "iopub.execute_input": "2023-06-22T17:58:57.508400Z",
     "iopub.status.busy": "2023-06-22T17:58:57.507460Z",
     "iopub.status.idle": "2023-06-22T17:58:57.519282Z",
     "shell.execute_reply": "2023-06-22T17:58:57.518354Z"
    },
    "tags": []
   },
   "outputs": [
    {
     "name": "stdout",
     "output_type": "stream",
     "text": [
      "[1] 100456753\n",
      "[1] \"average # of amb vital measurement is \"\n",
      "[1] 86.93588\n"
     ]
    }
   ],
   "source": [
    "print(x)\n",
    "print(\"average # of amb vital measurement is \")\n",
    "print(y)"
   ]
  },
  {
   "cell_type": "code",
   "execution_count": 11,
   "id": "5efe554b-d13b-4643-8880-eab1f0880a20",
   "metadata": {
    "execution": {
     "iopub.execute_input": "2023-06-21T21:25:52.008264Z",
     "iopub.status.busy": "2023-06-21T21:25:52.007206Z",
     "iopub.status.idle": "2023-06-21T21:26:21.564187Z",
     "shell.execute_reply": "2023-06-21T21:26:21.562698Z"
    },
    "tags": []
   },
   "outputs": [
    {
     "data": {
      "text/html": [
       "<table class=\"dataframe\">\n",
       "<caption>A data.frame: 9 × 3</caption>\n",
       "<thead>\n",
       "\t<tr><th scope=col>StatusConceptId</th><th scope=col>ConceptName</th><th scope=col>cnt</th></tr>\n",
       "\t<tr><th scope=col>&lt;int&gt;</th><th scope=col>&lt;chr&gt;</th><th scope=col>&lt;int&gt;</th></tr>\n",
       "</thead>\n",
       "<tbody>\n",
       "\t<tr><td>      0</td><td>Field has not been mapped     </td><td>  1796249</td></tr>\n",
       "\t<tr><td>1065711</td><td>Amended                       </td><td>    15282</td></tr>\n",
       "\t<tr><td>1065715</td><td>Final                         </td><td> 41028047</td></tr>\n",
       "\t<tr><td>1065719</td><td>Incomplete                    </td><td>      356</td></tr>\n",
       "\t<tr><td>1065720</td><td>Unknown                       </td><td>        6</td></tr>\n",
       "\t<tr><td>1067557</td><td>Field is not present in source</td><td>126781003</td></tr>\n",
       "\t<tr><td>1067561</td><td>No Information                </td><td>    21496</td></tr>\n",
       "\t<tr><td>1205374</td><td>Normal                        </td><td>     5421</td></tr>\n",
       "\t<tr><td>2649591</td><td>Insufficient Information      </td><td>   645206</td></tr>\n",
       "</tbody>\n",
       "</table>\n"
      ],
      "text/latex": [
       "A data.frame: 9 × 3\n",
       "\\begin{tabular}{lll}\n",
       " StatusConceptId & ConceptName & cnt\\\\\n",
       " <int> & <chr> & <int>\\\\\n",
       "\\hline\n",
       "\t       0 & Field has not been mapped      &   1796249\\\\\n",
       "\t 1065711 & Amended                        &     15282\\\\\n",
       "\t 1065715 & Final                          &  41028047\\\\\n",
       "\t 1065719 & Incomplete                     &       356\\\\\n",
       "\t 1065720 & Unknown                        &         6\\\\\n",
       "\t 1067557 & Field is not present in source & 126781003\\\\\n",
       "\t 1067561 & No Information                 &     21496\\\\\n",
       "\t 1205374 & Normal                         &      5421\\\\\n",
       "\t 2649591 & Insufficient Information       &    645206\\\\\n",
       "\\end{tabular}\n"
      ],
      "text/markdown": [
       "\n",
       "A data.frame: 9 × 3\n",
       "\n",
       "| StatusConceptId &lt;int&gt; | ConceptName &lt;chr&gt; | cnt &lt;int&gt; |\n",
       "|---|---|---|\n",
       "|       0 | Field has not been mapped      |   1796249 |\n",
       "| 1065711 | Amended                        |     15282 |\n",
       "| 1065715 | Final                          |  41028047 |\n",
       "| 1065719 | Incomplete                     |       356 |\n",
       "| 1065720 | Unknown                        |         6 |\n",
       "| 1067557 | Field is not present in source | 126781003 |\n",
       "| 1067561 | No Information                 |     21496 |\n",
       "| 1205374 | Normal                         |      5421 |\n",
       "| 2649591 | Insufficient Information       |    645206 |\n",
       "\n"
      ],
      "text/plain": [
       "  StatusConceptId ConceptName                    cnt      \n",
       "1       0         Field has not been mapped        1796249\n",
       "2 1065711         Amended                            15282\n",
       "3 1065715         Final                           41028047\n",
       "4 1065719         Incomplete                           356\n",
       "5 1065720         Unknown                                6\n",
       "6 1067557         Field is not present in source 126781003\n",
       "7 1067561         No Information                     21496\n",
       "8 1205374         Normal                              5421\n",
       "9 2649591         Insufficient Information          645206"
      ]
     },
     "metadata": {},
     "output_type": "display_data"
    }
   ],
   "source": [
    "sql <-\" select v.StatusConceptId, count(*) as cnt \n",
    "from Vital v join Encounter e on (v.EncounterId = e.Id)\n",
    "where e.ClassConceptId = '1065216'\n",
    "group by v.StatusConceptId;\n",
    "\"\n",
    "\n",
    "status_vt <- load_sql_table(con,snapshot, query = sql) %>% collect()\n",
    "status_vt %>% merge(.,concep, by.x = 'StatusConceptId', by.y = 'ConceptId')%>%\n",
    "select(StatusConceptId, ConceptName, cnt)"
   ]
  },
  {
   "cell_type": "code",
   "execution_count": 4,
   "id": "5c78d206-0436-49d9-a644-c10c5b0bf931",
   "metadata": {
    "execution": {
     "iopub.execute_input": "2023-07-25T19:17:48.815355Z",
     "iopub.status.busy": "2023-07-25T19:17:48.814022Z",
     "iopub.status.idle": "2023-07-25T19:19:23.037768Z",
     "shell.execute_reply": "2023-07-25T19:19:23.036315Z"
    },
    "tags": []
   },
   "outputs": [],
   "source": [
    "#get cleaned body weight and height vital data in ambulatory\n",
    "param1 = list( ClassConcept=1065220) # inpatient\n",
    "param2 = list( ClassConcept=1065216) #outpatient\n",
    "sql1 <- \"select \n",
    "v.*, e.ClassConceptId\n",
    "from Vital v join Encounter e on (v.EncounterId = e.Id)\n",
    "where e.ClassConceptId = :ClassConcept and v.CodeConceptId in (773683,779602,800318)\n",
    "and v.NormalizedValueNumeric is not NULL\n",
    "and NormalizedValueUOMConceptId not in (0,1067557,1067561)\n",
    "and v.EffectiveDateTime is not NULL;\n",
    "\"\n",
    "sql2 <- \"select \n",
    "v.*, e.ClassConceptId\n",
    "from Vital v join Encounter e on (v.EncounterId = e.Id)\n",
    "where e.ClassConceptId = :ClassConcept and v.CodeConceptId in (773683,779602,800318)\n",
    "and v.NormalizedValueNumeric is not NULL\n",
    "and NormalizedValueUOMConceptId not in (0,1067557,1067561)\n",
    "and v.EffectiveDateTime is not NULL;\n",
    "\"\n",
    "inpatient_bw_bh_vital <- load_sql_table(con,snapshot,query = sql1,params = param1) %>% collect()\n",
    "amb__bw_bh_vital <- load_sql_table(con,snapshot, query = sql2,params = param2) %>% collect()\n"
   ]
  },
  {
   "cell_type": "code",
   "execution_count": 5,
   "id": "732fdaf2-839f-497a-bfec-c8958db0dfda",
   "metadata": {
    "execution": {
     "iopub.execute_input": "2023-07-25T19:19:23.040843Z",
     "iopub.status.busy": "2023-07-25T19:19:23.039592Z",
     "iopub.status.idle": "2023-07-25T19:19:31.032133Z",
     "shell.execute_reply": "2023-07-25T19:19:31.030635Z"
    },
    "tags": []
   },
   "outputs": [],
   "source": [
    "#get cleaned normalized body height data\n",
    "inpatient_bh = inpatient_bw_bh_vital%>% filter(CodeConceptId == 779602)\n",
    "#get cleaned body weight data \n",
    "inpatient_bw = inpatient_bw_bh_vital%>% filter(CodeConceptId !=779602)\n",
    "#get cleaned body height ambulatory data\n",
    "amb_bh = amb__bw_bh_vital%>% filter(CodeConceptId == 779602)\n",
    "#get cleaned body weight ambulatory data\n",
    "amb_bw = amb__bw_bh_vital%>% filter(CodeConceptId != 779602)\n"
   ]
  },
  {
   "cell_type": "code",
   "execution_count": 14,
   "id": "8f35e48a-1b82-4f4e-92e6-273713e72fa0",
   "metadata": {
    "execution": {
     "iopub.execute_input": "2023-07-24T14:23:11.715867Z",
     "iopub.status.busy": "2023-07-24T14:23:11.714897Z",
     "iopub.status.idle": "2023-07-24T14:23:13.672515Z",
     "shell.execute_reply": "2023-07-24T14:23:13.671417Z"
    },
    "tags": []
   },
   "outputs": [
    {
     "data": {
      "text/plain": [
       "  PatientId             counts              sd       \n",
       " Length:43712       Min.   :   1.00   Min.   :46.19  \n",
       " Class :character   1st Qu.:   7.00   1st Qu.:46.19  \n",
       " Mode  :character   Median :  12.00   Median :46.19  \n",
       "                    Mean   :  23.91   Mean   :46.19  \n",
       "                    3rd Qu.:  27.00   3rd Qu.:46.19  \n",
       "                    Max.   :2863.00   Max.   :46.19  "
      ]
     },
     "metadata": {},
     "output_type": "display_data"
    },
    {
     "data": {
      "text/plain": [
       "  PatientId             counts              sd       \n",
       " Length:62456       Min.   :   1.00   Min.   :40.16  \n",
       " Class :character   1st Qu.:   3.00   1st Qu.:40.16  \n",
       " Mode  :character   Median :   6.00   Median :40.16  \n",
       "                    Mean   :  16.23   Mean   :40.16  \n",
       "                    3rd Qu.:  15.00   3rd Qu.:40.16  \n",
       "                    Max.   :4161.00   Max.   :40.16  "
      ]
     },
     "metadata": {},
     "output_type": "display_data"
    }
   ],
   "source": [
    "# count number of measurements for each patient in patient\n",
    "inpatient_bh %>% group_by(PatientId) %>% summarise(counts = n_distinct(Id))%>% mutate(sd = sd(counts))%>% summary()\n",
    "inpatient_bw %>% group_by(PatientId) %>% summarise(counts = n_distinct(Id))%>% mutate(sd = sd(counts)) %>% summary()"
   ]
  },
  {
   "cell_type": "code",
   "execution_count": 34,
   "id": "73c3c602-55c6-466f-a8cd-f5c8fe739439",
   "metadata": {
    "execution": {
     "iopub.execute_input": "2023-07-24T15:58:18.065192Z",
     "iopub.status.busy": "2023-07-24T15:58:18.064194Z",
     "iopub.status.idle": "2023-07-24T15:58:27.184363Z",
     "shell.execute_reply": "2023-07-24T15:58:27.182877Z"
    },
    "tags": []
   },
   "outputs": [
    {
     "data": {
      "text/html": [
       "<table class=\"dataframe\">\n",
       "<caption>A data.frame: 1 × 8</caption>\n",
       "<thead>\n",
       "\t<tr><th scope=col>cnt</th><th scope=col>mean</th><th scope=col>min</th><th scope=col>qr1</th><th scope=col>median</th><th scope=col>qr3</th><th scope=col>max</th><th scope=col>sd</th></tr>\n",
       "\t<tr><th scope=col>&lt;int&gt;</th><th scope=col>&lt;dbl&gt;</th><th scope=col>&lt;dbl&gt;</th><th scope=col>&lt;dbl&gt;</th><th scope=col>&lt;dbl&gt;</th><th scope=col>&lt;dbl&gt;</th><th scope=col>&lt;dbl&gt;</th><th scope=col>&lt;dbl&gt;</th></tr>\n",
       "</thead>\n",
       "<tbody>\n",
       "\t<tr><td>1044954</td><td>77.97726</td><td>-2</td><td>5</td><td>63</td><td>162.56</td><td>3657.6</td><td>79.9338</td></tr>\n",
       "</tbody>\n",
       "</table>\n"
      ],
      "text/latex": [
       "A data.frame: 1 × 8\n",
       "\\begin{tabular}{llllllll}\n",
       " cnt & mean & min & qr1 & median & qr3 & max & sd\\\\\n",
       " <int> & <dbl> & <dbl> & <dbl> & <dbl> & <dbl> & <dbl> & <dbl>\\\\\n",
       "\\hline\n",
       "\t 1044954 & 77.97726 & -2 & 5 & 63 & 162.56 & 3657.6 & 79.9338\\\\\n",
       "\\end{tabular}\n"
      ],
      "text/markdown": [
       "\n",
       "A data.frame: 1 × 8\n",
       "\n",
       "| cnt &lt;int&gt; | mean &lt;dbl&gt; | min &lt;dbl&gt; | qr1 &lt;dbl&gt; | median &lt;dbl&gt; | qr3 &lt;dbl&gt; | max &lt;dbl&gt; | sd &lt;dbl&gt; |\n",
       "|---|---|---|---|---|---|---|---|\n",
       "| 1044954 | 77.97726 | -2 | 5 | 63 | 162.56 | 3657.6 | 79.9338 |\n",
       "\n"
      ],
      "text/plain": [
       "  cnt     mean     min qr1 median qr3    max    sd     \n",
       "1 1044954 77.97726 -2  5   63     162.56 3657.6 79.9338"
      ]
     },
     "metadata": {},
     "output_type": "display_data"
    }
   ],
   "source": [
    "inpatient_bh %>% merge(.,concept,by.x = 'NormalizedValueUOMConceptId', by.y = 'ConceptId') %>%\n",
    "mutate(CMValue = case_when(ConceptName == \"foot(US)\" ~ NormalizedValueNumeric*30.48,\n",
    "                          ConceptName == \"inch(US)\" ~ NormalizedValueNumeric*2.54,\n",
    "                          ConceptName == \"inch(international)\" ~ NormalizedValueNumeric*2.54,\n",
    "                          TRUE ~ NormalizedValueNumeric))%>%summarise( cnt = n(),\n",
    "                                    mean = mean(CMValue),\n",
    "                                    min = min(CMValue),\n",
    "                                    qr1 = quantile(CMValue,0.25),\n",
    "                                    median = quantile(CMValue,0.5),\n",
    "                                    qr3 = quantile(CMValue,0.75),\n",
    "                                    max = max(CMValue),\n",
    "                                    sd = sd(CMValue))\n"
   ]
  },
  {
   "cell_type": "code",
   "execution_count": 20,
   "id": "14e7604e-006b-45af-a3d1-c137d4f56fdc",
   "metadata": {
    "execution": {
     "iopub.execute_input": "2023-07-24T14:51:38.633634Z",
     "iopub.status.busy": "2023-07-24T14:51:38.632701Z",
     "iopub.status.idle": "2023-07-24T14:52:03.738877Z",
     "shell.execute_reply": "2023-07-24T14:52:03.737862Z"
    },
    "tags": []
   },
   "outputs": [
    {
     "data": {
      "text/html": [
       "<table class=\"dataframe\">\n",
       "<caption>A tibble: 4 × 9</caption>\n",
       "<thead>\n",
       "\t<tr><th scope=col>ConceptName</th><th scope=col>cnt</th><th scope=col>mean</th><th scope=col>min</th><th scope=col>qr1</th><th scope=col>median</th><th scope=col>qr3</th><th scope=col>max</th><th scope=col>sd</th></tr>\n",
       "\t<tr><th scope=col>&lt;chr&gt;</th><th scope=col>&lt;int&gt;</th><th scope=col>&lt;dbl&gt;</th><th scope=col>&lt;dbl&gt;</th><th scope=col>&lt;dbl&gt;</th><th scope=col>&lt;dbl&gt;</th><th scope=col>&lt;dbl&gt;</th><th scope=col>&lt;dbl&gt;</th><th scope=col>&lt;dbl&gt;</th></tr>\n",
       "</thead>\n",
       "<tbody>\n",
       "\t<tr><td>centimeter          </td><td>398092</td><td>169.144787</td><td> 0</td><td>160.02</td><td>167.64</td><td>175.260</td><td>3657.600</td><td>44.690737</td></tr>\n",
       "\t<tr><td>foot (US)           </td><td>275855</td><td>  5.096319</td><td> 0</td><td>  5.00</td><td>  5.00</td><td>  5.000</td><td>  99.000</td><td> 1.148621</td></tr>\n",
       "\t<tr><td>inch (US)           </td><td>    34</td><td> 68.070294</td><td>61</td><td> 65.00</td><td> 68.00</td><td> 70.375</td><td>  74.016</td><td> 3.603238</td></tr>\n",
       "\t<tr><td>inch (international)</td><td>370973</td><td> 34.340232</td><td>-2</td><td>  5.00</td><td> 11.00</td><td> 65.000</td><td> 995.000</td><td>32.868854</td></tr>\n",
       "</tbody>\n",
       "</table>\n"
      ],
      "text/latex": [
       "A tibble: 4 × 9\n",
       "\\begin{tabular}{lllllllll}\n",
       " ConceptName & cnt & mean & min & qr1 & median & qr3 & max & sd\\\\\n",
       " <chr> & <int> & <dbl> & <dbl> & <dbl> & <dbl> & <dbl> & <dbl> & <dbl>\\\\\n",
       "\\hline\n",
       "\t centimeter           & 398092 & 169.144787 &  0 & 160.02 & 167.64 & 175.260 & 3657.600 & 44.690737\\\\\n",
       "\t foot (US)            & 275855 &   5.096319 &  0 &   5.00 &   5.00 &   5.000 &   99.000 &  1.148621\\\\\n",
       "\t inch (US)            &     34 &  68.070294 & 61 &  65.00 &  68.00 &  70.375 &   74.016 &  3.603238\\\\\n",
       "\t inch (international) & 370973 &  34.340232 & -2 &   5.00 &  11.00 &  65.000 &  995.000 & 32.868854\\\\\n",
       "\\end{tabular}\n"
      ],
      "text/markdown": [
       "\n",
       "A tibble: 4 × 9\n",
       "\n",
       "| ConceptName &lt;chr&gt; | cnt &lt;int&gt; | mean &lt;dbl&gt; | min &lt;dbl&gt; | qr1 &lt;dbl&gt; | median &lt;dbl&gt; | qr3 &lt;dbl&gt; | max &lt;dbl&gt; | sd &lt;dbl&gt; |\n",
       "|---|---|---|---|---|---|---|---|---|\n",
       "| centimeter           | 398092 | 169.144787 |  0 | 160.02 | 167.64 | 175.260 | 3657.600 | 44.690737 |\n",
       "| foot (US)            | 275855 |   5.096319 |  0 |   5.00 |   5.00 |   5.000 |   99.000 |  1.148621 |\n",
       "| inch (US)            |     34 |  68.070294 | 61 |  65.00 |  68.00 |  70.375 |   74.016 |  3.603238 |\n",
       "| inch (international) | 370973 |  34.340232 | -2 |   5.00 |  11.00 |  65.000 |  995.000 | 32.868854 |\n",
       "\n"
      ],
      "text/plain": [
       "  ConceptName          cnt    mean       min qr1    median qr3     max     \n",
       "1 centimeter           398092 169.144787  0  160.02 167.64 175.260 3657.600\n",
       "2 foot (US)            275855   5.096319  0    5.00   5.00   5.000   99.000\n",
       "3 inch (US)                34  68.070294 61   65.00  68.00  70.375   74.016\n",
       "4 inch (international) 370973  34.340232 -2    5.00  11.00  65.000  995.000\n",
       "  sd       \n",
       "1 44.690737\n",
       "2  1.148621\n",
       "3  3.603238\n",
       "4 32.868854"
      ]
     },
     "metadata": {},
     "output_type": "display_data"
    },
    {
     "data": {
      "text/html": [
       "<table class=\"dataframe\">\n",
       "<caption>A tibble: 5 × 9</caption>\n",
       "<thead>\n",
       "\t<tr><th scope=col>ConceptName</th><th scope=col>cnt</th><th scope=col>mean</th><th scope=col>min</th><th scope=col>qr1</th><th scope=col>median</th><th scope=col>qr3</th><th scope=col>max</th><th scope=col>sd</th></tr>\n",
       "\t<tr><th scope=col>&lt;chr&gt;</th><th scope=col>&lt;int&gt;</th><th scope=col>&lt;dbl&gt;</th><th scope=col>&lt;dbl&gt;</th><th scope=col>&lt;dbl&gt;</th><th scope=col>&lt;dbl&gt;</th><th scope=col>&lt;dbl&gt;</th><th scope=col>&lt;dbl&gt;</th><th scope=col>&lt;dbl&gt;</th></tr>\n",
       "</thead>\n",
       "<tbody>\n",
       "\t<tr><td>centimeter            </td><td>  1675</td><td>   2.104669</td><td> 0.000</td><td>   0.000</td><td>   0.500</td><td>   2.500</td><td>  100.0</td><td>  4.995977</td></tr>\n",
       "\t<tr><td>gram                  </td><td>  1641</td><td>1907.457166</td><td> 0.000</td><td>1950.000</td><td>2000.000</td><td>2200.000</td><td> 5500.0</td><td>646.193014</td></tr>\n",
       "\t<tr><td>kilogram              </td><td>594573</td><td>  85.785031</td><td>-5.500</td><td>  67.300</td><td>  81.646</td><td>  99.800</td><td>  986.0</td><td> 30.049980</td></tr>\n",
       "\t<tr><td>ounce (avoirdupois)   </td><td>  1464</td><td>3089.420505</td><td> 0.099</td><td>2525.315</td><td>3025.600</td><td>3598.432</td><td>18894.4</td><td>923.043932</td></tr>\n",
       "\t<tr><td>pound (US and British)</td><td>414615</td><td> 180.822039</td><td> 0.000</td><td> 142.000</td><td> 172.000</td><td> 209.700</td><td> 2173.8</td><td> 59.845118</td></tr>\n",
       "</tbody>\n",
       "</table>\n"
      ],
      "text/latex": [
       "A tibble: 5 × 9\n",
       "\\begin{tabular}{lllllllll}\n",
       " ConceptName & cnt & mean & min & qr1 & median & qr3 & max & sd\\\\\n",
       " <chr> & <int> & <dbl> & <dbl> & <dbl> & <dbl> & <dbl> & <dbl> & <dbl>\\\\\n",
       "\\hline\n",
       "\t centimeter             &   1675 &    2.104669 &  0.000 &    0.000 &    0.500 &    2.500 &   100.0 &   4.995977\\\\\n",
       "\t gram                   &   1641 & 1907.457166 &  0.000 & 1950.000 & 2000.000 & 2200.000 &  5500.0 & 646.193014\\\\\n",
       "\t kilogram               & 594573 &   85.785031 & -5.500 &   67.300 &   81.646 &   99.800 &   986.0 &  30.049980\\\\\n",
       "\t ounce (avoirdupois)    &   1464 & 3089.420505 &  0.099 & 2525.315 & 3025.600 & 3598.432 & 18894.4 & 923.043932\\\\\n",
       "\t pound (US and British) & 414615 &  180.822039 &  0.000 &  142.000 &  172.000 &  209.700 &  2173.8 &  59.845118\\\\\n",
       "\\end{tabular}\n"
      ],
      "text/markdown": [
       "\n",
       "A tibble: 5 × 9\n",
       "\n",
       "| ConceptName &lt;chr&gt; | cnt &lt;int&gt; | mean &lt;dbl&gt; | min &lt;dbl&gt; | qr1 &lt;dbl&gt; | median &lt;dbl&gt; | qr3 &lt;dbl&gt; | max &lt;dbl&gt; | sd &lt;dbl&gt; |\n",
       "|---|---|---|---|---|---|---|---|---|\n",
       "| centimeter             |   1675 |    2.104669 |  0.000 |    0.000 |    0.500 |    2.500 |   100.0 |   4.995977 |\n",
       "| gram                   |   1641 | 1907.457166 |  0.000 | 1950.000 | 2000.000 | 2200.000 |  5500.0 | 646.193014 |\n",
       "| kilogram               | 594573 |   85.785031 | -5.500 |   67.300 |   81.646 |   99.800 |   986.0 |  30.049980 |\n",
       "| ounce (avoirdupois)    |   1464 | 3089.420505 |  0.099 | 2525.315 | 3025.600 | 3598.432 | 18894.4 | 923.043932 |\n",
       "| pound (US and British) | 414615 |  180.822039 |  0.000 |  142.000 |  172.000 |  209.700 |  2173.8 |  59.845118 |\n",
       "\n"
      ],
      "text/plain": [
       "  ConceptName            cnt    mean        min    qr1      median   qr3     \n",
       "1 centimeter               1675    2.104669  0.000    0.000    0.500    2.500\n",
       "2 gram                     1641 1907.457166  0.000 1950.000 2000.000 2200.000\n",
       "3 kilogram               594573   85.785031 -5.500   67.300   81.646   99.800\n",
       "4 ounce (avoirdupois)      1464 3089.420505  0.099 2525.315 3025.600 3598.432\n",
       "5 pound (US and British) 414615  180.822039  0.000  142.000  172.000  209.700\n",
       "  max     sd        \n",
       "1   100.0   4.995977\n",
       "2  5500.0 646.193014\n",
       "3   986.0  30.049980\n",
       "4 18894.4 923.043932\n",
       "5  2173.8  59.845118"
      ]
     },
     "metadata": {},
     "output_type": "display_data"
    },
    {
     "data": {
      "text/html": [
       "<table class=\"dataframe\">\n",
       "<caption>A tibble: 5 × 9</caption>\n",
       "<thead>\n",
       "\t<tr><th scope=col>ConceptName</th><th scope=col>cnt</th><th scope=col>mean</th><th scope=col>min</th><th scope=col>qr1</th><th scope=col>median</th><th scope=col>qr3</th><th scope=col>max</th><th scope=col>sd</th></tr>\n",
       "\t<tr><th scope=col>&lt;chr&gt;</th><th scope=col>&lt;int&gt;</th><th scope=col>&lt;dbl&gt;</th><th scope=col>&lt;dbl&gt;</th><th scope=col>&lt;dbl&gt;</th><th scope=col>&lt;dbl&gt;</th><th scope=col>&lt;dbl&gt;</th><th scope=col>&lt;dbl&gt;</th><th scope=col>&lt;dbl&gt;</th></tr>\n",
       "</thead>\n",
       "<tbody>\n",
       "\t<tr><td>centimeter            </td><td>  109</td><td>   2.174771</td><td>  0.00</td><td>   0</td><td>   1.0</td><td>   3.00</td><td>  15.0</td><td>  2.840095</td></tr>\n",
       "\t<tr><td>gram                  </td><td>   68</td><td>1798.307353</td><td>  2.00</td><td>2000</td><td>2000.0</td><td>2251.25</td><td>3100.0</td><td>894.100759</td></tr>\n",
       "\t<tr><td>kilogram              </td><td>55650</td><td>  88.054171</td><td>-99.30</td><td>  71</td><td>  84.9</td><td> 101.15</td><td> 991.7</td><td> 28.137040</td></tr>\n",
       "\t<tr><td>ounce (avoirdupois)   </td><td>13063</td><td>3309.142134</td><td>176.37</td><td>2704</td><td>3200.0</td><td>3795.20</td><td>9600.0</td><td>829.658305</td></tr>\n",
       "\t<tr><td>pound (US and British)</td><td>15433</td><td> 191.283940</td><td>  0.00</td><td> 155</td><td> 185.4</td><td> 220.70</td><td>2162.8</td><td> 59.685461</td></tr>\n",
       "</tbody>\n",
       "</table>\n"
      ],
      "text/latex": [
       "A tibble: 5 × 9\n",
       "\\begin{tabular}{lllllllll}\n",
       " ConceptName & cnt & mean & min & qr1 & median & qr3 & max & sd\\\\\n",
       " <chr> & <int> & <dbl> & <dbl> & <dbl> & <dbl> & <dbl> & <dbl> & <dbl>\\\\\n",
       "\\hline\n",
       "\t centimeter             &   109 &    2.174771 &   0.00 &    0 &    1.0 &    3.00 &   15.0 &   2.840095\\\\\n",
       "\t gram                   &    68 & 1798.307353 &   2.00 & 2000 & 2000.0 & 2251.25 & 3100.0 & 894.100759\\\\\n",
       "\t kilogram               & 55650 &   88.054171 & -99.30 &   71 &   84.9 &  101.15 &  991.7 &  28.137040\\\\\n",
       "\t ounce (avoirdupois)    & 13063 & 3309.142134 & 176.37 & 2704 & 3200.0 & 3795.20 & 9600.0 & 829.658305\\\\\n",
       "\t pound (US and British) & 15433 &  191.283940 &   0.00 &  155 &  185.4 &  220.70 & 2162.8 &  59.685461\\\\\n",
       "\\end{tabular}\n"
      ],
      "text/markdown": [
       "\n",
       "A tibble: 5 × 9\n",
       "\n",
       "| ConceptName &lt;chr&gt; | cnt &lt;int&gt; | mean &lt;dbl&gt; | min &lt;dbl&gt; | qr1 &lt;dbl&gt; | median &lt;dbl&gt; | qr3 &lt;dbl&gt; | max &lt;dbl&gt; | sd &lt;dbl&gt; |\n",
       "|---|---|---|---|---|---|---|---|---|\n",
       "| centimeter             |   109 |    2.174771 |   0.00 |    0 |    1.0 |    3.00 |   15.0 |   2.840095 |\n",
       "| gram                   |    68 | 1798.307353 |   2.00 | 2000 | 2000.0 | 2251.25 | 3100.0 | 894.100759 |\n",
       "| kilogram               | 55650 |   88.054171 | -99.30 |   71 |   84.9 |  101.15 |  991.7 |  28.137040 |\n",
       "| ounce (avoirdupois)    | 13063 | 3309.142134 | 176.37 | 2704 | 3200.0 | 3795.20 | 9600.0 | 829.658305 |\n",
       "| pound (US and British) | 15433 |  191.283940 |   0.00 |  155 |  185.4 |  220.70 | 2162.8 |  59.685461 |\n",
       "\n"
      ],
      "text/plain": [
       "  ConceptName            cnt   mean        min    qr1  median qr3     max   \n",
       "1 centimeter               109    2.174771   0.00    0    1.0    3.00   15.0\n",
       "2 gram                      68 1798.307353   2.00 2000 2000.0 2251.25 3100.0\n",
       "3 kilogram               55650   88.054171 -99.30   71   84.9  101.15  991.7\n",
       "4 ounce (avoirdupois)    13063 3309.142134 176.37 2704 3200.0 3795.20 9600.0\n",
       "5 pound (US and British) 15433  191.283940   0.00  155  185.4  220.70 2162.8\n",
       "  sd        \n",
       "1   2.840095\n",
       "2 894.100759\n",
       "3  28.137040\n",
       "4 829.658305\n",
       "5  59.685461"
      ]
     },
     "metadata": {},
     "output_type": "display_data"
    },
    {
     "data": {
      "text/html": [
       "<table class=\"dataframe\">\n",
       "<caption>A tibble: 4 × 9</caption>\n",
       "<thead>\n",
       "\t<tr><th scope=col>ConceptName</th><th scope=col>cnt</th><th scope=col>mean</th><th scope=col>min</th><th scope=col>qr1</th><th scope=col>median</th><th scope=col>qr3</th><th scope=col>max</th><th scope=col>sd</th></tr>\n",
       "\t<tr><th scope=col>&lt;chr&gt;</th><th scope=col>&lt;int&gt;</th><th scope=col>&lt;dbl&gt;</th><th scope=col>&lt;dbl&gt;</th><th scope=col>&lt;dbl&gt;</th><th scope=col>&lt;dbl&gt;</th><th scope=col>&lt;dbl&gt;</th><th scope=col>&lt;dbl&gt;</th><th scope=col>&lt;dbl&gt;</th></tr>\n",
       "</thead>\n",
       "<tbody>\n",
       "\t<tr><td>centimeter          </td><td> 88278</td><td>167.700986</td><td> 0.000</td><td>160.02</td><td>166.37</td><td>175.26</td><td>  2658.11</td><td>  47.408299</td></tr>\n",
       "\t<tr><td>foot (US)           </td><td> 56206</td><td>  5.103316</td><td> 0.000</td><td>  5.00</td><td>  5.00</td><td>  5.00</td><td>    71.00</td><td>   1.230119</td></tr>\n",
       "\t<tr><td>inch (US)           </td><td>   554</td><td> 67.014605</td><td>24.114</td><td> 65.00</td><td> 67.00</td><td> 70.00</td><td>    74.00</td><td>   4.214071</td></tr>\n",
       "\t<tr><td>inch (international)</td><td>429402</td><td>128.853548</td><td> 0.000</td><td> 61.00</td><td> 65.00</td><td> 68.50</td><td>300564.00</td><td>4516.234452</td></tr>\n",
       "</tbody>\n",
       "</table>\n"
      ],
      "text/latex": [
       "A tibble: 4 × 9\n",
       "\\begin{tabular}{lllllllll}\n",
       " ConceptName & cnt & mean & min & qr1 & median & qr3 & max & sd\\\\\n",
       " <chr> & <int> & <dbl> & <dbl> & <dbl> & <dbl> & <dbl> & <dbl> & <dbl>\\\\\n",
       "\\hline\n",
       "\t centimeter           &  88278 & 167.700986 &  0.000 & 160.02 & 166.37 & 175.26 &   2658.11 &   47.408299\\\\\n",
       "\t foot (US)            &  56206 &   5.103316 &  0.000 &   5.00 &   5.00 &   5.00 &     71.00 &    1.230119\\\\\n",
       "\t inch (US)            &    554 &  67.014605 & 24.114 &  65.00 &  67.00 &  70.00 &     74.00 &    4.214071\\\\\n",
       "\t inch (international) & 429402 & 128.853548 &  0.000 &  61.00 &  65.00 &  68.50 & 300564.00 & 4516.234452\\\\\n",
       "\\end{tabular}\n"
      ],
      "text/markdown": [
       "\n",
       "A tibble: 4 × 9\n",
       "\n",
       "| ConceptName &lt;chr&gt; | cnt &lt;int&gt; | mean &lt;dbl&gt; | min &lt;dbl&gt; | qr1 &lt;dbl&gt; | median &lt;dbl&gt; | qr3 &lt;dbl&gt; | max &lt;dbl&gt; | sd &lt;dbl&gt; |\n",
       "|---|---|---|---|---|---|---|---|---|\n",
       "| centimeter           |  88278 | 167.700986 |  0.000 | 160.02 | 166.37 | 175.26 |   2658.11 |   47.408299 |\n",
       "| foot (US)            |  56206 |   5.103316 |  0.000 |   5.00 |   5.00 |   5.00 |     71.00 |    1.230119 |\n",
       "| inch (US)            |    554 |  67.014605 | 24.114 |  65.00 |  67.00 |  70.00 |     74.00 |    4.214071 |\n",
       "| inch (international) | 429402 | 128.853548 |  0.000 |  61.00 |  65.00 |  68.50 | 300564.00 | 4516.234452 |\n",
       "\n"
      ],
      "text/plain": [
       "  ConceptName          cnt    mean       min    qr1    median qr3    max      \n",
       "1 centimeter            88278 167.700986  0.000 160.02 166.37 175.26   2658.11\n",
       "2 foot (US)             56206   5.103316  0.000   5.00   5.00   5.00     71.00\n",
       "3 inch (US)               554  67.014605 24.114  65.00  67.00  70.00     74.00\n",
       "4 inch (international) 429402 128.853548  0.000  61.00  65.00  68.50 300564.00\n",
       "  sd         \n",
       "1   47.408299\n",
       "2    1.230119\n",
       "3    4.214071\n",
       "4 4516.234452"
      ]
     },
     "metadata": {},
     "output_type": "display_data"
    }
   ],
   "source": [
    "# distribution of measures\n",
    "# inpatient body height\n",
    "inpatient_bh %>% merge(.,concept,by.x = 'NormalizedValueUOMConceptId', by.y = 'ConceptId') %>%\n",
    "group_by(ConceptName) %>% summarise( cnt = n(),\n",
    "                                    mean = mean(NormalizedValueNumeric),\n",
    "                                    min = min(NormalizedValueNumeric),\n",
    "                                    qr1 = quantile(NormalizedValueNumeric,0.25),\n",
    "                                    median = quantile(NormalizedValueNumeric,0.5),\n",
    "                                    qr3 = quantile(NormalizedValueNumeric,0.75),\n",
    "                                    max = max(NormalizedValueNumeric),\n",
    "                                    sd = sd(NormalizedValueNumeric))\n",
    "\n",
    "# inpatient body weight\n",
    "inpatient_bw %>% merge(.,concept,by.x = 'NormalizedValueUOMConceptId', by.y = 'ConceptId') %>%\n",
    "group_by(ConceptName) %>% summarise( cnt = n(),\n",
    "                                    mean = mean(NormalizedValueNumeric),\n",
    "                                    min = min(NormalizedValueNumeric),\n",
    "                                    qr1 = quantile(NormalizedValueNumeric,0.25),\n",
    "                                    median = quantile(NormalizedValueNumeric,0.5),\n",
    "                                    qr3 = quantile(NormalizedValueNumeric,0.75),\n",
    "                                    max = max(NormalizedValueNumeric),\n",
    "                                    sd = sd(NormalizedValueNumeric))\n",
    "\n",
    "# ambulatory body weight\n",
    "amb_bw %>% merge(.,concept,by.x = 'NormalizedValueUOMConceptId', by.y = 'ConceptId') %>%\n",
    "group_by(ConceptName) %>% summarise( cnt = n(),\n",
    "                                    mean = mean(NormalizedValueNumeric),\n",
    "                                    min = min(NormalizedValueNumeric),\n",
    "                                    qr1 = quantile(NormalizedValueNumeric,0.25),\n",
    "                                    median = quantile(NormalizedValueNumeric,0.5),\n",
    "                                    qr3 = quantile(NormalizedValueNumeric,0.75),\n",
    "                                    max = max(NormalizedValueNumeric),\n",
    "                                    sd = sd(NormalizedValueNumeric))\n",
    "\n",
    "# inpatient body height\n",
    "amb_bh %>% merge(.,concept,by.x = 'NormalizedValueUOMConceptId', by.y = 'ConceptId') %>%\n",
    "group_by(ConceptName) %>% summarise( cnt = n(),\n",
    "                                    mean = mean(NormalizedValueNumeric),\n",
    "                                    min = min(NormalizedValueNumeric),\n",
    "                                    qr1 = quantile(NormalizedValueNumeric,0.25),\n",
    "                                    median = quantile(NormalizedValueNumeric,0.5),\n",
    "                                    qr3 = quantile(NormalizedValueNumeric,0.75),\n",
    "                                    max = max(NormalizedValueNumeric),\n",
    "                                    sd = sd(NormalizedValueNumeric))"
   ]
  },
  {
   "cell_type": "code",
   "execution_count": 8,
   "id": "f83692a4-4587-47f5-b9dc-7bafb8cff2ce",
   "metadata": {
    "execution": {
     "iopub.execute_input": "2023-07-25T19:30:14.631166Z",
     "iopub.status.busy": "2023-07-25T19:30:14.629877Z",
     "iopub.status.idle": "2023-07-25T19:30:54.345657Z",
     "shell.execute_reply": "2023-07-25T19:30:54.344407Z"
    },
    "tags": []
   },
   "outputs": [
    {
     "data": {
      "image/png": "[encoded data removed]",
      "text/plain": [
       "plot without title"
      ]
     },
     "metadata": {
      "image/png": {
       "height": 420,
       "width": 420
      }
     },
     "output_type": "display_data"
    },
    {
     "data": {
      "image/png": "[encoded data removed]",
      "text/plain": [
       "plot without title"
      ]
     },
     "metadata": {
      "image/png": {
       "height": 420,
       "width": 420
      }
     },
     "output_type": "display_data"
    },
    {
     "data": {
      "image/png": "[encoded data removed]",
      "text/plain": [
       "plot without title"
      ]
     },
     "metadata": {
      "image/png": {
       "height": 420,
       "width": 420
      }
     },
     "output_type": "display_data"
    },
    {
     "data": {
      "image/png": "[encoded data removed]",
      "text/plain": [
       "plot without title"
      ]
     },
     "metadata": {
      "image/png": {
       "height": 420,
       "width": 420
      }
     },
     "output_type": "display_data"
    }
   ],
   "source": [
    "# plot histograms for cm and kg values\n",
    "inpatient_bh %>%filter(NormalizedValueNumeric > 0 & NormalizedValueNumeric < 300) %>%\n",
    "merge(.,concept,by.x = 'NormalizedValueUOMConceptId', by.y = 'ConceptId') %>%\n",
    "ggplot(., aes(x = NormalizedValueNumeric, fill=ConceptName)) + geom_histogram(binwidth = 5)+theme_classic()+ ggtitle(\"Inpatient Body Height\")\n",
    "\n",
    "inpatient_bw %>%filter(NormalizedValueNumeric > 0 & NormalizedValueNumeric < 10000) %>%\n",
    "merge(.,concept,by.x = 'NormalizedValueUOMConceptId', by.y = 'ConceptId') %>%\n",
    "ggplot(., aes(x = NormalizedValueNumeric, fill=ConceptName)) + geom_histogram(binwidth = 5)+theme_classic()+ ggtitle(\"Inpatient Body Weight\")\n",
    "\n",
    "#plot historgram for inpatient values\n",
    "amb_bh %>%filter(NormalizedValueNumeric > 0 & NormalizedValueNumeric < 300) %>%\n",
    "merge(.,concept,by.x = 'NormalizedValueUOMConceptId', by.y = 'ConceptId') %>%\n",
    "ggplot(., aes(x = NormalizedValueNumeric, fill=ConceptName)) + geom_histogram(binwidth = 5)+theme_classic()+ ggtitle(\"Ambulatory Body Height\")\n",
    "\n",
    "amb_bw %>%filter(NormalizedValueNumeric > 0 & NormalizedValueNumeric < 10000) %>%\n",
    "merge(.,concept,by.x = 'NormalizedValueUOMConceptId', by.y = 'ConceptId') %>%\n",
    "ggplot(., aes(x = NormalizedValueNumeric, fill=ConceptName)) + geom_histogram(binwidth = 5)+theme_classic()+ ggtitle(\"Ambulatory Body Weight\")"
   ]
  },
  {
   "cell_type": "code",
   "execution_count": 39,
   "id": "c3dd06e0-d513-478c-8535-f446f4b65c3f",
   "metadata": {
    "execution": {
     "iopub.execute_input": "2023-06-20T18:16:36.631222Z",
     "iopub.status.busy": "2023-06-20T18:16:36.630226Z",
     "iopub.status.idle": "2023-06-20T18:16:44.872563Z",
     "shell.execute_reply": "2023-06-20T18:16:44.871453Z"
    },
    "tags": []
   },
   "outputs": [
    {
     "name": "stderr",
     "output_type": "stream",
     "text": [
      "\u001b[1m\u001b[22m`summarise()` has grouped output by 'CodeConceptId'. You can override using the\n",
      "`.groups` argument.\n"
     ]
    }
   ],
   "source": [
    "#exam data availability: null values, categories, counts.\n",
    "#1. null values and units\n",
    "bw_unit <- amb_vital%>% filter(is.na(NormalizedValueNumeric)) %>% \n",
    "group_by(CodeConceptId,NormalizedValueUOMConceptId)%>%\n",
    "summarise( cnt = n())%>%\n",
    "merge(.,concep, by.x = \"NormalizedValueUOMConceptId\", by.y = \"ConceptId\")%>%\n",
    "merge(.,concep,by.x  = 'CodeConceptId', by.y = 'ConceptId')%>%\n",
    "select(CodeConceptId,UnitsId =NormalizedValueUOMConceptId, VitalType = ConceptName.y, UnitName = ConceptName.x, cnt)%>%arrange(CodeConceptId)"
   ]
  },
  {
   "cell_type": "code",
   "execution_count": 40,
   "id": "0426a430-08ed-488c-9a73-58123a934953",
   "metadata": {
    "execution": {
     "iopub.execute_input": "2023-06-20T18:16:52.144126Z",
     "iopub.status.busy": "2023-06-20T18:16:52.142991Z",
     "iopub.status.idle": "2023-06-20T18:16:52.159203Z",
     "shell.execute_reply": "2023-06-20T18:16:52.158291Z"
    }
   },
   "outputs": [
    {
     "data": {
      "text/html": [
       "<table class=\"dataframe\">\n",
       "<caption>A data.frame: 17 × 5</caption>\n",
       "<thead>\n",
       "\t<tr><th scope=col>CodeConceptId</th><th scope=col>UnitsId</th><th scope=col>VitalType</th><th scope=col>UnitName</th><th scope=col>cnt</th></tr>\n",
       "\t<tr><th scope=col>&lt;int&gt;</th><th scope=col>&lt;int&gt;</th><th scope=col>&lt;chr&gt;</th><th scope=col>&lt;chr&gt;</th><th scope=col>&lt;int&gt;</th></tr>\n",
       "</thead>\n",
       "<tbody>\n",
       "\t<tr><td>773683</td><td>      0</td><td>Body weight Measured</td><td>Field has not been mapped     </td><td>      3</td></tr>\n",
       "\t<tr><td>773683</td><td>1190347</td><td>Body weight Measured</td><td>ounce (avoirdupois)           </td><td>5087003</td></tr>\n",
       "\t<tr><td>773683</td><td>1067561</td><td>Body weight Measured</td><td>No Information                </td><td>  65218</td></tr>\n",
       "\t<tr><td>773683</td><td>1067557</td><td>Body weight Measured</td><td>Field is not present in source</td><td>    674</td></tr>\n",
       "\t<tr><td>773683</td><td>1207160</td><td>Body weight Measured</td><td>pound (US and British)        </td><td>      3</td></tr>\n",
       "\t<tr><td>773683</td><td>1190497</td><td>Body weight Measured</td><td>kilogram                      </td><td>      1</td></tr>\n",
       "\t<tr><td>779602</td><td>      0</td><td>Body height         </td><td>Field has not been mapped     </td><td>     84</td></tr>\n",
       "\t<tr><td>779602</td><td>1067561</td><td>Body height         </td><td>No Information                </td><td>  25632</td></tr>\n",
       "\t<tr><td>779602</td><td>1067557</td><td>Body height         </td><td>Field is not present in source</td><td>    388</td></tr>\n",
       "\t<tr><td>779602</td><td>1190010</td><td>Body height         </td><td>centimeter                    </td><td>      1</td></tr>\n",
       "\t<tr><td>779602</td><td>1190307</td><td>Body height         </td><td>inch (international)          </td><td> 923760</td></tr>\n",
       "\t<tr><td>779602</td><td>1190310</td><td>Body height         </td><td>inch (US)                     </td><td>      6</td></tr>\n",
       "\t<tr><td>800318</td><td>1067557</td><td>Body weight         </td><td>Field is not present in source</td><td>  96609</td></tr>\n",
       "\t<tr><td>800318</td><td>1189977</td><td>Body weight         </td><td>gram                          </td><td>      1</td></tr>\n",
       "\t<tr><td>800318</td><td>      0</td><td>Body weight         </td><td>Field has not been mapped     </td><td>    137</td></tr>\n",
       "\t<tr><td>800318</td><td>1190497</td><td>Body weight         </td><td>kilogram                      </td><td>      9</td></tr>\n",
       "\t<tr><td>800318</td><td>1067561</td><td>Body weight         </td><td>No Information                </td><td> 125163</td></tr>\n",
       "</tbody>\n",
       "</table>\n"
      ],
      "text/latex": [
       "A data.frame: 17 × 5\n",
       "\\begin{tabular}{lllll}\n",
       " CodeConceptId & UnitsId & VitalType & UnitName & cnt\\\\\n",
       " <int> & <int> & <chr> & <chr> & <int>\\\\\n",
       "\\hline\n",
       "\t 773683 &       0 & Body weight Measured & Field has not been mapped      &       3\\\\\n",
       "\t 773683 & 1190347 & Body weight Measured & ounce (avoirdupois)            & 5087003\\\\\n",
       "\t 773683 & 1067561 & Body weight Measured & No Information                 &   65218\\\\\n",
       "\t 773683 & 1067557 & Body weight Measured & Field is not present in source &     674\\\\\n",
       "\t 773683 & 1207160 & Body weight Measured & pound (US and British)         &       3\\\\\n",
       "\t 773683 & 1190497 & Body weight Measured & kilogram                       &       1\\\\\n",
       "\t 779602 &       0 & Body height          & Field has not been mapped      &      84\\\\\n",
       "\t 779602 & 1067561 & Body height          & No Information                 &   25632\\\\\n",
       "\t 779602 & 1067557 & Body height          & Field is not present in source &     388\\\\\n",
       "\t 779602 & 1190010 & Body height          & centimeter                     &       1\\\\\n",
       "\t 779602 & 1190307 & Body height          & inch (international)           &  923760\\\\\n",
       "\t 779602 & 1190310 & Body height          & inch (US)                      &       6\\\\\n",
       "\t 800318 & 1067557 & Body weight          & Field is not present in source &   96609\\\\\n",
       "\t 800318 & 1189977 & Body weight          & gram                           &       1\\\\\n",
       "\t 800318 &       0 & Body weight          & Field has not been mapped      &     137\\\\\n",
       "\t 800318 & 1190497 & Body weight          & kilogram                       &       9\\\\\n",
       "\t 800318 & 1067561 & Body weight          & No Information                 &  125163\\\\\n",
       "\\end{tabular}\n"
      ],
      "text/markdown": [
       "\n",
       "A data.frame: 17 × 5\n",
       "\n",
       "| CodeConceptId &lt;int&gt; | UnitsId &lt;int&gt; | VitalType &lt;chr&gt; | UnitName &lt;chr&gt; | cnt &lt;int&gt; |\n",
       "|---|---|---|---|---|\n",
       "| 773683 |       0 | Body weight Measured | Field has not been mapped      |       3 |\n",
       "| 773683 | 1190347 | Body weight Measured | ounce (avoirdupois)            | 5087003 |\n",
       "| 773683 | 1067561 | Body weight Measured | No Information                 |   65218 |\n",
       "| 773683 | 1067557 | Body weight Measured | Field is not present in source |     674 |\n",
       "| 773683 | 1207160 | Body weight Measured | pound (US and British)         |       3 |\n",
       "| 773683 | 1190497 | Body weight Measured | kilogram                       |       1 |\n",
       "| 779602 |       0 | Body height          | Field has not been mapped      |      84 |\n",
       "| 779602 | 1067561 | Body height          | No Information                 |   25632 |\n",
       "| 779602 | 1067557 | Body height          | Field is not present in source |     388 |\n",
       "| 779602 | 1190010 | Body height          | centimeter                     |       1 |\n",
       "| 779602 | 1190307 | Body height          | inch (international)           |  923760 |\n",
       "| 779602 | 1190310 | Body height          | inch (US)                      |       6 |\n",
       "| 800318 | 1067557 | Body weight          | Field is not present in source |   96609 |\n",
       "| 800318 | 1189977 | Body weight          | gram                           |       1 |\n",
       "| 800318 |       0 | Body weight          | Field has not been mapped      |     137 |\n",
       "| 800318 | 1190497 | Body weight          | kilogram                       |       9 |\n",
       "| 800318 | 1067561 | Body weight          | No Information                 |  125163 |\n",
       "\n"
      ],
      "text/plain": [
       "   CodeConceptId UnitsId VitalType            UnitName                      \n",
       "1  773683              0 Body weight Measured Field has not been mapped     \n",
       "2  773683        1190347 Body weight Measured ounce (avoirdupois)           \n",
       "3  773683        1067561 Body weight Measured No Information                \n",
       "4  773683        1067557 Body weight Measured Field is not present in source\n",
       "5  773683        1207160 Body weight Measured pound (US and British)        \n",
       "6  773683        1190497 Body weight Measured kilogram                      \n",
       "7  779602              0 Body height          Field has not been mapped     \n",
       "8  779602        1067561 Body height          No Information                \n",
       "9  779602        1067557 Body height          Field is not present in source\n",
       "10 779602        1190010 Body height          centimeter                    \n",
       "11 779602        1190307 Body height          inch (international)          \n",
       "12 779602        1190310 Body height          inch (US)                     \n",
       "13 800318        1067557 Body weight          Field is not present in source\n",
       "14 800318        1189977 Body weight          gram                          \n",
       "15 800318              0 Body weight          Field has not been mapped     \n",
       "16 800318        1190497 Body weight          kilogram                      \n",
       "17 800318        1067561 Body weight          No Information                \n",
       "   cnt    \n",
       "1        3\n",
       "2  5087003\n",
       "3    65218\n",
       "4      674\n",
       "5        3\n",
       "6        1\n",
       "7       84\n",
       "8    25632\n",
       "9      388\n",
       "10       1\n",
       "11  923760\n",
       "12       6\n",
       "13   96609\n",
       "14       1\n",
       "15     137\n",
       "16       9\n",
       "17  125163"
      ]
     },
     "metadata": {},
     "output_type": "display_data"
    }
   ],
   "source": [
    "bw_unit"
   ]
  },
  {
   "cell_type": "code",
   "execution_count": 41,
   "id": "596cc634-f2d5-4c53-ba3d-17dc41ade032",
   "metadata": {
    "execution": {
     "iopub.execute_input": "2023-06-20T18:20:01.726421Z",
     "iopub.status.busy": "2023-06-20T18:20:01.725346Z",
     "iopub.status.idle": "2023-06-20T18:20:02.672270Z",
     "shell.execute_reply": "2023-06-20T18:20:02.671291Z"
    }
   },
   "outputs": [
    {
     "name": "stderr",
     "output_type": "stream",
     "text": [
      "\u001b[1m\u001b[22m`summarise()` has grouped output by 'CodeConceptId'. You can override using the\n",
      "`.groups` argument.\n"
     ]
    },
    {
     "data": {
      "text/html": [
       "<table class=\"dataframe\">\n",
       "<caption>A data.frame: 20 × 5</caption>\n",
       "<thead>\n",
       "\t<tr><th scope=col>CodeConceptId</th><th scope=col>UnitsId</th><th scope=col>VitalType</th><th scope=col>UnitName</th><th scope=col>cnt</th></tr>\n",
       "\t<tr><th scope=col>&lt;int&gt;</th><th scope=col>&lt;int&gt;</th><th scope=col>&lt;chr&gt;</th><th scope=col>&lt;chr&gt;</th><th scope=col>&lt;int&gt;</th></tr>\n",
       "</thead>\n",
       "<tbody>\n",
       "\t<tr><td>773683</td><td>      0</td><td>Body weight Measured</td><td>Field has not been mapped     </td><td>  22206</td></tr>\n",
       "\t<tr><td>773683</td><td>1190497</td><td>Body weight Measured</td><td>kilogram                      </td><td> 111782</td></tr>\n",
       "\t<tr><td>773683</td><td>1189977</td><td>Body weight Measured</td><td>gram                          </td><td>      5</td></tr>\n",
       "\t<tr><td>773683</td><td>1067557</td><td>Body weight Measured</td><td>Field is not present in source</td><td> 208062</td></tr>\n",
       "\t<tr><td>773683</td><td>1190347</td><td>Body weight Measured</td><td>ounce (avoirdupois)           </td><td>6225486</td></tr>\n",
       "\t<tr><td>773683</td><td>1067561</td><td>Body weight Measured</td><td>No Information                </td><td>5734025</td></tr>\n",
       "\t<tr><td>773683</td><td>1207160</td><td>Body weight Measured</td><td>pound (US and British)        </td><td> 432527</td></tr>\n",
       "\t<tr><td>779602</td><td>      0</td><td>Body height         </td><td>Field has not been mapped     </td><td>  50043</td></tr>\n",
       "\t<tr><td>779602</td><td>1067561</td><td>Body height         </td><td>No Information                </td><td>9500759</td></tr>\n",
       "\t<tr><td>779602</td><td>1190010</td><td>Body height         </td><td>centimeter                    </td><td>  88524</td></tr>\n",
       "\t<tr><td>779602</td><td>1067557</td><td>Body height         </td><td>Field is not present in source</td><td> 154055</td></tr>\n",
       "\t<tr><td>779602</td><td>1190288</td><td>Body height         </td><td>foot (US)                     </td><td>  57219</td></tr>\n",
       "\t<tr><td>779602</td><td>1190307</td><td>Body height         </td><td>inch (international)          </td><td>2190721</td></tr>\n",
       "\t<tr><td>779602</td><td>1190310</td><td>Body height         </td><td>inch (US)                     </td><td>   7165</td></tr>\n",
       "\t<tr><td>800318</td><td>      0</td><td>Body weight         </td><td>Field has not been mapped     </td><td>  36023</td></tr>\n",
       "\t<tr><td>800318</td><td>1190497</td><td>Body weight         </td><td>kilogram                      </td><td>  32279</td></tr>\n",
       "\t<tr><td>800318</td><td>1067561</td><td>Body weight         </td><td>No Information                </td><td>2561752</td></tr>\n",
       "\t<tr><td>800318</td><td>1067557</td><td>Body weight         </td><td>Field is not present in source</td><td> 100301</td></tr>\n",
       "\t<tr><td>800318</td><td>1190010</td><td>Body weight         </td><td>centimeter                    </td><td>    103</td></tr>\n",
       "\t<tr><td>800318</td><td>1189977</td><td>Body weight         </td><td>gram                          </td><td>     64</td></tr>\n",
       "</tbody>\n",
       "</table>\n"
      ],
      "text/latex": [
       "A data.frame: 20 × 5\n",
       "\\begin{tabular}{lllll}\n",
       " CodeConceptId & UnitsId & VitalType & UnitName & cnt\\\\\n",
       " <int> & <int> & <chr> & <chr> & <int>\\\\\n",
       "\\hline\n",
       "\t 773683 &       0 & Body weight Measured & Field has not been mapped      &   22206\\\\\n",
       "\t 773683 & 1190497 & Body weight Measured & kilogram                       &  111782\\\\\n",
       "\t 773683 & 1189977 & Body weight Measured & gram                           &       5\\\\\n",
       "\t 773683 & 1067557 & Body weight Measured & Field is not present in source &  208062\\\\\n",
       "\t 773683 & 1190347 & Body weight Measured & ounce (avoirdupois)            & 6225486\\\\\n",
       "\t 773683 & 1067561 & Body weight Measured & No Information                 & 5734025\\\\\n",
       "\t 773683 & 1207160 & Body weight Measured & pound (US and British)         &  432527\\\\\n",
       "\t 779602 &       0 & Body height          & Field has not been mapped      &   50043\\\\\n",
       "\t 779602 & 1067561 & Body height          & No Information                 & 9500759\\\\\n",
       "\t 779602 & 1190010 & Body height          & centimeter                     &   88524\\\\\n",
       "\t 779602 & 1067557 & Body height          & Field is not present in source &  154055\\\\\n",
       "\t 779602 & 1190288 & Body height          & foot (US)                      &   57219\\\\\n",
       "\t 779602 & 1190307 & Body height          & inch (international)           & 2190721\\\\\n",
       "\t 779602 & 1190310 & Body height          & inch (US)                      &    7165\\\\\n",
       "\t 800318 &       0 & Body weight          & Field has not been mapped      &   36023\\\\\n",
       "\t 800318 & 1190497 & Body weight          & kilogram                       &   32279\\\\\n",
       "\t 800318 & 1067561 & Body weight          & No Information                 & 2561752\\\\\n",
       "\t 800318 & 1067557 & Body weight          & Field is not present in source &  100301\\\\\n",
       "\t 800318 & 1190010 & Body weight          & centimeter                     &     103\\\\\n",
       "\t 800318 & 1189977 & Body weight          & gram                           &      64\\\\\n",
       "\\end{tabular}\n"
      ],
      "text/markdown": [
       "\n",
       "A data.frame: 20 × 5\n",
       "\n",
       "| CodeConceptId &lt;int&gt; | UnitsId &lt;int&gt; | VitalType &lt;chr&gt; | UnitName &lt;chr&gt; | cnt &lt;int&gt; |\n",
       "|---|---|---|---|---|\n",
       "| 773683 |       0 | Body weight Measured | Field has not been mapped      |   22206 |\n",
       "| 773683 | 1190497 | Body weight Measured | kilogram                       |  111782 |\n",
       "| 773683 | 1189977 | Body weight Measured | gram                           |       5 |\n",
       "| 773683 | 1067557 | Body weight Measured | Field is not present in source |  208062 |\n",
       "| 773683 | 1190347 | Body weight Measured | ounce (avoirdupois)            | 6225486 |\n",
       "| 773683 | 1067561 | Body weight Measured | No Information                 | 5734025 |\n",
       "| 773683 | 1207160 | Body weight Measured | pound (US and British)         |  432527 |\n",
       "| 779602 |       0 | Body height          | Field has not been mapped      |   50043 |\n",
       "| 779602 | 1067561 | Body height          | No Information                 | 9500759 |\n",
       "| 779602 | 1190010 | Body height          | centimeter                     |   88524 |\n",
       "| 779602 | 1067557 | Body height          | Field is not present in source |  154055 |\n",
       "| 779602 | 1190288 | Body height          | foot (US)                      |   57219 |\n",
       "| 779602 | 1190307 | Body height          | inch (international)           | 2190721 |\n",
       "| 779602 | 1190310 | Body height          | inch (US)                      |    7165 |\n",
       "| 800318 |       0 | Body weight          | Field has not been mapped      |   36023 |\n",
       "| 800318 | 1190497 | Body weight          | kilogram                       |   32279 |\n",
       "| 800318 | 1067561 | Body weight          | No Information                 | 2561752 |\n",
       "| 800318 | 1067557 | Body weight          | Field is not present in source |  100301 |\n",
       "| 800318 | 1190010 | Body weight          | centimeter                     |     103 |\n",
       "| 800318 | 1189977 | Body weight          | gram                           |      64 |\n",
       "\n"
      ],
      "text/plain": [
       "   CodeConceptId UnitsId VitalType            UnitName                      \n",
       "1  773683              0 Body weight Measured Field has not been mapped     \n",
       "2  773683        1190497 Body weight Measured kilogram                      \n",
       "3  773683        1189977 Body weight Measured gram                          \n",
       "4  773683        1067557 Body weight Measured Field is not present in source\n",
       "5  773683        1190347 Body weight Measured ounce (avoirdupois)           \n",
       "6  773683        1067561 Body weight Measured No Information                \n",
       "7  773683        1207160 Body weight Measured pound (US and British)        \n",
       "8  779602              0 Body height          Field has not been mapped     \n",
       "9  779602        1067561 Body height          No Information                \n",
       "10 779602        1190010 Body height          centimeter                    \n",
       "11 779602        1067557 Body height          Field is not present in source\n",
       "12 779602        1190288 Body height          foot (US)                     \n",
       "13 779602        1190307 Body height          inch (international)          \n",
       "14 779602        1190310 Body height          inch (US)                     \n",
       "15 800318              0 Body weight          Field has not been mapped     \n",
       "16 800318        1190497 Body weight          kilogram                      \n",
       "17 800318        1067561 Body weight          No Information                \n",
       "18 800318        1067557 Body weight          Field is not present in source\n",
       "19 800318        1190010 Body weight          centimeter                    \n",
       "20 800318        1189977 Body weight          gram                          \n",
       "   cnt    \n",
       "1    22206\n",
       "2   111782\n",
       "3        5\n",
       "4   208062\n",
       "5  6225486\n",
       "6  5734025\n",
       "7   432527\n",
       "8    50043\n",
       "9  9500759\n",
       "10   88524\n",
       "11  154055\n",
       "12   57219\n",
       "13 2190721\n",
       "14    7165\n",
       "15   36023\n",
       "16   32279\n",
       "17 2561752\n",
       "18  100301\n",
       "19     103\n",
       "20      64"
      ]
     },
     "metadata": {},
     "output_type": "display_data"
    }
   ],
   "source": [
    "# total counts \n",
    "amb_vital%>%\n",
    "group_by(CodeConceptId,NormalizedValueUOMConceptId)%>%\n",
    "summarise( cnt = n())%>%\n",
    "merge(.,concep, by.x = \"NormalizedValueUOMConceptId\", by.y = \"ConceptId\")%>%\n",
    "merge(.,concep,by.x  = 'CodeConceptId', by.y = 'ConceptId')%>%\n",
    "select(CodeConceptId,UnitsId =NormalizedValueUOMConceptId, VitalType = ConceptName.y, UnitName = ConceptName.x, cnt)%>%arrange(CodeConceptId)"
   ]
  },
  {
   "cell_type": "code",
   "execution_count": 31,
   "id": "66ea49fd-8bd3-4e1a-9da2-da5520e1e3b6",
   "metadata": {
    "execution": {
     "iopub.execute_input": "2023-06-22T15:25:44.240956Z",
     "iopub.status.busy": "2023-06-22T15:25:44.239863Z",
     "iopub.status.idle": "2023-06-22T15:26:00.182196Z",
     "shell.execute_reply": "2023-06-22T15:26:00.181134Z"
    },
    "tags": []
   },
   "outputs": [
    {
     "data": {
      "text/html": [
       "<table class=\"dataframe\">\n",
       "<caption>A tibble: 1 × 2</caption>\n",
       "<thead>\n",
       "\t<tr><th scope=col>unique_patient</th><th scope=col>unique_record</th></tr>\n",
       "\t<tr><th scope=col>&lt;int&gt;</th><th scope=col>&lt;int&gt;</th></tr>\n",
       "</thead>\n",
       "<tbody>\n",
       "\t<tr><td>106931</td><td>1715126</td></tr>\n",
       "</tbody>\n",
       "</table>\n"
      ],
      "text/latex": [
       "A tibble: 1 × 2\n",
       "\\begin{tabular}{ll}\n",
       " unique\\_patient & unique\\_record\\\\\n",
       " <int> & <int>\\\\\n",
       "\\hline\n",
       "\t 106931 & 1715126\\\\\n",
       "\\end{tabular}\n"
      ],
      "text/markdown": [
       "\n",
       "A tibble: 1 × 2\n",
       "\n",
       "| unique_patient &lt;int&gt; | unique_record &lt;int&gt; |\n",
       "|---|---|\n",
       "| 106931 | 1715126 |\n",
       "\n"
      ],
      "text/plain": [
       "  unique_patient unique_record\n",
       "1 106931         1715126      "
      ]
     },
     "metadata": {},
     "output_type": "display_data"
    },
    {
     "data": {
      "text/html": [
       "<table class=\"dataframe\">\n",
       "<caption>A tibble: 1 × 2</caption>\n",
       "<thead>\n",
       "\t<tr><th scope=col>unique_patient</th><th scope=col>unique_record</th></tr>\n",
       "\t<tr><th scope=col>&lt;int&gt;</th><th scope=col>&lt;int&gt;</th></tr>\n",
       "</thead>\n",
       "<tbody>\n",
       "\t<tr><td>104901</td><td>1419862</td></tr>\n",
       "</tbody>\n",
       "</table>\n"
      ],
      "text/latex": [
       "A tibble: 1 × 2\n",
       "\\begin{tabular}{ll}\n",
       " unique\\_patient & unique\\_record\\\\\n",
       " <int> & <int>\\\\\n",
       "\\hline\n",
       "\t 104901 & 1419862\\\\\n",
       "\\end{tabular}\n"
      ],
      "text/markdown": [
       "\n",
       "A tibble: 1 × 2\n",
       "\n",
       "| unique_patient &lt;int&gt; | unique_record &lt;int&gt; |\n",
       "|---|---|\n",
       "| 104901 | 1419862 |\n",
       "\n"
      ],
      "text/plain": [
       "  unique_patient unique_record\n",
       "1 104901         1419862      "
      ]
     },
     "metadata": {},
     "output_type": "display_data"
    }
   ],
   "source": [
    "#get non-null values for body weight and height respectively\n",
    "\n",
    "# body weight \n",
    "weight_units <- c(1189977,1190497,1207160,1190347)\n",
    "amb_vital%>%filter(!is.na(NormalizedValueNumeric), CodeConceptId %in% c(800318,773683))%>%filter(NormalizedValueUOMConceptId %in% weight_units)%>%\n",
    "summarise(unique_patient = n_distinct(PersonId), unique_record = n_distinct(Id))\n",
    "\n",
    "\n",
    "# body height\n",
    "height_units <- c(1190010,1190288,1190307,1190310)\n",
    "amb_vital%>%filter(!is.na(NormalizedValueNumeric), CodeConceptId %in% c(779602))%>%filter(NormalizedValueUOMConceptId %in% height_units)%>%\n",
    "summarise(unique_patient = n_distinct(PersonId), unique_record = n_distinct(Id))\n"
   ]
  },
  {
   "cell_type": "code",
   "execution_count": 54,
   "id": "11f26085-0451-4318-a899-c4f8316d3d66",
   "metadata": {
    "execution": {
     "iopub.execute_input": "2023-06-22T16:22:19.706130Z",
     "iopub.status.busy": "2023-06-22T16:22:19.704407Z",
     "iopub.status.idle": "2023-06-22T16:22:37.364479Z",
     "shell.execute_reply": "2023-06-22T16:22:37.362656Z"
    }
   },
   "outputs": [],
   "source": [
    "bw <- amb_vital%>%filter(!is.na(NormalizedValueNumeric), CodeConceptId %in% c(800318,773683))%>%filter(NormalizedValueUOMConceptId %in% weight_units)\n",
    "\n",
    "bh <- amb_vital%>%filter(!is.na(NormalizedValueNumeric), CodeConceptId %in% c(779602))%>%filter(NormalizedValueUOMConceptId %in% height_units)"
   ]
  },
  {
   "cell_type": "code",
   "execution_count": 59,
   "id": "3eebbd1d-910b-4a20-a966-cb26d605d837",
   "metadata": {
    "execution": {
     "iopub.execute_input": "2023-06-22T16:40:18.749407Z",
     "iopub.status.busy": "2023-06-22T16:40:18.748374Z",
     "iopub.status.idle": "2023-06-22T16:40:19.827674Z",
     "shell.execute_reply": "2023-06-22T16:40:19.826577Z"
    },
    "tags": []
   },
   "outputs": [
    {
     "data": {
      "text/html": [
       "<table class=\"dataframe\">\n",
       "<caption>A tibble: 6 × 5</caption>\n",
       "<thead>\n",
       "\t<tr><th scope=col>AbsoluteEffectiveDateTime</th><th scope=col>RecordedDateTime</th><th scope=col>ResultsTruncated</th><th scope=col>Id</th><th scope=col>PersonId</th></tr>\n",
       "\t<tr><th scope=col>&lt;chr&gt;</th><th scope=col>&lt;dttm&gt;</th><th scope=col>&lt;lgl&gt;</th><th scope=col>&lt;int64&gt;</th><th scope=col>&lt;chr&gt;</th></tr>\n",
       "</thead>\n",
       "<tbody>\n",
       "\t<tr><td>2019-05</td><td>2018-01-05 00:00:00</td><td>FALSE</td><td>4215590831056887621</td><td>aaaa8888-1d8b-13ea-9478-5d4a91f3b2e2</td></tr>\n",
       "\t<tr><td>2019-07</td><td>2018-03-02 00:00:00</td><td>FALSE</td><td> 652398242750907759</td><td>aaaa8888-1d8b-13ea-9478-5d4a91f3b2e2</td></tr>\n",
       "\t<tr><td>2019-01</td><td>2017-05-14 00:00:00</td><td>FALSE</td><td>4215590831056887621</td><td>c9a3b685-bdad-02f0-8ea5-a3a414d57bf1</td></tr>\n",
       "\t<tr><td>2019-07</td><td>2017-10-30 00:00:00</td><td>FALSE</td><td> 652398242750907759</td><td>c9a3b685-bdad-02f0-8ea5-a3a414d57bf1</td></tr>\n",
       "\t<tr><td>2019-07</td><td>2017-11-20 00:00:00</td><td>FALSE</td><td>1312270624178065363</td><td>c9a3b685-bdad-02f0-8ea5-a3a414d57bf1</td></tr>\n",
       "\t<tr><td>2019-07</td><td>2017-11-24 04:19:00</td><td>FALSE</td><td>6698346428589469568</td><td>c9a3b685-bdad-02f0-8ea5-a3a414d57bf1</td></tr>\n",
       "</tbody>\n",
       "</table>\n"
      ],
      "text/latex": [
       "A tibble: 6 × 5\n",
       "\\begin{tabular}{lllll}\n",
       " AbsoluteEffectiveDateTime & RecordedDateTime & ResultsTruncated & Id & PersonId\\\\\n",
       " <chr> & <dttm> & <lgl> & <int64> & <chr>\\\\\n",
       "\\hline\n",
       "\t 2019-05 & 2018-01-05 00:00:00 & FALSE & 4215590831056887621 & aaaa8888-1d8b-13ea-9478-5d4a91f3b2e2\\\\\n",
       "\t 2019-07 & 2018-03-02 00:00:00 & FALSE &  652398242750907759 & aaaa8888-1d8b-13ea-9478-5d4a91f3b2e2\\\\\n",
       "\t 2019-01 & 2017-05-14 00:00:00 & FALSE & 4215590831056887621 & c9a3b685-bdad-02f0-8ea5-a3a414d57bf1\\\\\n",
       "\t 2019-07 & 2017-10-30 00:00:00 & FALSE &  652398242750907759 & c9a3b685-bdad-02f0-8ea5-a3a414d57bf1\\\\\n",
       "\t 2019-07 & 2017-11-20 00:00:00 & FALSE & 1312270624178065363 & c9a3b685-bdad-02f0-8ea5-a3a414d57bf1\\\\\n",
       "\t 2019-07 & 2017-11-24 04:19:00 & FALSE & 6698346428589469568 & c9a3b685-bdad-02f0-8ea5-a3a414d57bf1\\\\\n",
       "\\end{tabular}\n"
      ],
      "text/markdown": [
       "\n",
       "A tibble: 6 × 5\n",
       "\n",
       "| AbsoluteEffectiveDateTime &lt;chr&gt; | RecordedDateTime &lt;dttm&gt; | ResultsTruncated &lt;lgl&gt; | Id &lt;int64&gt; | PersonId &lt;chr&gt; |\n",
       "|---|---|---|---|---|\n",
       "| 2019-05 | 2018-01-05 00:00:00 | FALSE | 4215590831056887621 | aaaa8888-1d8b-13ea-9478-5d4a91f3b2e2 |\n",
       "| 2019-07 | 2018-03-02 00:00:00 | FALSE |  652398242750907759 | aaaa8888-1d8b-13ea-9478-5d4a91f3b2e2 |\n",
       "| 2019-01 | 2017-05-14 00:00:00 | FALSE | 4215590831056887621 | c9a3b685-bdad-02f0-8ea5-a3a414d57bf1 |\n",
       "| 2019-07 | 2017-10-30 00:00:00 | FALSE |  652398242750907759 | c9a3b685-bdad-02f0-8ea5-a3a414d57bf1 |\n",
       "| 2019-07 | 2017-11-20 00:00:00 | FALSE | 1312270624178065363 | c9a3b685-bdad-02f0-8ea5-a3a414d57bf1 |\n",
       "| 2019-07 | 2017-11-24 04:19:00 | FALSE | 6698346428589469568 | c9a3b685-bdad-02f0-8ea5-a3a414d57bf1 |\n",
       "\n"
      ],
      "text/plain": [
       "  AbsoluteEffectiveDateTime RecordedDateTime    ResultsTruncated\n",
       "1 2019-05                   2018-01-05 00:00:00 FALSE           \n",
       "2 2019-07                   2018-03-02 00:00:00 FALSE           \n",
       "3 2019-01                   2017-05-14 00:00:00 FALSE           \n",
       "4 2019-07                   2017-10-30 00:00:00 FALSE           \n",
       "5 2019-07                   2017-11-20 00:00:00 FALSE           \n",
       "6 2019-07                   2017-11-24 04:19:00 FALSE           \n",
       "  Id                  PersonId                            \n",
       "1 4215590831056887621 aaaa8888-1d8b-13ea-9478-5d4a91f3b2e2\n",
       "2  652398242750907759 aaaa8888-1d8b-13ea-9478-5d4a91f3b2e2\n",
       "3 4215590831056887621 c9a3b685-bdad-02f0-8ea5-a3a414d57bf1\n",
       "4  652398242750907759 c9a3b685-bdad-02f0-8ea5-a3a414d57bf1\n",
       "5 1312270624178065363 c9a3b685-bdad-02f0-8ea5-a3a414d57bf1\n",
       "6 6698346428589469568 c9a3b685-bdad-02f0-8ea5-a3a414d57bf1"
      ]
     },
     "metadata": {},
     "output_type": "display_data"
    }
   ],
   "source": [
    "# unique patient counts by year\n",
    "# get shifted time first\n",
    "shifted_time = read_parquet(\"data/absolute_date_time.parquet\")\n",
    "head(shifted_time)"
   ]
  },
  {
   "cell_type": "code",
   "execution_count": 61,
   "id": "68392c0d-9255-4ba9-8f6d-792252f71a3b",
   "metadata": {
    "execution": {
     "iopub.execute_input": "2023-06-22T16:49:12.898879Z",
     "iopub.status.busy": "2023-06-22T16:49:12.897920Z",
     "iopub.status.idle": "2023-06-22T16:49:13.421781Z",
     "shell.execute_reply": "2023-06-22T16:49:13.420740Z"
    },
    "tags": []
   },
   "outputs": [
    {
     "data": {
      "text/html": [
       "<table class=\"dataframe\">\n",
       "<caption>A tibble: 24 × 3</caption>\n",
       "<thead>\n",
       "\t<tr><th scope=col>year</th><th scope=col>unique_patient</th><th scope=col>unique_record</th></tr>\n",
       "\t<tr><th scope=col>&lt;chr&gt;</th><th scope=col>&lt;int&gt;</th><th scope=col>&lt;int&gt;</th></tr>\n",
       "</thead>\n",
       "<tbody>\n",
       "\t<tr><td>2022</td><td> 8751</td><td> 17568</td></tr>\n",
       "\t<tr><td>2021</td><td>43529</td><td>170895</td></tr>\n",
       "\t<tr><td>2020</td><td>47698</td><td>207195</td></tr>\n",
       "\t<tr><td>2019</td><td>49333</td><td>200441</td></tr>\n",
       "\t<tr><td>2018</td><td>62529</td><td>263073</td></tr>\n",
       "\t<tr><td>2017</td><td>63552</td><td>292502</td></tr>\n",
       "\t<tr><td>2016</td><td>49615</td><td>224477</td></tr>\n",
       "\t<tr><td>2015</td><td>38897</td><td>167734</td></tr>\n",
       "\t<tr><td>2014</td><td>24759</td><td> 75743</td></tr>\n",
       "\t<tr><td>2013</td><td>  164</td><td>   604</td></tr>\n",
       "\t<tr><td>2012</td><td>  138</td><td>   522</td></tr>\n",
       "\t<tr><td>2011</td><td>   98</td><td>   339</td></tr>\n",
       "\t<tr><td>2010</td><td>   36</td><td>   151</td></tr>\n",
       "\t<tr><td>2009</td><td>   12</td><td>    41</td></tr>\n",
       "\t<tr><td>2008</td><td>   10</td><td>    21</td></tr>\n",
       "\t<tr><td>2007</td><td>    7</td><td>    23</td></tr>\n",
       "\t<tr><td>2006</td><td>    9</td><td>    22</td></tr>\n",
       "\t<tr><td>2005</td><td>    7</td><td>    14</td></tr>\n",
       "\t<tr><td>2004</td><td>    8</td><td>    11</td></tr>\n",
       "\t<tr><td>2003</td><td>    3</td><td>     7</td></tr>\n",
       "\t<tr><td>2002</td><td>    3</td><td>     4</td></tr>\n",
       "\t<tr><td>2001</td><td>    5</td><td>    18</td></tr>\n",
       "\t<tr><td>2000</td><td>    1</td><td>     1</td></tr>\n",
       "\t<tr><td>NA  </td><td>19315</td><td> 93720</td></tr>\n",
       "</tbody>\n",
       "</table>\n"
      ],
      "text/latex": [
       "A tibble: 24 × 3\n",
       "\\begin{tabular}{lll}\n",
       " year & unique\\_patient & unique\\_record\\\\\n",
       " <chr> & <int> & <int>\\\\\n",
       "\\hline\n",
       "\t 2022 &  8751 &  17568\\\\\n",
       "\t 2021 & 43529 & 170895\\\\\n",
       "\t 2020 & 47698 & 207195\\\\\n",
       "\t 2019 & 49333 & 200441\\\\\n",
       "\t 2018 & 62529 & 263073\\\\\n",
       "\t 2017 & 63552 & 292502\\\\\n",
       "\t 2016 & 49615 & 224477\\\\\n",
       "\t 2015 & 38897 & 167734\\\\\n",
       "\t 2014 & 24759 &  75743\\\\\n",
       "\t 2013 &   164 &    604\\\\\n",
       "\t 2012 &   138 &    522\\\\\n",
       "\t 2011 &    98 &    339\\\\\n",
       "\t 2010 &    36 &    151\\\\\n",
       "\t 2009 &    12 &     41\\\\\n",
       "\t 2008 &    10 &     21\\\\\n",
       "\t 2007 &     7 &     23\\\\\n",
       "\t 2006 &     9 &     22\\\\\n",
       "\t 2005 &     7 &     14\\\\\n",
       "\t 2004 &     8 &     11\\\\\n",
       "\t 2003 &     3 &      7\\\\\n",
       "\t 2002 &     3 &      4\\\\\n",
       "\t 2001 &     5 &     18\\\\\n",
       "\t 2000 &     1 &      1\\\\\n",
       "\t NA   & 19315 &  93720\\\\\n",
       "\\end{tabular}\n"
      ],
      "text/markdown": [
       "\n",
       "A tibble: 24 × 3\n",
       "\n",
       "| year &lt;chr&gt; | unique_patient &lt;int&gt; | unique_record &lt;int&gt; |\n",
       "|---|---|---|\n",
       "| 2022 |  8751 |  17568 |\n",
       "| 2021 | 43529 | 170895 |\n",
       "| 2020 | 47698 | 207195 |\n",
       "| 2019 | 49333 | 200441 |\n",
       "| 2018 | 62529 | 263073 |\n",
       "| 2017 | 63552 | 292502 |\n",
       "| 2016 | 49615 | 224477 |\n",
       "| 2015 | 38897 | 167734 |\n",
       "| 2014 | 24759 |  75743 |\n",
       "| 2013 |   164 |    604 |\n",
       "| 2012 |   138 |    522 |\n",
       "| 2011 |    98 |    339 |\n",
       "| 2010 |    36 |    151 |\n",
       "| 2009 |    12 |     41 |\n",
       "| 2008 |    10 |     21 |\n",
       "| 2007 |     7 |     23 |\n",
       "| 2006 |     9 |     22 |\n",
       "| 2005 |     7 |     14 |\n",
       "| 2004 |     8 |     11 |\n",
       "| 2003 |     3 |      7 |\n",
       "| 2002 |     3 |      4 |\n",
       "| 2001 |     5 |     18 |\n",
       "| 2000 |     1 |      1 |\n",
       "| NA   | 19315 |  93720 |\n",
       "\n"
      ],
      "text/plain": [
       "   year unique_patient unique_record\n",
       "1  2022  8751           17568       \n",
       "2  2021 43529          170895       \n",
       "3  2020 47698          207195       \n",
       "4  2019 49333          200441       \n",
       "5  2018 62529          263073       \n",
       "6  2017 63552          292502       \n",
       "7  2016 49615          224477       \n",
       "8  2015 38897          167734       \n",
       "9  2014 24759           75743       \n",
       "10 2013   164             604       \n",
       "11 2012   138             522       \n",
       "12 2011    98             339       \n",
       "13 2010    36             151       \n",
       "14 2009    12              41       \n",
       "15 2008    10              21       \n",
       "16 2007     7              23       \n",
       "17 2006     9              22       \n",
       "18 2005     7              14       \n",
       "19 2004     8              11       \n",
       "20 2003     3               7       \n",
       "21 2002     3               4       \n",
       "22 2001     5              18       \n",
       "23 2000     1               1       \n",
       "24 NA   19315           93720       "
      ]
     },
     "metadata": {},
     "output_type": "display_data"
    }
   ],
   "source": [
    "bw %>% mutate(year = format(RecordedDateTime, \"%Y\"))%>% group_by(year) %>%\n",
    "summarise(unique_patient = n_distinct(PersonId), unique_record = n_distinct(Id))%>%arrange(desc(year))"
   ]
  },
  {
   "cell_type": "code",
   "execution_count": 74,
   "id": "4805c59f-f6ae-4357-a7d6-7802691f4522",
   "metadata": {
    "execution": {
     "iopub.execute_input": "2023-06-22T18:05:25.877321Z",
     "iopub.status.busy": "2023-06-22T18:05:25.876391Z",
     "iopub.status.idle": "2023-06-22T18:05:28.728495Z",
     "shell.execute_reply": "2023-06-22T18:05:28.727395Z"
    },
    "tags": []
   },
   "outputs": [],
   "source": [
    "write_parquet(bw,\"data/body_weight_vital.parquet\")\n",
    "write_parquet(bh, \"data/body_height_vitla.parquet\")"
   ]
  },
  {
   "cell_type": "code",
   "execution_count": 52,
   "id": "4eeb6354-f582-45e7-b11a-1fbc85a0f1b9",
   "metadata": {
    "execution": {
     "iopub.execute_input": "2023-06-22T16:15:41.701535Z",
     "iopub.status.busy": "2023-06-22T16:15:41.699912Z",
     "iopub.status.idle": "2023-06-22T16:15:41.721494Z",
     "shell.execute_reply": "2023-06-22T16:15:41.719730Z"
    },
    "tags": []
   },
   "outputs": [
    {
     "data": {
      "text/html": [
       "<table class=\"dataframe\">\n",
       "<caption>A tibble: 6 × 4</caption>\n",
       "<thead>\n",
       "\t<tr><th scope=col>...1</th><th scope=col>PersonId</th><th scope=col>AbsoluteBirthDate</th><th scope=col>ShiftedTime</th></tr>\n",
       "\t<tr><th scope=col>&lt;dbl&gt;</th><th scope=col>&lt;chr&gt;</th><th scope=col>&lt;dttm&gt;</th><th scope=col>&lt;chr&gt;</th></tr>\n",
       "</thead>\n",
       "<tbody>\n",
       "\t<tr><td>0</td><td>462c6279-ef11-e176-7c57-72c8831ccdea</td><td>1975-01-13 00:00:00</td><td>520 days 00:00:00</td></tr>\n",
       "\t<tr><td>1</td><td>8382031e-1324-422d-6020-7c986bf379da</td><td>1964-05-28 19:12:00</td><td>607 days 19:12:00</td></tr>\n",
       "\t<tr><td>2</td><td>59e235d8-d171-3c19-a6d0-21532f5c1f96</td><td>1974-01-06 00:00:00</td><td>464 days 00:00:00</td></tr>\n",
       "\t<tr><td>3</td><td>33060397-8368-2c37-f090-a8cb34220880</td><td>1971-03-30 04:48:00</td><td>536 days 04:48:00</td></tr>\n",
       "\t<tr><td>4</td><td>4c083ab8-85af-7f90-0baf-8fe8b990855c</td><td>1959-02-10 12:00:00</td><td>660 days 12:00:00</td></tr>\n",
       "\t<tr><td>5</td><td>85fc206f-3eef-18c0-868e-f836957c33a6</td><td>1959-07-09 00:00:00</td><td>625 days 00:00:00</td></tr>\n",
       "</tbody>\n",
       "</table>\n"
      ],
      "text/latex": [
       "A tibble: 6 × 4\n",
       "\\begin{tabular}{llll}\n",
       " ...1 & PersonId & AbsoluteBirthDate & ShiftedTime\\\\\n",
       " <dbl> & <chr> & <dttm> & <chr>\\\\\n",
       "\\hline\n",
       "\t 0 & 462c6279-ef11-e176-7c57-72c8831ccdea & 1975-01-13 00:00:00 & 520 days 00:00:00\\\\\n",
       "\t 1 & 8382031e-1324-422d-6020-7c986bf379da & 1964-05-28 19:12:00 & 607 days 19:12:00\\\\\n",
       "\t 2 & 59e235d8-d171-3c19-a6d0-21532f5c1f96 & 1974-01-06 00:00:00 & 464 days 00:00:00\\\\\n",
       "\t 3 & 33060397-8368-2c37-f090-a8cb34220880 & 1971-03-30 04:48:00 & 536 days 04:48:00\\\\\n",
       "\t 4 & 4c083ab8-85af-7f90-0baf-8fe8b990855c & 1959-02-10 12:00:00 & 660 days 12:00:00\\\\\n",
       "\t 5 & 85fc206f-3eef-18c0-868e-f836957c33a6 & 1959-07-09 00:00:00 & 625 days 00:00:00\\\\\n",
       "\\end{tabular}\n"
      ],
      "text/markdown": [
       "\n",
       "A tibble: 6 × 4\n",
       "\n",
       "| ...1 &lt;dbl&gt; | PersonId &lt;chr&gt; | AbsoluteBirthDate &lt;dttm&gt; | ShiftedTime &lt;chr&gt; |\n",
       "|---|---|---|---|\n",
       "| 0 | 462c6279-ef11-e176-7c57-72c8831ccdea | 1975-01-13 00:00:00 | 520 days 00:00:00 |\n",
       "| 1 | 8382031e-1324-422d-6020-7c986bf379da | 1964-05-28 19:12:00 | 607 days 19:12:00 |\n",
       "| 2 | 59e235d8-d171-3c19-a6d0-21532f5c1f96 | 1974-01-06 00:00:00 | 464 days 00:00:00 |\n",
       "| 3 | 33060397-8368-2c37-f090-a8cb34220880 | 1971-03-30 04:48:00 | 536 days 04:48:00 |\n",
       "| 4 | 4c083ab8-85af-7f90-0baf-8fe8b990855c | 1959-02-10 12:00:00 | 660 days 12:00:00 |\n",
       "| 5 | 85fc206f-3eef-18c0-868e-f836957c33a6 | 1959-07-09 00:00:00 | 625 days 00:00:00 |\n",
       "\n"
      ],
      "text/plain": [
       "  ...1 PersonId                             AbsoluteBirthDate  \n",
       "1 0    462c6279-ef11-e176-7c57-72c8831ccdea 1975-01-13 00:00:00\n",
       "2 1    8382031e-1324-422d-6020-7c986bf379da 1964-05-28 19:12:00\n",
       "3 2    59e235d8-d171-3c19-a6d0-21532f5c1f96 1974-01-06 00:00:00\n",
       "4 3    33060397-8368-2c37-f090-a8cb34220880 1971-03-30 04:48:00\n",
       "5 4    4c083ab8-85af-7f90-0baf-8fe8b990855c 1959-02-10 12:00:00\n",
       "6 5    85fc206f-3eef-18c0-868e-f836957c33a6 1959-07-09 00:00:00\n",
       "  ShiftedTime      \n",
       "1 520 days 00:00:00\n",
       "2 607 days 19:12:00\n",
       "3 464 days 00:00:00\n",
       "4 536 days 04:48:00\n",
       "5 660 days 12:00:00\n",
       "6 625 days 00:00:00"
      ]
     },
     "metadata": {},
     "output_type": "display_data"
    }
   ],
   "source": [
    "head(person_bod)"
   ]
  },
  {
   "cell_type": "code",
   "execution_count": null,
   "id": "c4637938-9609-461e-a6e8-2e166f3bc90c",
   "metadata": {},
   "outputs": [],
   "source": []
  },
  {
   "cell_type": "code",
   "execution_count": 45,
   "id": "5ac7626a-137f-4f8e-88cc-7ec5337c2903",
   "metadata": {
    "execution": {
     "iopub.execute_input": "2023-06-20T18:30:59.051055Z",
     "iopub.status.busy": "2023-06-20T18:30:59.049765Z",
     "iopub.status.idle": "2023-06-20T18:30:59.118209Z",
     "shell.execute_reply": "2023-06-20T18:30:59.117055Z"
    }
   },
   "outputs": [],
   "source": [
    "#patient-wise statistics\n",
    "library(ggplot2)"
   ]
  },
  {
   "cell_type": "code",
   "execution_count": 65,
   "id": "21603023-523f-4ad7-964a-621547db8c30",
   "metadata": {
    "execution": {
     "iopub.execute_input": "2023-06-20T18:52:44.342725Z",
     "iopub.status.busy": "2023-06-20T18:52:44.341705Z",
     "iopub.status.idle": "2023-06-20T18:53:02.525257Z",
     "shell.execute_reply": "2023-06-20T18:53:02.524129Z"
    },
    "tags": []
   },
   "outputs": [],
   "source": [
    "sql3 <- \"select v.PersonId, count(*) as cnt\n",
    "from Vital v join Encounter e on (v.EncounterId = e.Id)\n",
    "where e.ClassConceptId = '1065216' and v.NormalizedValueNumeric is not NULL\n",
    "group by v.PersonId\n",
    "order by cnt;\"\n",
    "\n",
    "person_obs_cnt <- load_sql_table(con,snapshot, query= sql3) %>% collect()"
   ]
  },
  {
   "cell_type": "code",
   "execution_count": 68,
   "id": "67de0a16-0322-445d-8905-eb49765a0d41",
   "metadata": {
    "execution": {
     "iopub.execute_input": "2023-06-20T18:54:26.181243Z",
     "iopub.status.busy": "2023-06-20T18:54:26.180157Z",
     "iopub.status.idle": "2023-06-20T18:54:26.220371Z",
     "shell.execute_reply": "2023-06-20T18:54:26.219332Z"
    },
    "tags": []
   },
   "outputs": [
    {
     "data": {
      "text/html": [
       "<table class=\"dataframe\">\n",
       "<caption>A tibble: 5 × 2</caption>\n",
       "<thead>\n",
       "\t<tr><th scope=col>PersonId</th><th scope=col>cnt</th></tr>\n",
       "\t<tr><th scope=col>&lt;chr&gt;</th><th scope=col>&lt;int&gt;</th></tr>\n",
       "</thead>\n",
       "<tbody>\n",
       "\t<tr><td>12e66837-cf97-0eb3-21e4-a5b8393e0857</td><td>30289</td></tr>\n",
       "\t<tr><td>ad3ea0de-5b6a-8f50-1727-89ff3dc30bd5</td><td>30047</td></tr>\n",
       "\t<tr><td>6ea6bff1-e6b2-b056-03e6-8fc5f6c2f99f</td><td>14072</td></tr>\n",
       "\t<tr><td>5946e126-f349-9773-dcba-1c0765e6b009</td><td>12012</td></tr>\n",
       "\t<tr><td>6aa7d8ad-2fd5-034e-870b-561c74a79b24</td><td>11266</td></tr>\n",
       "</tbody>\n",
       "</table>\n"
      ],
      "text/latex": [
       "A tibble: 5 × 2\n",
       "\\begin{tabular}{ll}\n",
       " PersonId & cnt\\\\\n",
       " <chr> & <int>\\\\\n",
       "\\hline\n",
       "\t 12e66837-cf97-0eb3-21e4-a5b8393e0857 & 30289\\\\\n",
       "\t ad3ea0de-5b6a-8f50-1727-89ff3dc30bd5 & 30047\\\\\n",
       "\t 6ea6bff1-e6b2-b056-03e6-8fc5f6c2f99f & 14072\\\\\n",
       "\t 5946e126-f349-9773-dcba-1c0765e6b009 & 12012\\\\\n",
       "\t 6aa7d8ad-2fd5-034e-870b-561c74a79b24 & 11266\\\\\n",
       "\\end{tabular}\n"
      ],
      "text/markdown": [
       "\n",
       "A tibble: 5 × 2\n",
       "\n",
       "| PersonId &lt;chr&gt; | cnt &lt;int&gt; |\n",
       "|---|---|\n",
       "| 12e66837-cf97-0eb3-21e4-a5b8393e0857 | 30289 |\n",
       "| ad3ea0de-5b6a-8f50-1727-89ff3dc30bd5 | 30047 |\n",
       "| 6ea6bff1-e6b2-b056-03e6-8fc5f6c2f99f | 14072 |\n",
       "| 5946e126-f349-9773-dcba-1c0765e6b009 | 12012 |\n",
       "| 6aa7d8ad-2fd5-034e-870b-561c74a79b24 | 11266 |\n",
       "\n"
      ],
      "text/plain": [
       "  PersonId                             cnt  \n",
       "1 12e66837-cf97-0eb3-21e4-a5b8393e0857 30289\n",
       "2 ad3ea0de-5b6a-8f50-1727-89ff3dc30bd5 30047\n",
       "3 6ea6bff1-e6b2-b056-03e6-8fc5f6c2f99f 14072\n",
       "4 5946e126-f349-9773-dcba-1c0765e6b009 12012\n",
       "5 6aa7d8ad-2fd5-034e-870b-561c74a79b24 11266"
      ]
     },
     "metadata": {},
     "output_type": "display_data"
    }
   ],
   "source": [
    "person_obs_cnt%>%arrange(desc(cnt))%>%head(5)"
   ]
  },
  {
   "cell_type": "code",
   "execution_count": 67,
   "id": "5ed8945d-6ae8-418e-abb6-a3356ab8c8de",
   "metadata": {
    "execution": {
     "iopub.execute_input": "2023-06-20T18:53:54.601751Z",
     "iopub.status.busy": "2023-06-20T18:53:54.600726Z",
     "iopub.status.idle": "2023-06-20T18:53:54.610862Z",
     "shell.execute_reply": "2023-06-20T18:53:54.609929Z"
    },
    "tags": []
   },
   "outputs": [
    {
     "data": {
      "text/html": [
       "182.444644393021"
      ],
      "text/latex": [
       "182.444644393021"
      ],
      "text/markdown": [
       "182.444644393021"
      ],
      "text/plain": [
       "[1] 182.4446"
      ]
     },
     "metadata": {},
     "output_type": "display_data"
    }
   ],
   "source": [
    "mean(person_obs_cnt$cnt)"
   ]
  },
  {
   "cell_type": "code",
   "execution_count": 70,
   "id": "4bf494ae-3a27-47cf-b5cc-17911da89033",
   "metadata": {
    "execution": {
     "iopub.execute_input": "2023-06-20T19:05:55.654481Z",
     "iopub.status.busy": "2023-06-20T19:05:55.653430Z",
     "iopub.status.idle": "2023-06-20T19:05:58.542141Z",
     "shell.execute_reply": "2023-06-20T19:05:58.540993Z"
    },
    "tags": []
   },
   "outputs": [],
   "source": [
    "#hear rate data\n",
    "sql2 <- \"select \n",
    "v.PersonId as PersonId, v.NormalizedValueUOMConceptId, v.NormalizedValueNumeric, v.\n",
    "from Vital v join Encounter e on (v.EncounterId = e.Id)\n",
    "where e.ClassConceptId = '1065216' and v.CodeConceptId =780145;\"\n",
    "hr_vital <- load_sql_table(con,snapshot, query = sql2) %>% collect()\n",
    "hr_vital %>% group_by(CodeConceptId,NormalizedValueUOMConceptId )%>%summarise(cnt = n())%>%\n",
    "merge(.,concep, by.x = \"NormalizedValueUOMConceptId\", by.y = \"ConceptId\")%>%\n",
    "merge(.,concep,by.x  = 'CodeConceptId', by.y = 'ConceptId')%>%\n",
    "select(CodeConceptId,UnitsId =NormalizedValueUOMConceptId, VitalType = ConceptName.y, UnitName = ConceptName.x,cnt)%>%arrange(CodeConceptId)"
   ]
  },
  {
   "cell_type": "code",
   "execution_count": null,
   "id": "cee39a26-2e26-4a1a-a3ab-07c7d0eb1ed4",
   "metadata": {},
   "outputs": [],
   "source": [
    "# blood pressure data\n",
    "params = list('CodeConceptId'= c(779749,\n",
    "779767,\n",
    "825889))"
   ]
  }
 ],
 "metadata": {
  "kernelspec": {
   "display_name": "R",
   "language": "R",
   "name": "ir"
  },
  "language_info": {
   "codemirror_mode": "r",
   "file_extension": ".r",
   "mimetype": "text/x-r-source",
   "name": "R",
   "pygments_lexer": "r",
   "version": "4.1.3"
  }
 },
 "nbformat": 4,
 "nbformat_minor": 5
}
