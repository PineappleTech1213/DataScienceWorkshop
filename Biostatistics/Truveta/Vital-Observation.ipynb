{
 "cells": [
  {
   "cell_type": "code",
   "execution_count": 2,
   "id": "146deb86-893c-4f59-a078-a16b63180700",
   "metadata": {
    "execution": {
     "iopub.execute_input": "2023-07-28T18:59:29.474139Z",
     "iopub.status.busy": "2023-07-28T18:59:29.450715Z",
     "iopub.status.idle": "2023-07-28T18:59:36.809592Z",
     "shell.execute_reply": "2023-07-28T18:59:36.808348Z"
    },
    "tags": []
   },
   "outputs": [
    {
     "name": "stderr",
     "output_type": "stream",
     "text": [
      "here() starts at /home/jovyan/studyrepositories/hypertensioncohorts-is5fyzbqztbebenalfbuo4boem\n",
      "\n",
      "Loading required package: DBI\n",
      "\n",
      "\n",
      "Attaching package: ‘dbplyr’\n",
      "\n",
      "\n",
      "The following objects are masked from ‘package:dplyr’:\n",
      "\n",
      "    ident, sql\n",
      "\n",
      "\n"
     ]
    },
    {
     "name": "stdout",
     "output_type": "stream",
     "text": [
      "[1] \"Deprecation warning: the Vital and SocialHistory tables will be removed from the Truveta Data Model on September 12th, 2023. New snapshots generated after this date will exclude these tables. Existing snapshots which include these tables will be unaffected. Visit Learn for more information.\"\n"
     ]
    },
    {
     "name": "stderr",
     "output_type": "stream",
     "text": [
      "To sign in to Truveta, use a web browser to open the page https://login.truveta.com/activate?user_code=SBFT-SDFK.\n",
      "\n",
      "Signed in successfully.\n",
      "\n"
     ]
    }
   ],
   "source": [
    "library(here)\n",
    "library(here)\n",
    "library(readr, warn.conflicts = FALSE)\n",
    "library(arrow, warn.conflicts = FALSE)\n",
    "library(magrittr, warn.conflicts = FALSE)\n",
    "library(stringr, warn.conflicts = FALSE)\n",
    "library(dplyr, warn.conflicts = FALSE)\n",
    "library(rlang, warn.conflicts = FALSE)\n",
    "library(data.table, warn.conflicts = FALSE)\n",
    "library(lubridate, warn.conflicts = FALSE)\n",
    "library(tidyr, warn.conflicts = FALSE)\n",
    "library(truveta.study)\n",
    "library(dbplyr)\n",
    "library(ggplot2)\n",
    "# build connections \n",
    "con <- create_connection()\n",
    "study <- get_study(con, title = \"Hypertension Cohort\")\n",
    "population <- get_population(con, study, title = \"Study Cohort\")\n",
    "snapshot <- get_latest_snapshot(con, population, finished = TRUE)"
   ]
  },
  {
   "cell_type": "code",
   "execution_count": 4,
   "id": "80615fdf-6174-44a6-9093-2e72db8b1b19",
   "metadata": {
    "execution": {
     "iopub.execute_input": "2023-07-28T18:59:41.184907Z",
     "iopub.status.busy": "2023-07-28T18:59:41.183663Z",
     "iopub.status.idle": "2023-07-28T18:59:41.730553Z",
     "shell.execute_reply": "2023-07-28T18:59:41.729051Z"
    },
    "tags": []
   },
   "outputs": [],
   "source": [
    "#get cleaned body weight vital data in ambulatory and inpatient from Observation\n",
    "param1 = list( ClassConcept=1065220) # inpatient\n",
    "param2 = list( ClassConcept=1065216) #outpatient\n",
    "concept <- read_parquet(\"data/Concept.parquet\")"
   ]
  },
  {
   "cell_type": "code",
   "execution_count": 15,
   "id": "f068628f-1547-423f-ad03-7c2fd181392c",
   "metadata": {
    "execution": {
     "iopub.execute_input": "2023-07-28T14:17:32.721353Z",
     "iopub.status.busy": "2023-07-28T14:17:32.720341Z",
     "iopub.status.idle": "2023-07-28T14:18:28.522997Z",
     "shell.execute_reply": "2023-07-28T14:18:28.521383Z"
    },
    "tags": []
   },
   "outputs": [],
   "source": [
    "# encounter type by vital sign type\n",
    "\n",
    "sql <- \"select v.CodeConceptId, e.ClassConceptId, count(distinct v.Id) as NonMissing\n",
    "from Vital v join Encounter e on (v.EncounterId = e.Id)\n",
    "where v.Value is not NULL and v.EffectiveDateTime is not NULL\n",
    "and e.StatusConceptId not in (2983199,2506590,2983200,2506591,2506595)\n",
    "group by CodeConceptId, ClassConceptId\n",
    "order by 1,2;\"\n",
    "\n",
    "ev <- load_sql_table(con,snapshot, query = sql) %>% collect()\n",
    "\n",
    "#ev\n",
    "ev_names <- ev %>% merge(.,concept, by.x = \"CodeConceptId\", by.y = \"ConceptId\")%>%\n",
    "select(VitalSignId = CodeConceptId, ClassConceptId, VitalSignName =ConceptName, NonMissing)%>%\n",
    "merge(.,concept,by.x= 'ClassConceptId',by.y = 'ConceptId')%>%\n",
    "select(VitalSignId, VitalSignName, EncounterClassId = ClassConceptId, EncounterClassName = ConceptName, NonMissing)\n",
    "\n",
    "write_csv(ev_names,\"data/ev_names_distribution.csv.r\")"
   ]
  },
  {
   "cell_type": "code",
   "execution_count": 5,
   "id": "e24b1f22-55a9-425f-9555-4e3676b022ad",
   "metadata": {
    "execution": {
     "iopub.execute_input": "2023-07-28T18:59:45.985481Z",
     "iopub.status.busy": "2023-07-28T18:59:45.983902Z",
     "iopub.status.idle": "2023-07-28T19:01:28.679828Z",
     "shell.execute_reply": "2023-07-28T19:01:28.677900Z"
    },
    "tags": []
   },
   "outputs": [],
   "source": [
    "#get cleaned body height data from Observation\n",
    "# inpatient\n",
    "sql <- \"select v.*, e.ClassConceptId\n",
    "from Observation v join Encounter e on (v.EncounterId = e.Id)\n",
    "where e.ClassConceptId = :ClassConcept and v.CodeConceptId  = 779602\n",
    "and v.NormalizedValueNumeric is not NULL\n",
    "and NormalizedValueUOMConceptId not in (0,1067557,1067561)\n",
    "and v.EffectiveDateTime is not NULL;  \"\n",
    "\n",
    "\n",
    "inp_bh_obs <- load_sql_table(con,snapshot,query = sql, params = param1) %>% collect()\n",
    "# outpatient\n",
    "sql <- \"select v.*, e.ClassConceptId\n",
    "from Observation v join Encounter e on (v.EncounterId = e.Id)\n",
    "where e.ClassConceptId = :ClassConcept and v.CodeConceptId  = 779602\n",
    "and v.NormalizedValueNumeric is not NULL\n",
    "and NormalizedValueUOMConceptId not in (0,1067557,1067561)\n",
    "and v.EffectiveDateTime is not NULL;  \"\n",
    "\n",
    "\n",
    "amb_bh_obs <- load_sql_table(con,snapshot,query = sql, param2) %>% collect()\n"
   ]
  },
  {
   "cell_type": "code",
   "execution_count": 6,
   "id": "3b98bbea-cdff-41fd-be63-7f0c009decb6",
   "metadata": {
    "execution": {
     "iopub.execute_input": "2023-07-28T19:01:28.683741Z",
     "iopub.status.busy": "2023-07-28T19:01:28.682111Z",
     "iopub.status.idle": "2023-07-28T19:01:32.679207Z",
     "shell.execute_reply": "2023-07-28T19:01:32.678025Z"
    },
    "tags": []
   },
   "outputs": [
    {
     "data": {
      "text/plain": [
       "   PersonId             counts              sd       \n",
       " Length:43622       Min.   :   1.00   Min.   :46.21  \n",
       " Class :character   1st Qu.:   7.00   1st Qu.:46.21  \n",
       " Mode  :character   Median :  12.00   Median :46.21  \n",
       "                    Mean   :  23.94   Mean   :46.21  \n",
       "                    3rd Qu.:  27.00   3rd Qu.:46.21  \n",
       "                    Max.   :2863.00   Max.   :46.21  "
      ]
     },
     "metadata": {},
     "output_type": "display_data"
    },
    {
     "data": {
      "text/plain": [
       "   PersonId             counts             sd       \n",
       " Length:55349       Min.   :  1.00   Min.   :15.01  \n",
       " Class :character   1st Qu.:  2.00   1st Qu.:15.01  \n",
       " Mode  :character   Median :  4.00   Median :15.01  \n",
       "                    Mean   : 10.35   Mean   :15.01  \n",
       "                    3rd Qu.: 12.00   3rd Qu.:15.01  \n",
       "                    Max.   :263.00   Max.   :15.01  "
      ]
     },
     "metadata": {},
     "output_type": "display_data"
    }
   ],
   "source": [
    "# analyze Height data\n",
    "\n",
    "inp_bh_obs %>% group_by(PersonId) %>% summarise(counts = n_distinct(Id))%>% mutate(sd = sd(counts))%>% summary()\n",
    "amb_bh_obs %>% group_by(PersonId) %>% summarise(counts = n_distinct(Id))%>% mutate(sd = sd(counts))%>% summary()"
   ]
  },
  {
   "cell_type": "code",
   "execution_count": 7,
   "id": "629f1c14-2568-4483-87a7-0627a2fd9172",
   "metadata": {
    "execution": {
     "iopub.execute_input": "2023-07-28T19:01:32.681814Z",
     "iopub.status.busy": "2023-07-28T19:01:32.680931Z",
     "iopub.status.idle": "2023-07-28T19:01:32.807102Z",
     "shell.execute_reply": "2023-07-28T19:01:32.800967Z"
    },
    "tags": []
   },
   "outputs": [
    {
     "ename": "ERROR",
     "evalue": "Error in fix.by(by.x, x): object 'NormalizedValueUOMConceptId' not found\n",
     "output_type": "error",
     "traceback": [
      "Error in fix.by(by.x, x): object 'NormalizedValueUOMConceptId' not found\nTraceback:\n",
      "1. inp_bh_obs %>% group_by(NormalizedValueUOMConceptId) %>% summarise(mean = mean(NormalizedValueNumeric), \n .     min = min(NormalizedValueNumeric), qr1 = quantile(NormalizedValueNumeric, \n .         0.25), median = quantile(NormalizedValueNumeric, 0.5), \n .     qr3 = quantile(NormalizedValueNumeric, 0.75), max = max(NormalizedValueNumeric), \n .     sd = sd(NormalizedValueNumeric)) %>% merge(., concept, by.x = NormalizedValueUOMConceptId, \n .     by.y = ConceptId) %>% select(ConceptId, ConceptName, mean, \n .     min, qr1, median, qr3, max, sd)",
      "2. select(., ConceptId, ConceptName, mean, min, qr1, median, qr3, \n .     max, sd)",
      "3. merge(., concept, by.x = NormalizedValueUOMConceptId, by.y = ConceptId)",
      "4. merge.data.frame(., concept, by.x = NormalizedValueUOMConceptId, \n .     by.y = ConceptId)",
      "5. fix.by(by.x, x)"
     ]
    }
   ],
   "source": [
    "inp_bh_obs %>% group_by(NormalizedValueUOMConceptId) %>% summarise(mean = mean(NormalizedValueNumeric),\n",
    "                                                                   min = min(NormalizedValueNumeric),\n",
    "                                                                   qr1 = quantile(NormalizedValueNumeric,0.25),\n",
    "                                                                   median = quantile(NormalizedValueNumeric,0.5),\n",
    "                                                                   qr3 = quantile(NormalizedValueNumeric, 0.75),\n",
    "                                                                   max = max(NormalizedValueNumeric),\n",
    "                                                                   sd = sd(NormalizedValueNumeric))%>%\n",
    "merge(.,concept,by.x = NormalizedValueUOMConceptId, by.y = ConceptId)%>%\n",
    "select(ConceptId, ConceptName, mean, min,qr1,median,qr3,max,sd)\n",
    "# amb_bh_obs "
   ]
  },
  {
   "cell_type": "code",
   "execution_count": null,
   "id": "78bdc734-fc65-4b1f-b1dd-1dc907af98c9",
   "metadata": {},
   "outputs": [],
   "source": [
    "#get cleaned body weight vital data in ambulatory and inpatient from Observation\n",
    "param1 = list( ClassConcept=1065220) # inpatient\n",
    "param2 = list( ClassConcept=1065216) #outpatient\n",
    "sql1 <- \"select \n",
    "v.*, e.ClassConceptId\n",
    "from Observation v join Encounter e on (v.EncounterId = e.Id)\n",
    "where e.ClassConceptId = :ClassConcept and v.CodeConceptId =779749\n",
    "and v.NormalizedValueNumeric is not NULL\n",
    "and NormalizedValueUOMConceptId not in (0,1067557,1067561)\n",
    "and e.StatusConceptId not in (2983199,2506590,2983200,2506591,2506595)\n",
    "and v.EffectiveDateTime is not NULL;\n",
    "\"\n",
    "sql2 <- \"select \n",
    "v.*, e.ClassConceptId\n",
    "from Vital v join Encounter e on (v.EncounterId = e.Id)\n",
    "where e.ClassConceptId = :ClassConcept and v.CodeConceptId in (800318,773683)\n",
    "and v.NormalizedValueNumeric is not NULL\n",
    "and NormalizedValueUOMConceptId not in (0,1067557,1067561)\n",
    "and e.StatusConceptId not in (2983199,2506590,2983200,2506591,2506595)\n",
    "and v.EffectiveDateTime is not NULL;\n",
    "\"\n",
    "inpatient_dbp <- load_sql_table(con,snapshot,query = sql1,params = param1) %>% collect()\n",
    "amb__bw_bh_vital <- load_sql_table(con,snapshot, query = sql2,params = param2) %>% collect()\n",
    "head(inpatient_bw_bh_vital)\n",
    "head(amb__bw_bh_vital)"
   ]
  },
  {
   "cell_type": "code",
   "execution_count": null,
   "id": "b2097c16-7f54-49eb-8265-ac98c7c6dfe7",
   "metadata": {},
   "outputs": [],
   "source": []
  },
  {
   "cell_type": "code",
   "execution_count": 1,
   "id": "45e61dd8-ab3a-4f25-a9c2-3d94f46e1806",
   "metadata": {
    "execution": {
     "iopub.execute_input": "2023-08-02T15:59:41.643854Z",
     "iopub.status.busy": "2023-08-02T15:59:41.641863Z",
     "iopub.status.idle": "2023-08-02T15:59:41.668115Z",
     "shell.execute_reply": "2023-08-02T15:59:41.666956Z"
    },
    "tags": []
   },
   "outputs": [
    {
     "ename": "ERROR",
     "evalue": "Error in load_sql_table(con, snapshot, query = sql, params = param1) %>% : could not find function \"%>%\"\n",
     "output_type": "error",
     "traceback": [
      "Error in load_sql_table(con, snapshot, query = sql, params = param1) %>% : could not find function \"%>%\"\nTraceback:\n"
     ]
    }
   ],
   "source": [
    "#get cleaned body blood pressure data from Observation\n",
    "# inpatient dbp\n",
    "sql <- \"select v.*, e.ClassConceptId\n",
    "from Observation v join Encounter e on (v.EncounterId = e.Id)\n",
    "where e.ClassConceptId = :ClassConcept and v.CodeConceptId  = 779749\n",
    "and v.NormalizedValueNumeric is not NULL\n",
    "and NormalizedValueUOMConceptId not in (0,1067557,1067561)\n",
    "and e.StatusConceptId not in (2983199,2506590,2983200,2506591,2506595)\n",
    "and v.EffectiveDateTime is not NULL;  \"\n",
    "\n",
    "inp_dbp <- load_sql_table(con,snapshot,query = sql, params = param1) %>% collect()\n",
    "# outpatient dbp\n",
    "sql <- \"select v.*, e.ClassConceptId\n",
    "from Observation v join Encounter e on (v.EncounterId = e.Id)\n",
    "where e.ClassConceptId = :ClassConcept and v.CodeConceptId  = 779749\n",
    "and v.NormalizedValueNumeric is not NULL\n",
    "and NormalizedValueUOMConceptId not in (0,1067557,1067561)\n",
    "and e.StatusConceptId not in (2983199,2506590,2983200,2506591,2506595)\n",
    "and v.EffectiveDateTime is not NULL;  \"\n",
    "\n",
    "\n",
    "amb_dbp <- load_sql_table(con,snapshot,query = sql, param2) %>% collect()\n"
   ]
  },
  {
   "cell_type": "code",
   "execution_count": 1,
   "id": "678e776d-195e-4c90-8fe0-bffc9327a0a8",
   "metadata": {
    "execution": {
     "iopub.execute_input": "2023-08-02T15:59:41.643854Z",
     "iopub.status.busy": "2023-08-02T15:59:41.641863Z",
     "iopub.status.idle": "2023-08-02T15:59:41.668115Z",
     "shell.execute_reply": "2023-08-02T15:59:41.666956Z"
    },
    "tags": []
   },
   "outputs": [
    {
     "ename": "ERROR",
     "evalue": "Error in load_sql_table(con, snapshot, query = sql, params = param1) %>% : could not find function \"%>%\"\n",
     "output_type": "error",
     "traceback": [
      "Error in load_sql_table(con, snapshot, query = sql, params = param1) %>% : could not find function \"%>%\"\nTraceback:\n"
     ]
    }
   ],
   "source": [
    "#get cleaned body blood pressure data from Observation\n",
    "# inpatient sbp\n",
    "sql <- \"select v.*, e.ClassConceptId\n",
    "from Observation v join Encounter e on (v.EncounterId = e.Id)\n",
    "where e.ClassConceptId = :ClassConcept and v.CodeConceptId  = 779767\n",
    "and v.NormalizedValueNumeric is not NULL\n",
    "and NormalizedValueUOMConceptId not in (0,1067557,1067561)\n",
    "and e.StatusConceptId not in (2983199,2506590,2983200,2506591,2506595)\n",
    "and v.EffectiveDateTime is not NULL;  \"\n",
    "\n",
    "inp_sbp <- load_sql_table(con,snapshot,query = sql, params = param1) %>% collect()\n",
    "# outpatient dbp\n",
    "sql <- \"select v.*, e.ClassConceptId\n",
    "from Observation v join Encounter e on (v.EncounterId = e.Id)\n",
    "where e.ClassConceptId = :ClassConcept and v.CodeConceptId  = 779767\n",
    "and v.NormalizedValueNumeric is not NULL\n",
    "and NormalizedValueUOMConceptId not in (0,1067557,1067561)\n",
    "and e.StatusConceptId not in (2983199,2506590,2983200,2506591,2506595)\n",
    "and v.EffectiveDateTime is not NULL;  \"\n",
    "\n",
    "\n",
    "amb_sbp <- load_sql_table(con,snapshot,query = sql, param2) %>% collect()\n"
   ]
  },
  {
   "cell_type": "code",
   "execution_count": 1,
   "id": "8ef55f02-97a4-45f2-90a9-bb718263033f",
   "metadata": {
    "execution": {
     "iopub.execute_input": "2023-08-02T15:59:41.643854Z",
     "iopub.status.busy": "2023-08-02T15:59:41.641863Z",
     "iopub.status.idle": "2023-08-02T15:59:41.668115Z",
     "shell.execute_reply": "2023-08-02T15:59:41.666956Z"
    },
    "tags": []
   },
   "outputs": [
    {
     "ename": "ERROR",
     "evalue": "Error in load_sql_table(con, snapshot, query = sql, params = param1) %>% : could not find function \"%>%\"\n",
     "output_type": "error",
     "traceback": [
      "Error in load_sql_table(con, snapshot, query = sql, params = param1) %>% : could not find function \"%>%\"\nTraceback:\n"
     ]
    }
   ],
   "source": [
    "#get cleaned body blood pressure data from Observation\n",
    "# inpatient bp\n",
    "sql <- \"select v.*, e.ClassConceptId\n",
    "from Observation v join Encounter e on (v.EncounterId = e.Id)\n",
    "where e.ClassConceptId = :ClassConcept and v.CodeConceptId  = 825889\n",
    "and v.NormalizedValueNumeric is not NULL\n",
    "and NormalizedValueUOMConceptId not in (0,1067557,1067561)\n",
    "and e.StatusConceptId not in (2983199,2506590,2983200,2506591,2506595)\n",
    "and v.EffectiveDateTime is not NULL;  \"\n",
    "\n",
    "inp_bp <- load_sql_table(con,snapshot,query = sql, params = param1) %>% collect()\n",
    "# outpatient bp\n",
    "sql <- \"select v.*, e.ClassConceptId\n",
    "from Observation v join Encounter e on (v.EncounterId = e.Id)\n",
    "where e.ClassConceptId = :ClassConcept and v.CodeConceptId  = 825889\n",
    "and v.NormalizedValueNumeric is not NULL\n",
    "and NormalizedValueUOMConceptId not in (0,1067557,1067561)\n",
    "and e.StatusConceptId not in (2983199,2506590,2983200,2506591,2506595)\n",
    "and v.EffectiveDateTime is not NULL;  \"\n",
    "\n",
    "\n",
    "amb_bp <- load_sql_table(con,snapshot,query = sql, param2) %>% collect()\n"
   ]
  },
  {
   "cell_type": "code",
   "execution_count": null,
   "id": "733744a5-f3d4-48c3-8426-58fdb0e5e628",
   "metadata": {},
   "outputs": [],
   "source": []
  },
  {
   "cell_type": "code",
   "execution_count": 6,
   "id": "460fe45c-9beb-40f6-a25e-8562de299b2e",
   "metadata": {
    "execution": {
     "iopub.execute_input": "2023-07-28T19:01:28.683741Z",
     "iopub.status.busy": "2023-07-28T19:01:28.682111Z",
     "iopub.status.idle": "2023-07-28T19:01:32.679207Z",
     "shell.execute_reply": "2023-07-28T19:01:32.678025Z"
    },
    "tags": []
   },
   "outputs": [
    {
     "data": {
      "text/plain": [
       "   PersonId             counts              sd       \n",
       " Length:43622       Min.   :   1.00   Min.   :46.21  \n",
       " Class :character   1st Qu.:   7.00   1st Qu.:46.21  \n",
       " Mode  :character   Median :  12.00   Median :46.21  \n",
       "                    Mean   :  23.94   Mean   :46.21  \n",
       "                    3rd Qu.:  27.00   3rd Qu.:46.21  \n",
       "                    Max.   :2863.00   Max.   :46.21  "
      ]
     },
     "metadata": {},
     "output_type": "display_data"
    },
    {
     "data": {
      "text/plain": [
       "   PersonId             counts             sd       \n",
       " Length:55349       Min.   :  1.00   Min.   :15.01  \n",
       " Class :character   1st Qu.:  2.00   1st Qu.:15.01  \n",
       " Mode  :character   Median :  4.00   Median :15.01  \n",
       "                    Mean   : 10.35   Mean   :15.01  \n",
       "                    3rd Qu.: 12.00   3rd Qu.:15.01  \n",
       "                    Max.   :263.00   Max.   :15.01  "
      ]
     },
     "metadata": {},
     "output_type": "display_data"
    }
   ],
   "source": [
    "# analyze blood pressure data\n",
    "\n",
    "inp_bh_obs %>% group_by(PersonId) %>% summarise(counts = n_distinct(Id))%>% mutate(sd = sd(counts))%>% summary()\n",
    "amb_bh_obs %>% group_by(PersonId) %>% summarise(counts = n_distinct(Id))%>% mutate(sd = sd(counts))%>% summary()"
   ]
  },
  {
   "cell_type": "code",
   "execution_count": null,
   "id": "74b76807-c79a-43f4-b6fd-6c4e5eb59ad9",
   "metadata": {},
   "outputs": [],
   "source": [
    "#get cleaned body weight vital data in ambulatory and inpatient from Observation\n",
    "param1 = list( ClassConcept=1065220) # inpatient\n",
    "param2 = list( ClassConcept=1065216) #outpatient\n",
    "sql1 <- \"select \n",
    "v.*, e.ClassConceptId\n",
    "from Observation v join Encounter e on (v.EncounterId = e.Id)\n",
    "where e.ClassConceptId = :ClassConcept and v.CodeConceptId in (800318,773683)\n",
    "and v.NormalizedValueNumeric is not NULL\n",
    "and NormalizedValueUOMConceptId not in (0,1067557,1067561)\n",
    "and e.StatusConceptId not in (2983199,2506590,2983200,2506591,2506595)\n",
    "and v.EffectiveDateTime is not NULL;\n",
    "\"\n",
    "sql2 <- \"select \n",
    "v.*, e.ClassConceptId\n",
    "from Vital v join Encounter e on (v.EncounterId = e.Id)\n",
    "where e.ClassConceptId = :ClassConcept and v.CodeConceptId in (800318,773683)\n",
    "and v.NormalizedValueNumeric is not NULL\n",
    "and NormalizedValueUOMConceptId not in (0,1067557,1067561)\n",
    "and e.StatusConceptId not in (2983199,2506590,2983200,2506591,2506595)\n",
    "and v.EffectiveDateTime is not NULL;\n",
    "\"\n",
    "inpatient_bw_bh_vital <- load_sql_table(con,snapshot,query = sql1,params = param1) %>% collect()\n",
    "amb__bw_bh_vital <- load_sql_table(con,snapshot, query = sql2,params = param2) %>% collect()\n",
    "head(inpatient_bw_bh_vital)\n",
    "head(amb__bw_bh_vital)"
   ]
  }
 ],
 "metadata": {
  "kernelspec": {
   "display_name": "R",
   "language": "R",
   "name": "ir"
  },
  "language_info": {
   "codemirror_mode": "r",
   "file_extension": ".r",
   "mimetype": "text/x-r-source",
   "name": "R",
   "pygments_lexer": "r",
   "version": "4.1.3"
  }
 },
 "nbformat": 4,
 "nbformat_minor": 5
}
