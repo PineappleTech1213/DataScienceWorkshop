{
 "cells": [
  {
   "cell_type": "code",
   "execution_count": 2,
   "id": "2e6b995c-04f3-4bda-8abc-3720392b5e64",
   "metadata": {
    "execution": {
     "iopub.execute_input": "2023-07-07T14:06:53.019725Z",
     "iopub.status.busy": "2023-07-07T14:06:52.998012Z",
     "iopub.status.idle": "2023-07-07T14:06:53.647126Z",
     "shell.execute_reply": "2023-07-07T14:06:53.646080Z"
    },
    "tags": []
   },
   "outputs": [
    {
     "name": "stderr",
     "output_type": "stream",
     "text": [
      "here() starts at /home/jovyan/studyrepositories/hypertensioncohorts-is5fyzbqztbebenalfbuo4boem\n",
      "\n",
      "Loading required package: DBI\n",
      "\n",
      "\n",
      "Attaching package: ‘dbplyr’\n",
      "\n",
      "\n",
      "The following objects are masked from ‘package:dplyr’:\n",
      "\n",
      "    ident, sql\n",
      "\n",
      "\n"
     ]
    }
   ],
   "source": [
    "library(here)\n",
    "library(here)\n",
    "library(readr, warn.conflicts = FALSE)\n",
    "library(arrow, warn.conflicts = FALSE)\n",
    "library(magrittr, warn.conflicts = FALSE)\n",
    "library(stringr, warn.conflicts = FALSE)\n",
    "library(dplyr, warn.conflicts = FALSE)\n",
    "library(rlang, warn.conflicts = FALSE)\n",
    "library(data.table, warn.conflicts = FALSE)\n",
    "library(lubridate, warn.conflicts = FALSE)\n",
    "library(tidyr, warn.conflicts = FALSE)\n",
    "library(truveta.study)\n",
    "library(dbplyr)"
   ]
  },
  {
   "cell_type": "code",
   "execution_count": 3,
   "id": "752fde3a-35c5-45b7-8f69-5a3817881d53",
   "metadata": {
    "execution": {
     "iopub.execute_input": "2023-07-07T14:06:53.649806Z",
     "iopub.status.busy": "2023-07-07T14:06:53.648712Z",
     "iopub.status.idle": "2023-07-07T14:07:00.511211Z",
     "shell.execute_reply": "2023-07-07T14:07:00.510037Z"
    },
    "tags": []
   },
   "outputs": [
    {
     "name": "stderr",
     "output_type": "stream",
     "text": [
      "To sign in to Truveta, use a web browser to open the page https://login.truveta.com/activate?user_code=GKRF-RMVJ.\n",
      "\n",
      "Signed in successfully.\n",
      "\n"
     ]
    }
   ],
   "source": [
    "# build connections \n",
    "con <- create_connection()\n",
    "study <- get_study(con, title = \"Hypertension Cohort\")\n",
    "population <- get_population(con, study, title = \"Study Cohort\")\n",
    "snapshot <- get_latest_snapshot(con, population, finished = TRUE)"
   ]
  },
  {
   "cell_type": "code",
   "execution_count": 32,
   "id": "74f5d145-6980-4344-9b5f-027ffc4a3ea3",
   "metadata": {
    "execution": {
     "iopub.execute_input": "2023-07-07T15:57:08.664442Z",
     "iopub.status.busy": "2023-07-07T15:57:08.663433Z",
     "iopub.status.idle": "2023-07-07T15:57:20.121305Z",
     "shell.execute_reply": "2023-07-07T15:57:20.120245Z"
    },
    "tags": []
   },
   "outputs": [
    {
     "data": {
      "text/html": [
       "<table class=\"dataframe\">\n",
       "<caption>A tibble: 12 × 4</caption>\n",
       "<thead>\n",
       "\t<tr><th scope=col>MaritalStatusConceptId</th><th scope=col>ConceptName</th><th scope=col>PatientCount</th><th scope=col>Percentage</th></tr>\n",
       "\t<tr><th scope=col>&lt;int&gt;</th><th scope=col>&lt;chr&gt;</th><th scope=col>&lt;int&gt;</th><th scope=col>&lt;dbl&gt;</th></tr>\n",
       "</thead>\n",
       "<tbody>\n",
       "\t<tr><td>1065583</td><td>Married                       </td><td>498928</td><td>41.339</td></tr>\n",
       "\t<tr><td>1065588</td><td>Unmarried                     </td><td>199607</td><td>16.539</td></tr>\n",
       "\t<tr><td>1065591</td><td>Widowed                       </td><td>140373</td><td>11.631</td></tr>\n",
       "\t<tr><td>1067557</td><td>Field is not present in source</td><td>115502</td><td> 9.570</td></tr>\n",
       "\t<tr><td>1065580</td><td>Divorced                      </td><td> 92386</td><td> 7.655</td></tr>\n",
       "\t<tr><td>1065579</td><td>Civil Union                   </td><td> 74246</td><td> 6.152</td></tr>\n",
       "\t<tr><td>1067556</td><td>Masked                        </td><td> 61147</td><td> 5.066</td></tr>\n",
       "\t<tr><td>1067554</td><td>Unknown                       </td><td> 10390</td><td> 0.861</td></tr>\n",
       "\t<tr><td>1065582</td><td>Legally Separated             </td><td>  7576</td><td> 0.628</td></tr>\n",
       "\t<tr><td>1065587</td><td>Domestic partner              </td><td>  5656</td><td> 0.469</td></tr>\n",
       "\t<tr><td>1067561</td><td>No Information                </td><td>   928</td><td> 0.077</td></tr>\n",
       "\t<tr><td>3056594</td><td>Other                         </td><td>   171</td><td> 0.014</td></tr>\n",
       "</tbody>\n",
       "</table>\n"
      ],
      "text/latex": [
       "A tibble: 12 × 4\n",
       "\\begin{tabular}{llll}\n",
       " MaritalStatusConceptId & ConceptName & PatientCount & Percentage\\\\\n",
       " <int> & <chr> & <int> & <dbl>\\\\\n",
       "\\hline\n",
       "\t 1065583 & Married                        & 498928 & 41.339\\\\\n",
       "\t 1065588 & Unmarried                      & 199607 & 16.539\\\\\n",
       "\t 1065591 & Widowed                        & 140373 & 11.631\\\\\n",
       "\t 1067557 & Field is not present in source & 115502 &  9.570\\\\\n",
       "\t 1065580 & Divorced                       &  92386 &  7.655\\\\\n",
       "\t 1065579 & Civil Union                    &  74246 &  6.152\\\\\n",
       "\t 1067556 & Masked                         &  61147 &  5.066\\\\\n",
       "\t 1067554 & Unknown                        &  10390 &  0.861\\\\\n",
       "\t 1065582 & Legally Separated              &   7576 &  0.628\\\\\n",
       "\t 1065587 & Domestic partner               &   5656 &  0.469\\\\\n",
       "\t 1067561 & No Information                 &    928 &  0.077\\\\\n",
       "\t 3056594 & Other                          &    171 &  0.014\\\\\n",
       "\\end{tabular}\n"
      ],
      "text/markdown": [
       "\n",
       "A tibble: 12 × 4\n",
       "\n",
       "| MaritalStatusConceptId &lt;int&gt; | ConceptName &lt;chr&gt; | PatientCount &lt;int&gt; | Percentage &lt;dbl&gt; |\n",
       "|---|---|---|---|\n",
       "| 1065583 | Married                        | 498928 | 41.339 |\n",
       "| 1065588 | Unmarried                      | 199607 | 16.539 |\n",
       "| 1065591 | Widowed                        | 140373 | 11.631 |\n",
       "| 1067557 | Field is not present in source | 115502 |  9.570 |\n",
       "| 1065580 | Divorced                       |  92386 |  7.655 |\n",
       "| 1065579 | Civil Union                    |  74246 |  6.152 |\n",
       "| 1067556 | Masked                         |  61147 |  5.066 |\n",
       "| 1067554 | Unknown                        |  10390 |  0.861 |\n",
       "| 1065582 | Legally Separated              |   7576 |  0.628 |\n",
       "| 1065587 | Domestic partner               |   5656 |  0.469 |\n",
       "| 1067561 | No Information                 |    928 |  0.077 |\n",
       "| 3056594 | Other                          |    171 |  0.014 |\n",
       "\n"
      ],
      "text/plain": [
       "   MaritalStatusConceptId ConceptName                    PatientCount\n",
       "1  1065583                Married                        498928      \n",
       "2  1065588                Unmarried                      199607      \n",
       "3  1065591                Widowed                        140373      \n",
       "4  1067557                Field is not present in source 115502      \n",
       "5  1065580                Divorced                        92386      \n",
       "6  1065579                Civil Union                     74246      \n",
       "7  1067556                Masked                          61147      \n",
       "8  1067554                Unknown                         10390      \n",
       "9  1065582                Legally Separated                7576      \n",
       "10 1065587                Domestic partner                 5656      \n",
       "11 1067561                No Information                    928      \n",
       "12 3056594                Other                             171      \n",
       "   Percentage\n",
       "1  41.339    \n",
       "2  16.539    \n",
       "3  11.631    \n",
       "4   9.570    \n",
       "5   7.655    \n",
       "6   6.152    \n",
       "7   5.066    \n",
       "8   0.861    \n",
       "9   0.628    \n",
       "10  0.469    \n",
       "11  0.077    \n",
       "12  0.014    "
      ]
     },
     "metadata": {},
     "output_type": "display_data"
    }
   ],
   "source": [
    "#get patient's marital status summary\n",
    "sql <- \"select p.MaritalStatusConceptId, c. ConceptName, count(distinct p.Id) as PatientCount\n",
    "from Person p join Concept c on (p.MaritalStatusConceptId = c.ConceptId)\n",
    "group by MaritalStatusConceptId, ConceptName\n",
    "order by PatientCount desc;\"\n",
    "\n",
    "\n",
    "marital_summary <- load_sql_table(con,snapshot,query = sql) %>% collect() %>% mutate(Percentage = round( PatientCount / sum(PatientCount) *100,3))\n",
    "marital_summary"
   ]
  },
  {
   "cell_type": "code",
   "execution_count": 33,
   "id": "cc6ed4be-4c4c-4ed6-99c7-84b35c88c033",
   "metadata": {
    "execution": {
     "iopub.execute_input": "2023-07-07T15:57:49.717697Z",
     "iopub.status.busy": "2023-07-07T15:57:49.716763Z",
     "iopub.status.idle": "2023-07-07T15:58:00.211383Z",
     "shell.execute_reply": "2023-07-07T15:58:00.210316Z"
    },
    "tags": []
   },
   "outputs": [
    {
     "data": {
      "text/html": [
       "<table class=\"dataframe\">\n",
       "<caption>A tibble: 1 × 4</caption>\n",
       "<thead>\n",
       "\t<tr><th scope=col>ReligionConceptId</th><th scope=col>ConceptName</th><th scope=col>PatientCount</th><th scope=col>Percentage</th></tr>\n",
       "\t<tr><th scope=col>&lt;int&gt;</th><th scope=col>&lt;chr&gt;</th><th scope=col>&lt;int&gt;</th><th scope=col>&lt;dbl&gt;</th></tr>\n",
       "</thead>\n",
       "<tbody>\n",
       "\t<tr><td>1067556</td><td>Masked</td><td>1206910</td><td>100</td></tr>\n",
       "</tbody>\n",
       "</table>\n"
      ],
      "text/latex": [
       "A tibble: 1 × 4\n",
       "\\begin{tabular}{llll}\n",
       " ReligionConceptId & ConceptName & PatientCount & Percentage\\\\\n",
       " <int> & <chr> & <int> & <dbl>\\\\\n",
       "\\hline\n",
       "\t 1067556 & Masked & 1206910 & 100\\\\\n",
       "\\end{tabular}\n"
      ],
      "text/markdown": [
       "\n",
       "A tibble: 1 × 4\n",
       "\n",
       "| ReligionConceptId &lt;int&gt; | ConceptName &lt;chr&gt; | PatientCount &lt;int&gt; | Percentage &lt;dbl&gt; |\n",
       "|---|---|---|---|\n",
       "| 1067556 | Masked | 1206910 | 100 |\n",
       "\n"
      ],
      "text/plain": [
       "  ReligionConceptId ConceptName PatientCount Percentage\n",
       "1 1067556           Masked      1206910      100       "
      ]
     },
     "metadata": {},
     "output_type": "display_data"
    }
   ],
   "source": [
    "#get patient's religion summary\n",
    "\n",
    "sql <- \"select p.ReligionConceptId, c.ConceptName, count(distinct p.Id) as PatientCount\n",
    "from Person p join Concept c on (p.ReligionConceptId = c.ConceptId)\n",
    "group by ReligionConceptId, ConceptName\n",
    "order by PatientCount desc;\"\n",
    "\n",
    "religion_summary <- load_sql_table(con,snapshot, query = sql) %>% collect() %>% mutate(Percentage = round( PatientCount / sum(PatientCount) *100,3))\n",
    "religion_summary"
   ]
  },
  {
   "cell_type": "code",
   "execution_count": null,
   "id": "43b707cc-1342-45d0-b294-a03e1e71abaf",
   "metadata": {
    "execution": {
     "iopub.execute_input": "2023-07-07T15:58:00.213791Z",
     "iopub.status.busy": "2023-07-07T15:58:00.212980Z"
    },
    "tags": []
   },
   "outputs": [
    {
     "data": {
      "text/html": [
       "<table class=\"dataframe\">\n",
       "<caption>A tibble: 1 × 4</caption>\n",
       "<thead>\n",
       "\t<tr><th scope=col>PreferredLanguageConceptId</th><th scope=col>ConceptName</th><th scope=col>PatientCount</th><th scope=col>Percentage</th></tr>\n",
       "\t<tr><th scope=col>&lt;int&gt;</th><th scope=col>&lt;chr&gt;</th><th scope=col>&lt;int&gt;</th><th scope=col>&lt;dbl&gt;</th></tr>\n",
       "</thead>\n",
       "<tbody>\n",
       "\t<tr><td>1067556</td><td>Masked</td><td>1206910</td><td>100</td></tr>\n",
       "</tbody>\n",
       "</table>\n"
      ],
      "text/latex": [
       "A tibble: 1 × 4\n",
       "\\begin{tabular}{llll}\n",
       " PreferredLanguageConceptId & ConceptName & PatientCount & Percentage\\\\\n",
       " <int> & <chr> & <int> & <dbl>\\\\\n",
       "\\hline\n",
       "\t 1067556 & Masked & 1206910 & 100\\\\\n",
       "\\end{tabular}\n"
      ],
      "text/markdown": [
       "\n",
       "A tibble: 1 × 4\n",
       "\n",
       "| PreferredLanguageConceptId &lt;int&gt; | ConceptName &lt;chr&gt; | PatientCount &lt;int&gt; | Percentage &lt;dbl&gt; |\n",
       "|---|---|---|---|\n",
       "| 1067556 | Masked | 1206910 | 100 |\n",
       "\n"
      ],
      "text/plain": [
       "  PreferredLanguageConceptId ConceptName PatientCount Percentage\n",
       "1 1067556                    Masked      1206910      100       "
      ]
     },
     "metadata": {},
     "output_type": "display_data"
    }
   ],
   "source": [
    "#get patient's preferred language summary\n",
    "\n",
    "sql <- \"select p.PreferredLanguageConceptId, c.ConceptName, count(distinct p.Id) as PatientCount\n",
    "from Person p join Concept c on (p.PreferredLanguageConceptId = c.ConceptId)\n",
    "group by PreferredLanguageConceptId, ConceptName\n",
    "order by PatientCount desc;\"\n",
    "\n",
    "language_summary <- load_sql_table(con,snapshot, query = sql) %>% collect() %>% mutate(Percentage = round( PatientCount / sum(PatientCount) *100,3))\n",
    "language_summary"
   ]
  },
  {
   "cell_type": "code",
   "execution_count": 36,
   "id": "67df390b-ee79-48f7-a384-c791ebcca4b3",
   "metadata": {
    "execution": {
     "iopub.execute_input": "2023-07-07T15:59:16.558393Z",
     "iopub.status.busy": "2023-07-07T15:59:16.557308Z",
     "iopub.status.idle": "2023-07-07T15:59:28.283485Z",
     "shell.execute_reply": "2023-07-07T15:59:28.282526Z"
    },
    "tags": []
   },
   "outputs": [
    {
     "data": {
      "text/html": [
       "<table class=\"dataframe\">\n",
       "<caption>A tibble: 4 × 3</caption>\n",
       "<thead>\n",
       "\t<tr><th scope=col>Ethnicity</th><th scope=col>Count</th><th scope=col>Percentage</th></tr>\n",
       "\t<tr><th scope=col>&lt;chr&gt;</th><th scope=col>&lt;int&gt;</th><th scope=col>&lt;dbl&gt;</th></tr>\n",
       "</thead>\n",
       "<tbody>\n",
       "\t<tr><td>Not Hispanic or Latino</td><td>1040618</td><td>86.222</td></tr>\n",
       "\t<tr><td>Unknown               </td><td>  93030</td><td> 7.708</td></tr>\n",
       "\t<tr><td>Hispanic or Latino    </td><td>  73247</td><td> 6.069</td></tr>\n",
       "\t<tr><td>Other- Colombian      </td><td>     15</td><td> 0.001</td></tr>\n",
       "</tbody>\n",
       "</table>\n"
      ],
      "text/latex": [
       "A tibble: 4 × 3\n",
       "\\begin{tabular}{lll}\n",
       " Ethnicity & Count & Percentage\\\\\n",
       " <chr> & <int> & <dbl>\\\\\n",
       "\\hline\n",
       "\t Not Hispanic or Latino & 1040618 & 86.222\\\\\n",
       "\t Unknown                &   93030 &  7.708\\\\\n",
       "\t Hispanic or Latino     &   73247 &  6.069\\\\\n",
       "\t Other- Colombian       &      15 &  0.001\\\\\n",
       "\\end{tabular}\n"
      ],
      "text/markdown": [
       "\n",
       "A tibble: 4 × 3\n",
       "\n",
       "| Ethnicity &lt;chr&gt; | Count &lt;int&gt; | Percentage &lt;dbl&gt; |\n",
       "|---|---|---|\n",
       "| Not Hispanic or Latino | 1040618 | 86.222 |\n",
       "| Unknown                |   93030 |  7.708 |\n",
       "| Hispanic or Latino     |   73247 |  6.069 |\n",
       "| Other- Colombian       |      15 |  0.001 |\n",
       "\n"
      ],
      "text/plain": [
       "  Ethnicity              Count   Percentage\n",
       "1 Not Hispanic or Latino 1040618 86.222    \n",
       "2 Unknown                  93030  7.708    \n",
       "3 Hispanic or Latino       73247  6.069    \n",
       "4 Other- Colombian            15  0.001    "
      ]
     },
     "metadata": {},
     "output_type": "display_data"
    }
   ],
   "source": [
    "# get OMB standard ethinicity - hispanic or latino ; not hispanic or latino\n",
    "sql <- \"select p.EthnicityConceptId, c.ConceptName, count(distinct p.Id) as PatientCount\n",
    "from Person p join Concept c on (p.EthnicityConceptId = c.ConceptId)\n",
    "group by EthnicityConceptId, ConceptName\n",
    "order by PatientCount desc\"\n",
    "ethnicity_summary <- load_sql_table(con,snapshot,query = sql) %>% collect()%>% \n",
    "mutate(Ethnicity = case_when(EthnicityConceptId %in% c(1067556,1067558,3056585,1067561,1067555) ~ \"Unknown\",\n",
    "                                                        EthnicityConceptId %in% c(1065401,1065359) ~ ConceptName,\n",
    "                                                        TRUE ~ paste(\"Other-\",ConceptName )))%>%\n",
    "group_by(Ethnicity)%>% summarise(Count  = sum(PatientCount))%>%arrange(desc(Count)) %>% mutate(Percentage = round( Count / sum(Count) *100,3))\n",
    "ethnicity_summary"
   ]
  },
  {
   "cell_type": "code",
   "execution_count": 37,
   "id": "91a3300a-1b5f-40e4-9272-676e5ec4055d",
   "metadata": {
    "execution": {
     "iopub.execute_input": "2023-07-07T15:59:34.492678Z",
     "iopub.status.busy": "2023-07-07T15:59:34.491724Z",
     "iopub.status.idle": "2023-07-07T15:59:34.499595Z",
     "shell.execute_reply": "2023-07-07T15:59:34.498660Z"
    },
    "tags": []
   },
   "outputs": [],
   "source": [
    "#define a group of unknown, useless codes\n",
    "useless <- c(1067556,1067558,3056585,1067561,1067555)"
   ]
  },
  {
   "cell_type": "code",
   "execution_count": 42,
   "id": "eee713a7-26c4-466c-8453-1de9cd81b9e5",
   "metadata": {
    "execution": {
     "iopub.execute_input": "2023-07-07T16:02:32.319563Z",
     "iopub.status.busy": "2023-07-07T16:02:32.318449Z",
     "iopub.status.idle": "2023-07-07T16:02:43.922413Z",
     "shell.execute_reply": "2023-07-07T16:02:43.921353Z"
    },
    "tags": []
   },
   "outputs": [
    {
     "data": {
      "text/html": [
       "<table class=\"dataframe\">\n",
       "<caption>A tibble: 11 × 3</caption>\n",
       "<thead>\n",
       "\t<tr><th scope=col>Race</th><th scope=col>Count</th><th scope=col>Percentage</th></tr>\n",
       "\t<tr><th scope=col>&lt;chr&gt;</th><th scope=col>&lt;int&gt;</th><th scope=col>&lt;dbl&gt;</th></tr>\n",
       "</thead>\n",
       "<tbody>\n",
       "\t<tr><td>White                                    </td><td>888147</td><td>73.781</td></tr>\n",
       "\t<tr><td>Black or African American                </td><td>184790</td><td>15.351</td></tr>\n",
       "\t<tr><td>Other- Other Race                        </td><td> 42685</td><td> 3.546</td></tr>\n",
       "\t<tr><td>Asian                                    </td><td> 33820</td><td> 2.810</td></tr>\n",
       "\t<tr><td>Unknown                                  </td><td> 33703</td><td> 2.800</td></tr>\n",
       "\t<tr><td>Other- Declined to answer                </td><td>  7459</td><td> 0.620</td></tr>\n",
       "\t<tr><td>American Indian or Alaska Native         </td><td>  5395</td><td> 0.448</td></tr>\n",
       "\t<tr><td>Other- Multiracial                       </td><td>  4270</td><td> 0.355</td></tr>\n",
       "\t<tr><td>Native Hawaiian or Other Pacific Islander</td><td>  3447</td><td> 0.286</td></tr>\n",
       "\t<tr><td>Other- Middle Eastern or North African   </td><td>    23</td><td> 0.002</td></tr>\n",
       "\t<tr><td>Other- Columbia                          </td><td>    22</td><td> 0.002</td></tr>\n",
       "</tbody>\n",
       "</table>\n"
      ],
      "text/latex": [
       "A tibble: 11 × 3\n",
       "\\begin{tabular}{lll}\n",
       " Race & Count & Percentage\\\\\n",
       " <chr> & <int> & <dbl>\\\\\n",
       "\\hline\n",
       "\t White                                     & 888147 & 73.781\\\\\n",
       "\t Black or African American                 & 184790 & 15.351\\\\\n",
       "\t Other- Other Race                         &  42685 &  3.546\\\\\n",
       "\t Asian                                     &  33820 &  2.810\\\\\n",
       "\t Unknown                                   &  33703 &  2.800\\\\\n",
       "\t Other- Declined to answer                 &   7459 &  0.620\\\\\n",
       "\t American Indian or Alaska Native          &   5395 &  0.448\\\\\n",
       "\t Other- Multiracial                        &   4270 &  0.355\\\\\n",
       "\t Native Hawaiian or Other Pacific Islander &   3447 &  0.286\\\\\n",
       "\t Other- Middle Eastern or North African    &     23 &  0.002\\\\\n",
       "\t Other- Columbia                           &     22 &  0.002\\\\\n",
       "\\end{tabular}\n"
      ],
      "text/markdown": [
       "\n",
       "A tibble: 11 × 3\n",
       "\n",
       "| Race &lt;chr&gt; | Count &lt;int&gt; | Percentage &lt;dbl&gt; |\n",
       "|---|---|---|\n",
       "| White                                     | 888147 | 73.781 |\n",
       "| Black or African American                 | 184790 | 15.351 |\n",
       "| Other- Other Race                         |  42685 |  3.546 |\n",
       "| Asian                                     |  33820 |  2.810 |\n",
       "| Unknown                                   |  33703 |  2.800 |\n",
       "| Other- Declined to answer                 |   7459 |  0.620 |\n",
       "| American Indian or Alaska Native          |   5395 |  0.448 |\n",
       "| Other- Multiracial                        |   4270 |  0.355 |\n",
       "| Native Hawaiian or Other Pacific Islander |   3447 |  0.286 |\n",
       "| Other- Middle Eastern or North African    |     23 |  0.002 |\n",
       "| Other- Columbia                           |     22 |  0.002 |\n",
       "\n"
      ],
      "text/plain": [
       "   Race                                      Count  Percentage\n",
       "1  White                                     888147 73.781    \n",
       "2  Black or African American                 184790 15.351    \n",
       "3  Other- Other Race                          42685  3.546    \n",
       "4  Asian                                      33820  2.810    \n",
       "5  Unknown                                    33703  2.800    \n",
       "6  Other- Declined to answer                   7459  0.620    \n",
       "7  American Indian or Alaska Native            5395  0.448    \n",
       "8  Other- Multiracial                          4270  0.355    \n",
       "9  Native Hawaiian or Other Pacific Islander   3447  0.286    \n",
       "10 Other- Middle Eastern or North African        23  0.002    \n",
       "11 Other- Columbia                               22  0.002    "
      ]
     },
     "metadata": {},
     "output_type": "display_data"
    }
   ],
   "source": [
    "# get OMB standard race summary\n",
    "sql <- \"select p.RaceConceptId, c.ConceptName, count(distinct p.PersonId) as PatientCount\n",
    "from PersonRace p join Concept c on (p.RaceConceptId = c.ConceptId)\n",
    "group by RaceConceptId, ConceptName\n",
    "order by PatientCount desc\"\n",
    "races <- load_sql_table(con,snapshot,query = sql) %>% collect()\n",
    "OMBRace <- c(\"Black or African American\",\"Native Hawaiian or Other Pacific Islander\",\"American Indian or Alaska Native\",\"Asian\",\"White\")\n",
    "race_summary <- races %>% mutate(CombinedRaceName = case_when(ConceptName %in% c(\"African American\",\"Black\",\"African\") ~ \"Black or African American\",\n",
    "                                             ConceptName %in% c(\"Other Pacific Islander\",\"Native Hawaiian\") ~ \"Native Hawaiian or Other Pacific Islander\",\n",
    "                                             ConceptName %in% c(\"American Indian\",\"Alaska Native\") ~ \"American Indian or Alaska Native\",\n",
    "                                             ConceptName %in% c(\"Asian Indian\",\"Korean\",\"Filipino\") ~ \"Asian\",\n",
    "                                              TRUE ~ ConceptName\n",
    "                                             ))%>%\n",
    "mutate(Race = case_when(CombinedRaceName %in% OMBRace ~ CombinedRaceName,\n",
    "                       RaceConceptId %in% useless ~ \"Unknown\",\n",
    "                       TRUE ~ paste(\"Other-\", CombinedRaceName)))%>%group_by(Race) %>% summarise(Count = sum(PatientCount))%>% \n",
    "arrange(desc(Count))%>% mutate(Percentage = round( Count / sum(Count) *100,3))\n",
    "race_summary"
   ]
  },
  {
   "cell_type": "code",
   "execution_count": 43,
   "id": "e4407cc6-4cb0-4914-8e4c-8ef834653eb8",
   "metadata": {
    "execution": {
     "iopub.execute_input": "2023-07-07T16:02:43.924826Z",
     "iopub.status.busy": "2023-07-07T16:02:43.923970Z",
     "iopub.status.idle": "2023-07-07T16:02:53.967201Z",
     "shell.execute_reply": "2023-07-07T16:02:53.966172Z"
    },
    "tags": []
   },
   "outputs": [
    {
     "data": {
      "text/html": [
       "<table class=\"dataframe\">\n",
       "<caption>A tibble: 4 × 3</caption>\n",
       "<thead>\n",
       "\t<tr><th scope=col>Gender</th><th scope=col>Count</th><th scope=col>Percentage</th></tr>\n",
       "\t<tr><th scope=col>&lt;chr&gt;</th><th scope=col>&lt;int&gt;</th><th scope=col>&lt;dbl&gt;</th></tr>\n",
       "</thead>\n",
       "<tbody>\n",
       "\t<tr><td>Female </td><td>637959</td><td>52.859</td></tr>\n",
       "\t<tr><td>Male   </td><td>565946</td><td>46.892</td></tr>\n",
       "\t<tr><td>Unknown</td><td>  2998</td><td> 0.248</td></tr>\n",
       "\t<tr><td>Other  </td><td>     7</td><td> 0.001</td></tr>\n",
       "</tbody>\n",
       "</table>\n"
      ],
      "text/latex": [
       "A tibble: 4 × 3\n",
       "\\begin{tabular}{lll}\n",
       " Gender & Count & Percentage\\\\\n",
       " <chr> & <int> & <dbl>\\\\\n",
       "\\hline\n",
       "\t Female  & 637959 & 52.859\\\\\n",
       "\t Male    & 565946 & 46.892\\\\\n",
       "\t Unknown &   2998 &  0.248\\\\\n",
       "\t Other   &      7 &  0.001\\\\\n",
       "\\end{tabular}\n"
      ],
      "text/markdown": [
       "\n",
       "A tibble: 4 × 3\n",
       "\n",
       "| Gender &lt;chr&gt; | Count &lt;int&gt; | Percentage &lt;dbl&gt; |\n",
       "|---|---|---|\n",
       "| Female  | 637959 | 52.859 |\n",
       "| Male    | 565946 | 46.892 |\n",
       "| Unknown |   2998 |  0.248 |\n",
       "| Other   |      7 |  0.001 |\n",
       "\n"
      ],
      "text/plain": [
       "  Gender  Count  Percentage\n",
       "1 Female  637959 52.859    \n",
       "2 Male    565946 46.892    \n",
       "3 Unknown   2998  0.248    \n",
       "4 Other        7  0.001    "
      ]
     },
     "metadata": {},
     "output_type": "display_data"
    }
   ],
   "source": [
    "# get gender summary\n",
    "\n",
    "sql <- \"SELECT p.GenderConceptId, c.ConceptName, count(distinct Id) as PatientCount\n",
    "from Person p join Concept c on (p.GenderConceptId = c.ConceptId)\n",
    "group by GenderConceptId, ConceptName\n",
    "order by PatientCount desc;\"\n",
    "\n",
    "gender_summary <- load_sql_table(con,snapshot,query = sql) %>% collect()\n",
    "gender_summary <- gender_summary %>% mutate(Gender = case_when(GenderConceptId %in% useless ~ 'Unknown',\n",
    "                                                              TRUE ~ ConceptName))%>% \n",
    "group_by(Gender) %>% summarise(Count = sum(PatientCount))%>% arrange(desc(Count))%>% mutate(Percentage = round( Count / sum(Count) *100,3))\n",
    "gender_summary"
   ]
  },
  {
   "cell_type": "code",
   "execution_count": null,
   "id": "45ff2a6c-88a8-4bea-b133-27e309074e0b",
   "metadata": {},
   "outputs": [],
   "source": []
  },
  {
   "cell_type": "code",
   "execution_count": null,
   "id": "5e95b974-ef4d-447b-aa65-8d6004bd2f12",
   "metadata": {},
   "outputs": [],
   "source": []
  }
 ],
 "metadata": {
  "kernelspec": {
   "display_name": "R",
   "language": "R",
   "name": "ir"
  },
  "language_info": {
   "codemirror_mode": "r",
   "file_extension": ".r",
   "mimetype": "text/x-r-source",
   "name": "R",
   "pygments_lexer": "r",
   "version": "4.1.3"
  }
 },
 "nbformat": 4,
 "nbformat_minor": 5
}
