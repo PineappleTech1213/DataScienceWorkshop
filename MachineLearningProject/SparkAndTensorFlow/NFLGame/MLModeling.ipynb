{
 "cells": [
  {
   "cell_type": "code",
   "execution_count": 1,
   "id": "207de267",
   "metadata": {},
   "outputs": [
    {
     "name": "stderr",
     "output_type": "stream",
     "text": [
      "/Library/Spark/spark-3.2.1-bin-hadoop3.2-scala2.13/python/pyspark/sql/context.py:77: FutureWarning: Deprecated in 3.0.0. Use SparkSession.builder.getOrCreate() instead.\n",
      "  warnings.warn(\n"
     ]
    }
   ],
   "source": [
    "#import \n",
    "import pyspark\n",
    "from pyspark import SparkContext #for unabling to set up sc by yourself\n",
    "from pyspark.sql import SparkSession, SQLContext #spark dataframe = spark sql\n",
    "from pyspark.sql.functions import to_date, col, count,when,lit,rand,to_timestamp,udf\n",
    "from pyspark.sql.functions import concat_ws, substring,isnan,regexp_replace,concat\n",
    "from pyspark.sql.functions import udf,regexp_extract, monotonically_increasing_id\n",
    "from pyspark.ml.feature import Imputer\n",
    "\n",
    "#building spark session\n",
    "appname = \"homework4\" #define app name\n",
    "master = \"local\"\n",
    "\n",
    "config = pyspark.SparkConf().setAppName(appname)\\\n",
    ".setMaster(master) #we do not have any workers.\n",
    "\n",
    "\n",
    "#session\n",
    "#with sql context, create session from it\n",
    "sc  = SparkContext.getOrCreate(conf=config)\n",
    "sqlContext = SQLContext(sc)\n",
    "#don't create many sessions, take up too much room!\n",
    "sp_session = sqlContext.sparkSession.builder.getOrCreate();\n",
    "#export data into postgresql\n",
    "from pyspark import SparkContext, SparkConf, SQLContext\n",
    "\n",
    "#define a function to read data from previous homework\n",
    "def read_data(tablename):\n",
    "    play_df = sqlContext.read.format(\"jdbc\")\\\n",
    "    .option(\"url\", \"jdbc:postgresql://localhost:5432/postgres\")\\\n",
    "    .option(\"dbtable\", tablename)\\\n",
    "    .option(\"user\", \"postgres\")\\\n",
    "    .option(\"password\", \"postgres\")\\\n",
    "    .option(\"Driver\", \"org.postgresql.Driver\")\\\n",
    "    .load()\n",
    "    play_df.printSchema()\n",
    "    return play_df\n",
    "    "
   ]
  },
  {
   "cell_type": "code",
   "execution_count": 2,
   "id": "b1870759",
   "metadata": {},
   "outputs": [
    {
     "name": "stdout",
     "output_type": "stream",
     "text": [
      "root\n",
      " |-- gameid: string (nullable = true)\n",
      " |-- playid: string (nullable = true)\n",
      " |-- quarter: integer (nullable = true)\n",
      " |-- gameclock: timestamp (nullable = true)\n",
      " |-- down: integer (nullable = true)\n",
      " |-- yardsToGo: integer (nullable = true)\n",
      " |-- possessionTeam: string (nullable = true)\n",
      " |-- yardlineSide: string (nullable = true)\n",
      " |-- yardlineNumber: string (nullable = true)\n",
      " |-- offenseFormation: string (nullable = true)\n",
      " |-- personnel_off: string (nullable = true)\n",
      " |-- personnel_def: string (nullable = true)\n",
      " |-- isPenalty: boolean (nullable = true)\n",
      " |-- isSTPlay: boolean (nullable = true)\n",
      " |-- PassResult: string (nullable = true)\n",
      " |-- PlayResult: integer (nullable = true)\n",
      " |-- Pass_Length: integer (nullable = true)\n",
      " |-- YardAfterCatch: integer (nullable = true)\n",
      " |-- defenders_InTheBox: integer (nullable = true)\n",
      " |-- number_PassRushers: integer (nullable = true)\n",
      " |-- Play_Description: string (nullable = true)\n",
      " |-- Player_1: string (nullable = true)\n",
      " |-- Player_2: string (nullable = true)\n",
      " |-- Player_3: string (nullable = true)\n",
      " |-- SpTeamPlayId: string (nullable = true)\n",
      " |-- Home_Score_ID: string (nullable = true)\n",
      " |-- Visitor_Score_ID: string (nullable = true)\n",
      "\n",
      "root\n",
      " |-- SpecialTeamsPlayType: string (nullable = true)\n",
      " |-- KickReturn: integer (nullable = true)\n",
      " |-- SpTeamPlayId: string (nullable = true)\n",
      "\n"
     ]
    }
   ],
   "source": [
    "#ingest data from previous play data in postgres\n",
    "\n",
    "plays_df =read_data(\"NFL.PLAYS\")\n",
    "team_plays = read_data(\"NFL.SPECIAL_TM_PLAY\")"
   ]
  },
  {
   "cell_type": "code",
   "execution_count": 3,
   "id": "95cc8238",
   "metadata": {},
   "outputs": [
    {
     "name": "stdout",
     "output_type": "stream",
     "text": [
      "+----------+\n",
      "|PassResult|\n",
      "+----------+\n",
      "|        NA|\n",
      "|         C|\n",
      "|        IN|\n",
      "|         S|\n",
      "|         R|\n",
      "|         I|\n",
      "+----------+\n",
      "\n",
      "+--------------------+----------+--------------+\n",
      "|SpecialTeamsPlayType|KickReturn|  SpTeamPlayId|\n",
      "+--------------------+----------+--------------+\n",
      "|                Punt|         1|SpTmPlayID_286|\n",
      "|                Punt|        49|SpTmPlayID_769|\n",
      "|             Kickoff|        38|SpTmPlayID_464|\n",
      "|             Kickoff|        26|SpTmPlayID_742|\n",
      "|                Punt|        16| SpTmPlayID_78|\n",
      "|             Kickoff|        50|SpTmPlayID_281|\n",
      "|             Kickoff|        20|SpTmPlayID_120|\n",
      "|             Kickoff|        29| SpTmPlayID_89|\n",
      "|                  NA|        15|SpTmPlayID_826|\n",
      "|                Punt|         3|SpTmPlayID_544|\n",
      "+--------------------+----------+--------------+\n",
      "only showing top 10 rows\n",
      "\n",
      "root\n",
      " |-- playid: string (nullable = true)\n",
      " |-- result: string (nullable = false)\n",
      " |-- SpecialTeamsPlayType: string (nullable = true)\n",
      " |-- possessionTeam: string (nullable = true)\n",
      " |-- isSTPlay: boolean (nullable = true)\n",
      " |-- offenseFormation: string (nullable = true)\n",
      " |-- personnel_off: string (nullable = true)\n",
      " |-- personnel_def: string (nullable = true)\n",
      " |-- yardlineSide: string (nullable = true)\n",
      " |-- KickReturn: integer (nullable = true)\n",
      " |-- number_PassRushers: integer (nullable = true)\n",
      " |-- defenders_InTheBox: integer (nullable = true)\n",
      " |-- YardAfterCatch: integer (nullable = true)\n",
      " |-- Pass_Length: integer (nullable = true)\n",
      " |-- yardsToGo: integer (nullable = true)\n",
      " |-- yardline_number: integer (nullable = true)\n",
      "\n",
      "+------+-----+\n",
      "|result|count|\n",
      "+------+-----+\n",
      "|     0| 8408|\n",
      "|     1| 3526|\n",
      "+------+-----+\n",
      "\n"
     ]
    }
   ],
   "source": [
    "#create the target variable, and set it to string data type\n",
    "#join teamplay data into plays data\n",
    "plays_df.select(\"PassResult\").distinct().show()\n",
    "team_plays.show(10)\n",
    "plays_with_teamplay = plays_df.join(team_plays,plays_df.SpTeamPlayId  == team_plays.SpTeamPlayId).drop(\"SpTeamPlayId\")\n",
    "#select columns that would be needed as features \n",
    "plays_with_caughtpass= plays_with_teamplay.withColumn(\"result\", when(col(\"PassResult\")==\"C\",\"1\").otherwise(\"0\"))\\\n",
    ".select(\"playid\",\"result\",\"SpecialTeamsPlayType\",\"possessionTeam\",\"isSTPlay\",\"offenseFormation\",\n",
    "        \"personnel_off\",\"personnel_def\",\"yardlineSide\",\n",
    "        \"yardlineNumber\",\"KickReturn\",\"number_PassRushers\",\"defenders_InTheBox\",\"YardAfterCatch\",\n",
    "       \"Pass_Length\",\"yardsToGo\").withColumn(\"yardline_number\", col(\"yardLineNumber\").cast(\"int\")).drop(\"yardLineNumber\")\n",
    "plays_with_caughtpass.printSchema()\n",
    "plays_with_caughtpass.groupBy(\"result\").count().show()"
   ]
  },
  {
   "cell_type": "code",
   "execution_count": 4,
   "id": "f3b5e19a",
   "metadata": {},
   "outputs": [
    {
     "name": "stdout",
     "output_type": "stream",
     "text": [
      "-RECORD 0-----------------\n",
      " KickReturn         | 0   \n",
      " number_PassRushers | 0   \n",
      " defenders_InTheBox | 0   \n",
      " YardAfterCatch     | 0   \n",
      " Pass_Length        | 0   \n",
      " yardsToGo          | 0   \n",
      " yardline_number    | 102 \n",
      "\n",
      "-RECORD 0---------------------\n",
      " KickReturn             | 0   \n",
      " number_PassRushers     | 0   \n",
      " defenders_InTheBox     | 0   \n",
      " YardAfterCatch         | 0   \n",
      " Pass_Length            | 0   \n",
      " yardsToGo              | 0   \n",
      " yardlin_number_imputed | 0   \n",
      "\n"
     ]
    }
   ],
   "source": [
    "#start data cleaning process \n",
    "#make sure there is no null value\n",
    "numeric_cols = [column[0] for column in plays_with_caughtpass.dtypes if column[1]==\"int\"]\n",
    "plays_with_caughtpass.select([count(when(isnan(c) | col(c).isNull(), c)).alias(c) for c in numeric_cols]).show(vertical=True)\n",
    "#yardline number is not imputed\n",
    "#create an imputer to impute missing values\n",
    "plays_df_filled_na = plays_with_caughtpass.fillna(-200, 'yardline_number')\n",
    "\n",
    "imputer = Imputer (\n",
    "            inputCol='yardline_number',\n",
    "            outputCol='yardlin_number_imputed')\\\n",
    "                .setStrategy(\"median\").setMissingValue(-200)\n",
    "\n",
    "plays_df_imputed = imputer.fit(plays_df_filled_na).transform(plays_df_filled_na).drop('yardline_number')\n",
    "\n",
    "#check if the data have any more missing values\n",
    "numeric_cols = [column[0] for column in plays_df_imputed.dtypes if column[1]==\"int\"]\n",
    "plays_df_imputed.select([count(when(isnan(c) | col(c).isNull(), c)).alias(c) for c in numeric_cols]).show(vertical=True)\n",
    "\n"
   ]
  },
  {
   "cell_type": "code",
   "execution_count": 5,
   "id": "2dfb47c3",
   "metadata": {},
   "outputs": [],
   "source": [
    "#deal with outliers\n",
    "#here is to deal with outliers with codes from lectures\n",
    "from functools import reduce\n",
    "\n",
    "def column_add(a,b):\n",
    "     return  a.__add__(b)\n",
    "    \n",
    "def find_outliers(df):\n",
    "    # Identifying the numerical columns in a spark dataframe\n",
    "    numeric_columns = [column[0] for column in df.dtypes if column[1]=='int']\n",
    "\n",
    "    # Using the `for` loop to create new columns by identifying the outliers for each feature\n",
    "    for column in numeric_columns:\n",
    "\n",
    "        less_Q1 = 'less_Q1_{}'.format(column)\n",
    "        more_Q3 = 'more_Q3_{}'.format(column)\n",
    "        Q1 = 'Q1_{}'.format(column)\n",
    "        Q3 = 'Q3_{}'.format(column)\n",
    "\n",
    "        # Q1 : First Quartile ., Q3 : Third Quartile\n",
    "        Q1 = df.approxQuantile(column,[0.25],relativeError=0)\n",
    "        Q3 = df.approxQuantile(column,[0.75],relativeError=0)\n",
    "        \n",
    "        # IQR : Inter Quantile Range\n",
    "        # We need to define the index [0], as Q1 & Q3 are a set of lists., to perform a mathematical operation\n",
    "        # Q1 & Q3 are defined seperately so as to have a clear indication on First Quantile & 3rd Quantile\n",
    "        IQR = Q3[0] - Q1[0]\n",
    "        \n",
    "        #selecting the data, with -1.5*IQR to + 1.5*IQR., where param = 1.5 default value\n",
    "        less_Q1 =  Q1[0] - 1.5*IQR\n",
    "        more_Q3 =  Q3[0] + 1.5*IQR\n",
    "        \n",
    "        isOutlierCol = 'is_outlier_{}'.format(column)\n",
    "        \n",
    "        df = df.withColumn(isOutlierCol,when((df[column] > more_Q3) | (df[column] < less_Q1), 1).otherwise(0))\n",
    "    \n",
    "\n",
    "    # Selecting the specific columns which we have added above, to check if there are any outliers\n",
    "    selected_columns = [column for column in df.columns if column.startswith(\"is_outlier\")]\n",
    "    # Adding all the outlier columns into a new colum \"total_outliers\", to see the total number of outliers\n",
    "    df = df.withColumn('total_outliers',reduce(column_add, ( df[col] for col in  selected_columns)))\n",
    "\n",
    "    # Dropping the extra columns created above, just to create nice dataframe., without extra columns\n",
    "    df = df.drop(*[column for column in df.columns if column.startswith(\"is_outlier\")])\n",
    "\n",
    "    return df\n",
    "\n",
    "plays_with_outliers = find_outliers(plays_df_imputed)"
   ]
  },
  {
   "cell_type": "code",
   "execution_count": 16,
   "id": "0db6d71e",
   "metadata": {},
   "outputs": [
    {
     "name": "stdout",
     "output_type": "stream",
     "text": [
      "Total data count is  11934\n",
      "Excluding extreme outliers we have 11421 entries left \n"
     ]
    }
   ],
   "source": [
    "# plays_with_outliers.show(5, vertical=True)\n",
    "print(\"Total data count is \",plays_with_outliers.count())\n",
    "plays_without_outliers = plays_with_outliers.filter(plays_with_outliers[\"total_outliers\"] <4)\n",
    "print(\"Excluding extreme outliers we have %d entries left \"% plays_without_outliers.count())"
   ]
  },
  {
   "cell_type": "code",
   "execution_count": 7,
   "id": "2b93bde7",
   "metadata": {},
   "outputs": [
    {
     "name": "stdout",
     "output_type": "stream",
     "text": [
      "root\n",
      " |-- playid: string (nullable = true)\n",
      " |-- result: string (nullable = false)\n",
      " |-- SpecialTeamsPlayType: string (nullable = true)\n",
      " |-- possessionTeam: string (nullable = true)\n",
      " |-- offenseFormation: string (nullable = true)\n",
      " |-- personnel_off: string (nullable = true)\n",
      " |-- personnel_def: string (nullable = true)\n",
      " |-- yardlineSide: string (nullable = true)\n",
      " |-- KickReturn: integer (nullable = true)\n",
      " |-- number_PassRushers: integer (nullable = true)\n",
      " |-- defenders_InTheBox: integer (nullable = true)\n",
      " |-- YardAfterCatch: integer (nullable = true)\n",
      " |-- Pass_Length: integer (nullable = true)\n",
      " |-- yardsToGo: integer (nullable = true)\n",
      " |-- yardlin_number_imputed: integer (nullable = true)\n",
      " |-- isSTPlay_encoded: integer (nullable = true)\n",
      " |-- possessionTeam_index: double (nullable = false)\n",
      " |-- personnel_offense_index: double (nullable = false)\n",
      " |-- personnel_defense_index: double (nullable = false)\n",
      " |-- offenseFormation_index: double (nullable = false)\n",
      " |-- yardlineSide_index: double (nullable = false)\n",
      " |-- special_teamplay_index: double (nullable = false)\n",
      " |-- special_teamplay_encoded: vector (nullable = true)\n",
      " |-- possessionTeam_encoded: vector (nullable = true)\n",
      " |-- personnel_offense_encoded: vector (nullable = true)\n",
      " |-- personnel_defense_encoded: vector (nullable = true)\n",
      " |-- offenseFormation_encoded: vector (nullable = true)\n",
      " |-- yardlineSide_encoded: vector (nullable = true)\n",
      "\n"
     ]
    }
   ],
   "source": [
    "from pyspark.ml.feature import StringIndexer, OneHotEncoder\n",
    "from pyspark.ml import Pipeline\n",
    "\n",
    "#handling categorical variables\n",
    "plays_df_without_binary = (plays_without_outliers.drop(\"total_outliers\")\\\n",
    "                                .withColumn(\"isSTPlay_encoded\", \n",
    "                                            plays_without_outliers[\"isSTPlay\"].cast(\"integer\")).drop(\"isSTPlay\"))\n",
    "\n",
    "#create pipeline to index categorical values\n",
    "stage_1 = StringIndexer(inputCol= 'possessionTeam', outputCol= 'possessionTeam_index', handleInvalid=\"keep\")\n",
    "\n",
    "stage_2 = StringIndexer(inputCol= 'personnel_off', outputCol= 'personnel_offense_index', handleInvalid=\"keep\")\n",
    "\n",
    "stage_3 = StringIndexer(inputCol= 'personnel_def', outputCol= 'personnel_defense_index', handleInvalid=\"keep\")\n",
    "\n",
    "stage_4 = StringIndexer(inputCol= 'offenseFormation', outputCol= 'offenseFormation_index', handleInvalid=\"keep\")\n",
    "\n",
    "stage_5 = StringIndexer(inputCol= 'yardlineSide', outputCol= 'yardlineSide_index', handleInvalid=\"keep\")\n",
    "\n",
    "stage_6 = StringIndexer(inputCol='SpecialTeamsPlayType',outputCol = 'special_teamplay_index',handleInvalid = \"keep\")\n",
    "\n",
    "\n",
    "\n",
    "# define one hot encode of the numeric columns\n",
    "stage_7 = OneHotEncoder(inputCols=['special_teamplay_index','possessionTeam_index','personnel_offense_index','personnel_defense_index',\n",
    "                                  'offenseFormation_index','yardlineSide_index'], \n",
    "                        outputCols=['special_teamplay_encoded','possessionTeam_encoded','personnel_offense_encoded','personnel_defense_encoded',\n",
    "                                   'offenseFormation_encoded','yardlineSide_encoded'])\n",
    "\n",
    "# setup the pipeline\n",
    "pipeline = Pipeline(stages=[stage_1, stage_2, stage_3, stage_4, stage_5, stage_6, stage_7])\n",
    "\n",
    "# fit the pipeline model and transform the data as defined\n",
    "pipeline_model = pipeline.fit(plays_df_without_binary)\n",
    "encoded_plays_df = pipeline_model.transform(plays_df_without_binary)\n",
    "\n",
    "# view the transformed data\n",
    "\n",
    "encoded_plays_df.printSchema()"
   ]
  },
  {
   "cell_type": "code",
   "execution_count": 8,
   "id": "f04bf621",
   "metadata": {},
   "outputs": [
    {
     "name": "stdout",
     "output_type": "stream",
     "text": [
      "root\n",
      " |-- playid: string (nullable = true)\n",
      " |-- result: string (nullable = false)\n",
      " |-- SpecialTeamsPlayType: string (nullable = true)\n",
      " |-- possessionTeam: string (nullable = true)\n",
      " |-- offenseFormation: string (nullable = true)\n",
      " |-- personnel_off: string (nullable = true)\n",
      " |-- personnel_def: string (nullable = true)\n",
      " |-- yardlineSide: string (nullable = true)\n",
      " |-- KickReturn: integer (nullable = true)\n",
      " |-- number_PassRushers: integer (nullable = true)\n",
      " |-- defenders_InTheBox: integer (nullable = true)\n",
      " |-- YardAfterCatch: integer (nullable = true)\n",
      " |-- Pass_Length: integer (nullable = true)\n",
      " |-- yardsToGo: integer (nullable = true)\n",
      " |-- yardlin_number_imputed: integer (nullable = true)\n",
      " |-- isSTPlay_encoded: integer (nullable = true)\n",
      " |-- possessionTeam_index: double (nullable = false)\n",
      " |-- personnel_offense_index: double (nullable = false)\n",
      " |-- personnel_defense_index: double (nullable = false)\n",
      " |-- offenseFormation_index: double (nullable = false)\n",
      " |-- yardlineSide_index: double (nullable = false)\n",
      " |-- special_teamplay_index: double (nullable = false)\n",
      " |-- special_teamplay_encoded: vector (nullable = true)\n",
      " |-- possessionTeam_encoded: vector (nullable = true)\n",
      " |-- personnel_offense_encoded: vector (nullable = true)\n",
      " |-- personnel_defense_encoded: vector (nullable = true)\n",
      " |-- offenseFormation_encoded: vector (nullable = true)\n",
      " |-- yardlineSide_encoded: vector (nullable = true)\n",
      " |-- vectorized_features: vector (nullable = true)\n",
      "\n"
     ]
    }
   ],
   "source": [
    "from pyspark.ml.feature import VectorAssembler\n",
    "#assemble all feature vectors into one feature vector\n",
    "vector_assembler = VectorAssembler(\n",
    "    inputCols=['special_teamplay_encoded','possessionTeam_encoded','personnel_offense_encoded','personnel_defense_encoded',\n",
    "               'offenseFormation_encoded','yardlineSide_encoded','isSTPlay_encoded',\n",
    "                              'yardsToGo', \"yardlin_number_imputed\",\"Pass_Length\",\"KickReturn\",\n",
    "               \"defenders_InTheBox\",\"number_PassRushers\",\"YardAfterCatch\"], \n",
    "    outputCol=\"vectorized_features\")\n",
    "\n",
    "assembled_plays_df = vector_assembler.transform(encoded_plays_df)\n",
    "\n",
    "# view the transformed data\n",
    "assembled_plays_df.printSchema()"
   ]
  },
  {
   "cell_type": "code",
   "execution_count": 9,
   "id": "79aef28b",
   "metadata": {},
   "outputs": [
    {
     "name": "stdout",
     "output_type": "stream",
     "text": [
      "Number of records for training purposes is: 9114\n",
      "Number of records for testing purposes is: 2307\n"
     ]
    }
   ],
   "source": [
    "#create ML model data\n",
    "#split data into train set and test set\n",
    "plays_model_df = assembled_plays_df.withColumn(\"outcome\", col(\"result\").cast(\"int\")).drop(\"result\")\n",
    "train, test = plays_model_df.randomSplit([0.8, 0.2], seed = 25)\n",
    "print(\"Number of records for training purposes is: \" + str(train.count()))\n",
    "print(\"Number of records for testing purposes is: \" + str(test.count()))\n",
    "\n"
   ]
  },
  {
   "cell_type": "code",
   "execution_count": 10,
   "id": "1e8a4505",
   "metadata": {},
   "outputs": [],
   "source": [
    "#since it is a binary classification, we first use logit regression\n",
    "\n",
    "from pyspark.ml.classification import LogisticRegression\n",
    "lr = LogisticRegression(featuresCol = 'vectorized_features', labelCol = 'outcome', maxIter=100)\n",
    "lrModel = lr.fit(train)\n",
    "predictions = lrModel.transform(test)\n"
   ]
  },
  {
   "cell_type": "code",
   "execution_count": 11,
   "id": "26a5c59d",
   "metadata": {},
   "outputs": [
    {
     "name": "stdout",
     "output_type": "stream",
     "text": [
      "Accuracy :  0.8296488946684005\n"
     ]
    }
   ],
   "source": [
    "#accuracy is the ratio between correct predictions to total predictions made by the model\n",
    "accuracy = predictions.filter(predictions.outcome == predictions.prediction).count() / float(predictions.count())\n",
    "print(\"Accuracy : \",accuracy)"
   ]
  },
  {
   "cell_type": "code",
   "execution_count": 12,
   "id": "66763c31",
   "metadata": {},
   "outputs": [
    {
     "name": "stdout",
     "output_type": "stream",
     "text": [
      "Normalized confusion matrix\n",
      "[[0.76627713 0.23372287]\n",
      " [0.14812646 0.85187354]]\n"
     ]
    },
    {
     "data": {
      "image/png": "[encoded data removed]",
      "text/plain": [
       "<Figure size 432x288 with 2 Axes>"
      ]
     },
     "metadata": {
      "needs_background": "light"
     },
     "output_type": "display_data"
    }
   ],
   "source": [
    "import matplotlib.pyplot as plt\n",
    "import numpy as np\n",
    "from sklearn.metrics import confusion_matrix\n",
    "\n",
    "import itertools\n",
    "def plot_confusion_matrix(cm, classes,\n",
    "                          normalize=True,\n",
    "                          title='Confusion matrix',\n",
    "                          cmap=plt.cm.Blues):\n",
    "    \"\"\"\n",
    "    This function prints and plots the confusion matrix.\n",
    "    Normalization can be applied by setting `normalize=True`.\n",
    "    \"\"\"\n",
    "    if normalize:\n",
    "        cm = cm.astype('float') / cm.sum(axis=1)[:, np.newaxis]\n",
    "        print(\"Normalized confusion matrix\")\n",
    "    else:\n",
    "        print('Confusion matrix, without normalization')\n",
    "\n",
    "    print(cm)\n",
    "\n",
    "    plt.imshow(cm, interpolation='nearest', cmap=cmap)\n",
    "    plt.title(title)\n",
    "    plt.colorbar()\n",
    "    tick_marks = np.arange(len(classes))\n",
    "    plt.xticks(tick_marks, classes, rotation=45)\n",
    "    plt.yticks(tick_marks, classes)\n",
    "\n",
    "    fmt = '.2f' if normalize else 'd'\n",
    "    thresh = cm.max() / 2.\n",
    "    for i, j in itertools.product(range(cm.shape[0]), range(cm.shape[1])):\n",
    "        plt.text(j, i, format(cm[i, j], fmt),\n",
    "                 horizontalalignment=\"center\",\n",
    "                 color=\"white\" if cm[i, j] > thresh else \"black\")\n",
    "\n",
    "    plt.tight_layout()\n",
    "    plt.ylabel('True label')\n",
    "    plt.xlabel('Predicted label')\n",
    "\n",
    "##draw the confusion matrix\n",
    "class_names=[1.0,0.0]\n",
    "y_true = predictions.select(\"outcome\")\n",
    "y_true = y_true.toPandas()\n",
    "\n",
    "y_pred = predictions.select(\"prediction\")\n",
    "y_pred = y_pred.toPandas()\n",
    "\n",
    "cnf_matrix = confusion_matrix(y_true, y_pred,labels=class_names)\n",
    "#cnf_matrix\n",
    "plt.figure()\n",
    "plot_confusion_matrix(cnf_matrix, classes=class_names,\n",
    "                      title='Confusion matrix')\n",
    "plt.show()\n",
    "#true positive rate is 0.77, and true negative rate is 0.85\n",
    "#the predicting power is relatively high"
   ]
  },
  {
   "cell_type": "code",
   "execution_count": 13,
   "id": "2112c931",
   "metadata": {
    "scrolled": true
   },
   "outputs": [
    {
     "data": {
      "image/png": "[encoded data removed]",
      "text/plain": [
       "<Figure size 432x288 with 1 Axes>"
      ]
     },
     "metadata": {
      "needs_background": "light"
     },
     "output_type": "display_data"
    },
    {
     "name": "stdout",
     "output_type": "stream",
     "text": [
      "Area under the curve is:  0.8090753324236726\n"
     ]
    }
   ],
   "source": [
    "#ROC graph\n",
    "\n",
    "from sklearn.metrics import roc_curve\n",
    "\n",
    "fpr, tpr, thresholds = roc_curve(y_true, y_pred)\n",
    "# plot the roc curve for the model\n",
    "plt.plot(fpr, tpr, linestyle='--', label='Logistic')\n",
    "# axis labels\n",
    "plt.xlabel('False Positive Rate')\n",
    "plt.ylabel('True Positive Rate')\n",
    "plt.title('ROC Curve')\n",
    "# show the legend\n",
    "plt.legend()\n",
    "# show the plot\n",
    "plt.show()\n",
    "\n",
    "#AUC calculation: it is 0.8, which is pretty high and close to 1.\n",
    "\n",
    "from pyspark.ml.evaluation import BinaryClassificationEvaluator\n",
    "\n",
    "evaluator = BinaryClassificationEvaluator(rawPredictionCol='prediction', labelCol='outcome', metricName='areaUnderROC')\n",
    "print(\"Area under the curve is: \", evaluator.evaluate(predictions))\n",
    "\n",
    "#false positive rate at about 0.15 and true positive rate can reach 0.8, which is great tradeoff"
   ]
  },
  {
   "cell_type": "code",
   "execution_count": 15,
   "id": "c09c7c2f",
   "metadata": {},
   "outputs": [
    {
     "name": "stdout",
     "output_type": "stream",
     "text": [
      "Best Model Test Area Under ROC 0.8295519855496867\n",
      "The parameters of the best model is  ['aggregationDepth: suggested depth for treeAggregate (>= 2). (default: 2)', 'elasticNetParam: the ElasticNet mixing parameter, in range [0, 1]. For alpha = 0, the penalty is an L2 penalty. For alpha = 1, it is an L1 penalty. (default: 0.0)', 'family: The name of family which is a description of the label distribution to be used in the model. Supported options: auto, binomial, multinomial (default: auto)', 'featuresCol: features column name. (default: features, current: vectorized_features)', 'fitIntercept: whether to fit an intercept term. (default: True)', 'labelCol: label column name. (default: label, current: outcome)', 'lowerBoundsOnCoefficients: The lower bounds on coefficients if fitting under bound constrained optimization. The bound matrix must be compatible with the shape (1, number of features) for binomial regression, or (number of classes, number of features) for multinomial regression. (undefined)', 'lowerBoundsOnIntercepts: The lower bounds on intercepts if fitting under bound constrained optimization. The bounds vector size must beequal with 1 for binomial regression, or the number oflasses for multinomial regression. (undefined)', 'maxBlockSizeInMB: maximum memory in MB for stacking input data into blocks. Data is stacked within partitions. If more than remaining data size in a partition then it is adjusted to the data size. Default 0.0 represents choosing optimal value, depends on specific algorithm. Must be >= 0. (default: 0.0)', 'maxIter: max number of iterations (>= 0). (default: 100, current: 5)', 'predictionCol: prediction column name. (default: prediction)', 'probabilityCol: Column name for predicted class conditional probabilities. Note: Not all models output well-calibrated probability estimates! These probabilities should be treated as confidences, not precise probabilities. (default: probability)', 'rawPredictionCol: raw prediction (a.k.a. confidence) column name. (default: rawPrediction)', 'regParam: regularization parameter (>= 0). (default: 0.0, current: 0.01)', 'standardization: whether to standardize the training features before fitting the model. (default: True)', 'threshold: Threshold in binary classification prediction, in range [0, 1]. If threshold and thresholds are both set, they must match.e.g. if threshold is p, then thresholds must be equal to [1-p, p]. (default: 0.5)', \"thresholds: Thresholds in multi-class classification to adjust the probability of predicting each class. Array must have length equal to the number of classes, with values > 0, excepting that at most one value may be 0. The class with largest value p/t is predicted, where p is the original probability of that class and t is the class's threshold. (undefined)\", 'tol: the convergence tolerance for iterative algorithms (>= 0). (default: 1e-06)', 'upperBoundsOnCoefficients: The upper bounds on coefficients if fitting under bound constrained optimization. The bound matrix must be compatible with the shape (1, number of features) for binomial regression, or (number of classes, number of features) for multinomial regression. (undefined)', 'upperBoundsOnIntercepts: The upper bounds on intercepts if fitting under bound constrained optimization. The bound vector size must be equal with 1 for binomial regression, or the number of classes for multinomial regression. (undefined)', 'weightCol: weight column name. If this is not set or empty, we treat all instance weights as 1.0. (undefined)']\n"
     ]
    }
   ],
   "source": [
    "#conduct cross validation\n",
    "from pyspark.ml.tuning import ParamGridBuilder, CrossValidator\n",
    "from pyspark.ml.evaluation import BinaryClassificationEvaluator\n",
    "\n",
    "# Create ParamGrid for Cross Validation\n",
    "paramGrid = (ParamGridBuilder()\n",
    "             .addGrid(lr.regParam, [0.01, 1.0, 2.0])# regularization parameter\n",
    "             .addGrid(lr.maxIter, [5, 10, 15])#Number of iterations\n",
    "             .build())\n",
    "#create the cross validator model\n",
    "cv = CrossValidator(estimator=lr, estimatorParamMaps=paramGrid, \n",
    "                    evaluator=evaluator, numFolds=5)\n",
    "#use the cross validator to fit the train set\n",
    "cvModel = cv.fit(train)\n",
    "#uset the cv model to predict the test set\n",
    "cv_predictions = cvModel.transform(test)\n",
    "#evaluate the performance of a cv model.\n",
    "#AUC is 0.82, which is 0.02 higher than before, it is a slight improvement\n",
    "print('Best Model Test Area Under ROC ', evaluator.evaluate(cv_predictions))\n",
    "print('The parameters of the best model is ', cvModel.bestModel.explainParams().split(\"\\n\"))"
   ]
  },
  {
   "cell_type": "code",
   "execution_count": null,
   "id": "3c2cd993",
   "metadata": {},
   "outputs": [],
   "source": []
  }
 ],
 "metadata": {
  "kernelspec": {
   "display_name": "Python 3",
   "language": "python",
   "name": "python3"
  },
  "language_info": {
   "codemirror_mode": {
    "name": "ipython",
    "version": 3
   },
   "file_extension": ".py",
   "mimetype": "text/x-python",
   "name": "python",
   "nbconvert_exporter": "python",
   "pygments_lexer": "ipython3",
   "version": "3.8.8"
  }
 },
 "nbformat": 4,
 "nbformat_minor": 5
}
