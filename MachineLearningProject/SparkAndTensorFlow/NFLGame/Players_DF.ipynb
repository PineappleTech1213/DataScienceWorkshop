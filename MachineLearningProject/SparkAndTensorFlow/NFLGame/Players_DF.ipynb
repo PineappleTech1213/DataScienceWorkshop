{
 "cells": [
  {
   "cell_type": "code",
   "execution_count": 3,
   "id": "dfd399b4",
   "metadata": {
    "scrolled": false
   },
   "outputs": [
    {
     "name": "stdout",
     "output_type": "stream",
     "text": [
      "root\n",
      " |-- nflId: integer (nullable = true)\n",
      " |-- FirstName: string (nullable = true)\n",
      " |-- LastName: string (nullable = true)\n",
      " |-- PositionAbbr: string (nullable = true)\n",
      " |-- EntryYear: integer (nullable = true)\n",
      " |-- DraftRound: string (nullable = true)\n",
      " |-- DraftNumber: string (nullable = true)\n",
      " |-- Height: string (nullable = true)\n",
      " |-- Weight: integer (nullable = true)\n",
      " |-- College: string (nullable = true)\n",
      "\n"
     ]
    }
   ],
   "source": [
    "# if you installed Spark on windows, \n",
    "# you may need findspark and need to initialize it prior to being able to use pyspark\n",
    "# Also, you may need to initialize SparkContext yourself.\n",
    "#import findspark\n",
    "#findspark.find()\n",
    "#findspark.init()\n",
    "import pyspark\n",
    "from pyspark.sql import SparkSession, SQLContext\n",
    "from pyspark.ml.feature import Imputer\n",
    "from pyspark.sql.functions import *\n",
    "\n",
    "appName = \"Big Data Analytics\"\n",
    "master = \"local\"\n",
    "\n",
    "# Create Configuration object for Spark.\n",
    "conf = pyspark.SparkConf()\\\n",
    "    .set('spark.driver.host','127.0.0.1')\\\n",
    "    .setAppName(appName)\\\n",
    "    .setMaster(master)\n",
    "\n",
    "# Create Spark Context with the new configurations rather than rely on the default one\n",
    "sc = SparkContext.getOrCreate(conf=conf)\n",
    "\n",
    "# You need to create SQL Context to conduct some database operations like what we will see later.\n",
    "#sqlContext = SQLContext(sc)\n",
    "\n",
    "# If you have SQL context, you create the session from the Spark Context\n",
    "spark = SparkSession.builder.getOrCreate()\n",
    "\n",
    "#Ingest data from the players CSV into Spark Dataframe. What is dataframe?\n",
    "players_df = (spark.read\n",
    "         .format(\"csv\")\n",
    "         .option(\"inferSchema\", \"true\")\n",
    "         .option(\"header\",\"true\")\n",
    "         .load(\"/home/bigdata/Big-Data-Bowl/Data/players.csv\")\n",
    "      )\n",
    "\n",
    "players_df.printSchema()"
   ]
  },
  {
   "cell_type": "code",
   "execution_count": 4,
   "id": "7cc330e5",
   "metadata": {},
   "outputs": [
    {
     "data": {
      "text/plain": [
       "1713"
      ]
     },
     "execution_count": 4,
     "metadata": {},
     "output_type": "execute_result"
    }
   ],
   "source": [
    "num_rows = players_df.count()\n",
    "num_rows"
   ]
  },
  {
   "cell_type": "code",
   "execution_count": 5,
   "id": "0f343bcc",
   "metadata": {},
   "outputs": [
    {
     "data": {
      "text/plain": [
       "10"
      ]
     },
     "execution_count": 5,
     "metadata": {},
     "output_type": "execute_result"
    }
   ],
   "source": [
    "num_columns = len(players_df.columns)\n",
    "num_columns"
   ]
  },
  {
   "cell_type": "code",
   "execution_count": 6,
   "id": "f69501a2",
   "metadata": {
    "scrolled": true
   },
   "outputs": [
    {
     "name": "stdout",
     "output_type": "stream",
     "text": [
      "root\n",
      " |-- FirstName: string (nullable = true)\n",
      " |-- LastName: string (nullable = true)\n",
      " |-- PositionAbbr: string (nullable = true)\n",
      " |-- EntryYear: integer (nullable = true)\n",
      " |-- Height: string (nullable = true)\n",
      " |-- Weight: integer (nullable = true)\n",
      " |-- College: string (nullable = true)\n",
      " |-- nfl_id: string (nullable = true)\n",
      " |-- Draft_Round: integer (nullable = true)\n",
      " |-- Draft_Number: integer (nullable = true)\n",
      "\n"
     ]
    }
   ],
   "source": [
    "casted_types_df = (players_df.withColumn(\"nfl_id\", players_df[\"nflId\"].cast(\"string\")).drop(\"nflId\")\n",
    "              .withColumn(\"Draft_Round\", players_df[\"DraftRound\"].cast(\"integer\")).drop(\"DraftRound\")\n",
    "              .withColumn(\"Draft_Number\", players_df[\"DraftNumber\"].cast(\"integer\")).drop(\"DraftNumber\")\n",
    "              .distinct()\n",
    "           )\n",
    "\n",
    "casted_types_df.printSchema()"
   ]
  },
  {
   "cell_type": "markdown",
   "id": "3f6bfaf8",
   "metadata": {},
   "source": [
    "<h2>Process NA/Null Values</h2>"
   ]
  },
  {
   "cell_type": "markdown",
   "id": "ab565e03",
   "metadata": {},
   "source": [
    "After investigating this dataframe, no custom NULL values were found. There were some null Draft_Round and Draft_Round that were displayed as Null values when converted from string to integer datatype. "
   ]
  },
  {
   "cell_type": "code",
   "execution_count": 7,
   "id": "91de1ebf",
   "metadata": {},
   "outputs": [
    {
     "name": "stdout",
     "output_type": "stream",
     "text": [
      "+---------+--------+------------+---------+------+------+-------+------+-----------+------------+\n",
      "|FirstName|LastName|PositionAbbr|EntryYear|Height|Weight|College|nfl_id|Draft_Round|Draft_Number|\n",
      "+---------+--------+------------+---------+------+------+-------+------+-----------+------------+\n",
      "|        0|       0|           0|        0|     0|     0|      0|     0|        528|         528|\n",
      "+---------+--------+------------+---------+------+------+-------+------+-----------+------------+\n",
      "\n"
     ]
    }
   ],
   "source": [
    "casted_types_df.select([count(when(isnan(c) | col(c).isNull(), c)).alias(c) for c in casted_types_df.columns]).show()"
   ]
  },
  {
   "cell_type": "markdown",
   "id": "e2cd3896",
   "metadata": {},
   "source": [
    "DRAFT_ROUND and DRAFT_NUMBER are INTEGERS, so they are imputable."
   ]
  },
  {
   "cell_type": "code",
   "execution_count": 8,
   "id": "f63c7c18",
   "metadata": {},
   "outputs": [
    {
     "name": "stdout",
     "output_type": "stream",
     "text": [
      "root\n",
      " |-- FirstName: string (nullable = true)\n",
      " |-- LastName: string (nullable = true)\n",
      " |-- PositionAbbr: string (nullable = true)\n",
      " |-- EntryYear: integer (nullable = true)\n",
      " |-- Height: string (nullable = true)\n",
      " |-- Weight: integer (nullable = true)\n",
      " |-- College: string (nullable = true)\n",
      " |-- nfl_id: string (nullable = true)\n",
      " |-- Draft_Round: integer (nullable = true)\n",
      " |-- Draft_Number: integer (nullable = true)\n",
      "\n"
     ]
    }
   ],
   "source": [
    "filled_df = casted_types_df.fillna(0,['Draft_Round','Draft_Number'])\n",
    "\n",
    "\n",
    "imputer = Imputer (\n",
    "inputCols=['Draft_Round','Draft_Number'],\n",
    "outputCols=[\"{}_imputed\".format(c) for c in ['Draft_Round','Draft_Number']]\n",
    ").setStrategy(\"mean\").setMissingValue(0)\n",
    "\n",
    "imputed_df = imputer.fit(filled_df).transform(filled_df)\n",
    "\n",
    "imputed_df_with_dropped_columns = imputed_df.drop('Draft_Round','Draft_Number')\n",
    "\n",
    "full_df_final = imputed_df_with_dropped_columns.withColumnRenamed(\"Draft_Round_imputed\",\"Draft_Round\").withColumnRenamed(\"Draft_Number_imputed\",\"Draft_Number\")\n",
    "\n",
    "full_df_final.printSchema()"
   ]
  },
  {
   "cell_type": "markdown",
   "id": "f29c22fb",
   "metadata": {},
   "source": [
    "Now, you need to normalize the data. (You could have normalized before the cleaning as well). We need to create another table that includes the player entry fields and remove the duplicates."
   ]
  },
  {
   "cell_type": "code",
   "execution_count": 9,
   "id": "5f65223a",
   "metadata": {
    "scrolled": true
   },
   "outputs": [
    {
     "data": {
      "text/plain": [
       "1201"
      ]
     },
     "execution_count": 9,
     "metadata": {},
     "output_type": "execute_result"
    }
   ],
   "source": [
    "entry_df = full_df_final.select(\"EntryYear\",\"Draft_Round\",\"Draft_Number\").distinct()\n",
    "entry_df.count()"
   ]
  },
  {
   "cell_type": "markdown",
   "id": "4f7a9d55",
   "metadata": {},
   "source": [
    "If one of your key columns contain null, it's a good idea to add a unique identifier column. Notice I'm adding it to the extracted set of columns where the duplicate rows were eleminated. "
   ]
  },
  {
   "cell_type": "code",
   "execution_count": 11,
   "id": "4268213b",
   "metadata": {},
   "outputs": [],
   "source": [
    "entry_df_with_id = entry_df.withColumn(\"entry_id\", monotonically_increasing_id()+1)"
   ]
  },
  {
   "cell_type": "code",
   "execution_count": 12,
   "id": "5379302a",
   "metadata": {},
   "outputs": [
    {
     "name": "stdout",
     "output_type": "stream",
     "text": [
      "root\n",
      " |-- EntryYear: integer (nullable = true)\n",
      " |-- Draft_Round: integer (nullable = true)\n",
      " |-- Draft_Number: integer (nullable = true)\n",
      " |-- entry_id: long (nullable = false)\n",
      "\n"
     ]
    }
   ],
   "source": [
    "entry_df_with_id.printSchema()"
   ]
  },
  {
   "cell_type": "code",
   "execution_count": 13,
   "id": "877ac0aa",
   "metadata": {},
   "outputs": [
    {
     "name": "stdout",
     "output_type": "stream",
     "text": [
      "+---------+-----------+------------+--------+\n",
      "|EntryYear|Draft_Round|Draft_Number|entry_id|\n",
      "+---------+-----------+------------+--------+\n",
      "|     2005|          1|          15|       1|\n",
      "|     2015|          3|          71|       2|\n",
      "|     2005|          7|         230|       3|\n",
      "|     2011|          4|         131|       4|\n",
      "|     2014|          4|         112|       5|\n",
      "|     2014|          5|         171|       6|\n",
      "|     2016|          6|         202|       7|\n",
      "|     2017|          1|           2|       8|\n",
      "|     2017|          1|           8|       9|\n",
      "|     2017|          3|          65|      10|\n",
      "|     2017|          3|          91|      11|\n",
      "|     2007|          1|          12|      12|\n",
      "|     2017|          6|         208|      13|\n",
      "|     2011|          4|         122|      14|\n",
      "|     2016|          5|         172|      15|\n",
      "|     2009|          2|          49|      16|\n",
      "|     2012|          1|          13|      17|\n",
      "|     2015|          3|          84|      18|\n",
      "|     2014|          1|           3|      19|\n",
      "|     2016|          2|          35|      20|\n",
      "+---------+-----------+------------+--------+\n",
      "only showing top 20 rows\n",
      "\n"
     ]
    }
   ],
   "source": [
    "entry_df_with_id.show()"
   ]
  },
  {
   "cell_type": "markdown",
   "id": "9d36e734",
   "metadata": {},
   "source": [
    "Now, let's go ahead and add this unique identifier column to our original player dataframe (named full_df_final). We do this by rejoining the dataframes back using all three columns."
   ]
  },
  {
   "cell_type": "code",
   "execution_count": 14,
   "id": "6e818c68",
   "metadata": {},
   "outputs": [],
   "source": [
    "joined_df = full_df_final.join(entry_df_with_id,(entry_df_with_id.Draft_Round==full_df_final.Draft_Round)&(entry_df_with_id.Draft_Number==full_df_final.Draft_Number)&(full_df_final.EntryYear==entry_df_with_id.EntryYear))"
   ]
  },
  {
   "cell_type": "code",
   "execution_count": 15,
   "id": "f9b5ad6e",
   "metadata": {},
   "outputs": [
    {
     "name": "stdout",
     "output_type": "stream",
     "text": [
      "root\n",
      " |-- FirstName: string (nullable = true)\n",
      " |-- LastName: string (nullable = true)\n",
      " |-- PositionAbbr: string (nullable = true)\n",
      " |-- EntryYear: integer (nullable = true)\n",
      " |-- Height: string (nullable = true)\n",
      " |-- Weight: integer (nullable = true)\n",
      " |-- College: string (nullable = true)\n",
      " |-- nfl_id: string (nullable = true)\n",
      " |-- Draft_Round: integer (nullable = true)\n",
      " |-- Draft_Number: integer (nullable = true)\n",
      " |-- EntryYear: integer (nullable = true)\n",
      " |-- Draft_Round: integer (nullable = true)\n",
      " |-- Draft_Number: integer (nullable = true)\n",
      " |-- entry_id: long (nullable = false)\n",
      "\n"
     ]
    }
   ],
   "source": [
    "joined_df.printSchema()"
   ]
  },
  {
   "cell_type": "markdown",
   "id": "f6f1af69",
   "metadata": {},
   "source": [
    "Now, it's  time to drop the columns from the players dataframe and leave the unique identifier column (entry_id) that we can use to join the dataframes together."
   ]
  },
  {
   "cell_type": "code",
   "execution_count": 16,
   "id": "23a317ff",
   "metadata": {},
   "outputs": [],
   "source": [
    "final_players_df = joined_df.drop(\"EntryYear\",\"Draft_Round\",\"Draft_Number\")"
   ]
  },
  {
   "cell_type": "code",
   "execution_count": 17,
   "id": "d72289c9",
   "metadata": {},
   "outputs": [
    {
     "name": "stdout",
     "output_type": "stream",
     "text": [
      "root\n",
      " |-- FirstName: string (nullable = true)\n",
      " |-- LastName: string (nullable = true)\n",
      " |-- PositionAbbr: string (nullable = true)\n",
      " |-- Height: string (nullable = true)\n",
      " |-- Weight: integer (nullable = true)\n",
      " |-- College: string (nullable = true)\n",
      " |-- nfl_id: string (nullable = true)\n",
      " |-- entry_id: long (nullable = false)\n",
      "\n"
     ]
    }
   ],
   "source": [
    "final_players_df.printSchema()"
   ]
  },
  {
   "cell_type": "markdown",
   "id": "3b812cfe",
   "metadata": {},
   "source": [
    "Now, it's time to store your dataframes in the database. First, you need to create the tables. Use the printSchema() command for your dataframes to conclude your database table field names. Execute the SQL in PgAdmin. SQL is shown below! Execute the SQL commands <b>one-at-a-time</b>."
   ]
  },
  {
   "cell_type": "code",
   "execution_count": null,
   "id": "889c3667",
   "metadata": {},
   "outputs": [],
   "source": [
    "CREATE SCHEMA IF NOT EXISTS NFL;\n",
    "\n",
    "DROP TABLE IF EXISTS NFL.PLAYERS;\n",
    "DROP TABLE IF EXISTS NFL.ENTRY;\n",
    "CREATE TABLE IF NOT EXISTS NFL.ENTRY(\n",
    "EntryYear smallint,\n",
    "Draft_Round smallint,\n",
    "Draft_Number smallint,\n",
    "entry_id integer primary key);\n",
    "\n",
    "CREATE TABLE IF NOT EXISTS NFL.PLAYERS\n",
    "(nfl_id varchar(10) primary key,\n",
    "FirstName varchar(20),\n",
    "LastName varchar(20),\n",
    "PositionAbbr varchar(4),\n",
    "Height varchar(20),\n",
    "Weight smallint,\n",
    "College varchar(20),\n",
    "entry_id integer references NFL.ENTRY); "
   ]
  },
  {
   "cell_type": "markdown",
   "id": "eb3d00b4",
   "metadata": {},
   "source": [
    "Now, write the dataframes to your tables. Notice we start with the tables where there are foreign keys (i.e. the players table)."
   ]
  },
  {
   "cell_type": "code",
   "execution_count": 18,
   "id": "facf486f",
   "metadata": {},
   "outputs": [],
   "source": [
    "from pyspark import SparkContext, SparkConf, SQLContext\n",
    "import os\n",
    "db_properties={}\n",
    "db_properties['username']=\"postgres\"\n",
    "db_properties['password']=\"postgres\"\n",
    "# make sure to use the correct port number. These \n",
    "db_properties['url']= \"jdbc:postgresql://localhost:5432/postgres\"\n",
    "db_properties['driver']=\"org.postgresql.Driver\""
   ]
  },
  {
   "cell_type": "code",
   "execution_count": 19,
   "id": "3b965091",
   "metadata": {},
   "outputs": [
    {
     "name": "stderr",
     "output_type": "stream",
     "text": [
      "\r",
      "[Stage 38:>                                                         (0 + 1) / 1]\r",
      "\r",
      "                                                                                \r"
     ]
    }
   ],
   "source": [
    "final_players_df.write.format(\"jdbc\")\\\n",
    ".mode(\"overwrite\")\\\n",
    ".option(\"url\", \"jdbc:postgresql://localhost:5432/postgres\")\\\n",
    ".option(\"dbtable\", \"NFL.PLAYERS\")\\\n",
    ".option(\"user\", \"postgres\")\\\n",
    ".option(\"password\", \"postgres\")\\\n",
    ".option(\"Driver\", \"org.postgresql.Driver\")\\\n",
    ".save()"
   ]
  },
  {
   "cell_type": "code",
   "execution_count": 20,
   "id": "2b085bfc",
   "metadata": {},
   "outputs": [],
   "source": [
    "entry_df_with_id.write.format(\"jdbc\")\\\n",
    ".mode(\"overwrite\")\\\n",
    ".option(\"url\", \"jdbc:postgresql://localhost:5432/postgres\")\\\n",
    ".option(\"dbtable\", \"NFL.ENTRY\")\\\n",
    ".option(\"user\", \"postgres\")\\\n",
    ".option(\"password\", \"postgres\")\\\n",
    ".option(\"Driver\", \"org.postgresql.Driver\")\\\n",
    ".save()"
   ]
  },
  {
   "cell_type": "markdown",
   "id": "d7ea99ae",
   "metadata": {},
   "source": [
    "Now, you may read the data back into dataframes and join them again."
   ]
  },
  {
   "cell_type": "code",
   "execution_count": 21,
   "id": "8f81add0",
   "metadata": {},
   "outputs": [
    {
     "name": "stdout",
     "output_type": "stream",
     "text": [
      "root\n",
      " |-- FirstName: string (nullable = true)\n",
      " |-- LastName: string (nullable = true)\n",
      " |-- PositionAbbr: string (nullable = true)\n",
      " |-- Height: string (nullable = true)\n",
      " |-- Weight: integer (nullable = true)\n",
      " |-- College: string (nullable = true)\n",
      " |-- nfl_id: string (nullable = true)\n",
      " |-- entry_id: long (nullable = true)\n",
      "\n"
     ]
    }
   ],
   "source": [
    "players_df_after_db_read = sqlContext.read.format(\"jdbc\")\\\n",
    "    .option(\"url\", \"jdbc:postgresql://localhost:5432/postgres\")\\\n",
    "    .option(\"dbtable\", \"NFL.PLAYERS\")\\\n",
    "    .option(\"user\", \"postgres\")\\\n",
    "    .option(\"password\", \"postgres\")\\\n",
    "    .option(\"Driver\", \"org.postgresql.Driver\")\\\n",
    "    .load()\n",
    "\n",
    "players_df_after_db_read.printSchema()"
   ]
  },
  {
   "cell_type": "code",
   "execution_count": 22,
   "id": "afc20971",
   "metadata": {
    "scrolled": false
   },
   "outputs": [
    {
     "name": "stdout",
     "output_type": "stream",
     "text": [
      "+---------+--------+------------+------+------+---------------+-------+--------+\n",
      "|FirstName|LastName|PositionAbbr|Height|Weight|        College| nfl_id|entry_id|\n",
      "+---------+--------+------------+------+------+---------------+-------+--------+\n",
      "|    Kevin|   Huber|           P|6'01\"\"|   211|     Cincinnati|  71333|    1023|\n",
      "|Nathaniel|  Solder|           T|6'08\"\"|   325|       Colorado|2495232|     130|\n",
      "|   Ronald|   Leary|           G|6'03\"\"|   320|        Memphis|2533454|     573|\n",
      "|   Bennie|   Logan|          DT|6'02\"\"|   315|Louisiana State|2540163|    1031|\n",
      "|    Chris|   Smith|          DE|6'01\"\"|   266|       Arkansas|2543692|    1192|\n",
      "+---------+--------+------------+------+------+---------------+-------+--------+\n",
      "only showing top 5 rows\n",
      "\n"
     ]
    }
   ],
   "source": [
    "players_df_after_db_read.show(5)"
   ]
  },
  {
   "cell_type": "code",
   "execution_count": 23,
   "id": "b0edbb27",
   "metadata": {
    "scrolled": true
   },
   "outputs": [
    {
     "name": "stdout",
     "output_type": "stream",
     "text": [
      "root\n",
      " |-- EntryYear: integer (nullable = true)\n",
      " |-- Draft_Round: integer (nullable = true)\n",
      " |-- Draft_Number: integer (nullable = true)\n",
      " |-- entry_id: long (nullable = true)\n",
      "\n"
     ]
    }
   ],
   "source": [
    "entry_df_after_db_read = sqlContext.read.format(\"jdbc\")\\\n",
    "    .option(\"url\", \"jdbc:postgresql://localhost:5432/postgres\")\\\n",
    "    .option(\"dbtable\", \"NFL.ENTRY\")\\\n",
    "    .option(\"user\", \"postgres\")\\\n",
    "    .option(\"password\", \"postgres\")\\\n",
    "    .option(\"Driver\", \"org.postgresql.Driver\")\\\n",
    "    .load()\n",
    "\n",
    "entry_df_after_db_read.printSchema()"
   ]
  },
  {
   "cell_type": "code",
   "execution_count": 24,
   "id": "31ed81f6",
   "metadata": {
    "scrolled": true
   },
   "outputs": [
    {
     "name": "stdout",
     "output_type": "stream",
     "text": [
      "+---------+-----------+------------+--------+\n",
      "|EntryYear|Draft_Round|Draft_Number|entry_id|\n",
      "+---------+-----------+------------+--------+\n",
      "|     2005|          1|          15|       1|\n",
      "|     2015|          3|          71|       2|\n",
      "|     2005|          7|         230|       3|\n",
      "|     2011|          4|         131|       4|\n",
      "|     2014|          4|         112|       5|\n",
      "+---------+-----------+------------+--------+\n",
      "only showing top 5 rows\n",
      "\n"
     ]
    }
   ],
   "source": [
    "entry_df_after_db_read.show(5)"
   ]
  },
  {
   "cell_type": "code",
   "execution_count": 25,
   "id": "885d5081",
   "metadata": {},
   "outputs": [],
   "source": [
    "fully_joined_df_after_db_read = players_df_after_db_read.join(entry_df_after_db_read,players_df_after_db_read.entry_id==entry_df_after_db_read.entry_id)"
   ]
  },
  {
   "cell_type": "code",
   "execution_count": 26,
   "id": "792bd663",
   "metadata": {},
   "outputs": [
    {
     "name": "stdout",
     "output_type": "stream",
     "text": [
      "+----------+--------+------------+------+------+-----------------+-------+--------+---------+-----------+------------+--------+\n",
      "| FirstName|LastName|PositionAbbr|Height|Weight|          College| nfl_id|entry_id|EntryYear|Draft_Round|Draft_Number|entry_id|\n",
      "+----------+--------+------------+------+------+-----------------+-------+--------+---------+-----------+------------+--------+\n",
      "|    Telvin|   Smith|         OLB|6'03\"\"|   215|    Florida State|2543711|     964|     2014|          5|         144|     964|\n",
      "|   Anthony|Castonzo|           T|6'07\"\"|   311|   Boston College|2495137|      29|     2011|          1|          22|      29|\n",
      "|Benardrick|McKinney|         ILB|6'04\"\"|   260|Mississippi State|2552490|      26|     2015|          2|          43|      26|\n",
      "|     Bilal|  Powell|          RB|5'10\"\"|   204|       Louisville|2495328|     474|     2011|          4|         126|     474|\n",
      "|   Ricardo|   Allen|          SS|5'09\"\"|   186|           Purdue|2543850|     418|     2014|          5|         147|     418|\n",
      "+----------+--------+------------+------+------+-----------------+-------+--------+---------+-----------+------------+--------+\n",
      "only showing top 5 rows\n",
      "\n"
     ]
    }
   ],
   "source": [
    "fully_joined_df_after_db_read.show(5)"
   ]
  }
 ],
 "metadata": {
  "kernelspec": {
   "display_name": "Python 3 (ipykernel)",
   "language": "python",
   "name": "python3"
  },
  "language_info": {
   "codemirror_mode": {
    "name": "ipython",
    "version": 3
   },
   "file_extension": ".py",
   "mimetype": "text/x-python",
   "name": "python",
   "nbconvert_exporter": "python",
   "pygments_lexer": "ipython3",
   "version": "3.9.7"
  }
 },
 "nbformat": 4,
 "nbformat_minor": 5
}
