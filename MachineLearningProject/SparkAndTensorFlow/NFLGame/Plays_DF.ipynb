{
 "cells": [
  {
   "cell_type": "markdown",
   "id": "84c0cd77",
   "metadata": {},
   "source": [
    "<h2>Regex Explanations</h2>"
   ]
  },
  {
   "cell_type": "code",
   "execution_count": 24,
   "id": "dfd399b4",
   "metadata": {
    "scrolled": false
   },
   "outputs": [
    {
     "name": "stdout",
     "output_type": "stream",
     "text": [
      "root\n",
      " |-- gameId: integer (nullable = true)\n",
      " |-- playId: integer (nullable = true)\n",
      " |-- quarter: integer (nullable = true)\n",
      " |-- GameClock: string (nullable = true)\n",
      " |-- down: integer (nullable = true)\n",
      " |-- yardsToGo: integer (nullable = true)\n",
      " |-- possessionTeam: string (nullable = true)\n",
      " |-- yardlineSide: string (nullable = true)\n",
      " |-- yardlineNumber: string (nullable = true)\n",
      " |-- offenseFormation: string (nullable = true)\n",
      " |-- personnel.offense: string (nullable = true)\n",
      " |-- defendersInTheBox: string (nullable = true)\n",
      " |-- numberOfPassRushers: string (nullable = true)\n",
      " |-- personnel.defense: string (nullable = true)\n",
      " |-- HomeScoreBeforePlay: integer (nullable = true)\n",
      " |-- VisitorScoreBeforePlay: integer (nullable = true)\n",
      " |-- HomeScoreAfterPlay: integer (nullable = true)\n",
      " |-- VisitorScoreAfterPlay: integer (nullable = true)\n",
      " |-- isPenalty: boolean (nullable = true)\n",
      " |-- isSTPlay: boolean (nullable = true)\n",
      " |-- SpecialTeamsPlayType: string (nullable = true)\n",
      " |-- KickReturnYardage: string (nullable = true)\n",
      " |-- PassLength: string (nullable = true)\n",
      " |-- PassResult: string (nullable = true)\n",
      " |-- YardsAfterCatch: string (nullable = true)\n",
      " |-- PlayResult: integer (nullable = true)\n",
      " |-- playDescription: string (nullable = true)\n",
      "\n"
     ]
    }
   ],
   "source": [
    "# if you installed Spark on windows, \n",
    "# you may need findspark and need to initialize it prior to being able to use pyspark\n",
    "# Also, you may need to initialize SparkContext yourself.\n",
    "#import findspark\n",
    "#findspark.find()\n",
    "#findspark.init()\n",
    "import pyspark\n",
    "from pyspark.sql import SparkSession, SQLContext\n",
    "from pyspark.ml.feature import Imputer\n",
    "from pyspark.sql.functions import *\n",
    "\n",
    "appName = \"Big Data Analytics\"\n",
    "master = \"local\"\n",
    "\n",
    "# Create Configuration object for Spark.\n",
    "conf = pyspark.SparkConf()\\\n",
    "    .set('spark.driver.host','127.0.0.1')\\\n",
    "    .setAppName(appName)\\\n",
    "    .setMaster(master)\n",
    "\n",
    "# Create Spark Context with the new configurations rather than rely on the default one\n",
    "sc = SparkContext.getOrCreate(conf=conf)\n",
    "\n",
    "# You need to create SQL Context to conduct some database operations like what we will see later.\n",
    "#sqlContext = SQLContext(sc)\n",
    "\n",
    "# If you have SQL context, you create the session from the Spark Context\n",
    "spark = SparkSession.builder.getOrCreate()\n",
    "\n",
    "#Ingest data from the players CSV into Spark Dataframe.\n",
    "plays_df = (spark.read\n",
    "         .format(\"csv\")\n",
    "         .option(\"inferSchema\", \"true\")\n",
    "         .option(\"header\",\"true\")\n",
    "         .load(\"/home/bigdata/Big-Data-Bowl/Data/plays.csv\")\n",
    "      )\n",
    "\n",
    "plays_df.printSchema()"
   ]
  },
  {
   "cell_type": "code",
   "execution_count": 25,
   "id": "7cc330e5",
   "metadata": {},
   "outputs": [
    {
     "data": {
      "text/plain": [
       "14193"
      ]
     },
     "execution_count": 25,
     "metadata": {},
     "output_type": "execute_result"
    }
   ],
   "source": [
    "num_rows = plays_df.count()\n",
    "num_rows"
   ]
  },
  {
   "cell_type": "code",
   "execution_count": 26,
   "id": "0f343bcc",
   "metadata": {},
   "outputs": [
    {
     "data": {
      "text/plain": [
       "27"
      ]
     },
     "execution_count": 26,
     "metadata": {},
     "output_type": "execute_result"
    }
   ],
   "source": [
    "num_columns = len(plays_df.columns)\n",
    "num_columns"
   ]
  },
  {
   "cell_type": "code",
   "execution_count": 27,
   "id": "f69501a2",
   "metadata": {
    "scrolled": false
   },
   "outputs": [
    {
     "name": "stdout",
     "output_type": "stream",
     "text": [
      "+--------------------+\n",
      "|     playDescription|\n",
      "+--------------------+\n",
      "|K.Redfern kicks 6...|\n",
      "|(14:54) (Shotgun)...|\n",
      "|(14:16) Da.Johnso...|\n",
      "|(13:34) (Shotgun)...|\n",
      "|(12:51) (Shotgun)...|\n",
      "|(12:13) C.Palmer ...|\n",
      "|(12:08) (Shotgun)...|\n",
      "|(12:00) A.Abdulla...|\n",
      "|(11:29) (Shotgun)...|\n",
      "|P.Dawson extra po...|\n",
      "+--------------------+\n",
      "only showing top 10 rows\n",
      "\n"
     ]
    }
   ],
   "source": [
    "plays_df.select(\"playDescription\").show(10)"
   ]
  },
  {
   "cell_type": "markdown",
   "id": "3f6bfaf8",
   "metadata": {},
   "source": [
    "<h2>Process Regex</h2>"
   ]
  },
  {
   "cell_type": "code",
   "execution_count": 28,
   "id": "91de1ebf",
   "metadata": {
    "scrolled": true
   },
   "outputs": [
    {
     "name": "stdout",
     "output_type": "stream",
     "text": [
      "+--------+\n",
      "|Player_1|\n",
      "+--------+\n",
      "|       K|\n",
      "|       C|\n",
      "|      Da|\n",
      "|       C|\n",
      "|      Da|\n",
      "|       C|\n",
      "|       C|\n",
      "|       A|\n",
      "|       M|\n",
      "|       P|\n",
      "|       P|\n",
      "|       A|\n",
      "|       M|\n",
      "|       M|\n",
      "|       K|\n",
      "|       C|\n",
      "|      Da|\n",
      "|      Da|\n",
      "|       A|\n",
      "|       M|\n",
      "|       M|\n",
      "|       M|\n",
      "|       K|\n",
      "|      Da|\n",
      "|      Da|\n",
      "|       C|\n",
      "|       P|\n",
      "|       C|\n",
      "|      Da|\n",
      "|       C|\n",
      "|       P|\n",
      "|       P|\n",
      "|       A|\n",
      "|       M|\n",
      "|       M|\n",
      "|       T|\n",
      "|       M|\n",
      "|       M|\n",
      "|       A|\n",
      "|       M|\n",
      "+--------+\n",
      "only showing top 40 rows\n",
      "\n"
     ]
    }
   ],
   "source": [
    "plays_df_example = plays_df.withColumn('Player_1', regexp_extract(col('playDescription'), '(\\w+)(\\.)(\\w+)', 1)).select(\"Player_1\").show(40)"
   ]
  },
  {
   "cell_type": "code",
   "execution_count": 29,
   "id": "0b80a289",
   "metadata": {
    "scrolled": true
   },
   "outputs": [
    {
     "name": "stdout",
     "output_type": "stream",
     "text": [
      "+--------+\n",
      "|Player_2|\n",
      "+--------+\n",
      "|       K|\n",
      "|       L|\n",
      "|       E|\n",
      "|      Da|\n",
      "|       A|\n",
      "|      Da|\n",
      "|      Da|\n",
      "|       H|\n",
      "|       G|\n",
      "|       A|\n",
      "|       D|\n",
      "|       K|\n",
      "|       A|\n",
      "|       K|\n",
      "|       D|\n",
      "|      Da|\n",
      "|       N|\n",
      "|       T|\n",
      "|       A|\n",
      "|       C|\n",
      "|       T|\n",
      "|       M|\n",
      "|       K|\n",
      "|       G|\n",
      "|       T|\n",
      "|       L|\n",
      "|       A|\n",
      "|      Da|\n",
      "|       A|\n",
      "|       J|\n",
      "|       A|\n",
      "|       D|\n",
      "|       T|\n",
      "|       G|\n",
      "|       T|\n",
      "|       C|\n",
      "|       K|\n",
      "|       G|\n",
      "|       K|\n",
      "|       G|\n",
      "+--------+\n",
      "only showing top 40 rows\n",
      "\n"
     ]
    }
   ],
   "source": [
    "plays_df_example = plays_df.withColumn('Player_2', regexp_extract(col('playDescription'), '(\\w+)(\\.)(\\w+)(.*?)(\\w+)(\\.)(\\w+)', 5)).select(\"Player_2\").show(40)"
   ]
  },
  {
   "cell_type": "code",
   "execution_count": 30,
   "id": "d85fae9a",
   "metadata": {
    "scrolled": false
   },
   "outputs": [
    {
     "name": "stdout",
     "output_type": "stream",
     "text": [
      "+----------+\n",
      "|  Player_2|\n",
      "+----------+\n",
      "|  Williams|\n",
      "|Fitzgerald|\n",
      "|     Ansah|\n",
      "|   Johnson|\n",
      "|    Zettel|\n",
      "|   Johnson|\n",
      "|   Johnson|\n",
      "|   Reddick|\n",
      "|      Tate|\n",
      "|    Brewer|\n",
      "|Washington|\n",
      "|    Dansby|\n",
      "|  Abdullah|\n",
      "|  Golladay|\n",
      "|  Muhlbach|\n",
      "|   Johnson|\n",
      "|    Lawson|\n",
      "| Whitehead|\n",
      "|    Brewer|\n",
      "|     Jones|\n",
      "|   Riddick|\n",
      "|  Stafford|\n",
      "|   Redfern|\n",
      "|      Quin|\n",
      "|    Wilson|\n",
      "|Fitzgerald|\n",
      "|    Brewer|\n",
      "|   Johnson|\n",
      "|    Zettel|\n",
      "|   Gresham|\n",
      "|    Brewer|\n",
      "|Washington|\n",
      "|   Mathieu|\n",
      "|      Tate|\n",
      "|   Riddick|\n",
      "|     Jones|\n",
      "|  Golladay|\n",
      "|      Tate|\n",
      "|    Dansby|\n",
      "|      Tate|\n",
      "+----------+\n",
      "only showing top 40 rows\n",
      "\n"
     ]
    }
   ],
   "source": [
    "plays_df_example = plays_df.withColumn('Player_2', regexp_extract(col('playDescription'), '(\\w+)(\\.)(\\w+)(.*?)(\\w+)(\\.)(\\w+)', 7)).select(\"Player_2\").show(40)"
   ]
  },
  {
   "cell_type": "code",
   "execution_count": 31,
   "id": "f63c7c18",
   "metadata": {},
   "outputs": [],
   "source": [
    "plays_df_with_players_columns = plays_df.withColumn('Player_1', regexp_extract(col('playDescription'), '(\\w+)(\\.)(\\w+)', 3))\\\n",
    "                    .withColumn('Player_2', regexp_extract(col('playDescription'), '(\\w+)(\\.)(\\w+)(.*?)(\\w+)(\\.)(\\w+)', 7))\\\n",
    "                    .withColumn('Player_3', regexp_extract(col('playDescription'), '(\\w+)(\\.)(\\w+)(.*?)(\\w+)(\\.)(\\w+)(.*?)(\\w+)(\\.)(\\w+)', 11))\n"
   ]
  },
  {
   "cell_type": "code",
   "execution_count": 32,
   "id": "5f65223a",
   "metadata": {
    "scrolled": false
   },
   "outputs": [
    {
     "name": "stdout",
     "output_type": "stream",
     "text": [
      "root\n",
      " |-- gameId: integer (nullable = true)\n",
      " |-- playId: integer (nullable = true)\n",
      " |-- quarter: integer (nullable = true)\n",
      " |-- GameClock: string (nullable = true)\n",
      " |-- down: integer (nullable = true)\n",
      " |-- yardsToGo: integer (nullable = true)\n",
      " |-- possessionTeam: string (nullable = true)\n",
      " |-- yardlineSide: string (nullable = true)\n",
      " |-- yardlineNumber: string (nullable = true)\n",
      " |-- offenseFormation: string (nullable = true)\n",
      " |-- personnel.offense: string (nullable = true)\n",
      " |-- defendersInTheBox: string (nullable = true)\n",
      " |-- numberOfPassRushers: string (nullable = true)\n",
      " |-- personnel.defense: string (nullable = true)\n",
      " |-- HomeScoreBeforePlay: integer (nullable = true)\n",
      " |-- VisitorScoreBeforePlay: integer (nullable = true)\n",
      " |-- HomeScoreAfterPlay: integer (nullable = true)\n",
      " |-- VisitorScoreAfterPlay: integer (nullable = true)\n",
      " |-- isPenalty: boolean (nullable = true)\n",
      " |-- isSTPlay: boolean (nullable = true)\n",
      " |-- SpecialTeamsPlayType: string (nullable = true)\n",
      " |-- KickReturnYardage: string (nullable = true)\n",
      " |-- PassLength: string (nullable = true)\n",
      " |-- PassResult: string (nullable = true)\n",
      " |-- YardsAfterCatch: string (nullable = true)\n",
      " |-- PlayResult: integer (nullable = true)\n",
      " |-- playDescription: string (nullable = true)\n",
      " |-- Player_1: string (nullable = true)\n",
      " |-- Player_2: string (nullable = true)\n",
      " |-- Player_3: string (nullable = true)\n",
      "\n"
     ]
    }
   ],
   "source": [
    "plays_df_with_players_columns.printSchema()"
   ]
  },
  {
   "cell_type": "code",
   "execution_count": 33,
   "id": "4afeaa29",
   "metadata": {},
   "outputs": [
    {
     "name": "stdout",
     "output_type": "stream",
     "text": [
      "+--------+----------+---------+\n",
      "|Player_1|  Player_2| Player_3|\n",
      "+--------+----------+---------+\n",
      "| Redfern|  Williams|Killebrew|\n",
      "|  Palmer|Fitzgerald|    Diggs|\n",
      "| Johnson|     Ansah|         |\n",
      "|  Palmer|   Johnson|     Quin|\n",
      "| Johnson|    Zettel|         |\n",
      "+--------+----------+---------+\n",
      "only showing top 5 rows\n",
      "\n"
     ]
    }
   ],
   "source": [
    "plays_df_with_players_columns.select(\"Player_1\",\"Player_2\",\"Player_3\").show(5)"
   ]
  },
  {
   "cell_type": "code",
   "execution_count": 34,
   "id": "4268213b",
   "metadata": {
    "scrolled": true
   },
   "outputs": [
    {
     "name": "stdout",
     "output_type": "stream",
     "text": [
      "root\n",
      " |-- nflId: integer (nullable = true)\n",
      " |-- FirstName: string (nullable = true)\n",
      " |-- LastName: string (nullable = true)\n",
      " |-- PositionAbbr: string (nullable = true)\n",
      " |-- EntryYear: integer (nullable = true)\n",
      " |-- DraftRound: string (nullable = true)\n",
      " |-- DraftNumber: string (nullable = true)\n",
      " |-- Height: string (nullable = true)\n",
      " |-- Weight: integer (nullable = true)\n",
      " |-- College: string (nullable = true)\n",
      "\n"
     ]
    }
   ],
   "source": [
    "players_df = (spark.read\n",
    "         .format(\"csv\")\n",
    "         .option(\"inferSchema\", \"true\")\n",
    "         .option(\"header\",\"true\")\n",
    "         .load(\"/home/bigdata/Big-Data-Bowl/Data/players.csv\")\n",
    "      )\n",
    "\n",
    "players_df.printSchema()"
   ]
  },
  {
   "cell_type": "code",
   "execution_count": 35,
   "id": "5379302a",
   "metadata": {},
   "outputs": [],
   "source": [
    "players_id_and_lname_df = players_df.select(\"nflId\",\"LastName\").distinct()"
   ]
  },
  {
   "cell_type": "code",
   "execution_count": 36,
   "id": "877ac0aa",
   "metadata": {
    "scrolled": true
   },
   "outputs": [
    {
     "data": {
      "text/plain": [
       "1713"
      ]
     },
     "execution_count": 36,
     "metadata": {},
     "output_type": "execute_result"
    }
   ],
   "source": [
    "players_id_and_lname_df.count()"
   ]
  },
  {
   "cell_type": "code",
   "execution_count": 15,
   "id": "ec4e0d5d",
   "metadata": {},
   "outputs": [
    {
     "name": "stdout",
     "output_type": "stream",
     "text": [
      "+-----------+-----+\n",
      "|   lastName|count|\n",
      "+-----------+-----+\n",
      "|     Grimes|    1|\n",
      "|     Uzomah|    1|\n",
      "|Artis-Payne|    1|\n",
      "|    Gilliam|    1|\n",
      "|    Parnell|    1|\n",
      "|      Moats|    1|\n",
      "|     McPhee|    1|\n",
      "|   Brinkley|    1|\n",
      "|    Mihalik|    1|\n",
      "|    Pouncey|    2|\n",
      "|   Fackrell|    1|\n",
      "|   Harrison|    3|\n",
      "|   Thornton|    1|\n",
      "|       Ealy|    1|\n",
      "|     Porter|    1|\n",
      "|   Golladay|    1|\n",
      "|     Wilson|    8|\n",
      "|   McGovern|    1|\n",
      "|   Abdullah|    1|\n",
      "|     Elston|    1|\n",
      "+-----------+-----+\n",
      "only showing top 20 rows\n",
      "\n"
     ]
    }
   ],
   "source": [
    "players_id_and_lname_df.groupBy(\"lastName\").count().show()"
   ]
  },
  {
   "cell_type": "code",
   "execution_count": 37,
   "id": "6e818c68",
   "metadata": {},
   "outputs": [],
   "source": [
    "from pyspark.sql.window import Window\n",
    "from pyspark.sql.functions import col, row_number\n",
    "\n",
    "w2 = Window.partitionBy(\"LastName\").orderBy(col(\"nflId\"))\n",
    "single_last_name_players_df = players_id_and_lname_df.withColumn(\"row\",row_number().over(w2)) \\\n",
    "                                  .filter(col(\"row\") == 1).drop(\"row\")\n",
    "                                    "
   ]
  },
  {
   "cell_type": "code",
   "execution_count": 38,
   "id": "f9b5ad6e",
   "metadata": {},
   "outputs": [
    {
     "data": {
      "text/plain": [
       "1187"
      ]
     },
     "execution_count": 38,
     "metadata": {},
     "output_type": "execute_result"
    }
   ],
   "source": [
    "single_last_name_players_df.count()"
   ]
  },
  {
   "cell_type": "code",
   "execution_count": 39,
   "id": "ed660169",
   "metadata": {},
   "outputs": [],
   "source": [
    "plays_with_player_1 = plays_df_with_players_columns.join(single_last_name_players_df,plays_df_with_players_columns.Player_1==single_last_name_players_df.LastName)"
   ]
  },
  {
   "cell_type": "code",
   "execution_count": 40,
   "id": "23a317ff",
   "metadata": {
    "scrolled": true
   },
   "outputs": [
    {
     "name": "stdout",
     "output_type": "stream",
     "text": [
      "root\n",
      " |-- gameId: integer (nullable = true)\n",
      " |-- playId: integer (nullable = true)\n",
      " |-- quarter: integer (nullable = true)\n",
      " |-- GameClock: string (nullable = true)\n",
      " |-- down: integer (nullable = true)\n",
      " |-- yardsToGo: integer (nullable = true)\n",
      " |-- possessionTeam: string (nullable = true)\n",
      " |-- yardlineSide: string (nullable = true)\n",
      " |-- yardlineNumber: string (nullable = true)\n",
      " |-- offenseFormation: string (nullable = true)\n",
      " |-- personnel.offense: string (nullable = true)\n",
      " |-- defendersInTheBox: string (nullable = true)\n",
      " |-- numberOfPassRushers: string (nullable = true)\n",
      " |-- personnel.defense: string (nullable = true)\n",
      " |-- HomeScoreBeforePlay: integer (nullable = true)\n",
      " |-- VisitorScoreBeforePlay: integer (nullable = true)\n",
      " |-- HomeScoreAfterPlay: integer (nullable = true)\n",
      " |-- VisitorScoreAfterPlay: integer (nullable = true)\n",
      " |-- isPenalty: boolean (nullable = true)\n",
      " |-- isSTPlay: boolean (nullable = true)\n",
      " |-- SpecialTeamsPlayType: string (nullable = true)\n",
      " |-- KickReturnYardage: string (nullable = true)\n",
      " |-- PassLength: string (nullable = true)\n",
      " |-- PassResult: string (nullable = true)\n",
      " |-- YardsAfterCatch: string (nullable = true)\n",
      " |-- PlayResult: integer (nullable = true)\n",
      " |-- playDescription: string (nullable = true)\n",
      " |-- Player_1: string (nullable = true)\n",
      " |-- Player_2: string (nullable = true)\n",
      " |-- Player_3: string (nullable = true)\n",
      " |-- nflId: integer (nullable = true)\n",
      " |-- LastName: string (nullable = true)\n",
      "\n"
     ]
    }
   ],
   "source": [
    "plays_with_player_1.printSchema()"
   ]
  },
  {
   "cell_type": "code",
   "execution_count": 41,
   "id": "d72289c9",
   "metadata": {},
   "outputs": [
    {
     "name": "stdout",
     "output_type": "stream",
     "text": [
      "+--------+-------+\n",
      "|Player_1|  nflId|\n",
      "+--------+-------+\n",
      "| Redfern|2550848|\n",
      "|  Palmer|2505245|\n",
      "| Johnson|    262|\n",
      "|  Palmer|2505245|\n",
      "| Johnson|    262|\n",
      "|  Palmer|2505245|\n",
      "|  Palmer|2505245|\n",
      "|Abdullah|2552374|\n",
      "|Stafford|  79860|\n",
      "|  Dawson|2500351|\n",
      "|  Dawson|2500351|\n",
      "|Abdullah|2552374|\n",
      "|Stafford|  79860|\n",
      "|Stafford|  79860|\n",
      "| Redfern|2550848|\n",
      "|  Palmer|2505245|\n",
      "| Johnson|    262|\n",
      "| Johnson|    262|\n",
      "|     Lee| 496937|\n",
      "|Stafford|  79860|\n",
      "+--------+-------+\n",
      "only showing top 20 rows\n",
      "\n"
     ]
    }
   ],
   "source": [
    "plays_with_player_1.select(\"Player_1\",\"nflId\").show()"
   ]
  },
  {
   "cell_type": "code",
   "execution_count": 42,
   "id": "facf486f",
   "metadata": {},
   "outputs": [],
   "source": [
    "playes_df_with_player_1_final = plays_with_player_1.drop(\"Player_1\").withColumnRenamed(\"nflId\",\"Player1\")"
   ]
  },
  {
   "cell_type": "code",
   "execution_count": 43,
   "id": "3b965091",
   "metadata": {},
   "outputs": [
    {
     "name": "stdout",
     "output_type": "stream",
     "text": [
      "+-------+\n",
      "|Player1|\n",
      "+-------+\n",
      "|2550848|\n",
      "|2505245|\n",
      "|    262|\n",
      "|2505245|\n",
      "|    262|\n",
      "+-------+\n",
      "only showing top 5 rows\n",
      "\n"
     ]
    }
   ],
   "source": [
    "playes_df_with_player_1_final.select(\"Player1\").show(5)"
   ]
  }
 ],
 "metadata": {
  "kernelspec": {
   "display_name": "Python 3 (ipykernel)",
   "language": "python",
   "name": "python3"
  },
  "language_info": {
   "codemirror_mode": {
    "name": "ipython",
    "version": 3
   },
   "file_extension": ".py",
   "mimetype": "text/x-python",
   "name": "python",
   "nbconvert_exporter": "python",
   "pygments_lexer": "ipython3",
   "version": "3.10.2"
  }
 },
 "nbformat": 4,
 "nbformat_minor": 5
}
