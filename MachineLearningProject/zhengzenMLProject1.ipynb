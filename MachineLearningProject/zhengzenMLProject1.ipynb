{
 "cells": [
  {
   "cell_type": "code",
   "execution_count": 95,
   "id": "bf363dac",
   "metadata": {},
   "outputs": [
    {
     "name": "stdout",
     "output_type": "stream",
     "text": [
      "(60000, 784)\n",
      "60000\n",
      "(10000, 784)\n",
      "10000\n"
     ]
    }
   ],
   "source": [
    "import gzip\n",
    "import numpy as np\n",
    "\n",
    "f = gzip.open('./train-images-idx3-ubyte.gz','r')\n",
    "f.read(16)\n",
    "buf = f.read(28 * 28 * 60000)\n",
    "X_train = np.frombuffer(buf, dtype=np.uint8).astype(np.float32)\n",
    "X_train = X_train.reshape(60000, 28 * 28)\n",
    "print(X_train.shape)\n",
    "f2 = gzip.open('./train-labels-idx1-ubyte.gz','r')\n",
    "f2.read(8)\n",
    "buf2 = f2.read()\n",
    "Y_train = np.frombuffer(buf2, dtype = np.uint8).astype(np.int64)\n",
    "# Y_train[0:200]\n",
    "print(len(Y_train))\n",
    "f3 = gzip.open('./t10k-images-idx3-ubyte.gz','r')\n",
    "f3.read(16)\n",
    "buf3 = f3.read(28*28*10000)\n",
    "X_test = np.frombuffer(buf3,dtype = np.uint8).astype(np.float32)\n",
    "X_test = X_test.reshape(10000,28*28)\n",
    "print(X_test.shape)\n",
    "f4 = gzip.open('./t10k-labels-idx1-ubyte.gz','r')\n",
    "f4.read(8)\n",
    "buf4 = f4.read()\n",
    "Y_test = np.frombuffer(buf4, dtype = np.uint8).astype(np.int64)\n",
    "print(len(Y_test))"
   ]
  },
  {
   "cell_type": "code",
   "execution_count": 96,
   "id": "a4d50910",
   "metadata": {},
   "outputs": [
    {
     "data": {
      "image/png": "[encoded data removed]",
      "text/plain": [
       "<Figure size 1440x288 with 5 Axes>"
      ]
     },
     "metadata": {
      "needs_background": "light"
     },
     "output_type": "display_data"
    }
   ],
   "source": [
    "#visualize the data\n",
    "import matplotlib.pyplot as plt\n",
    "plt.figure(figsize = (20,4))\n",
    "for index, (image, label) in enumerate(zip(X_train[0:5], Y_train[0:5])):\n",
    "    plt.subplot(1, 5, index + 1)\n",
    "    plt.imshow(np.reshape(image, (28,28)), cmap=plt.cm.gray)\n",
    "    plt.title('Training: %i\\n' % label, fontsize = 20)"
   ]
  },
  {
   "cell_type": "code",
   "execution_count": 97,
   "id": "4e0837c8",
   "metadata": {},
   "outputs": [
    {
     "name": "stdout",
     "output_type": "stream",
     "text": [
      "[[ 912    0    2    6    1    8   14    1   36    0]\n",
      " [   0 1061    5    9    0    2    6    0   51    1]\n",
      " [  15   11  860   23   10    3   32   11   66    1]\n",
      " [   4   11   34  851    1   21    7   14   40   27]\n",
      " [   2    2    6    0  732    0   25    2   38  175]\n",
      " [  23   11    6  107   18  591   17    6   77   36]\n",
      " [  16   13   17    1    6   25  862    0   18    0]\n",
      " [   1   21   11    5   18    0    1  861   40   70]\n",
      " [   6   26   13   54   14   27    8    9  777   40]\n",
      " [   6    7    3   10   66   10    0   17   27  863]]\n",
      "The accuracy of number 0 is 0.93061\n",
      "The accuracy of number 1 is 0.93480\n",
      "The accuracy of number 2 is 0.83333\n",
      "The accuracy of number 3 is 0.84257\n",
      "The accuracy of number 4 is 0.74542\n",
      "The accuracy of number 5 is 0.66256\n",
      "The accuracy of number 6 is 0.89979\n",
      "The accuracy of number 7 is 0.83755\n",
      "The accuracy of number 8 is 0.79774\n",
      "The accuracy of number 9 is 0.85530\n"
     ]
    }
   ],
   "source": [
    "# building Naive Bayes & Logistic Regression\n",
    "from sklearn.naive_bayes import MultinomialNB, ComplementNB\n",
    "\n",
    "from sklearn.linear_model import LogisticRegression\n",
    "from sklearn.metrics import confusion_matrix, accuracy_score\n",
    "\n",
    "\n",
    "NBmodel = MultinomialNB(alpha = 0.001,fit_prior = True)\n",
    "NBmodel.fit(X_train,Y_train)\n",
    "NBpred = NBmodel.predict(X_test)\n",
    "# print(NBmodel.classes_)\n",
    "nbcm = confusion_matrix(Y_test,NBpred)\n",
    "print(nbcm)\n",
    "for i in range(len(nbcm)):\n",
    "    acc = nbcm[i,i]/np.sum(nbcm[i])\n",
    "    print(\"The accuracy of number %d is %0.5f\" % (i,acc))\n",
    "# print(nbcm)"
   ]
  },
  {
   "cell_type": "code",
   "execution_count": 98,
   "id": "dbe34a60",
   "metadata": {
    "scrolled": true
   },
   "outputs": [
    {
     "name": "stdout",
     "output_type": "stream",
     "text": [
      "AUC: 0.83700\n"
     ]
    }
   ],
   "source": [
    "#prediction accuracy of NB model\n",
    "print('AUC: %0.5f' % accuracy_score(Y_test, NBpred))"
   ]
  },
  {
   "cell_type": "code",
   "execution_count": 99,
   "id": "46ff317a",
   "metadata": {},
   "outputs": [
    {
     "data": {
      "text/plain": [
       "array([[5360,    4,   31,   16,   10,   85,  101,    0,  311,    5],\n",
       "       [   0, 6304,   46,   41,    6,   28,   33,    3,  264,   17],\n",
       "       [  79,   81, 4945,  127,   65,    8,  266,   47,  325,   15],\n",
       "       [  35,  116,  294, 4957,   12,  123,   58,   48,  289,  199],\n",
       "       [  19,   19,   37,    5, 4340,   17,  118,   14,  233, 1040],\n",
       "       [ 157,   45,   47,  648,  107, 3607,  128,   12,  471,  199],\n",
       "       [  58,  113,   86,    3,   28,  135, 5414,    0,   80,    1],\n",
       "       [  39,  104,   42,   26,  149,    2,    7, 5162,  195,  539],\n",
       "       [  35,  333,   95,  313,   73,  209,   48,   14, 4501,  230],\n",
       "       [  42,   51,   24,   76,  389,   21,    3,  169,  232, 4942]])"
      ]
     },
     "execution_count": 99,
     "metadata": {},
     "output_type": "execute_result"
    }
   ],
   "source": [
    "nbtrain_pred = NBmodel.predict(X_train)\n",
    "nbcmtrain = confusion_matrix(Y_train,nbtrain_pred)\n",
    "nbcmtrain"
   ]
  },
  {
   "cell_type": "code",
   "execution_count": 100,
   "id": "b23299bc",
   "metadata": {},
   "outputs": [
    {
     "name": "stdout",
     "output_type": "stream",
     "text": [
      "AUC: 0.82553\n"
     ]
    }
   ],
   "source": [
    "print('AUC: %0.5f' % accuracy_score(Y_train, nbtrain_pred))"
   ]
  },
  {
   "cell_type": "code",
   "execution_count": 101,
   "id": "61db1279",
   "metadata": {},
   "outputs": [],
   "source": [
    "#Logistic regression model\n",
    "logitReg = LogisticRegression(C=1/60000, penalty=\"l2\", solver=\"saga\", tol=0.1)\n",
    "logitReg.fit(X_train,Y_train)\n",
    "LRpred = logitReg.predict(X_test)\n"
   ]
  },
  {
   "cell_type": "code",
   "execution_count": 102,
   "id": "e7e4fde0",
   "metadata": {
    "scrolled": true
   },
   "outputs": [
    {
     "name": "stdout",
     "output_type": "stream",
     "text": [
      "[[ 961    0    0    3    0    3    6    2    5    0]\n",
      " [   0 1114    3    2    0    1    4    2    9    0]\n",
      " [   4    9  923   15    8    5   12    9   41    6]\n",
      " [   3    0   18  913    0   32    3   10   22    9]\n",
      " [   1    1    4    2  917    0   11    3    9   34]\n",
      " [   9    2    2   28   12  769   17    8   38    7]\n",
      " [   9    3    5    1    9   15  911    3    2    0]\n",
      " [   1    5   24    6    8    1    0  953    5   25]\n",
      " [   5    9    4   23    9   28    9   13  867    7]\n",
      " [   9    8    2    8   27    6    0   25    9  915]]\n",
      "The accuracy of number 0 is 0.98061\n",
      "The accuracy of number 1 is 0.98150\n",
      "The accuracy of number 2 is 0.89438\n",
      "The accuracy of number 3 is 0.90396\n",
      "The accuracy of number 4 is 0.93381\n",
      "The accuracy of number 5 is 0.86211\n",
      "The accuracy of number 6 is 0.95094\n",
      "The accuracy of number 7 is 0.92704\n",
      "The accuracy of number 8 is 0.89014\n",
      "The accuracy of number 9 is 0.90684\n"
     ]
    }
   ],
   "source": [
    "#examine the confusion matrix and accuracy\n",
    "lrcm = confusion_matrix(Y_test,LRpred)\n",
    "print(lrcm)\n",
    "for i in range(len(lrcm)):\n",
    "    acc = lrcm[i,i]/np.sum(lrcm[i])\n",
    "    print(\"The accuracy of number %d is %0.5f\" % (i,acc))"
   ]
  },
  {
   "cell_type": "code",
   "execution_count": 103,
   "id": "880208b8",
   "metadata": {
    "scrolled": true
   },
   "outputs": [
    {
     "name": "stdout",
     "output_type": "stream",
     "text": [
      "AUC: 0.92430\n"
     ]
    }
   ],
   "source": [
    "print('AUC: %0.5f' % accuracy_score(Y_test, LRpred))"
   ]
  },
  {
   "cell_type": "code",
   "execution_count": 104,
   "id": "2ed911db",
   "metadata": {},
   "outputs": [
    {
     "data": {
      "text/plain": [
       "array([[5744,    1,   20,    7,   12,   44,   35,   11,   47,    2],\n",
       "       [   1, 6567,   34,   20,    7,   21,    3,   12,   65,   12],\n",
       "       [  31,   50, 5380,   85,   70,   27,   66,   79,  143,   27],\n",
       "       [  18,   19,  132, 5514,    6,  196,   21,   56,  113,   56],\n",
       "       [  12,   28,   26,    8, 5484,    6,   54,   17,   34,  173],\n",
       "       [  70,   27,   44,  162,   57, 4739,   94,   19,  152,   57],\n",
       "       [  34,   14,   35,    0,   41,   61, 5698,    3,   30,    2],\n",
       "       [  18,   25,   63,   25,   44,    6,    3, 5891,   18,  172],\n",
       "       [  29,   99,   55,  118,   28,  148,   40,   20, 5245,   69],\n",
       "       [  23,   27,   17,   72,  152,   33,    2,  174,   48, 5401]])"
      ]
     },
     "execution_count": 104,
     "metadata": {},
     "output_type": "execute_result"
    }
   ],
   "source": [
    "#exam the prediction performance on the training dataset\n",
    "lrtrain_pred = logitReg.predict(X_train)\n",
    "lrcmtrain = confusion_matrix(Y_train,lrtrain_pred)\n",
    "lrcmtrain"
   ]
  },
  {
   "cell_type": "code",
   "execution_count": 105,
   "id": "34e933cd",
   "metadata": {},
   "outputs": [
    {
     "name": "stdout",
     "output_type": "stream",
     "text": [
      "AUC: 0.92772\n"
     ]
    }
   ],
   "source": [
    "print('AUC: %0.5f' % accuracy_score(Y_train, lrtrain_pred))"
   ]
  },
  {
   "cell_type": "code",
   "execution_count": 82,
   "id": "365e22ac",
   "metadata": {},
   "outputs": [
    {
     "data": {
      "text/plain": [
       "['./lr.model.pkl']"
      ]
     },
     "execution_count": 82,
     "metadata": {},
     "output_type": "execute_result"
    }
   ],
   "source": [
    "#saving the model\n",
    "import joblib\n",
    "joblib.dump(NBmodel,'./nb.model.pkl')\n",
    "joblib.dump(logitReg,'./lr.model.pkl')"
   ]
  }
 ],
 "metadata": {
  "kernelspec": {
   "display_name": "Python 3",
   "language": "python",
   "name": "python3"
  },
  "language_info": {
   "codemirror_mode": {
    "name": "ipython",
    "version": 3
   },
   "file_extension": ".py",
   "mimetype": "text/x-python",
   "name": "python",
   "nbconvert_exporter": "python",
   "pygments_lexer": "ipython3",
   "version": "3.8.8"
  }
 },
 "nbformat": 4,
 "nbformat_minor": 5
}
