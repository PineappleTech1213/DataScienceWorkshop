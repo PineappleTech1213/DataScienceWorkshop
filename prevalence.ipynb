{
 "cells": [
  {
   "cell_type": "code",
   "execution_count": null,
   "id": "2d917f69",
   "metadata": {},
   "outputs": [],
   "source": [
    "library(dplyr)"
   ]
  },
  {
   "cell_type": "code",
   "execution_count": null,
   "metadata": {},
   "outputs": [],
   "source": [
    "# merge patient with diagnosis count data\n",
    "get_prevalence <- function(personConcept, condition_count, condition_name, category_name){\n",
    "    prevalence <- merge(condition_count, personConcept, by.x=\"PersonId\", by.y=\"PersonId\", all.y=TRUE) %>% \n",
    "    group_by(category_name)%>%summarse(cond_count = sum(DiagCount), Pts = count(PersonId), Condition =condition_name)%>%\n",
    "    pivot_wider(ids = c(condition_name), values_from = c(\"cond_count\",\"Pts\"), names_from = category_name)\n",
    "    print(\"QA check\")\n",
    "    print(nrow(prevalence))\n",
    "    print(ncol(prevalence))\n",
    "    print(prevalence)\n",
    "    \n",
    "    return(prevalence)\n",
    "}\n",
    "\n",
    "\n",
    "countlist <- list(a,b,c,d)\n",
    "races <- list(x,y,z)\n",
    "for (tb in countlist) {\n",
    "    for (ra in races){\n",
    "        prevalence <- get_prevalence(tb, ra, \"condition_name\", \"category_name\")\n",
    "        print(prevalence)\n",
    "    }\n",
    "}"
   ]
  }
 ],
 "metadata": {
  "language_info": {
   "name": "python"
  }
 },
 "nbformat": 4,
 "nbformat_minor": 5
}
